{
  "nbformat": 4,
  "nbformat_minor": 0,
  "metadata": {
    "colab": {
      "name": "Untitled0.ipynb",
      "provenance": [],
      "include_colab_link": true
    },
    "kernelspec": {
      "name": "python3",
      "display_name": "Python 3"
    },
    "accelerator": "GPU"
  },
  "cells": [
    {
      "cell_type": "markdown",
      "metadata": {
        "id": "view-in-github",
        "colab_type": "text"
      },
      "source": [
        "<a href=\"https://colab.research.google.com/github/bbchen33/Data-Science/blob/master/Restaurant_data_PySpark_sql.ipynb\" target=\"_parent\"><img src=\"https://colab.research.google.com/assets/colab-badge.svg\" alt=\"Open In Colab\"/></a>"
      ]
    },
    {
      "cell_type": "markdown",
      "metadata": {
        "id": "1US9twgySP6L",
        "colab_type": "text"
      },
      "source": [
        "Restaurant data from Kaggle\n",
        "https://www.kaggle.com/shrutimehta/zomato-restaurants-data/download"
      ]
    },
    {
      "cell_type": "code",
      "metadata": {
        "id": "ZC8uf49-RqcT",
        "colab_type": "code",
        "outputId": "5839dc59-2792-4f51-d87b-91be4a5d035b",
        "colab": {
          "base_uri": "https://localhost:8080/",
          "height": 1000
        }
      },
      "source": [
        "!sudo apt install openjdk-8-jdk"
      ],
      "execution_count": 3,
      "outputs": [
        {
          "output_type": "stream",
          "text": [
            "Reading package lists... Done\n",
            "Building dependency tree       \n",
            "Reading state information... Done\n",
            "The following additional packages will be installed:\n",
            "  fonts-dejavu-core fonts-dejavu-extra libatk-wrapper-java\n",
            "  libatk-wrapper-java-jni libgail-common libgail18 libgtk2.0-0 libgtk2.0-bin\n",
            "  libgtk2.0-common libxxf86dga1 openjdk-8-jre x11-utils\n",
            "Suggested packages:\n",
            "  gvfs openjdk-8-demo openjdk-8-source visualvm icedtea-8-plugin mesa-utils\n",
            "The following NEW packages will be installed:\n",
            "  fonts-dejavu-core fonts-dejavu-extra libatk-wrapper-java\n",
            "  libatk-wrapper-java-jni libgail-common libgail18 libgtk2.0-0 libgtk2.0-bin\n",
            "  libgtk2.0-common libxxf86dga1 openjdk-8-jdk openjdk-8-jre x11-utils\n",
            "0 upgraded, 13 newly installed, 0 to remove and 28 not upgraded.\n",
            "Need to get 7,119 kB of archives.\n",
            "After this operation, 20.1 MB of additional disk space will be used.\n",
            "Get:1 http://archive.ubuntu.com/ubuntu bionic/main amd64 libxxf86dga1 amd64 2:1.1.4-1 [13.7 kB]\n",
            "Get:2 http://archive.ubuntu.com/ubuntu bionic/main amd64 fonts-dejavu-core all 2.37-1 [1,041 kB]\n",
            "Get:3 http://archive.ubuntu.com/ubuntu bionic/main amd64 fonts-dejavu-extra all 2.37-1 [1,953 kB]\n",
            "Get:4 http://archive.ubuntu.com/ubuntu bionic/main amd64 x11-utils amd64 7.7+3build1 [196 kB]\n",
            "Get:5 http://archive.ubuntu.com/ubuntu bionic/main amd64 libatk-wrapper-java all 0.33.3-20ubuntu0.1 [34.7 kB]\n",
            "Get:6 http://archive.ubuntu.com/ubuntu bionic/main amd64 libatk-wrapper-java-jni amd64 0.33.3-20ubuntu0.1 [28.3 kB]\n",
            "Get:7 http://archive.ubuntu.com/ubuntu bionic/main amd64 libgtk2.0-common all 2.24.32-1ubuntu1 [125 kB]\n",
            "Get:8 http://archive.ubuntu.com/ubuntu bionic/main amd64 libgtk2.0-0 amd64 2.24.32-1ubuntu1 [1,769 kB]\n",
            "Get:9 http://archive.ubuntu.com/ubuntu bionic/main amd64 libgail18 amd64 2.24.32-1ubuntu1 [14.2 kB]\n",
            "Get:10 http://archive.ubuntu.com/ubuntu bionic/main amd64 libgail-common amd64 2.24.32-1ubuntu1 [112 kB]\n",
            "Get:11 http://archive.ubuntu.com/ubuntu bionic/main amd64 libgtk2.0-bin amd64 2.24.32-1ubuntu1 [7,536 B]\n",
            "Get:12 http://archive.ubuntu.com/ubuntu bionic-updates/universe amd64 openjdk-8-jre amd64 8u222-b10-1ubuntu1~18.04.1 [69.3 kB]\n",
            "Get:13 http://archive.ubuntu.com/ubuntu bionic-updates/universe amd64 openjdk-8-jdk amd64 8u222-b10-1ubuntu1~18.04.1 [1,756 kB]\n",
            "Fetched 7,119 kB in 6s (1,181 kB/s)\n",
            "debconf: unable to initialize frontend: Dialog\n",
            "debconf: (No usable dialog-like program is installed, so the dialog based frontend cannot be used. at /usr/share/perl5/Debconf/FrontEnd/Dialog.pm line 76, <> line 13.)\n",
            "debconf: falling back to frontend: Readline\n",
            "debconf: unable to initialize frontend: Readline\n",
            "debconf: (This frontend requires a controlling tty.)\n",
            "debconf: falling back to frontend: Teletype\n",
            "dpkg-preconfigure: unable to re-open stdin: \n",
            "Selecting previously unselected package libxxf86dga1:amd64.\n",
            "(Reading database ... 132681 files and directories currently installed.)\n",
            "Preparing to unpack .../00-libxxf86dga1_2%3a1.1.4-1_amd64.deb ...\n",
            "Unpacking libxxf86dga1:amd64 (2:1.1.4-1) ...\n",
            "Selecting previously unselected package fonts-dejavu-core.\n",
            "Preparing to unpack .../01-fonts-dejavu-core_2.37-1_all.deb ...\n",
            "Unpacking fonts-dejavu-core (2.37-1) ...\n",
            "Selecting previously unselected package fonts-dejavu-extra.\n",
            "Preparing to unpack .../02-fonts-dejavu-extra_2.37-1_all.deb ...\n",
            "Unpacking fonts-dejavu-extra (2.37-1) ...\n",
            "Selecting previously unselected package x11-utils.\n",
            "Preparing to unpack .../03-x11-utils_7.7+3build1_amd64.deb ...\n",
            "Unpacking x11-utils (7.7+3build1) ...\n",
            "Selecting previously unselected package libatk-wrapper-java.\n",
            "Preparing to unpack .../04-libatk-wrapper-java_0.33.3-20ubuntu0.1_all.deb ...\n",
            "Unpacking libatk-wrapper-java (0.33.3-20ubuntu0.1) ...\n",
            "Selecting previously unselected package libatk-wrapper-java-jni:amd64.\n",
            "Preparing to unpack .../05-libatk-wrapper-java-jni_0.33.3-20ubuntu0.1_amd64.deb ...\n",
            "Unpacking libatk-wrapper-java-jni:amd64 (0.33.3-20ubuntu0.1) ...\n",
            "Selecting previously unselected package libgtk2.0-common.\n",
            "Preparing to unpack .../06-libgtk2.0-common_2.24.32-1ubuntu1_all.deb ...\n",
            "Unpacking libgtk2.0-common (2.24.32-1ubuntu1) ...\n",
            "Selecting previously unselected package libgtk2.0-0:amd64.\n",
            "Preparing to unpack .../07-libgtk2.0-0_2.24.32-1ubuntu1_amd64.deb ...\n",
            "Unpacking libgtk2.0-0:amd64 (2.24.32-1ubuntu1) ...\n",
            "Selecting previously unselected package libgail18:amd64.\n",
            "Preparing to unpack .../08-libgail18_2.24.32-1ubuntu1_amd64.deb ...\n",
            "Unpacking libgail18:amd64 (2.24.32-1ubuntu1) ...\n",
            "Selecting previously unselected package libgail-common:amd64.\n",
            "Preparing to unpack .../09-libgail-common_2.24.32-1ubuntu1_amd64.deb ...\n",
            "Unpacking libgail-common:amd64 (2.24.32-1ubuntu1) ...\n",
            "Selecting previously unselected package libgtk2.0-bin.\n",
            "Preparing to unpack .../10-libgtk2.0-bin_2.24.32-1ubuntu1_amd64.deb ...\n",
            "Unpacking libgtk2.0-bin (2.24.32-1ubuntu1) ...\n",
            "Selecting previously unselected package openjdk-8-jre:amd64.\n",
            "Preparing to unpack .../11-openjdk-8-jre_8u222-b10-1ubuntu1~18.04.1_amd64.deb ...\n",
            "Unpacking openjdk-8-jre:amd64 (8u222-b10-1ubuntu1~18.04.1) ...\n",
            "Selecting previously unselected package openjdk-8-jdk:amd64.\n",
            "Preparing to unpack .../12-openjdk-8-jdk_8u222-b10-1ubuntu1~18.04.1_amd64.deb ...\n",
            "Unpacking openjdk-8-jdk:amd64 (8u222-b10-1ubuntu1~18.04.1) ...\n",
            "Setting up libgtk2.0-common (2.24.32-1ubuntu1) ...\n",
            "Processing triggers for mime-support (3.60ubuntu1) ...\n",
            "Setting up fonts-dejavu-core (2.37-1) ...\n",
            "Setting up libxxf86dga1:amd64 (2:1.1.4-1) ...\n",
            "Processing triggers for libc-bin (2.27-3ubuntu1) ...\n",
            "Processing triggers for man-db (2.8.3-2ubuntu0.1) ...\n",
            "Setting up fonts-dejavu-extra (2.37-1) ...\n",
            "Processing triggers for hicolor-icon-theme (0.17-2) ...\n",
            "Processing triggers for fontconfig (2.12.6-0ubuntu2) ...\n",
            "Setting up libgtk2.0-0:amd64 (2.24.32-1ubuntu1) ...\n",
            "Setting up libgail18:amd64 (2.24.32-1ubuntu1) ...\n",
            "Setting up x11-utils (7.7+3build1) ...\n",
            "Setting up libgail-common:amd64 (2.24.32-1ubuntu1) ...\n",
            "Setting up libatk-wrapper-java (0.33.3-20ubuntu0.1) ...\n",
            "Setting up libgtk2.0-bin (2.24.32-1ubuntu1) ...\n",
            "Setting up libatk-wrapper-java-jni:amd64 (0.33.3-20ubuntu0.1) ...\n",
            "Setting up openjdk-8-jre:amd64 (8u222-b10-1ubuntu1~18.04.1) ...\n",
            "update-alternatives: using /usr/lib/jvm/java-8-openjdk-amd64/jre/bin/policytool to provide /usr/bin/policytool (policytool) in auto mode\n",
            "Setting up openjdk-8-jdk:amd64 (8u222-b10-1ubuntu1~18.04.1) ...\n",
            "update-alternatives: using /usr/lib/jvm/java-8-openjdk-amd64/bin/appletviewer to provide /usr/bin/appletviewer (appletviewer) in auto mode\n",
            "update-alternatives: using /usr/lib/jvm/java-8-openjdk-amd64/bin/jconsole to provide /usr/bin/jconsole (jconsole) in auto mode\n",
            "Processing triggers for libc-bin (2.27-3ubuntu1) ...\n"
          ],
          "name": "stdout"
        }
      ]
    },
    {
      "cell_type": "code",
      "metadata": {
        "id": "kjU0LwT6RyJH",
        "colab_type": "code",
        "outputId": "8f713a4e-160c-43b5-9642-f10b470a4285",
        "colab": {
          "base_uri": "https://localhost:8080/",
          "height": 207
        }
      },
      "source": [
        "!sudo update-alternatives --config java"
      ],
      "execution_count": 4,
      "outputs": [
        {
          "output_type": "stream",
          "text": [
            "There are 2 choices for the alternative java (providing /usr/bin/java).\n",
            "\n",
            "  Selection    Path                                            Priority   Status\n",
            "------------------------------------------------------------\n",
            "* 0            /usr/lib/jvm/java-11-openjdk-amd64/bin/java      1111      auto mode\n",
            "  1            /usr/lib/jvm/java-11-openjdk-amd64/bin/java      1111      manual mode\n",
            "  2            /usr/lib/jvm/java-8-openjdk-amd64/jre/bin/java   1081      manual mode\n",
            "\n",
            "Press <enter> to keep the current choice[*], or type selection number: 2\n",
            "update-alternatives: using /usr/lib/jvm/java-8-openjdk-amd64/jre/bin/java to provide /usr/bin/java (java) in manual mode\n"
          ],
          "name": "stdout"
        }
      ]
    },
    {
      "cell_type": "code",
      "metadata": {
        "id": "a4Tpg3oDR460",
        "colab_type": "code",
        "outputId": "fc1df1bf-b74c-44b9-ae38-6e1713913318",
        "colab": {
          "base_uri": "https://localhost:8080/",
          "height": 88
        }
      },
      "source": [
        "!java -version"
      ],
      "execution_count": 5,
      "outputs": [
        {
          "output_type": "stream",
          "text": [
            "openjdk version \"1.8.0_222\"\n",
            "OpenJDK Runtime Environment (build 1.8.0_222-8u222-b10-1ubuntu1~18.04.1-b10)\n",
            "OpenJDK 64-Bit Server VM (build 25.222-b10, mixed mode)\n"
          ],
          "name": "stdout"
        }
      ]
    },
    {
      "cell_type": "code",
      "metadata": {
        "id": "gGsVDVOER7XD",
        "colab_type": "code",
        "outputId": "f93d0875-accc-42f2-c28a-eb49bba74baf",
        "colab": {
          "base_uri": "https://localhost:8080/",
          "height": 258
        }
      },
      "source": [
        "!pip install pyspark"
      ],
      "execution_count": 6,
      "outputs": [
        {
          "output_type": "stream",
          "text": [
            "Collecting pyspark\n",
            "\u001b[?25l  Downloading https://files.pythonhosted.org/packages/87/21/f05c186f4ddb01d15d0ddc36ef4b7e3cedbeb6412274a41f26b55a650ee5/pyspark-2.4.4.tar.gz (215.7MB)\n",
            "\u001b[K     |████████████████████████████████| 215.7MB 68kB/s \n",
            "\u001b[?25hCollecting py4j==0.10.7\n",
            "\u001b[?25l  Downloading https://files.pythonhosted.org/packages/e3/53/c737818eb9a7dc32a7cd4f1396e787bd94200c3997c72c1dbe028587bd76/py4j-0.10.7-py2.py3-none-any.whl (197kB)\n",
            "\u001b[K     |████████████████████████████████| 204kB 41.0MB/s \n",
            "\u001b[?25hBuilding wheels for collected packages: pyspark\n",
            "  Building wheel for pyspark (setup.py) ... \u001b[?25l\u001b[?25hdone\n",
            "  Created wheel for pyspark: filename=pyspark-2.4.4-py2.py3-none-any.whl size=216130387 sha256=7bcb77dc12a76afecee717b431200c43ab0e053395c983f64b8872d03f4106a6\n",
            "  Stored in directory: /root/.cache/pip/wheels/ab/09/4d/0d184230058e654eb1b04467dbc1292f00eaa186544604b471\n",
            "Successfully built pyspark\n",
            "Installing collected packages: py4j, pyspark\n",
            "Successfully installed py4j-0.10.7 pyspark-2.4.4\n"
          ],
          "name": "stdout"
        }
      ]
    },
    {
      "cell_type": "code",
      "metadata": {
        "id": "IqEpUylyRQ2G",
        "colab_type": "code",
        "colab": {}
      },
      "source": [
        "from google.colab import files"
      ],
      "execution_count": 0,
      "outputs": []
    },
    {
      "cell_type": "code",
      "metadata": {
        "id": "AoJmv3LKRqhj",
        "colab_type": "code",
        "outputId": "365a53e0-0d7c-4f5d-de9a-03b9da7ed707",
        "colab": {
          "resources": {
            "http://localhost:8080/nbextensions/google.colab/files.js": {
              "data": "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",
              "ok": true,
              "headers": [
                [
                  "content-type",
                  "application/javascript"
                ]
              ],
              "status": 200,
              "status_text": ""
            }
          },
          "base_uri": "https://localhost:8080/",
          "height": 91
        }
      },
      "source": [
        "file = files.upload()"
      ],
      "execution_count": 8,
      "outputs": [
        {
          "output_type": "display_data",
          "data": {
            "text/html": [
              "\n",
              "     <input type=\"file\" id=\"files-6a5c8ef5-48f4-4455-b115-8d668c629446\" name=\"files[]\" multiple disabled />\n",
              "     <output id=\"result-6a5c8ef5-48f4-4455-b115-8d668c629446\">\n",
              "      Upload widget is only available when the cell has been executed in the\n",
              "      current browser session. Please rerun this cell to enable.\n",
              "      </output>\n",
              "      <script src=\"/nbextensions/google.colab/files.js\"></script> "
            ],
            "text/plain": [
              "<IPython.core.display.HTML object>"
            ]
          },
          "metadata": {
            "tags": []
          }
        },
        {
          "output_type": "stream",
          "text": [
            "Saving zomato-restaurants-data.zip to zomato-restaurants-data.zip\n"
          ],
          "name": "stdout"
        }
      ]
    },
    {
      "cell_type": "code",
      "metadata": {
        "id": "gD-VKfhaRm-i",
        "colab_type": "code",
        "outputId": "5825d429-13f5-4545-84e8-7fe580c298c9",
        "colab": {
          "base_uri": "https://localhost:8080/",
          "height": 153
        }
      },
      "source": [
        "!unzip zomato-restaurants-data.zip"
      ],
      "execution_count": 9,
      "outputs": [
        {
          "output_type": "stream",
          "text": [
            "Archive:  zomato-restaurants-data.zip\n",
            "  inflating: Country-Code.xlsx       \n",
            "  inflating: file1.json              \n",
            "  inflating: file2.json              \n",
            "  inflating: file3.json              \n",
            "  inflating: file4.json              \n",
            "  inflating: file5.json              \n",
            "  inflating: zomato.csv              \n"
          ],
          "name": "stdout"
        }
      ]
    },
    {
      "cell_type": "code",
      "metadata": {
        "id": "35uehJCESkS-",
        "colab_type": "code",
        "outputId": "1158d501-862b-4bb3-a4c1-b4193eceb10f",
        "colab": {
          "base_uri": "https://localhost:8080/",
          "height": 207
        }
      },
      "source": [
        "!head zomato.csv"
      ],
      "execution_count": 10,
      "outputs": [
        {
          "output_type": "stream",
          "text": [
            "Restaurant ID,Restaurant Name,Country Code,City,Address,Locality,Locality Verbose,Longitude,Latitude,Cuisines,Average Cost for two,Currency,Has Table booking,Has Online delivery,Is delivering now,Switch to order menu,Price range,Aggregate rating,Rating color,Rating text,Votes\r\n",
            "6317637,Le Petit Souffle,162,Makati City,\"Third Floor, Century City Mall, Kalayaan Avenue, Poblacion, Makati City\",\"Century City Mall, Poblacion, Makati City\",\"Century City Mall, Poblacion, Makati City, Makati City\",121.027535,14.565443,\"French, Japanese, Desserts\",1100,Botswana Pula(P),Yes,No,No,No,3,4.8,Dark Green,Excellent,314\r\n",
            "6304287,Izakaya Kikufuji,162,Makati City,\"Little Tokyo, 2277 Chino Roces Avenue, Legaspi Village, Makati City\",\"Little Tokyo, Legaspi Village, Makati City\",\"Little Tokyo, Legaspi Village, Makati City, Makati City\",121.014101,14.553708,Japanese,1200,Botswana Pula(P),Yes,No,No,No,3,4.5,Dark Green,Excellent,591\r\n",
            "6300002,Heat - Edsa Shangri-La,162,Mandaluyong City,\"Edsa Shangri-La, 1 Garden Way, Ortigas, Mandaluyong City\",\"Edsa Shangri-La, Ortigas, Mandaluyong City\",\"Edsa Shangri-La, Ortigas, Mandaluyong City, Mandaluyong City\",121.056831,14.581404,\"Seafood, Asian, Filipino, Indian\",4000,Botswana Pula(P),Yes,No,No,No,4,4.4,Green,Very Good,270\r\n",
            "6318506,Ooma,162,Mandaluyong City,\"Third Floor, Mega Fashion Hall, SM Megamall, Ortigas, Mandaluyong City\",\"SM Megamall, Ortigas, Mandaluyong City\",\"SM Megamall, Ortigas, Mandaluyong City, Mandaluyong City\",121.056475,14.585318,\"Japanese, Sushi\",1500,Botswana Pula(P),No,No,No,No,4,4.9,Dark Green,Excellent,365\r\n",
            "6314302,Sambo Kojin,162,Mandaluyong City,\"Third Floor, Mega Atrium, SM Megamall, Ortigas, Mandaluyong City\",\"SM Megamall, Ortigas, Mandaluyong City\",\"SM Megamall, Ortigas, Mandaluyong City, Mandaluyong City\",121.057508,14.58445,\"Japanese, Korean\",1500,Botswana Pula(P),Yes,No,No,No,4,4.8,Dark Green,Excellent,229\r\n",
            "18189371,Din Tai Fung,162,Mandaluyong City,\"Ground Floor, Mega Fashion Hall, SM Megamall, Ortigas, Mandaluyong City\",\"SM Megamall, Ortigas, Mandaluyong City\",\"SM Megamall, Ortigas, Mandaluyong City, Mandaluyong City\",121.056314,14.583764,Chinese,1000,Botswana Pula(P),No,No,No,No,3,4.4,Green,Very Good,336\r\n",
            "6300781,Buffet 101,162,Pasay City,\"Building K, SM By The Bay, Sunset Boulevard, Mall of Asia Complex (MOA), Pasay City\",\"SM by the Bay, Mall of Asia Complex, Pasay City\",\"SM by the Bay, Mall of Asia Complex, Pasay City, Pasay City\",120.9796667,14.53133333,\"Asian, European\",2000,Botswana Pula(P),Yes,No,No,No,4,4,Green,Very Good,520\r\n",
            "6301290,Vikings,162,Pasay City,\"Building B, By The Bay, Seaside Boulevard, Mall of Asia Complex (MOA), Pasay City\",\"SM by the Bay, Mall of Asia Complex, Pasay City\",\"SM by the Bay, Mall of Asia Complex, Pasay City, Pasay City\",120.9793333,14.54,\"Seafood, Filipino, Asian, European\",2000,Botswana Pula(P),Yes,No,No,No,4,4.2,Green,Very Good,677\r\n",
            "6300010,Spiral - Sofitel Philippine Plaza Manila,162,Pasay City,\"Plaza Level, Sofitel Philippine Plaza Manila, CCP Complex, Pasay City\",\"Sofitel Philippine Plaza Manila, Pasay City\",\"Sofitel Philippine Plaza Manila, Pasay City, Pasay City\",120.98009,14.55299,\"European, Asian, Indian\",6000,Botswana Pula(P),Yes,No,No,No,4,4.9,Dark Green,Excellent,621\r\n"
          ],
          "name": "stdout"
        }
      ]
    },
    {
      "cell_type": "code",
      "metadata": {
        "id": "TrL3MbnISXS_",
        "colab_type": "code",
        "colab": {}
      },
      "source": [
        "from pyspark.sql import SparkSession\n",
        "\n",
        "spark = SparkSession \\\n",
        "  .builder \\\n",
        "  .appName('Restaurant') \\\n",
        "  .getOrCreate()"
      ],
      "execution_count": 0,
      "outputs": []
    },
    {
      "cell_type": "code",
      "metadata": {
        "id": "cOKDB0P2S3Av",
        "colab_type": "code",
        "colab": {}
      },
      "source": [
        "path = 'zomato.csv'\n",
        "zomato_df = spark.read.csv(path, header = True)"
      ],
      "execution_count": 0,
      "outputs": []
    },
    {
      "cell_type": "code",
      "metadata": {
        "id": "h4h16Hn0S_l8",
        "colab_type": "code",
        "outputId": "f8ed3de5-8d61-45e4-a389-1345f0557506",
        "colab": {
          "base_uri": "https://localhost:8080/",
          "height": 207
        }
      },
      "source": [
        "zomato_df.describe().show()"
      ],
      "execution_count": 13,
      "outputs": [
        {
          "output_type": "stream",
          "text": [
            "+-------+--------------------+-----------------+------------------+------------------+--------------------+--------------------+--------------------+-----------------+--------------------+--------------------+--------------------+----------------+------------------+-------------------+-----------------+--------------------+------------------+------------------+-----------------+-----------------+------------------+\n",
            "|summary|       Restaurant ID|  Restaurant Name|      Country Code|              City|             Address|            Locality|    Locality Verbose|        Longitude|            Latitude|            Cuisines|Average Cost for two|        Currency| Has Table booking|Has Online delivery|Is delivering now|Switch to order menu|       Price range|  Aggregate rating|     Rating color|      Rating text|             Votes|\n",
            "+-------+--------------------+-----------------+------------------+------------------+--------------------+--------------------+--------------------+-----------------+--------------------+--------------------+--------------------+----------------+------------------+-------------------+-----------------+--------------------+------------------+------------------+-----------------+-----------------+------------------+\n",
            "|  count|                9557|             9557|              9557|              9557|                9557|                9551|                9551|             9551|                9551|                9542|                9551|            9551|              9551|               9551|             9551|                9551|              9551|              9549|             9549|             9547|              9545|\n",
            "|   mean|   9051128.349178096|          12212.0|18.365616165846507|         90.607226|  14.923160398999999|   66.26348823500001|  100.53741610333334| 64.1103846947421|   25.93950432841693|               550.0|   1199.718910424306|            null|               2.5|                1.6|              2.0|                2.85|1.8073096659336056| 2.666621267679415|             78.0|              3.5|156.98816134101625|\n",
            "| stddev|    8791521.28210426|              NaN| 56.75054560094658|18.712787590293484|   19.28008168458414|  15.286569967355936|  101.74182830528592|41.47598267276749|  13.564415107541473|   70.71067811865476|  16126.235548234079|            null|2.1213203435596424| 2.2627416997969525|              0.0|  0.9848857801796105|0.9506821677798912|1.5162747153999003|93.33809511662427|4.949747468305833| 430.2910645319932|\n",
            "|    min|             Station|     Let's Burrrp|          Gurgaon\"|        New Delhi\"|1 & 2, Block A-5 ...| ILD Trade Centre...| ILD Trade Centre...|     -0.076580556|          -15.720118|                 500|                   0|Botswana Pula(P)|                 1|                  0|                2|                   2|                 0|                 0|               12|                0|                 0|\n",
            "|    max|Univercity City Road|�ukura��a Sofras۱|  Sector 49, Noida|         ��stanbul|��mitk�_y Mahalle...|           ��mitk�_y|   ��mitk�_y, Ankara|   Italian, Pizza|North Indian, Chi...|World Cuisine, Pa...|                  No|             Yes|               Yes|                Yes|              Yes|           Not rated|            Yellow|             White|           Yellow|        Very Good|               997|\n",
            "+-------+--------------------+-----------------+------------------+------------------+--------------------+--------------------+--------------------+-----------------+--------------------+--------------------+--------------------+----------------+------------------+-------------------+-----------------+--------------------+------------------+------------------+-----------------+-----------------+------------------+\n",
            "\n"
          ],
          "name": "stdout"
        }
      ]
    },
    {
      "cell_type": "markdown",
      "metadata": {
        "id": "o7k2wCV6Yazh",
        "colab_type": "text"
      },
      "source": [
        "I'll write a simple for loop to replace all the white space in the column names to underscore so it's easier to manipulate by SQL."
      ]
    },
    {
      "cell_type": "code",
      "metadata": {
        "id": "MeUTHs5FXVYA",
        "colab_type": "code",
        "outputId": "2492bd0d-d731-4418-e3db-02d763996e3a",
        "colab": {
          "base_uri": "https://localhost:8080/",
          "height": 54
        }
      },
      "source": [
        "for name in zomato_df.columns:\n",
        "  zomato_df = zomato_df.withColumnRenamed(name, name.replace(' ', '_'))\n",
        "\n",
        "print(zomato_df.columns)"
      ],
      "execution_count": 14,
      "outputs": [
        {
          "output_type": "stream",
          "text": [
            "['Restaurant_ID', 'Restaurant_Name', 'Country_Code', 'City', 'Address', 'Locality', 'Locality_Verbose', 'Longitude', 'Latitude', 'Cuisines', 'Average_Cost_for_two', 'Currency', 'Has_Table_booking', 'Has_Online_delivery', 'Is_delivering_now', 'Switch_to_order_menu', 'Price_range', 'Aggregate_rating', 'Rating_color', 'Rating_text', 'Votes']\n"
          ],
          "name": "stdout"
        }
      ]
    },
    {
      "cell_type": "code",
      "metadata": {
        "id": "d_uYQKZpTMVy",
        "colab_type": "code",
        "outputId": "d699b25b-469d-44fe-ccb8-98bafca1b132",
        "colab": {
          "base_uri": "https://localhost:8080/",
          "height": 54
        }
      },
      "source": [
        "zomato_df.take(1)"
      ],
      "execution_count": 15,
      "outputs": [
        {
          "output_type": "execute_result",
          "data": {
            "text/plain": [
              "[Row(Restaurant_ID='6317637', Restaurant_Name='Le Petit Souffle', Country_Code='162', City='Makati City', Address='Third Floor, Century City Mall, Kalayaan Avenue, Poblacion, Makati City', Locality='Century City Mall, Poblacion, Makati City', Locality_Verbose='Century City Mall, Poblacion, Makati City, Makati City', Longitude='121.027535', Latitude='14.565443', Cuisines='French, Japanese, Desserts', Average_Cost_for_two='1100', Currency='Botswana Pula(P)', Has_Table_booking='Yes', Has_Online_delivery='No', Is_delivering_now='No', Switch_to_order_menu='No', Price_range='3', Aggregate_rating='4.8', Rating_color='Dark Green', Rating_text='Excellent', Votes='314')]"
            ]
          },
          "metadata": {
            "tags": []
          },
          "execution_count": 15
        }
      ]
    },
    {
      "cell_type": "code",
      "metadata": {
        "id": "yKPqTHGeTQ5e",
        "colab_type": "code",
        "outputId": "c6c1347c-860b-4171-b69b-cf73120016e5",
        "colab": {
          "base_uri": "https://localhost:8080/",
          "height": 408
        }
      },
      "source": [
        "zomato_df.printSchema()"
      ],
      "execution_count": 16,
      "outputs": [
        {
          "output_type": "stream",
          "text": [
            "root\n",
            " |-- Restaurant_ID: string (nullable = true)\n",
            " |-- Restaurant_Name: string (nullable = true)\n",
            " |-- Country_Code: string (nullable = true)\n",
            " |-- City: string (nullable = true)\n",
            " |-- Address: string (nullable = true)\n",
            " |-- Locality: string (nullable = true)\n",
            " |-- Locality_Verbose: string (nullable = true)\n",
            " |-- Longitude: string (nullable = true)\n",
            " |-- Latitude: string (nullable = true)\n",
            " |-- Cuisines: string (nullable = true)\n",
            " |-- Average_Cost_for_two: string (nullable = true)\n",
            " |-- Currency: string (nullable = true)\n",
            " |-- Has_Table_booking: string (nullable = true)\n",
            " |-- Has_Online_delivery: string (nullable = true)\n",
            " |-- Is_delivering_now: string (nullable = true)\n",
            " |-- Switch_to_order_menu: string (nullable = true)\n",
            " |-- Price_range: string (nullable = true)\n",
            " |-- Aggregate_rating: string (nullable = true)\n",
            " |-- Rating_color: string (nullable = true)\n",
            " |-- Rating_text: string (nullable = true)\n",
            " |-- Votes: string (nullable = true)\n",
            "\n"
          ],
          "name": "stdout"
        }
      ]
    },
    {
      "cell_type": "code",
      "metadata": {
        "id": "9-K89xM0TdlL",
        "colab_type": "code",
        "colab": {}
      },
      "source": [
        "zomato_df.createOrReplaceTempView('zomato_df_table')"
      ],
      "execution_count": 0,
      "outputs": []
    },
    {
      "cell_type": "code",
      "metadata": {
        "id": "-ruTPXqYTkMr",
        "colab_type": "code",
        "outputId": "a6f62b06-4d32-4488-c74e-d17100303767",
        "colab": {
          "base_uri": "https://localhost:8080/",
          "height": 156
        }
      },
      "source": [
        "spark.sql('''\n",
        "  SELECT * FROM zomato_df_table LIMIT 2\n",
        "''').show()"
      ],
      "execution_count": 18,
      "outputs": [
        {
          "output_type": "stream",
          "text": [
            "+-------------+----------------+------------+-----------+--------------------+--------------------+--------------------+----------+---------+--------------------+--------------------+----------------+-----------------+-------------------+-----------------+--------------------+-----------+----------------+------------+-----------+-----+\n",
            "|Restaurant_ID| Restaurant_Name|Country_Code|       City|             Address|            Locality|    Locality_Verbose| Longitude| Latitude|            Cuisines|Average_Cost_for_two|        Currency|Has_Table_booking|Has_Online_delivery|Is_delivering_now|Switch_to_order_menu|Price_range|Aggregate_rating|Rating_color|Rating_text|Votes|\n",
            "+-------------+----------------+------------+-----------+--------------------+--------------------+--------------------+----------+---------+--------------------+--------------------+----------------+-----------------+-------------------+-----------------+--------------------+-----------+----------------+------------+-----------+-----+\n",
            "|      6317637|Le Petit Souffle|         162|Makati City|Third Floor, Cent...|Century City Mall...|Century City Mall...|121.027535|14.565443|French, Japanese,...|                1100|Botswana Pula(P)|              Yes|                 No|               No|                  No|          3|             4.8|  Dark Green|  Excellent|  314|\n",
            "|      6304287|Izakaya Kikufuji|         162|Makati City|Little Tokyo, 227...|Little Tokyo, Leg...|Little Tokyo, Leg...|121.014101|14.553708|            Japanese|                1200|Botswana Pula(P)|              Yes|                 No|               No|                  No|          3|             4.5|  Dark Green|  Excellent|  591|\n",
            "+-------------+----------------+------------+-----------+--------------------+--------------------+--------------------+----------+---------+--------------------+--------------------+----------------+-----------------+-------------------+-----------------+--------------------+-----------+----------------+------------+-----------+-----+\n",
            "\n"
          ],
          "name": "stdout"
        }
      ]
    },
    {
      "cell_type": "code",
      "metadata": {
        "id": "YDFUAyOeVTN8",
        "colab_type": "code",
        "outputId": "0a109873-7565-4897-a667-d3fc5dc41b9a",
        "colab": {
          "base_uri": "https://localhost:8080/",
          "height": 255
        }
      },
      "source": [
        "spark.sql('''\n",
        "  SELECT distinct Rating_text FROM zomato_df_table\n",
        "''').show()"
      ],
      "execution_count": 19,
      "outputs": [
        {
          "output_type": "stream",
          "text": [
            "+-----------+\n",
            "|Rating_text|\n",
            "+-----------+\n",
            "|          7|\n",
            "|  Excellent|\n",
            "|          0|\n",
            "|       null|\n",
            "|    Average|\n",
            "|       Good|\n",
            "|  Very Good|\n",
            "|  Not rated|\n",
            "|       Poor|\n",
            "+-----------+\n",
            "\n"
          ],
          "name": "stdout"
        }
      ]
    },
    {
      "cell_type": "code",
      "metadata": {
        "id": "hwAuXy9NmiC6",
        "colab_type": "code",
        "colab": {
          "base_uri": "https://localhost:8080/",
          "height": 119
        },
        "outputId": "e9bd420b-caec-43ce-adff-0813e550ba42"
      },
      "source": [
        "spark.sql('''\n",
        "  SELECT count(distinct Restaurant_Name)\n",
        "  FROM zomato_df_table\n",
        "''').show()"
      ],
      "execution_count": 21,
      "outputs": [
        {
          "output_type": "stream",
          "text": [
            "+-------------------------------+\n",
            "|count(DISTINCT Restaurant_Name)|\n",
            "+-------------------------------+\n",
            "|                           7452|\n",
            "+-------------------------------+\n",
            "\n"
          ],
          "name": "stdout"
        }
      ]
    },
    {
      "cell_type": "markdown",
      "metadata": {
        "id": "tYdXctMInUPn",
        "colab_type": "text"
      },
      "source": [
        "Which city has the most restaurants rated in this table?"
      ]
    },
    {
      "cell_type": "code",
      "metadata": {
        "id": "As0yTuXZmvEc",
        "colab_type": "code",
        "colab": {
          "base_uri": "https://localhost:8080/",
          "height": 459
        },
        "outputId": "5d7b9ed7-42ed-4062-80af-6f4e978e30ef"
      },
      "source": [
        "spark.sql('''\n",
        "  SELECT City, Count(distinct Restaurant_ID) as restaurant_count\n",
        "  FROM zomato_df_table\n",
        "  Group by City\n",
        "  Order by restaurant_count desc\n",
        "''').show()"
      ],
      "execution_count": 29,
      "outputs": [
        {
          "output_type": "stream",
          "text": [
            "+------------+----------------+\n",
            "|        City|restaurant_count|\n",
            "+------------+----------------+\n",
            "|   New Delhi|            5473|\n",
            "|     Gurgaon|            1118|\n",
            "|       Noida|            1080|\n",
            "|   Faridabad|             251|\n",
            "|   Ghaziabad|              25|\n",
            "|   Ahmedabad|              21|\n",
            "|    Amritsar|              21|\n",
            "|Bhubaneshwar|              21|\n",
            "|     Lucknow|              21|\n",
            "|    Guwahati|              21|\n",
            "|   Bangalore|              20|\n",
            "|    Auckland|              20|\n",
            "|   Tampa Bay|              20|\n",
            "|       Patna|              20|\n",
            "|    Savannah|              20|\n",
            "|       Kochi|              20|\n",
            "|     Chennai|              20|\n",
            "|   Edinburgh|              20|\n",
            "|    Valdosta|              20|\n",
            "|   Singapore|              20|\n",
            "+------------+----------------+\n",
            "only showing top 20 rows\n",
            "\n"
          ],
          "name": "stdout"
        }
      ]
    },
    {
      "cell_type": "markdown",
      "metadata": {
        "id": "hPFND2ZCoUeu",
        "colab_type": "text"
      },
      "source": [
        "What are the average ratings of restaurant in each city?"
      ]
    },
    {
      "cell_type": "code",
      "metadata": {
        "id": "sbJ6BvuKn26B",
        "colab_type": "code",
        "colab": {
          "base_uri": "https://localhost:8080/",
          "height": 459
        },
        "outputId": "9bc99443-0abd-4db2-f859-fa8778804610"
      },
      "source": [
        "spark.sql('''\n",
        "  SELECT City, AVG(Aggregate_rating) as average_rating\n",
        "  FROM zomato_df_table\n",
        "  Group by City\n",
        "  Order by average_rating desc\n",
        "''').show()"
      ],
      "execution_count": 31,
      "outputs": [
        {
          "output_type": "stream",
          "text": [
            "+----------------+------------------+\n",
            "|            City|    average_rating|\n",
            "+----------------+------------------+\n",
            "|      Inner City|               4.9|\n",
            "|     Quezon City|               4.8|\n",
            "|     Makati City|              4.65|\n",
            "|      Pasig City| 4.633333333333333|\n",
            "|Mandaluyong City|             4.625|\n",
            "|      Beechworth|               4.6|\n",
            "|          London| 4.534999999999999|\n",
            "|     Taguig City|             4.525|\n",
            "|    Secunderabad|               4.5|\n",
            "|   Tagaytay City|               4.5|\n",
            "|         Lincoln|               4.5|\n",
            "|         Orlando|4.4750000000000005|\n",
            "|  Rest of Hawaii|              4.41|\n",
            "|       Tampa Bay|              4.41|\n",
            "|       Palm Cove|               4.4|\n",
            "|         Tanunda|               4.4|\n",
            "|       Bangalore| 4.375000000000001|\n",
            "|           Dubai| 4.369999999999999|\n",
            "|      Pasay City| 4.366666666666666|\n",
            "|         Jakarta|           4.35625|\n",
            "+----------------+------------------+\n",
            "only showing top 20 rows\n",
            "\n"
          ],
          "name": "stdout"
        }
      ]
    },
    {
      "cell_type": "code",
      "metadata": {
        "id": "-6DmLCKDrqel",
        "colab_type": "code",
        "colab": {}
      },
      "source": [
        "country_city_rating = spark.sql('''\n",
        "  SELECT Country_Code, City, AVG(Aggregate_rating) OVER (Partition by City) as average_rating\n",
        "  FROM zomato_df_table\n",
        "  Order by average_rating desc\n",
        "''')"
      ],
      "execution_count": 0,
      "outputs": []
    },
    {
      "cell_type": "code",
      "metadata": {
        "id": "S2y97LxtuWxa",
        "colab_type": "code",
        "colab": {}
      },
      "source": [
        "country_city_rating.createOrReplaceTempView('country_city_rating_table')"
      ],
      "execution_count": 0,
      "outputs": []
    },
    {
      "cell_type": "code",
      "metadata": {
        "id": "bh34xaBfui9t",
        "colab_type": "code",
        "colab": {
          "base_uri": "https://localhost:8080/",
          "height": 136
        },
        "outputId": "d6cd8c16-00f5-4492-b83c-b0f30d578841"
      },
      "source": [
        "spark.sql('''SELECT * FROM country_city_rating_table LIMIT 2''').show()"
      ],
      "execution_count": 68,
      "outputs": [
        {
          "output_type": "stream",
          "text": [
            "+------------+----------+--------------+\n",
            "|Country_Code|      City|average_rating|\n",
            "+------------+----------+--------------+\n",
            "|         189|Inner City|           4.9|\n",
            "|         189|Inner City|           4.9|\n",
            "+------------+----------+--------------+\n",
            "\n"
          ],
          "name": "stdout"
        }
      ]
    },
    {
      "cell_type": "markdown",
      "metadata": {
        "id": "1GffndpRupeU",
        "colab_type": "text"
      },
      "source": [
        "Which countries have the most cities with rating >= 4.5"
      ]
    },
    {
      "cell_type": "code",
      "metadata": {
        "id": "j04kNtd5upAU",
        "colab_type": "code",
        "colab": {
          "base_uri": "https://localhost:8080/",
          "height": 204
        },
        "outputId": "272e772d-1942-49b8-da00-06e6b345caf4"
      },
      "source": [
        "spark.sql('''\n",
        "  SELECT Country_code, count(distinct City) as city_count\n",
        "  FROM country_city_rating_table\n",
        "  Where average_rating >= 4.5\n",
        "  Group by Country_Code\n",
        "  Order by city_count desc\n",
        "''').show()"
      ],
      "execution_count": 71,
      "outputs": [
        {
          "output_type": "stream",
          "text": [
            "+------------+----------+\n",
            "|Country_code|city_count|\n",
            "+------------+----------+\n",
            "|         162|         6|\n",
            "|           1|         1|\n",
            "|          14|         1|\n",
            "|         189|         1|\n",
            "|         215|         1|\n",
            "|         216|         1|\n",
            "+------------+----------+\n",
            "\n"
          ],
          "name": "stdout"
        }
      ]
    },
    {
      "cell_type": "markdown",
      "metadata": {
        "id": "5dMHbC0yrRM5",
        "colab_type": "text"
      },
      "source": [
        "The restaurants with lowest cost but highest ratings in Singapore."
      ]
    },
    {
      "cell_type": "code",
      "metadata": {
        "id": "1KgPVI1tocmm",
        "colab_type": "code",
        "colab": {
          "base_uri": "https://localhost:8080/",
          "height": 425
        },
        "outputId": "4740a15f-3daf-4436-f493-75689577ed9c"
      },
      "source": [
        "spark.sql('''\n",
        "  SELECT City, Average_Cost_for_two, Aggregate_rating\n",
        "  FROM zomato_df_table\n",
        "  WHERE Average_Cost_for_two is not null \n",
        "  AND City = 'Singapore'\n",
        "  Order by Average_Cost_for_two asc, Aggregate_rating desc\n",
        "''').show()"
      ],
      "execution_count": 52,
      "outputs": [
        {
          "output_type": "stream",
          "text": [
            "+---------+--------------------+----------------+\n",
            "|     City|Average_Cost_for_two|Aggregate_rating|\n",
            "+---------+--------------------+----------------+\n",
            "|Singapore|                 100|             4.1|\n",
            "|Singapore|                  20|             4.2|\n",
            "|Singapore|                 220|             3.8|\n",
            "|Singapore|                 270|               4|\n",
            "|Singapore|                  30|               3|\n",
            "|Singapore|                 300|             3.9|\n",
            "|Singapore|                 300|             3.4|\n",
            "|Singapore|                 315|             3.9|\n",
            "|Singapore|                  40|             3.9|\n",
            "|Singapore|                  40|             3.7|\n",
            "|Singapore|                 430|             3.8|\n",
            "|Singapore|                  50|             3.8|\n",
            "|Singapore|                  50|             3.2|\n",
            "|Singapore|                 500|             3.8|\n",
            "|Singapore|                  60|             3.2|\n",
            "|Singapore|                  60|             3.1|\n",
            "|Singapore|                  75|             3.2|\n",
            "|Singapore|                  80|             3.2|\n",
            "|Singapore|                  80|             3.1|\n",
            "+---------+--------------------+----------------+\n",
            "\n"
          ],
          "name": "stdout"
        }
      ]
    }
  ]
}