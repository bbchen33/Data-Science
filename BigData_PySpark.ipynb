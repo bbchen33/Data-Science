{
  "nbformat": 4,
  "nbformat_minor": 0,
  "metadata": {
    "colab": {
      "name": "Untitled0.ipynb",
      "provenance": [],
      "include_colab_link": true
    },
    "kernelspec": {
      "name": "python3",
      "display_name": "Python 3"
    }
  },
  "cells": [
    {
      "cell_type": "markdown",
      "metadata": {
        "id": "view-in-github",
        "colab_type": "text"
      },
      "source": [
        "<a href=\"https://colab.research.google.com/github/bbchen33/Data-Science/blob/master/BigData_PySpark.ipynb\" target=\"_parent\"><img src=\"https://colab.research.google.com/assets/colab-badge.svg\" alt=\"Open In Colab\"/></a>"
      ]
    },
    {
      "cell_type": "code",
      "metadata": {
        "id": "kf3nrPduUSPy",
        "colab_type": "code",
        "colab": {
          "base_uri": "https://localhost:8080/",
          "height": 258
        },
        "outputId": "0058b8e5-37a6-479e-e14b-cd1978fedf7b"
      },
      "source": [
        "!pip install pyspark"
      ],
      "execution_count": 1,
      "outputs": [
        {
          "output_type": "stream",
          "text": [
            "Collecting pyspark\n",
            "\u001b[?25l  Downloading https://files.pythonhosted.org/packages/87/21/f05c186f4ddb01d15d0ddc36ef4b7e3cedbeb6412274a41f26b55a650ee5/pyspark-2.4.4.tar.gz (215.7MB)\n",
            "\u001b[K     |████████████████████████████████| 215.7MB 87kB/s \n",
            "\u001b[?25hCollecting py4j==0.10.7 (from pyspark)\n",
            "\u001b[?25l  Downloading https://files.pythonhosted.org/packages/e3/53/c737818eb9a7dc32a7cd4f1396e787bd94200c3997c72c1dbe028587bd76/py4j-0.10.7-py2.py3-none-any.whl (197kB)\n",
            "\u001b[K     |████████████████████████████████| 204kB 32.0MB/s \n",
            "\u001b[?25hBuilding wheels for collected packages: pyspark\n",
            "  Building wheel for pyspark (setup.py) ... \u001b[?25l\u001b[?25hdone\n",
            "  Created wheel for pyspark: filename=pyspark-2.4.4-py2.py3-none-any.whl size=216130387 sha256=7eb87ef7df5a3a9b5393531cdc1a7382bea180a82cf998c254c873c2b23be5c0\n",
            "  Stored in directory: /root/.cache/pip/wheels/ab/09/4d/0d184230058e654eb1b04467dbc1292f00eaa186544604b471\n",
            "Successfully built pyspark\n",
            "Installing collected packages: py4j, pyspark\n",
            "Successfully installed py4j-0.10.7 pyspark-2.4.4\n"
          ],
          "name": "stdout"
        }
      ]
    },
    {
      "cell_type": "code",
      "metadata": {
        "id": "wGkLgp4iUvxL",
        "colab_type": "code",
        "colab": {}
      },
      "source": [
        "from google.colab import files"
      ],
      "execution_count": 0,
      "outputs": []
    },
    {
      "cell_type": "code",
      "metadata": {
        "id": "uTtORw2Loshv",
        "colab_type": "code",
        "colab": {
          "resources": {
            "http://localhost:8080/nbextensions/google.colab/files.js": {
              "data": "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",
              "ok": true,
              "headers": [
                [
                  "content-type",
                  "application/javascript"
                ]
              ],
              "status": 200,
              "status_text": ""
            }
          },
          "base_uri": "https://localhost:8080/",
          "height": 74
        },
        "outputId": "fd65e1ac-8447-4cd8-f523-57d8253b4443"
      },
      "source": [
        "uploaded = files.upload()"
      ],
      "execution_count": 3,
      "outputs": [
        {
          "output_type": "display_data",
          "data": {
            "text/html": [
              "\n",
              "     <input type=\"file\" id=\"files-978a84b7-e5f0-45af-98cd-dd3f37bbfef3\" name=\"files[]\" multiple disabled />\n",
              "     <output id=\"result-978a84b7-e5f0-45af-98cd-dd3f37bbfef3\">\n",
              "      Upload widget is only available when the cell has been executed in the\n",
              "      current browser session. Please rerun this cell to enable.\n",
              "      </output>\n",
              "      <script src=\"/nbextensions/google.colab/files.js\"></script> "
            ],
            "text/plain": [
              "<IPython.core.display.HTML object>"
            ]
          },
          "metadata": {
            "tags": []
          }
        },
        {
          "output_type": "stream",
          "text": [
            "Saving youtubedata.txt to youtubedata.txt\n"
          ],
          "name": "stdout"
        }
      ]
    },
    {
      "cell_type": "code",
      "metadata": {
        "id": "JNqRzvBcovPb",
        "colab_type": "code",
        "colab": {}
      },
      "source": [
        "import pyspark\n"
      ],
      "execution_count": 0,
      "outputs": []
    },
    {
      "cell_type": "code",
      "metadata": {
        "id": "YeJo70i4u3_K",
        "colab_type": "code",
        "colab": {}
      },
      "source": [
        "from pyspark.sql import SparkSession\n",
        "from pyspark.sql.types import *"
      ],
      "execution_count": 0,
      "outputs": []
    },
    {
      "cell_type": "code",
      "metadata": {
        "id": "pxnj2ZpAvVFY",
        "colab_type": "code",
        "colab": {}
      },
      "source": [
        "spark = SparkSession.builder.appName(\"Youtube_Data_Analysis\").getOrCreate()"
      ],
      "execution_count": 0,
      "outputs": []
    },
    {
      "cell_type": "code",
      "metadata": {
        "id": "_UByyYqLvZty",
        "colab_type": "code",
        "colab": {}
      },
      "source": [
        "schema1 = StructType([\n",
        "    StructField(\"f1\", StringType(), True),\n",
        "    StructField(\"f2\", StringType(), True),\n",
        "    StructField(\"f3\", DoubleType(), True),\n",
        "    StructField(\"f4\", StringType(), True),\n",
        "    StructField(\"f5\", DoubleType(), True),\n",
        "    StructField(\"f6\", DoubleType(), True),\n",
        "    StructField(\"f7\", DoubleType(), True),\n",
        "    StructField(\"f8\", DoubleType(), True),\n",
        "    StructField(\"f9\", DoubleType(), True),\n",
        "    StructField(\"f10\", StringType(), True),\n",
        "    StructField(\"f11\", StringType(), True),\n",
        "    StructField(\"f12\", StringType(), True),\n",
        "    StructField(\"f13\", StringType(), True),\n",
        "    StructField(\"f14\", StringType(), True),\n",
        "    StructField(\"f15\", StringType(), True),\n",
        "    StructField(\"f16\", StringType(), True),\n",
        "    StructField(\"f17\", StringType(), True),\n",
        "    StructField(\"f18\", StringType(), True),\n",
        "    StructField(\"f19\", StringType(), True),\n",
        "    StructField(\"f20\", StringType(), True),\n",
        "    StructField(\"f21\", StringType(), True),\n",
        "    StructField(\"f22\", StringType(), True),\n",
        "    StructField(\"f23\", StringType(), True)])"
      ],
      "execution_count": 0,
      "outputs": []
    },
    {
      "cell_type": "code",
      "metadata": {
        "id": "0Q_uScxRvfrh",
        "colab_type": "code",
        "colab": {}
      },
      "source": [
        "df_read = spark.read \\\n",
        " .option(\"delimiter\", \"\\t\") \\\n",
        " .schema(schema1) \\\n",
        " .option(\"inferSchema\", \"True\") \\\n",
        " .csv('youtubedata.txt')"
      ],
      "execution_count": 0,
      "outputs": []
    },
    {
      "cell_type": "code",
      "metadata": {
        "id": "gbXFjzTnvnNs",
        "colab_type": "code",
        "colab": {
          "base_uri": "https://localhost:8080/",
          "height": 54
        },
        "outputId": "b06783e6-72b5-4c5b-efa2-6b69a6d561d6"
      },
      "source": [
        "df_read"
      ],
      "execution_count": 47,
      "outputs": [
        {
          "output_type": "execute_result",
          "data": {
            "text/plain": [
              "DataFrame[f1: string, f2: string, f3: double, f4: string, f5: double, f6: double, f7: double, f8: double, f9: double, f10: string, f11: string, f12: string, f13: string, f14: string, f15: string, f16: string, f17: string, f18: string, f19: string, f20: string, f21: string, f22: string, f23: string]"
            ]
          },
          "metadata": {
            "tags": []
          },
          "execution_count": 47
        }
      ]
    },
    {
      "cell_type": "code",
      "metadata": {
        "id": "R-e_i--8viVZ",
        "colab_type": "code",
        "colab": {}
      },
      "source": [
        "df_read.createOrReplaceTempView(\"youtube_data\") "
      ],
      "execution_count": 0,
      "outputs": []
    },
    {
      "cell_type": "code",
      "metadata": {
        "id": "io_tEqUGvtBq",
        "colab_type": "code",
        "colab": {
          "base_uri": "https://localhost:8080/",
          "height": 479
        },
        "outputId": "b6771dbe-6946-4293-a55c-27d1a17a0b49"
      },
      "source": [
        "df_read.show()"
      ],
      "execution_count": 83,
      "outputs": [
        {
          "output_type": "stream",
          "text": [
            "+-----------+--------------------+------+----------------+-----+---------+----+-------+-------+-----------+-----------+-----------+-----------+-----------+-----------+-----------+-----------+-----------+-----------+-----------+-----------+-----------+-----------+\n",
            "|         f1|                  f2|    f3|              f4|   f5|       f6|  f7|     f8|     f9|        f10|        f11|        f12|        f13|        f14|        f15|        f16|        f17|        f18|        f19|        f20|        f21|        f22|        f23|\n",
            "+-----------+--------------------+------+----------------+-----+---------+----+-------+-------+-----------+-----------+-----------+-----------+-----------+-----------+-----------+-----------+-----------+-----------+-----------+-----------+-----------+-----------+\n",
            "|QuRYeRnAuXM|EvilSquirrelPictures|1135.0|  Pets & Animals|252.0|   1075.0|4.96|   46.0|   86.0|gFa1YMEJFag|nRcovJn9xHg|3TYqkBJ9YRk|rSJ8QZWBegU|0TZqX5MbXMA|UEvVksP91kg|ZTopArY7Nbg|0RViGi2Rne8|HT_QlOJbDpg|YZev1imoxX8|8qQrrfUTmh0|zQ83d_D2MGs|u6_DQQjLsAw|73Wz9CQFDtE|\n",
            "|3TYqkBJ9YRk|              hggh22|1135.0|          Comedy|169.0|    228.0| 5.0|    5.0|    3.0|QuRYeRnAuXM|gFa1YMEJFag|UEvVksP91kg|rSJ8QZWBegU|nRcovJn9xHg|sVkuOk4jmCo|ZTopArY7Nbg|HT_QlOJbDpg|0RViGi2Rne8|ShhClb6J-NA|g9e1alirMhc|YZev1imoxX8|I4yKEK9o8gA|zQ83d_D2MGs|\n",
            "|rSJ8QZWBegU|             TimeGem|1135.0|   Entertainment| 95.0|    356.0|4.31|   13.0|    1.0|QuRYeRnAuXM|gFa1YMEJFag|UEvVksP91kg|3TYqkBJ9YRk|nRcovJn9xHg|sVkuOk4jmCo|ZTopArY7Nbg|gBcu22Vv1nY|HT_QlOJbDpg|0RViGi2Rne8|ShhClb6J-NA|g9e1alirMhc|YZev1imoxX8|I4yKEK9o8gA|\n",
            "|nRcovJn9xHg|          wooochacha|1135.0|   Entertainment|118.0|   1115.0|2.23|   57.0|   73.0|QuRYeRnAuXM|gFa1YMEJFag|UEvVksP91kg|3TYqkBJ9YRk|ZTopArY7Nbg|gBcu22Vv1nY|HT_QlOJbDpg|0RViGi2Rne8|ShhClb6J-NA|g9e1alirMhc|YZev1imoxX8|I4yKEK9o8gA|zQ83d_D2MGs|1GKaVzNDbuI|\n",
            "|UEvVksP91kg|            johnx113|1135.0|   Entertainment| 83.0|    281.0|2.67|    9.0|   16.0|gFa1YMEJFag|QuRYeRnAuXM|3TYqkBJ9YRk|0TZqX5MbXMA|rSJ8QZWBegU|nRcovJn9xHg|sVkuOk4jmCo|ZTopArY7Nbg|HT_QlOJbDpg|0RViGi2Rne8|g9e1alirMhc|YZev1imoxX8|I4yKEK9o8gA|zQ83d_D2MGs|\n",
            "|sVkuOk4jmCo|       marcosoycadiz|1135.0|  People & Blogs| 49.0|   1196.0|3.67|    6.0|    5.0|yjt5v88-6Aw|sLrWjhvCoW8|dergWtU1tnE|Cs3TbaYxg_A|OOHsD-akNw0|9Vajm_u9TsI|ZW62z2-QfpA|4ki_fVDDlzs|WJ2WTPtijSc|8TknA5BqRBc|M2fcueuny7s|8Wd6y3Pb2yA|0aKz7qdtMj0|x50W-TW6yGg|\n",
            "|ZTopArY7Nbg|         TroyChannel|1136.0|   Entertainment|145.0|     11.0| 0.0|    0.0|    0.0|THM3FYUNyr8|pQPhV1mzh-g|NeIGddkjxJI|8-vZvDjh_3g|N6RuQAW1ALc|Dc_MIs3NzIQ|LsSendGJARs|MHADThckgkE|OTJGrqVOubA|BjU-c_aBXtc|dT1Hmv_2Qg8|apqOIWiKaXc|vX0vqQuXI9g|Gb7ztQ-baqo|\n",
            "|0RViGi2Rne8|        OmnipotentSI|1135.0|   Entertainment|  9.0|    490.0|2.31|   26.0|   15.0|rSJ8QZWBegU|nRcovJn9xHg|0TZqX5MbXMA|UEvVksP91kg|gFa1YMEJFag|QuRYeRnAuXM|3TYqkBJ9YRk|HT_QlOJbDpg|ZTopArY7Nbg|g9e1alirMhc|YZev1imoxX8|I4yKEK9o8gA|zQ83d_D2MGs|1GKaVzNDbuI|\n",
            "|HT_QlOJbDpg|   dumbasstheredneck|1095.0|          Comedy| 14.0|   1349.0|2.09|   22.0|   13.0|cdbp6rCVzRs|jVxz9wKEa3A|mUoRI-VnV6w|bGRB0Pwx_iM|B09qqpGr4Xo|6Xdg_elOGaY|8-7axRRXpfE|VO_mUdKmyds|1vGH08qoclk|eP94rcWKMNM|jFGu4xEvWUc|e7SnPCWPFxE|G_my4iaIYIM|e9y0_BgZU7g|\n",
            "|ShhClb6J-NA|         thecrashguy|1136.0|   Entertainment| 61.0|     29.0| 0.0|    0.0|    0.0|8dEezTw8J_o|6DK-CJh6hTY|SArJyLS6T_Y|boRch04lh0I|yop2Ipym-ls|Ydnc_c4Afj0|HFaCubSrqdQ|tpUcCvJ9cio|8MrfxlBkHMQ|_CNGEzIuf_I|bKOzgNvNgTE|JJtHjzlBigU|fGkPWRrOTXA|oBqH_5mPxsc|\n",
            "|g9e1alirMhc|      iamdanielisaac| 541.0|          Comedy|152.0| 483053.0|4.65| 2689.0| 2932.0|_i6OD_y_-AI|1GKaVzNDbuI|Bd61LnxqSng|97cWs8tW8mY|I4yKEK9o8gA|IBqQWAjBgmE|myQpL8_M980|WWqed9u6rr4|-mQH9DloKD8|2l6vwAIAqNU|E3XaD3Yu3qA|pFUYi7dp1WU|Dto7-3aOt8w|hiSmlmXp-aU|\n",
            "|YZev1imoxX8|     threefirstnames|1135.0|   Entertainment|253.0|     63.0| 5.0|    3.0|    2.0|ldZPDf2cwqI|-UvVtpmh4EQ|BzwpvskqHa4|OJtAoLrGA8Q|q5QOvQ8ZYUQ|MFmMssHR0Rc|vDuIB8Gv9GQ|3kITDVTeo-c|Dt5X1_3S_kM|P2OguaWyfzQ|vOAYUoiPkzA|_6ruNbrssO4|sSUu4ROj3FQ|n5Ngq0mKKzA|\n",
            "|I4yKEK9o8gA|           djlogitek| 964.0| News & Politics|173.0| 106929.0|4.39| 1010.0| 1484.0|g9e1alirMhc|1GKaVzNDbuI|qCUYgddlvRM|J0Qu6eyyr4c|8n-nT-luFIw|q8XToX7aSdg|dzUNvEfYDEQ|WWqed9u6rr4|2l6vwAIAqNU|VWYX-LiQggc|gMuxyRbNLFM|IBqQWAjBgmE|JZekosYOmXc|DomumdGQSg8|\n",
            "|1GKaVzNDbuI|             fatvids| 690.0|          Comedy|176.0|2464486.0| 4.5|13342.0|11997.0|Bd61LnxqSng|g9e1alirMhc|UrNqx1p95qs|sEJLOmVOpcU|WGV4u6GhGhw|Dto7-3aOt8w|I4yKEK9o8gA|p9CypIsNSvM|qJXYN3wFhgo|Vqiw-Kqtlr0|bnuaPr4hlCU|CKjha-rohzc|hSlo0T0CNI4|_i6OD_y_-AI|\n",
            "|yuZhwV24PmM|          weneedhelp|1082.0| News & Politics|213.0|  46183.0|4.71|  280.0|  247.0|hU9iCANi02o|xq8aopATYyw|g9e1alirMhc|I4yKEK9o8gA|HuTqgqhxVMc|QoMCoMMgeO0|6h3G-lMZxjo|b4LuFQJmS1Y|7ZVpPGxuafA|bfZ_gXCHaMw|1GKaVzNDbuI|9Fr1dm2Qdls|WWqed9u6rr4|L3gQfz8GC0o|\n",
            "|zQ83d_D2MGs|   dumbasstheredneck|1095.0|          Comedy| 14.0|   1550.0|1.57|   14.0|    4.0|HT_QlOJbDpg|cdbp6rCVzRs|gAHZ7DRyIgY|mUoRI-VnV6w|jFGu4xEvWUc|TEPH9ScDy1E|AK9_-sLF5M0|6Xdg_elOGaY|p4NVl4W6FHM|mCLw4iGZ7Ms|bGRB0Pwx_iM|ifTbWQW0w64|tPi04TrYskw|n00wAO4hg-U|\n",
            "|DomumdGQSg8|           imgrown18| 910.0|          Comedy|224.0| 392908.0| 4.8| 1261.0|  829.0|lVTS0iuo1EY|eOIFF_5ORGo|n7rlp3SLtus|u_9vYy-TCCk|kpq0zL-oW4M|J5z4Vs26-TI|b-iTzU_ZD4k|CvCqT9hkZiA|s5CqcdpwEq8|pvVo1290j1w|6g0XGKuC-ek|7TXjtbl2y3U|hpsra8ojBHQ|pqhlG9qYsR8|\n",
            "|pFUYi7dp1WU|      StanleyJenkins|1106.0|          Comedy|200.0| 110272.0|4.07| 1011.0|  482.0|_1haYY5pV18|ue5lVJuNlzQ|AkjUOT67hcU|Xw6xEYeUfj4|5e5tKtCoBfY|ZNfFc4-gV38|T4X8uj_SYPQ|IgVHe9CDQnU|l7Z818lnTK0|1piuJzS7H-4|1OErkBJ8Ha4|5MOriOpcgeQ|J5z4Vs26-TI|LpGZWsCapX4|\n",
            "|2l6vwAIAqNU|        makemagazine| 460.0|Film & Animation|294.0|  71966.0|4.07|  260.0|  229.0|g9e1alirMhc|hiSmlmXp-aU|I4yKEK9o8gA|EGzHBtoVvpc|-mQH9DloKD8|IBqQWAjBgmE|LY0-Ya2YEoE|voQACEw_9EE|IiDQwQQsrL8|DomumdGQSg8|97cWs8tW8mY|NVOFmu2ZIqI|NfOPi0QO0FQ|gqHPYTUTToc|\n",
            "|hiSmlmXp-aU|       bravenewfilms| 440.0|   Entertainment|168.0| 653840.0|4.43|  198.0|  377.0|ED6YaRl93CE|IBqQWAjBgmE|EGzHBtoVvpc|2l6vwAIAqNU|g9e1alirMhc|-mQH9DloKD8|I4yKEK9o8gA|1GKaVzNDbuI|wnDATe6MPrg|WWqed9u6rr4|97cWs8tW8mY|q65SsORdRO8|DomumdGQSg8|0GXjcE4gy7g|\n",
            "+-----------+--------------------+------+----------------+-----+---------+----+-------+-------+-----------+-----------+-----------+-----------+-----------+-----------+-----------+-----------+-----------+-----------+-----------+-----------+-----------+-----------+\n",
            "only showing top 20 rows\n",
            "\n"
          ],
          "name": "stdout"
        }
      ]
    },
    {
      "cell_type": "code",
      "metadata": {
        "id": "zKiIyHBdwtcr",
        "colab_type": "code",
        "colab": {
          "base_uri": "https://localhost:8080/",
          "height": 102
        },
        "outputId": "6b442d52-fc1c-4d42-d846-595dc3785344"
      },
      "source": [
        "df_read.select(df_read.columns[0]).take(5)"
      ],
      "execution_count": 50,
      "outputs": [
        {
          "output_type": "execute_result",
          "data": {
            "text/plain": [
              "[Row(f1='QuRYeRnAuXM'),\n",
              " Row(f1='3TYqkBJ9YRk'),\n",
              " Row(f1='rSJ8QZWBegU'),\n",
              " Row(f1='nRcovJn9xHg'),\n",
              " Row(f1='UEvVksP91kg')]"
            ]
          },
          "metadata": {
            "tags": []
          },
          "execution_count": 50
        }
      ]
    },
    {
      "cell_type": "markdown",
      "metadata": {
        "id": "LM9NS5_52fE3",
        "colab_type": "text"
      },
      "source": [
        "Rename columns."
      ]
    },
    {
      "cell_type": "code",
      "metadata": {
        "id": "7OiO0aG2x3JM",
        "colab_type": "code",
        "colab": {}
      },
      "source": [
        "df1 = df_read.withColumnRenamed('f1','ID').withColumnRenamed('f2','uploader')\n",
        "df1 = df1.withColumnRenamed('f3','interval').withColumnRenamed('f4','category')\n",
        "df1 = df1.withColumnRenamed('f5','length').withColumnRenamed('f6','views')\n",
        "df1 = df1.withColumnRenamed('f7','rating').withColumnRenamed('f8','num_of_rating')"
      ],
      "execution_count": 0,
      "outputs": []
    },
    {
      "cell_type": "code",
      "metadata": {
        "id": "f9_JOu0cyBPz",
        "colab_type": "code",
        "colab": {
          "base_uri": "https://localhost:8080/",
          "height": 54
        },
        "outputId": "7fa4969a-3370-4455-eec4-a30ee6864693"
      },
      "source": [
        "df1"
      ],
      "execution_count": 85,
      "outputs": [
        {
          "output_type": "execute_result",
          "data": {
            "text/plain": [
              "DataFrame[ID: string, uploader: string, interval: double, category: string, length: double, views: double, rating: double, num_of_rating: double, f9: double, f10: string, f11: string, f12: string, f13: string, f14: string, f15: string, f16: string, f17: string, f18: string, f19: string, f20: string, f21: string, f22: string, f23: string]"
            ]
          },
          "metadata": {
            "tags": []
          },
          "execution_count": 85
        }
      ]
    },
    {
      "cell_type": "code",
      "metadata": {
        "id": "if2Iq2RZ0hin",
        "colab_type": "code",
        "colab": {
          "base_uri": "https://localhost:8080/",
          "height": 119
        },
        "outputId": "8d8f53cb-4e72-45f4-8791-b35468c3fb82"
      },
      "source": [
        "from pyspark.sql.functions import mean, min, max\n",
        "df1.select([min('length'),mean('length'),max('length')]).show()"
      ],
      "execution_count": 86,
      "outputs": [
        {
          "output_type": "stream",
          "text": [
            "+-----------+------------------+-----------+\n",
            "|min(length)|       avg(length)|max(length)|\n",
            "+-----------+------------------+-----------+\n",
            "|        1.0|232.90629611411705|     5202.0|\n",
            "+-----------+------------------+-----------+\n",
            "\n"
          ],
          "name": "stdout"
        }
      ]
    }
  ]
}