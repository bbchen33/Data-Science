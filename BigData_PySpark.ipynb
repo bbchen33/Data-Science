{
  "nbformat": 4,
  "nbformat_minor": 0,
  "metadata": {
    "colab": {
      "name": "Untitled0.ipynb",
      "provenance": [],
      "include_colab_link": true
    },
    "kernelspec": {
      "name": "python3",
      "display_name": "Python 3"
    }
  },
  "cells": [
    {
      "cell_type": "markdown",
      "metadata": {
        "id": "view-in-github",
        "colab_type": "text"
      },
      "source": [
        "<a href=\"https://colab.research.google.com/github/bbchen33/Data-Science/blob/master/BigData_PySpark.ipynb\" target=\"_parent\"><img src=\"https://colab.research.google.com/assets/colab-badge.svg\" alt=\"Open In Colab\"/></a>"
      ]
    },
    {
      "cell_type": "markdown",
      "metadata": {
        "id": "TKZgx1GCK_ZD",
        "colab_type": "text"
      },
      "source": [
        "A lot of problems when I use the default java 11 so I had to switch it to java 8"
      ]
    },
    {
      "cell_type": "code",
      "metadata": {
        "id": "Aq5n8XGzJWPr",
        "colab_type": "code",
        "colab": {
          "base_uri": "https://localhost:8080/",
          "height": 1000
        },
        "outputId": "18978b29-31e2-4872-cd96-e7d536d02edb"
      },
      "source": [
        "!sudo apt install openjdk-8-jdk\n"
      ],
      "execution_count": 2,
      "outputs": [
        {
          "output_type": "stream",
          "text": [
            "Reading package lists... Done\n",
            "Building dependency tree       \n",
            "Reading state information... Done\n",
            "The following additional packages will be installed:\n",
            "  fonts-dejavu-core fonts-dejavu-extra libatk-wrapper-java\n",
            "  libatk-wrapper-java-jni libgail-common libgail18 libgtk2.0-0 libgtk2.0-bin\n",
            "  libgtk2.0-common libxxf86dga1 openjdk-8-jre x11-utils\n",
            "Suggested packages:\n",
            "  gvfs openjdk-8-demo openjdk-8-source visualvm icedtea-8-plugin mesa-utils\n",
            "The following NEW packages will be installed:\n",
            "  fonts-dejavu-core fonts-dejavu-extra libatk-wrapper-java\n",
            "  libatk-wrapper-java-jni libgail-common libgail18 libgtk2.0-0 libgtk2.0-bin\n",
            "  libgtk2.0-common libxxf86dga1 openjdk-8-jdk openjdk-8-jre x11-utils\n",
            "0 upgraded, 13 newly installed, 0 to remove and 8 not upgraded.\n",
            "Need to get 7,119 kB of archives.\n",
            "After this operation, 20.1 MB of additional disk space will be used.\n",
            "Get:1 http://archive.ubuntu.com/ubuntu bionic/main amd64 libxxf86dga1 amd64 2:1.1.4-1 [13.7 kB]\n",
            "Get:2 http://archive.ubuntu.com/ubuntu bionic/main amd64 fonts-dejavu-core all 2.37-1 [1,041 kB]\n",
            "Get:3 http://archive.ubuntu.com/ubuntu bionic/main amd64 fonts-dejavu-extra all 2.37-1 [1,953 kB]\n",
            "Get:4 http://archive.ubuntu.com/ubuntu bionic/main amd64 x11-utils amd64 7.7+3build1 [196 kB]\n",
            "Get:5 http://archive.ubuntu.com/ubuntu bionic/main amd64 libatk-wrapper-java all 0.33.3-20ubuntu0.1 [34.7 kB]\n",
            "Get:6 http://archive.ubuntu.com/ubuntu bionic/main amd64 libatk-wrapper-java-jni amd64 0.33.3-20ubuntu0.1 [28.3 kB]\n",
            "Get:7 http://archive.ubuntu.com/ubuntu bionic/main amd64 libgtk2.0-common all 2.24.32-1ubuntu1 [125 kB]\n",
            "Get:8 http://archive.ubuntu.com/ubuntu bionic/main amd64 libgtk2.0-0 amd64 2.24.32-1ubuntu1 [1,769 kB]\n",
            "Get:9 http://archive.ubuntu.com/ubuntu bionic/main amd64 libgail18 amd64 2.24.32-1ubuntu1 [14.2 kB]\n",
            "Get:10 http://archive.ubuntu.com/ubuntu bionic/main amd64 libgail-common amd64 2.24.32-1ubuntu1 [112 kB]\n",
            "Get:11 http://archive.ubuntu.com/ubuntu bionic/main amd64 libgtk2.0-bin amd64 2.24.32-1ubuntu1 [7,536 B]\n",
            "Get:12 http://archive.ubuntu.com/ubuntu bionic-updates/universe amd64 openjdk-8-jre amd64 8u222-b10-1ubuntu1~18.04.1 [69.3 kB]\n",
            "Get:13 http://archive.ubuntu.com/ubuntu bionic-updates/universe amd64 openjdk-8-jdk amd64 8u222-b10-1ubuntu1~18.04.1 [1,756 kB]\n",
            "Fetched 7,119 kB in 6s (1,166 kB/s)\n",
            "debconf: unable to initialize frontend: Dialog\n",
            "debconf: (No usable dialog-like program is installed, so the dialog based frontend cannot be used. at /usr/share/perl5/Debconf/FrontEnd/Dialog.pm line 76, <> line 13.)\n",
            "debconf: falling back to frontend: Readline\n",
            "debconf: unable to initialize frontend: Readline\n",
            "debconf: (This frontend requires a controlling tty.)\n",
            "debconf: falling back to frontend: Teletype\n",
            "dpkg-preconfigure: unable to re-open stdin: \n",
            "Selecting previously unselected package libxxf86dga1:amd64.\n",
            "(Reading database ... 131183 files and directories currently installed.)\n",
            "Preparing to unpack .../00-libxxf86dga1_2%3a1.1.4-1_amd64.deb ...\n",
            "Unpacking libxxf86dga1:amd64 (2:1.1.4-1) ...\n",
            "Selecting previously unselected package fonts-dejavu-core.\n",
            "Preparing to unpack .../01-fonts-dejavu-core_2.37-1_all.deb ...\n",
            "Unpacking fonts-dejavu-core (2.37-1) ...\n",
            "Selecting previously unselected package fonts-dejavu-extra.\n",
            "Preparing to unpack .../02-fonts-dejavu-extra_2.37-1_all.deb ...\n",
            "Unpacking fonts-dejavu-extra (2.37-1) ...\n",
            "Selecting previously unselected package x11-utils.\n",
            "Preparing to unpack .../03-x11-utils_7.7+3build1_amd64.deb ...\n",
            "Unpacking x11-utils (7.7+3build1) ...\n",
            "Selecting previously unselected package libatk-wrapper-java.\n",
            "Preparing to unpack .../04-libatk-wrapper-java_0.33.3-20ubuntu0.1_all.deb ...\n",
            "Unpacking libatk-wrapper-java (0.33.3-20ubuntu0.1) ...\n",
            "Selecting previously unselected package libatk-wrapper-java-jni:amd64.\n",
            "Preparing to unpack .../05-libatk-wrapper-java-jni_0.33.3-20ubuntu0.1_amd64.deb ...\n",
            "Unpacking libatk-wrapper-java-jni:amd64 (0.33.3-20ubuntu0.1) ...\n",
            "Selecting previously unselected package libgtk2.0-common.\n",
            "Preparing to unpack .../06-libgtk2.0-common_2.24.32-1ubuntu1_all.deb ...\n",
            "Unpacking libgtk2.0-common (2.24.32-1ubuntu1) ...\n",
            "Selecting previously unselected package libgtk2.0-0:amd64.\n",
            "Preparing to unpack .../07-libgtk2.0-0_2.24.32-1ubuntu1_amd64.deb ...\n",
            "Unpacking libgtk2.0-0:amd64 (2.24.32-1ubuntu1) ...\n",
            "Selecting previously unselected package libgail18:amd64.\n",
            "Preparing to unpack .../08-libgail18_2.24.32-1ubuntu1_amd64.deb ...\n",
            "Unpacking libgail18:amd64 (2.24.32-1ubuntu1) ...\n",
            "Selecting previously unselected package libgail-common:amd64.\n",
            "Preparing to unpack .../09-libgail-common_2.24.32-1ubuntu1_amd64.deb ...\n",
            "Unpacking libgail-common:amd64 (2.24.32-1ubuntu1) ...\n",
            "Selecting previously unselected package libgtk2.0-bin.\n",
            "Preparing to unpack .../10-libgtk2.0-bin_2.24.32-1ubuntu1_amd64.deb ...\n",
            "Unpacking libgtk2.0-bin (2.24.32-1ubuntu1) ...\n",
            "Selecting previously unselected package openjdk-8-jre:amd64.\n",
            "Preparing to unpack .../11-openjdk-8-jre_8u222-b10-1ubuntu1~18.04.1_amd64.deb ...\n",
            "Unpacking openjdk-8-jre:amd64 (8u222-b10-1ubuntu1~18.04.1) ...\n",
            "Selecting previously unselected package openjdk-8-jdk:amd64.\n",
            "Preparing to unpack .../12-openjdk-8-jdk_8u222-b10-1ubuntu1~18.04.1_amd64.deb ...\n",
            "Unpacking openjdk-8-jdk:amd64 (8u222-b10-1ubuntu1~18.04.1) ...\n",
            "Setting up libgtk2.0-common (2.24.32-1ubuntu1) ...\n",
            "Processing triggers for mime-support (3.60ubuntu1) ...\n",
            "Setting up fonts-dejavu-core (2.37-1) ...\n",
            "Setting up libxxf86dga1:amd64 (2:1.1.4-1) ...\n",
            "Processing triggers for libc-bin (2.27-3ubuntu1) ...\n",
            "Processing triggers for man-db (2.8.3-2ubuntu0.1) ...\n",
            "Setting up fonts-dejavu-extra (2.37-1) ...\n",
            "Processing triggers for hicolor-icon-theme (0.17-2) ...\n",
            "Processing triggers for fontconfig (2.12.6-0ubuntu2) ...\n",
            "Setting up libgtk2.0-0:amd64 (2.24.32-1ubuntu1) ...\n",
            "Setting up libgail18:amd64 (2.24.32-1ubuntu1) ...\n",
            "Setting up x11-utils (7.7+3build1) ...\n",
            "Setting up libgail-common:amd64 (2.24.32-1ubuntu1) ...\n",
            "Setting up libatk-wrapper-java (0.33.3-20ubuntu0.1) ...\n",
            "Setting up libgtk2.0-bin (2.24.32-1ubuntu1) ...\n",
            "Setting up libatk-wrapper-java-jni:amd64 (0.33.3-20ubuntu0.1) ...\n",
            "Setting up openjdk-8-jre:amd64 (8u222-b10-1ubuntu1~18.04.1) ...\n",
            "update-alternatives: using /usr/lib/jvm/java-8-openjdk-amd64/jre/bin/policytool to provide /usr/bin/policytool (policytool) in auto mode\n",
            "Setting up openjdk-8-jdk:amd64 (8u222-b10-1ubuntu1~18.04.1) ...\n",
            "update-alternatives: using /usr/lib/jvm/java-8-openjdk-amd64/bin/appletviewer to provide /usr/bin/appletviewer (appletviewer) in auto mode\n",
            "update-alternatives: using /usr/lib/jvm/java-8-openjdk-amd64/bin/jconsole to provide /usr/bin/jconsole (jconsole) in auto mode\n",
            "Processing triggers for libc-bin (2.27-3ubuntu1) ...\n"
          ],
          "name": "stdout"
        }
      ]
    },
    {
      "cell_type": "code",
      "metadata": {
        "id": "5_hIUzhAJ4zl",
        "colab_type": "code",
        "colab": {
          "base_uri": "https://localhost:8080/",
          "height": 207
        },
        "outputId": "592e19f5-3718-4017-95e5-4bc30e8d609a"
      },
      "source": [
        "!sudo update-alternatives --config java"
      ],
      "execution_count": 3,
      "outputs": [
        {
          "output_type": "stream",
          "text": [
            "There are 2 choices for the alternative java (providing /usr/bin/java).\n",
            "\n",
            "  Selection    Path                                            Priority   Status\n",
            "------------------------------------------------------------\n",
            "* 0            /usr/lib/jvm/java-11-openjdk-amd64/bin/java      1111      auto mode\n",
            "  1            /usr/lib/jvm/java-11-openjdk-amd64/bin/java      1111      manual mode\n",
            "  2            /usr/lib/jvm/java-8-openjdk-amd64/jre/bin/java   1081      manual mode\n",
            "\n",
            "Press <enter> to keep the current choice[*], or type selection number: 2\n",
            "update-alternatives: using /usr/lib/jvm/java-8-openjdk-amd64/jre/bin/java to provide /usr/bin/java (java) in manual mode\n"
          ],
          "name": "stdout"
        }
      ]
    },
    {
      "cell_type": "code",
      "metadata": {
        "id": "uMfywJuqKmdq",
        "colab_type": "code",
        "colab": {
          "base_uri": "https://localhost:8080/",
          "height": 88
        },
        "outputId": "0649b6df-7698-46c4-917c-0bec1578acd8"
      },
      "source": [
        "!java -version"
      ],
      "execution_count": 4,
      "outputs": [
        {
          "output_type": "stream",
          "text": [
            "openjdk version \"1.8.0_222\"\n",
            "OpenJDK Runtime Environment (build 1.8.0_222-8u222-b10-1ubuntu1~18.04.1-b10)\n",
            "OpenJDK 64-Bit Server VM (build 25.222-b10, mixed mode)\n"
          ],
          "name": "stdout"
        }
      ]
    },
    {
      "cell_type": "code",
      "metadata": {
        "id": "kf3nrPduUSPy",
        "colab_type": "code",
        "outputId": "1370ffc9-538a-4533-e81a-c4c31ae46ef8",
        "colab": {
          "base_uri": "https://localhost:8080/",
          "height": 258
        }
      },
      "source": [
        "!pip install pyspark"
      ],
      "execution_count": 6,
      "outputs": [
        {
          "output_type": "stream",
          "text": [
            "Collecting pyspark\n",
            "\u001b[?25l  Downloading https://files.pythonhosted.org/packages/87/21/f05c186f4ddb01d15d0ddc36ef4b7e3cedbeb6412274a41f26b55a650ee5/pyspark-2.4.4.tar.gz (215.7MB)\n",
            "\u001b[K     |████████████████████████████████| 215.7MB 105kB/s \n",
            "\u001b[?25hCollecting py4j==0.10.7 (from pyspark)\n",
            "\u001b[?25l  Downloading https://files.pythonhosted.org/packages/e3/53/c737818eb9a7dc32a7cd4f1396e787bd94200c3997c72c1dbe028587bd76/py4j-0.10.7-py2.py3-none-any.whl (197kB)\n",
            "\u001b[K     |████████████████████████████████| 204kB 35.7MB/s \n",
            "\u001b[?25hBuilding wheels for collected packages: pyspark\n",
            "  Building wheel for pyspark (setup.py) ... \u001b[?25l\u001b[?25hdone\n",
            "  Created wheel for pyspark: filename=pyspark-2.4.4-py2.py3-none-any.whl size=216130387 sha256=5ff316e7ae30e2d27ad9551c6c0c392701da9f21e5044a67030c4fa1c16e4647\n",
            "  Stored in directory: /root/.cache/pip/wheels/ab/09/4d/0d184230058e654eb1b04467dbc1292f00eaa186544604b471\n",
            "Successfully built pyspark\n",
            "Installing collected packages: py4j, pyspark\n",
            "Successfully installed py4j-0.10.7 pyspark-2.4.4\n"
          ],
          "name": "stdout"
        }
      ]
    },
    {
      "cell_type": "code",
      "metadata": {
        "id": "wGkLgp4iUvxL",
        "colab_type": "code",
        "colab": {}
      },
      "source": [
        "from google.colab import files"
      ],
      "execution_count": 0,
      "outputs": []
    },
    {
      "cell_type": "code",
      "metadata": {
        "id": "uTtORw2Loshv",
        "colab_type": "code",
        "outputId": "81765dc8-c69a-499e-fa1e-65f0481025be",
        "colab": {
          "resources": {
            "http://localhost:8080/nbextensions/google.colab/files.js": {
              "data": "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",
              "ok": true,
              "headers": [
                [
                  "content-type",
                  "application/javascript"
                ]
              ],
              "status": 200,
              "status_text": ""
            }
          },
          "base_uri": "https://localhost:8080/",
          "height": 74
        }
      },
      "source": [
        "uploaded = files.upload()"
      ],
      "execution_count": 9,
      "outputs": [
        {
          "output_type": "display_data",
          "data": {
            "text/html": [
              "\n",
              "     <input type=\"file\" id=\"files-3d7140d9-9703-4418-a7e6-7f02320240df\" name=\"files[]\" multiple disabled />\n",
              "     <output id=\"result-3d7140d9-9703-4418-a7e6-7f02320240df\">\n",
              "      Upload widget is only available when the cell has been executed in the\n",
              "      current browser session. Please rerun this cell to enable.\n",
              "      </output>\n",
              "      <script src=\"/nbextensions/google.colab/files.js\"></script> "
            ],
            "text/plain": [
              "<IPython.core.display.HTML object>"
            ]
          },
          "metadata": {
            "tags": []
          }
        },
        {
          "output_type": "stream",
          "text": [
            "Saving youtubedata.txt to youtubedata.txt\n"
          ],
          "name": "stdout"
        }
      ]
    },
    {
      "cell_type": "code",
      "metadata": {
        "id": "JNqRzvBcovPb",
        "colab_type": "code",
        "colab": {}
      },
      "source": [
        "import pyspark\n"
      ],
      "execution_count": 0,
      "outputs": []
    },
    {
      "cell_type": "code",
      "metadata": {
        "id": "YeJo70i4u3_K",
        "colab_type": "code",
        "colab": {}
      },
      "source": [
        "from pyspark.sql import SparkSession\n",
        "from pyspark.sql.types import *"
      ],
      "execution_count": 0,
      "outputs": []
    },
    {
      "cell_type": "code",
      "metadata": {
        "id": "pxnj2ZpAvVFY",
        "colab_type": "code",
        "colab": {}
      },
      "source": [
        "spark = SparkSession.builder.appName(\"Youtube_Data_Analysis\").getOrCreate()"
      ],
      "execution_count": 0,
      "outputs": []
    },
    {
      "cell_type": "code",
      "metadata": {
        "id": "_UByyYqLvZty",
        "colab_type": "code",
        "colab": {}
      },
      "source": [
        "schema1 = StructType([\n",
        "    StructField(\"f1\", StringType(), True),\n",
        "    StructField(\"f2\", StringType(), True),\n",
        "    StructField(\"f3\", DoubleType(), True),\n",
        "    StructField(\"f4\", StringType(), True),\n",
        "    StructField(\"f5\", DoubleType(), True),\n",
        "    StructField(\"f6\", DoubleType(), True),\n",
        "    StructField(\"f7\", DoubleType(), True),\n",
        "    StructField(\"f8\", DoubleType(), True),\n",
        "    StructField(\"f9\", DoubleType(), True),\n",
        "    StructField(\"f10\", StringType(), True),\n",
        "    StructField(\"f11\", StringType(), True),\n",
        "    StructField(\"f12\", StringType(), True),\n",
        "    StructField(\"f13\", StringType(), True),\n",
        "    StructField(\"f14\", StringType(), True),\n",
        "    StructField(\"f15\", StringType(), True),\n",
        "    StructField(\"f16\", StringType(), True),\n",
        "    StructField(\"f17\", StringType(), True),\n",
        "    StructField(\"f18\", StringType(), True),\n",
        "    StructField(\"f19\", StringType(), True),\n",
        "    StructField(\"f20\", StringType(), True),\n",
        "    StructField(\"f21\", StringType(), True),\n",
        "    StructField(\"f22\", StringType(), True),\n",
        "    StructField(\"f23\", StringType(), True)])"
      ],
      "execution_count": 0,
      "outputs": []
    },
    {
      "cell_type": "code",
      "metadata": {
        "id": "0Q_uScxRvfrh",
        "colab_type": "code",
        "colab": {}
      },
      "source": [
        "df_read = spark.read \\\n",
        " .option(\"delimiter\", \"\\t\") \\\n",
        " .schema(schema1) \\\n",
        " .option(\"inferSchema\", \"True\") \\\n",
        " .csv('youtubedata.txt')"
      ],
      "execution_count": 0,
      "outputs": []
    },
    {
      "cell_type": "code",
      "metadata": {
        "id": "gbXFjzTnvnNs",
        "colab_type": "code",
        "outputId": "7e40f6b8-f0cb-4149-a30c-a53f5e5d31ae",
        "colab": {
          "base_uri": "https://localhost:8080/",
          "height": 54
        }
      },
      "source": [
        "df_read"
      ],
      "execution_count": 15,
      "outputs": [
        {
          "output_type": "execute_result",
          "data": {
            "text/plain": [
              "DataFrame[f1: string, f2: string, f3: double, f4: string, f5: double, f6: double, f7: double, f8: double, f9: double, f10: string, f11: string, f12: string, f13: string, f14: string, f15: string, f16: string, f17: string, f18: string, f19: string, f20: string, f21: string, f22: string, f23: string]"
            ]
          },
          "metadata": {
            "tags": []
          },
          "execution_count": 15
        }
      ]
    },
    {
      "cell_type": "code",
      "metadata": {
        "id": "R-e_i--8viVZ",
        "colab_type": "code",
        "colab": {}
      },
      "source": [
        "df_read.createOrReplaceTempView(\"youtube_data\") "
      ],
      "execution_count": 0,
      "outputs": []
    },
    {
      "cell_type": "code",
      "metadata": {
        "id": "io_tEqUGvtBq",
        "colab_type": "code",
        "outputId": "77c0a5e1-cc46-4117-8c9e-aa6bc537d4d7",
        "colab": {
          "base_uri": "https://localhost:8080/",
          "height": 479
        }
      },
      "source": [
        "df_read.show()"
      ],
      "execution_count": 17,
      "outputs": [
        {
          "output_type": "stream",
          "text": [
            "+-----------+--------------------+------+----------------+-----+---------+----+-------+-------+-----------+-----------+-----------+-----------+-----------+-----------+-----------+-----------+-----------+-----------+-----------+-----------+-----------+-----------+\n",
            "|         f1|                  f2|    f3|              f4|   f5|       f6|  f7|     f8|     f9|        f10|        f11|        f12|        f13|        f14|        f15|        f16|        f17|        f18|        f19|        f20|        f21|        f22|        f23|\n",
            "+-----------+--------------------+------+----------------+-----+---------+----+-------+-------+-----------+-----------+-----------+-----------+-----------+-----------+-----------+-----------+-----------+-----------+-----------+-----------+-----------+-----------+\n",
            "|QuRYeRnAuXM|EvilSquirrelPictures|1135.0|  Pets & Animals|252.0|   1075.0|4.96|   46.0|   86.0|gFa1YMEJFag|nRcovJn9xHg|3TYqkBJ9YRk|rSJ8QZWBegU|0TZqX5MbXMA|UEvVksP91kg|ZTopArY7Nbg|0RViGi2Rne8|HT_QlOJbDpg|YZev1imoxX8|8qQrrfUTmh0|zQ83d_D2MGs|u6_DQQjLsAw|73Wz9CQFDtE|\n",
            "|3TYqkBJ9YRk|              hggh22|1135.0|          Comedy|169.0|    228.0| 5.0|    5.0|    3.0|QuRYeRnAuXM|gFa1YMEJFag|UEvVksP91kg|rSJ8QZWBegU|nRcovJn9xHg|sVkuOk4jmCo|ZTopArY7Nbg|HT_QlOJbDpg|0RViGi2Rne8|ShhClb6J-NA|g9e1alirMhc|YZev1imoxX8|I4yKEK9o8gA|zQ83d_D2MGs|\n",
            "|rSJ8QZWBegU|             TimeGem|1135.0|   Entertainment| 95.0|    356.0|4.31|   13.0|    1.0|QuRYeRnAuXM|gFa1YMEJFag|UEvVksP91kg|3TYqkBJ9YRk|nRcovJn9xHg|sVkuOk4jmCo|ZTopArY7Nbg|gBcu22Vv1nY|HT_QlOJbDpg|0RViGi2Rne8|ShhClb6J-NA|g9e1alirMhc|YZev1imoxX8|I4yKEK9o8gA|\n",
            "|nRcovJn9xHg|          wooochacha|1135.0|   Entertainment|118.0|   1115.0|2.23|   57.0|   73.0|QuRYeRnAuXM|gFa1YMEJFag|UEvVksP91kg|3TYqkBJ9YRk|ZTopArY7Nbg|gBcu22Vv1nY|HT_QlOJbDpg|0RViGi2Rne8|ShhClb6J-NA|g9e1alirMhc|YZev1imoxX8|I4yKEK9o8gA|zQ83d_D2MGs|1GKaVzNDbuI|\n",
            "|UEvVksP91kg|            johnx113|1135.0|   Entertainment| 83.0|    281.0|2.67|    9.0|   16.0|gFa1YMEJFag|QuRYeRnAuXM|3TYqkBJ9YRk|0TZqX5MbXMA|rSJ8QZWBegU|nRcovJn9xHg|sVkuOk4jmCo|ZTopArY7Nbg|HT_QlOJbDpg|0RViGi2Rne8|g9e1alirMhc|YZev1imoxX8|I4yKEK9o8gA|zQ83d_D2MGs|\n",
            "|sVkuOk4jmCo|       marcosoycadiz|1135.0|  People & Blogs| 49.0|   1196.0|3.67|    6.0|    5.0|yjt5v88-6Aw|sLrWjhvCoW8|dergWtU1tnE|Cs3TbaYxg_A|OOHsD-akNw0|9Vajm_u9TsI|ZW62z2-QfpA|4ki_fVDDlzs|WJ2WTPtijSc|8TknA5BqRBc|M2fcueuny7s|8Wd6y3Pb2yA|0aKz7qdtMj0|x50W-TW6yGg|\n",
            "|ZTopArY7Nbg|         TroyChannel|1136.0|   Entertainment|145.0|     11.0| 0.0|    0.0|    0.0|THM3FYUNyr8|pQPhV1mzh-g|NeIGddkjxJI|8-vZvDjh_3g|N6RuQAW1ALc|Dc_MIs3NzIQ|LsSendGJARs|MHADThckgkE|OTJGrqVOubA|BjU-c_aBXtc|dT1Hmv_2Qg8|apqOIWiKaXc|vX0vqQuXI9g|Gb7ztQ-baqo|\n",
            "|0RViGi2Rne8|        OmnipotentSI|1135.0|   Entertainment|  9.0|    490.0|2.31|   26.0|   15.0|rSJ8QZWBegU|nRcovJn9xHg|0TZqX5MbXMA|UEvVksP91kg|gFa1YMEJFag|QuRYeRnAuXM|3TYqkBJ9YRk|HT_QlOJbDpg|ZTopArY7Nbg|g9e1alirMhc|YZev1imoxX8|I4yKEK9o8gA|zQ83d_D2MGs|1GKaVzNDbuI|\n",
            "|HT_QlOJbDpg|   dumbasstheredneck|1095.0|          Comedy| 14.0|   1349.0|2.09|   22.0|   13.0|cdbp6rCVzRs|jVxz9wKEa3A|mUoRI-VnV6w|bGRB0Pwx_iM|B09qqpGr4Xo|6Xdg_elOGaY|8-7axRRXpfE|VO_mUdKmyds|1vGH08qoclk|eP94rcWKMNM|jFGu4xEvWUc|e7SnPCWPFxE|G_my4iaIYIM|e9y0_BgZU7g|\n",
            "|ShhClb6J-NA|         thecrashguy|1136.0|   Entertainment| 61.0|     29.0| 0.0|    0.0|    0.0|8dEezTw8J_o|6DK-CJh6hTY|SArJyLS6T_Y|boRch04lh0I|yop2Ipym-ls|Ydnc_c4Afj0|HFaCubSrqdQ|tpUcCvJ9cio|8MrfxlBkHMQ|_CNGEzIuf_I|bKOzgNvNgTE|JJtHjzlBigU|fGkPWRrOTXA|oBqH_5mPxsc|\n",
            "|g9e1alirMhc|      iamdanielisaac| 541.0|          Comedy|152.0| 483053.0|4.65| 2689.0| 2932.0|_i6OD_y_-AI|1GKaVzNDbuI|Bd61LnxqSng|97cWs8tW8mY|I4yKEK9o8gA|IBqQWAjBgmE|myQpL8_M980|WWqed9u6rr4|-mQH9DloKD8|2l6vwAIAqNU|E3XaD3Yu3qA|pFUYi7dp1WU|Dto7-3aOt8w|hiSmlmXp-aU|\n",
            "|YZev1imoxX8|     threefirstnames|1135.0|   Entertainment|253.0|     63.0| 5.0|    3.0|    2.0|ldZPDf2cwqI|-UvVtpmh4EQ|BzwpvskqHa4|OJtAoLrGA8Q|q5QOvQ8ZYUQ|MFmMssHR0Rc|vDuIB8Gv9GQ|3kITDVTeo-c|Dt5X1_3S_kM|P2OguaWyfzQ|vOAYUoiPkzA|_6ruNbrssO4|sSUu4ROj3FQ|n5Ngq0mKKzA|\n",
            "|I4yKEK9o8gA|           djlogitek| 964.0| News & Politics|173.0| 106929.0|4.39| 1010.0| 1484.0|g9e1alirMhc|1GKaVzNDbuI|qCUYgddlvRM|J0Qu6eyyr4c|8n-nT-luFIw|q8XToX7aSdg|dzUNvEfYDEQ|WWqed9u6rr4|2l6vwAIAqNU|VWYX-LiQggc|gMuxyRbNLFM|IBqQWAjBgmE|JZekosYOmXc|DomumdGQSg8|\n",
            "|1GKaVzNDbuI|             fatvids| 690.0|          Comedy|176.0|2464486.0| 4.5|13342.0|11997.0|Bd61LnxqSng|g9e1alirMhc|UrNqx1p95qs|sEJLOmVOpcU|WGV4u6GhGhw|Dto7-3aOt8w|I4yKEK9o8gA|p9CypIsNSvM|qJXYN3wFhgo|Vqiw-Kqtlr0|bnuaPr4hlCU|CKjha-rohzc|hSlo0T0CNI4|_i6OD_y_-AI|\n",
            "|yuZhwV24PmM|          weneedhelp|1082.0| News & Politics|213.0|  46183.0|4.71|  280.0|  247.0|hU9iCANi02o|xq8aopATYyw|g9e1alirMhc|I4yKEK9o8gA|HuTqgqhxVMc|QoMCoMMgeO0|6h3G-lMZxjo|b4LuFQJmS1Y|7ZVpPGxuafA|bfZ_gXCHaMw|1GKaVzNDbuI|9Fr1dm2Qdls|WWqed9u6rr4|L3gQfz8GC0o|\n",
            "|zQ83d_D2MGs|   dumbasstheredneck|1095.0|          Comedy| 14.0|   1550.0|1.57|   14.0|    4.0|HT_QlOJbDpg|cdbp6rCVzRs|gAHZ7DRyIgY|mUoRI-VnV6w|jFGu4xEvWUc|TEPH9ScDy1E|AK9_-sLF5M0|6Xdg_elOGaY|p4NVl4W6FHM|mCLw4iGZ7Ms|bGRB0Pwx_iM|ifTbWQW0w64|tPi04TrYskw|n00wAO4hg-U|\n",
            "|DomumdGQSg8|           imgrown18| 910.0|          Comedy|224.0| 392908.0| 4.8| 1261.0|  829.0|lVTS0iuo1EY|eOIFF_5ORGo|n7rlp3SLtus|u_9vYy-TCCk|kpq0zL-oW4M|J5z4Vs26-TI|b-iTzU_ZD4k|CvCqT9hkZiA|s5CqcdpwEq8|pvVo1290j1w|6g0XGKuC-ek|7TXjtbl2y3U|hpsra8ojBHQ|pqhlG9qYsR8|\n",
            "|pFUYi7dp1WU|      StanleyJenkins|1106.0|          Comedy|200.0| 110272.0|4.07| 1011.0|  482.0|_1haYY5pV18|ue5lVJuNlzQ|AkjUOT67hcU|Xw6xEYeUfj4|5e5tKtCoBfY|ZNfFc4-gV38|T4X8uj_SYPQ|IgVHe9CDQnU|l7Z818lnTK0|1piuJzS7H-4|1OErkBJ8Ha4|5MOriOpcgeQ|J5z4Vs26-TI|LpGZWsCapX4|\n",
            "|2l6vwAIAqNU|        makemagazine| 460.0|Film & Animation|294.0|  71966.0|4.07|  260.0|  229.0|g9e1alirMhc|hiSmlmXp-aU|I4yKEK9o8gA|EGzHBtoVvpc|-mQH9DloKD8|IBqQWAjBgmE|LY0-Ya2YEoE|voQACEw_9EE|IiDQwQQsrL8|DomumdGQSg8|97cWs8tW8mY|NVOFmu2ZIqI|NfOPi0QO0FQ|gqHPYTUTToc|\n",
            "|hiSmlmXp-aU|       bravenewfilms| 440.0|   Entertainment|168.0| 653840.0|4.43|  198.0|  377.0|ED6YaRl93CE|IBqQWAjBgmE|EGzHBtoVvpc|2l6vwAIAqNU|g9e1alirMhc|-mQH9DloKD8|I4yKEK9o8gA|1GKaVzNDbuI|wnDATe6MPrg|WWqed9u6rr4|97cWs8tW8mY|q65SsORdRO8|DomumdGQSg8|0GXjcE4gy7g|\n",
            "+-----------+--------------------+------+----------------+-----+---------+----+-------+-------+-----------+-----------+-----------+-----------+-----------+-----------+-----------+-----------+-----------+-----------+-----------+-----------+-----------+-----------+\n",
            "only showing top 20 rows\n",
            "\n"
          ],
          "name": "stdout"
        }
      ]
    },
    {
      "cell_type": "markdown",
      "metadata": {
        "id": "lPzMrserBoZx",
        "colab_type": "text"
      },
      "source": [
        "Read the first 5 rows of a specific column"
      ]
    },
    {
      "cell_type": "code",
      "metadata": {
        "id": "zKiIyHBdwtcr",
        "colab_type": "code",
        "outputId": "74c73722-4167-4e9c-d2fc-aaa003f2085e",
        "colab": {
          "base_uri": "https://localhost:8080/",
          "height": 102
        }
      },
      "source": [
        "df_read.select(df_read.columns[0]).take(5)"
      ],
      "execution_count": 18,
      "outputs": [
        {
          "output_type": "execute_result",
          "data": {
            "text/plain": [
              "[Row(f1='QuRYeRnAuXM'),\n",
              " Row(f1='3TYqkBJ9YRk'),\n",
              " Row(f1='rSJ8QZWBegU'),\n",
              " Row(f1='nRcovJn9xHg'),\n",
              " Row(f1='UEvVksP91kg')]"
            ]
          },
          "metadata": {
            "tags": []
          },
          "execution_count": 18
        }
      ]
    },
    {
      "cell_type": "markdown",
      "metadata": {
        "id": "LM9NS5_52fE3",
        "colab_type": "text"
      },
      "source": [
        "Rename columns. "
      ]
    },
    {
      "cell_type": "code",
      "metadata": {
        "id": "7OiO0aG2x3JM",
        "colab_type": "code",
        "colab": {}
      },
      "source": [
        "df1 = df_read.withColumnRenamed('f1','ID').withColumnRenamed('f2','uploader')\n",
        "df1 = df1.withColumnRenamed('f3','interval').withColumnRenamed('f4','category')\n",
        "df1 = df1.withColumnRenamed('f5','length').withColumnRenamed('f6','views')\n",
        "df1 = df1.withColumnRenamed('f7','rating').withColumnRenamed('f8','num_of_rating')"
      ],
      "execution_count": 0,
      "outputs": []
    },
    {
      "cell_type": "code",
      "metadata": {
        "id": "f9_JOu0cyBPz",
        "colab_type": "code",
        "outputId": "97f07d41-7bce-43c4-ff8c-a1af8ff18a4c",
        "colab": {
          "base_uri": "https://localhost:8080/",
          "height": 54
        }
      },
      "source": [
        "df1"
      ],
      "execution_count": 20,
      "outputs": [
        {
          "output_type": "execute_result",
          "data": {
            "text/plain": [
              "DataFrame[ID: string, uploader: string, interval: double, category: string, length: double, views: double, rating: double, num_of_rating: double, f9: double, f10: string, f11: string, f12: string, f13: string, f14: string, f15: string, f16: string, f17: string, f18: string, f19: string, f20: string, f21: string, f22: string, f23: string]"
            ]
          },
          "metadata": {
            "tags": []
          },
          "execution_count": 20
        }
      ]
    },
    {
      "cell_type": "markdown",
      "metadata": {
        "id": "aVPbvPLYB2u9",
        "colab_type": "text"
      },
      "source": [
        "Determine the minimal, average and maximal value of a column"
      ]
    },
    {
      "cell_type": "code",
      "metadata": {
        "id": "if2Iq2RZ0hin",
        "colab_type": "code",
        "outputId": "fd00c01f-66e0-440f-ba82-40d238b82ea4",
        "colab": {
          "base_uri": "https://localhost:8080/",
          "height": 119
        }
      },
      "source": [
        "from pyspark.sql.functions import mean, min, max\n",
        "df1.select([min('length'),mean('length'),max('length')]).show()"
      ],
      "execution_count": 21,
      "outputs": [
        {
          "output_type": "stream",
          "text": [
            "+-----------+------------------+-----------+\n",
            "|min(length)|       avg(length)|max(length)|\n",
            "+-----------+------------------+-----------+\n",
            "|        1.0|232.90629611411705|     5202.0|\n",
            "+-----------+------------------+-----------+\n",
            "\n"
          ],
          "name": "stdout"
        }
      ]
    },
    {
      "cell_type": "code",
      "metadata": {
        "id": "-IWflq6_It2p",
        "colab_type": "code",
        "colab": {
          "base_uri": "https://localhost:8080/",
          "height": 309
        },
        "outputId": "48f8d92c-10df-48b1-d66b-73d925dbee64"
      },
      "source": [
        "df1.orderBy(df1.length.desc()).show(10)"
      ],
      "execution_count": 32,
      "outputs": [
        {
          "output_type": "stream",
          "text": [
            "+-----------+------------------+--------+---------------+------+---------+------+-------------+------+-----------+-----------+-----------+-----------+-----------+-----------+-----------+-----------+-----------+-----------+-----------+-----------+-----------+-----------+\n",
            "|         ID|          uploader|interval|       category|length|    views|rating|num_of_rating|    f9|        f10|        f11|        f12|        f13|        f14|        f15|        f16|        f17|        f18|        f19|        f20|        f21|        f22|        f23|\n",
            "+-----------+------------------+--------+---------------+------+---------+------+-------------+------+-----------+-----------+-----------+-----------+-----------+-----------+-----------+-----------+-----------+-----------+-----------+-----------+-----------+-----------+\n",
            "|MNvUSfRHzdQ|        AtheneWins|  1073.0| People & Blogs|5202.0| 760935.0|  4.59|       4440.0|2441.0|rVhGT_eB03g|mSgwvL4Gdyw|mr5ghuaTK14|6W0-dx5FxrA|65w47grytvU|WW68Yx-_VZA|UbN8PajPngM|vRlvbJ0GVf0|LHlFa5O8XvE|tqv8lSyKA1s|uOwhdkJcz-c|jTpTOGljpLY|E9BnZxuYtWc|UQ2DywOyDc8|\n",
            "|G2NRNSMQtro|            duncor|   901.0|  Entertainment|3638.0|  35115.0|  4.79|         72.0|  17.0|svHY29HFL2c|EN7KfJ7ZKXc|6e19e9vg0Fs|pkXPbEb4NyI|bbh54CIGCj8|uFQOrZAR1FU|P1pxsYp4xPQ|BxpKk-5BbCk|oMaTZFCLbq0|Aw6IIz1RSTo|YRgNOyCnbqg|W55nuIYNsDk|5bqpIlZhhYQ|pNJlE7eh6hU|\n",
            "|ZyFRjfDhZbk|    bridgingheaven|   865.0|  Entertainment|3517.0|   2653.0|  4.27|         11.0|   7.0|z2cwwl7cW1M|GbCqfG1n-0c|vlnjbjC3u4I|gYv1XUqzgSg|7g4ICz8xh2Q|nj7oKmd8oLQ|YFHWN_Yqabs|h4nJvXWGF5Y|N5GgN5XbFFI|8Kc_O1KEWP0|71OloCDXuHg|dHRMFsOUYBY|PXmYd80qyM0|8ZuARaAe2lM|\n",
            "|MWYi4_COZMU|      chrisabraham|   637.0|  Howto & Style|2731.0|  31163.0|  4.53|         70.0|  39.0|xmGML--UIfc|H1ImndT0fC8|BiCn6y6JU8o|OD4nh5A5up4|ocZntJTh7Ik|NopuJ_OYjsk|bU4gXHkejMo|rnMnpt6u5uo|1v1KB83rOYs|qWy4hJgOedU|jZULGg9kfCo|3l5g7F9zk3I|GQ5eZSa7URA|IAi3ZM1h4SY|\n",
            "|ZmY8Q-kVH5A|       bryanharley|   613.0|         Comedy|2716.0|   7094.0|  4.68|         50.0|  33.0|-JD6gOrARk4|07ej4zNlhpU|9WKzmxjNijE|zTG0vXniDQY|DbK1eCt97ag|Oa-cfEncd6Y|BvPdWcCHkxM|tiLgi5p14ts|zt-eGGoS5ss|WPxjYF5niik|bm1_zwUDOSE|RYzN-SpJIys|SCVc5TaPpe8|mJPZ23q762g|\n",
            "|F7Vz6GZJJOg|              rtve|   973.0|News & Politics|2365.0| 189406.0|  4.62|       1310.0|1531.0|QNjTZaKj9_s|0OYbLqQhqqM|YswGMK-JF60|Dm38j1LKcT8|4OeSZ5QGZA8|NCg5-DyFDQY|UhW5BhYLElA|Iwguu6DALfU|nLWc6xYvjgc|DTUSKyTzQ5E|AMjIjD85KFE|_x8rvCVhAfs|aLYzIZvRrr8|Jh2FnEnFlfY|\n",
            "|auQbi_fkdGE|           woofcat|   299.0|  Howto & Style|1492.0|1177125.0|  4.67|       2192.0|1384.0|aC-KOYQsIvU|Sf3M-_RUSCM|HsQIoPyfQzM|TzFsiDteIiQ|uzkNI4YIU2o|Xh1W15BWCUk|pwTVBWCijEQ|-RoE_xu4PeQ|uk2sPl_Z7ZU|Qehxjub5lyo|LY8Wi7XRXCA|Ee_8IMx0uMo|0PXIjs4VUqg|sUTT8wdN_VA|\n",
            "|QIMed1RWjDM|        jrhelgeson|   687.0|  Howto & Style|1457.0|   1786.0|   4.6|         10.0|   7.0|       null|       null|       null|       null|       null|       null|       null|       null|       null|       null|       null|       null|       null|       null|\n",
            "|_IjAvLXMdo8|journeymanpictures|   960.0|News & Politics|1445.0|   3330.0|  4.64|         11.0|  17.0|gpCZGC9XzWg|m_VInKE6MBw|5sua0iiO3A4|64rlAC1X5Y4|pbI6CE6yskw|XbF1yJF-NRQ|zFWuVYpOi1c|39BlxD96gXw|16RJ_M7yiB8|etia0v1mcOY|e3vV45Db9KM|ArPD4bQ3-90|l-YVdpQHdqo|sHzdsFiBbFc|\n",
            "|RrX_PwHVC_8|          JoeBurke|   694.0|  Entertainment|1359.0|   5589.0|  3.65|         31.0|  29.0|nWpnbD2DEb4|r-OVX8SoFUc|FE_T-QI-JOw|eDjdNJlDr7o|66k9iqVClm8|f9XjthYlHmg|uR_PzFZgsHU|FT-OD6RNmtA|7BmU-Urtud4|o-5cJse8_Zk|DRwHhSGXjXg|kTtxTvfGUwI|ppAn0LNU_V8|w_Fk3qUFZ1Q|\n",
            "+-----------+------------------+--------+---------------+------+---------+------+-------------+------+-----------+-----------+-----------+-----------+-----------+-----------+-----------+-----------+-----------+-----------+-----------+-----------+-----------+-----------+\n",
            "only showing top 10 rows\n",
            "\n"
          ],
          "name": "stdout"
        }
      ]
    },
    {
      "cell_type": "code",
      "metadata": {
        "id": "IVzl2GULMrDH",
        "colab_type": "code",
        "colab": {
          "base_uri": "https://localhost:8080/",
          "height": 459
        },
        "outputId": "1c4564d0-f501-4566-c23f-bbcd01564fa2"
      },
      "source": [
        "df1.orderBy(df1.length).groupby(df1.length).count().show()"
      ],
      "execution_count": 49,
      "outputs": [
        {
          "output_type": "stream",
          "text": [
            "+------+-----+\n",
            "|length|count|\n",
            "+------+-----+\n",
            "|  null|   34|\n",
            "|   1.0|    2|\n",
            "|   4.0|    9|\n",
            "|   5.0|    6|\n",
            "|   6.0|   12|\n",
            "|   7.0|   14|\n",
            "|   8.0|    5|\n",
            "|   9.0|   20|\n",
            "|  10.0|   13|\n",
            "|  11.0|    8|\n",
            "|  12.0|    9|\n",
            "|  13.0|   13|\n",
            "|  14.0|   18|\n",
            "|  15.0|   15|\n",
            "|  16.0|   10|\n",
            "|  17.0|    7|\n",
            "|  18.0|   16|\n",
            "|  19.0|    6|\n",
            "|  20.0|   11|\n",
            "|  21.0|   12|\n",
            "+------+-----+\n",
            "only showing top 20 rows\n",
            "\n"
          ],
          "name": "stdout"
        }
      ]
    },
    {
      "cell_type": "code",
      "metadata": {
        "id": "xVQhvKGgPKCL",
        "colab_type": "code",
        "colab": {
          "base_uri": "https://localhost:8080/",
          "height": 459
        },
        "outputId": "84badb32-3a43-4d7f-81b2-c4bed3b1e052"
      },
      "source": [
        "df1.groupby('uploader').count().show()"
      ],
      "execution_count": 67,
      "outputs": [
        {
          "output_type": "stream",
          "text": [
            "+------------------+-----+\n",
            "|          uploader|count|\n",
            "+------------------+-----+\n",
            "|    chinesemobster|    5|\n",
            "|           colt605|    1|\n",
            "|       metroid1003|    1|\n",
            "|     becoolsodapop|    1|\n",
            "|            ShdwHg|    1|\n",
            "|          voytex86|    1|\n",
            "|        amazingxx3|    1|\n",
            "|          deerdue2|    1|\n",
            "|       eXoOutsider|    2|\n",
            "|       MaNaTurquia|    1|\n",
            "|McCaskill4Missouri|    2|\n",
            "|          laihiube|    1|\n",
            "|           RobUniv|    1|\n",
            "|          rpm13003|    2|\n",
            "|         djlogitek|    1|\n",
            "|         mi3456789|    1|\n",
            "|         rsivracer|    1|\n",
            "|      SamHarrisCOM|    1|\n",
            "|           GmnBull|    1|\n",
            "|diegomaltaespinoza|    1|\n",
            "+------------------+-----+\n",
            "only showing top 20 rows\n",
            "\n"
          ],
          "name": "stdout"
        }
      ]
    },
    {
      "cell_type": "code",
      "metadata": {
        "id": "frPJ0wVER2z_",
        "colab_type": "code",
        "colab": {
          "base_uri": "https://localhost:8080/",
          "height": 34
        },
        "outputId": "43e85990-2031-4f0d-fd37-1fe6ffc05bda"
      },
      "source": [
        "df1.filter(df1.length > 1000).count()"
      ],
      "execution_count": 72,
      "outputs": [
        {
          "output_type": "execute_result",
          "data": {
            "text/plain": [
              "27"
            ]
          },
          "metadata": {
            "tags": []
          },
          "execution_count": 72
        }
      ]
    },
    {
      "cell_type": "code",
      "metadata": {
        "id": "hQ5rlwdfTfEP",
        "colab_type": "code",
        "colab": {
          "base_uri": "https://localhost:8080/",
          "height": 374
        },
        "outputId": "8e29b11c-0bc3-4345-c304-998cfe7b4ccf"
      },
      "source": [
        "df1.groupby(df1.category).count().show()"
      ],
      "execution_count": 79,
      "outputs": [
        {
          "output_type": "stream",
          "text": [
            "+--------------------+-----+\n",
            "|            category|count|\n",
            "+--------------------+-----+\n",
            "|           Education|   65|\n",
            "|       Entertainment|  908|\n",
            "|     Travel & Events|  112|\n",
            "|Science & Technology|   80|\n",
            "|              Sports|  251|\n",
            "|                null|   34|\n",
            "|       Howto & Style|  137|\n",
            "|Nonprofits & Acti...|   42|\n",
            "|    Film & Animation|  260|\n",
            "|      People & Blogs|  398|\n",
            "|     News & Politics|  333|\n",
            "|      Pets & Animals|   95|\n",
            "|                UNA |   32|\n",
            "|    Autos & Vehicles|   77|\n",
            "|               Music|  862|\n",
            "|              Comedy|  414|\n",
            "+--------------------+-----+\n",
            "\n"
          ],
          "name": "stdout"
        }
      ]
    },
    {
      "cell_type": "code",
      "metadata": {
        "id": "IEIlBT0vTzQg",
        "colab_type": "code",
        "colab": {
          "base_uri": "https://localhost:8080/",
          "height": 187
        },
        "outputId": "ff54e8ee-ab17-486a-a2c4-c3480104846a"
      },
      "source": [
        "columns_to_analyze = ['length','views']\n",
        "df1.select(*[columns_to_analyze]).describe().show()"
      ],
      "execution_count": 87,
      "outputs": [
        {
          "output_type": "stream",
          "text": [
            "+-------+------------------+------------------+\n",
            "|summary|            length|             views|\n",
            "+-------+------------------+------------------+\n",
            "|  count|              4066|              4066|\n",
            "|   mean|232.90629611411705|194695.10944417116|\n",
            "| stddev|219.47567245418742|1488250.2854682275|\n",
            "|    min|               1.0|               0.0|\n",
            "|    max|            5202.0|       6.5341925E7|\n",
            "+-------+------------------+------------------+\n",
            "\n"
          ],
          "name": "stdout"
        }
      ]
    },
    {
      "cell_type": "markdown",
      "metadata": {
        "id": "NSu0Q5YrUibs",
        "colab_type": "text"
      },
      "source": [
        ""
      ]
    },
    {
      "cell_type": "code",
      "metadata": {
        "id": "OLHckt0UUIln",
        "colab_type": "code",
        "colab": {
          "base_uri": "https://localhost:8080/",
          "height": 241
        },
        "outputId": "9cd28aee-cf96-41ee-eacb-59fa4065ef33"
      },
      "source": [
        "df1_pd = df1.toPandas()\n",
        "df1_pd.head()"
      ],
      "execution_count": 90,
      "outputs": [
        {
          "output_type": "execute_result",
          "data": {
            "text/html": [
              "<div>\n",
              "<style scoped>\n",
              "    .dataframe tbody tr th:only-of-type {\n",
              "        vertical-align: middle;\n",
              "    }\n",
              "\n",
              "    .dataframe tbody tr th {\n",
              "        vertical-align: top;\n",
              "    }\n",
              "\n",
              "    .dataframe thead th {\n",
              "        text-align: right;\n",
              "    }\n",
              "</style>\n",
              "<table border=\"1\" class=\"dataframe\">\n",
              "  <thead>\n",
              "    <tr style=\"text-align: right;\">\n",
              "      <th></th>\n",
              "      <th>ID</th>\n",
              "      <th>uploader</th>\n",
              "      <th>interval</th>\n",
              "      <th>category</th>\n",
              "      <th>length</th>\n",
              "      <th>views</th>\n",
              "      <th>rating</th>\n",
              "      <th>num_of_rating</th>\n",
              "      <th>f9</th>\n",
              "      <th>f10</th>\n",
              "      <th>f11</th>\n",
              "      <th>f12</th>\n",
              "      <th>f13</th>\n",
              "      <th>f14</th>\n",
              "      <th>f15</th>\n",
              "      <th>f16</th>\n",
              "      <th>f17</th>\n",
              "      <th>f18</th>\n",
              "      <th>f19</th>\n",
              "      <th>f20</th>\n",
              "      <th>f21</th>\n",
              "      <th>f22</th>\n",
              "      <th>f23</th>\n",
              "    </tr>\n",
              "  </thead>\n",
              "  <tbody>\n",
              "    <tr>\n",
              "      <th>0</th>\n",
              "      <td>QuRYeRnAuXM</td>\n",
              "      <td>EvilSquirrelPictures</td>\n",
              "      <td>1135.0</td>\n",
              "      <td>Pets &amp; Animals</td>\n",
              "      <td>252.0</td>\n",
              "      <td>1075.0</td>\n",
              "      <td>4.96</td>\n",
              "      <td>46.0</td>\n",
              "      <td>86.0</td>\n",
              "      <td>gFa1YMEJFag</td>\n",
              "      <td>nRcovJn9xHg</td>\n",
              "      <td>3TYqkBJ9YRk</td>\n",
              "      <td>rSJ8QZWBegU</td>\n",
              "      <td>0TZqX5MbXMA</td>\n",
              "      <td>UEvVksP91kg</td>\n",
              "      <td>ZTopArY7Nbg</td>\n",
              "      <td>0RViGi2Rne8</td>\n",
              "      <td>HT_QlOJbDpg</td>\n",
              "      <td>YZev1imoxX8</td>\n",
              "      <td>8qQrrfUTmh0</td>\n",
              "      <td>zQ83d_D2MGs</td>\n",
              "      <td>u6_DQQjLsAw</td>\n",
              "      <td>73Wz9CQFDtE</td>\n",
              "    </tr>\n",
              "    <tr>\n",
              "      <th>1</th>\n",
              "      <td>3TYqkBJ9YRk</td>\n",
              "      <td>hggh22</td>\n",
              "      <td>1135.0</td>\n",
              "      <td>Comedy</td>\n",
              "      <td>169.0</td>\n",
              "      <td>228.0</td>\n",
              "      <td>5.00</td>\n",
              "      <td>5.0</td>\n",
              "      <td>3.0</td>\n",
              "      <td>QuRYeRnAuXM</td>\n",
              "      <td>gFa1YMEJFag</td>\n",
              "      <td>UEvVksP91kg</td>\n",
              "      <td>rSJ8QZWBegU</td>\n",
              "      <td>nRcovJn9xHg</td>\n",
              "      <td>sVkuOk4jmCo</td>\n",
              "      <td>ZTopArY7Nbg</td>\n",
              "      <td>HT_QlOJbDpg</td>\n",
              "      <td>0RViGi2Rne8</td>\n",
              "      <td>ShhClb6J-NA</td>\n",
              "      <td>g9e1alirMhc</td>\n",
              "      <td>YZev1imoxX8</td>\n",
              "      <td>I4yKEK9o8gA</td>\n",
              "      <td>zQ83d_D2MGs</td>\n",
              "    </tr>\n",
              "    <tr>\n",
              "      <th>2</th>\n",
              "      <td>rSJ8QZWBegU</td>\n",
              "      <td>TimeGem</td>\n",
              "      <td>1135.0</td>\n",
              "      <td>Entertainment</td>\n",
              "      <td>95.0</td>\n",
              "      <td>356.0</td>\n",
              "      <td>4.31</td>\n",
              "      <td>13.0</td>\n",
              "      <td>1.0</td>\n",
              "      <td>QuRYeRnAuXM</td>\n",
              "      <td>gFa1YMEJFag</td>\n",
              "      <td>UEvVksP91kg</td>\n",
              "      <td>3TYqkBJ9YRk</td>\n",
              "      <td>nRcovJn9xHg</td>\n",
              "      <td>sVkuOk4jmCo</td>\n",
              "      <td>ZTopArY7Nbg</td>\n",
              "      <td>gBcu22Vv1nY</td>\n",
              "      <td>HT_QlOJbDpg</td>\n",
              "      <td>0RViGi2Rne8</td>\n",
              "      <td>ShhClb6J-NA</td>\n",
              "      <td>g9e1alirMhc</td>\n",
              "      <td>YZev1imoxX8</td>\n",
              "      <td>I4yKEK9o8gA</td>\n",
              "    </tr>\n",
              "    <tr>\n",
              "      <th>3</th>\n",
              "      <td>nRcovJn9xHg</td>\n",
              "      <td>wooochacha</td>\n",
              "      <td>1135.0</td>\n",
              "      <td>Entertainment</td>\n",
              "      <td>118.0</td>\n",
              "      <td>1115.0</td>\n",
              "      <td>2.23</td>\n",
              "      <td>57.0</td>\n",
              "      <td>73.0</td>\n",
              "      <td>QuRYeRnAuXM</td>\n",
              "      <td>gFa1YMEJFag</td>\n",
              "      <td>UEvVksP91kg</td>\n",
              "      <td>3TYqkBJ9YRk</td>\n",
              "      <td>ZTopArY7Nbg</td>\n",
              "      <td>gBcu22Vv1nY</td>\n",
              "      <td>HT_QlOJbDpg</td>\n",
              "      <td>0RViGi2Rne8</td>\n",
              "      <td>ShhClb6J-NA</td>\n",
              "      <td>g9e1alirMhc</td>\n",
              "      <td>YZev1imoxX8</td>\n",
              "      <td>I4yKEK9o8gA</td>\n",
              "      <td>zQ83d_D2MGs</td>\n",
              "      <td>1GKaVzNDbuI</td>\n",
              "    </tr>\n",
              "    <tr>\n",
              "      <th>4</th>\n",
              "      <td>UEvVksP91kg</td>\n",
              "      <td>johnx113</td>\n",
              "      <td>1135.0</td>\n",
              "      <td>Entertainment</td>\n",
              "      <td>83.0</td>\n",
              "      <td>281.0</td>\n",
              "      <td>2.67</td>\n",
              "      <td>9.0</td>\n",
              "      <td>16.0</td>\n",
              "      <td>gFa1YMEJFag</td>\n",
              "      <td>QuRYeRnAuXM</td>\n",
              "      <td>3TYqkBJ9YRk</td>\n",
              "      <td>0TZqX5MbXMA</td>\n",
              "      <td>rSJ8QZWBegU</td>\n",
              "      <td>nRcovJn9xHg</td>\n",
              "      <td>sVkuOk4jmCo</td>\n",
              "      <td>ZTopArY7Nbg</td>\n",
              "      <td>HT_QlOJbDpg</td>\n",
              "      <td>0RViGi2Rne8</td>\n",
              "      <td>g9e1alirMhc</td>\n",
              "      <td>YZev1imoxX8</td>\n",
              "      <td>I4yKEK9o8gA</td>\n",
              "      <td>zQ83d_D2MGs</td>\n",
              "    </tr>\n",
              "  </tbody>\n",
              "</table>\n",
              "</div>"
            ],
            "text/plain": [
              "            ID              uploader  ...          f22          f23\n",
              "0  QuRYeRnAuXM  EvilSquirrelPictures  ...  u6_DQQjLsAw  73Wz9CQFDtE\n",
              "1  3TYqkBJ9YRk                hggh22  ...  I4yKEK9o8gA  zQ83d_D2MGs\n",
              "2  rSJ8QZWBegU               TimeGem  ...  YZev1imoxX8  I4yKEK9o8gA\n",
              "3  nRcovJn9xHg            wooochacha  ...  zQ83d_D2MGs  1GKaVzNDbuI\n",
              "4  UEvVksP91kg              johnx113  ...  I4yKEK9o8gA  zQ83d_D2MGs\n",
              "\n",
              "[5 rows x 23 columns]"
            ]
          },
          "metadata": {
            "tags": []
          },
          "execution_count": 90
        }
      ]
    },
    {
      "cell_type": "code",
      "metadata": {
        "id": "MoJvVqpBU88X",
        "colab_type": "code",
        "colab": {
          "base_uri": "https://localhost:8080/",
          "height": 1000
        },
        "outputId": "5fec8228-c892-4749-d9ec-f65ed92ce46a"
      },
      "source": [
        "df1_pd.uploader.value_counts()"
      ],
      "execution_count": 93,
      "outputs": [
        {
          "output_type": "execute_result",
          "data": {
            "text/plain": [
              "machinima               21\n",
              "theevang1               20\n",
              "kushtv                  20\n",
              "rhyshuw1                19\n",
              "gselander               19\n",
              "hotforwords             19\n",
              "NBA                     19\n",
              "AtheneWins              18\n",
              "supermac18              18\n",
              "puebloplug              17\n",
              "juan833blue             17\n",
              "aka32                   17\n",
              "somedia                 17\n",
              "tokiohotelchannel       17\n",
              "davidisbetterthenyou    17\n",
              "anonymozzybinoswald     15\n",
              "VancouverFilmSchool     15\n",
              "powerballsvideos        14\n",
              "mrpregnant              14\n",
              "MediocreFilms           13\n",
              "HortonGB                12\n",
              "reneewoerdman           12\n",
              "AsikTV                  12\n",
              "NFBCmedia               12\n",
              "zonamagia               11\n",
              "VMOPO                   11\n",
              "coolsmurf               11\n",
              "TheOnion                10\n",
              "nerimon                 10\n",
              "oskay                    9\n",
              "                        ..\n",
              "threefirstnames          1\n",
              "Kabino14                 1\n",
              "AsthmaticHorn            1\n",
              "rehab07                  1\n",
              "thetimman00              1\n",
              "FreeWingz                1\n",
              "takaraimidget            1\n",
              "Tenzero2                 1\n",
              "fabsbento                1\n",
              "OSUMercutio              1\n",
              "Irlyliekmudkipz          1\n",
              "BiShOuPa                 1\n",
              "JaMeS159                 1\n",
              "cwaweeks3                1\n",
              "alicelenna               1\n",
              "webtvstudio              1\n",
              "Complexmagazine          1\n",
              "afilmspalestine          1\n",
              "Fylkor                   1\n",
              "TheKellyFamily           1\n",
              "LILKING32                1\n",
              "BookVideosTV             1\n",
              "guillensgurl             1\n",
              "WasteTimeChasingCars     1\n",
              "YouKnowItsWorthIt        1\n",
              "nodrivetime              1\n",
              "powemax0987              1\n",
              "hewoimwizziex3           1\n",
              "MuzicIdol                1\n",
              "ajaxouch                 1\n",
              "Name: uploader, Length: 2926, dtype: int64"
            ]
          },
          "metadata": {
            "tags": []
          },
          "execution_count": 93
        }
      ]
    },
    {
      "cell_type": "code",
      "metadata": {
        "id": "4-jJS0SgVXLM",
        "colab_type": "code",
        "colab": {
          "base_uri": "https://localhost:8080/",
          "height": 388
        },
        "outputId": "668b94c7-29e3-4307-deb3-5ea50b70bfef"
      },
      "source": [
        "import matplotlib.pyplot as plt\n",
        "plt.hist(df1_pd.length, bins = 100)\n",
        "plt.xlabel('video length')\n",
        "plt.ylabel('number of video')"
      ],
      "execution_count": 97,
      "outputs": [
        {
          "output_type": "stream",
          "text": [
            "/usr/local/lib/python3.6/dist-packages/numpy/lib/histograms.py:824: RuntimeWarning: invalid value encountered in greater_equal\n",
            "  keep = (tmp_a >= first_edge)\n",
            "/usr/local/lib/python3.6/dist-packages/numpy/lib/histograms.py:825: RuntimeWarning: invalid value encountered in less_equal\n",
            "  keep &= (tmp_a <= last_edge)\n"
          ],
          "name": "stderr"
        },
        {
          "output_type": "execute_result",
          "data": {
            "text/plain": [
              "Text(0, 0.5, 'number of video')"
            ]
          },
          "metadata": {
            "tags": []
          },
          "execution_count": 97
        },
        {
          "output_type": "display_data",
          "data": {
            "image/png": "[encoded data removed]",
            "text/plain": [
              "<Figure size 432x288 with 1 Axes>"
            ]
          },
          "metadata": {
            "tags": []
          }
        }
      ]
    },
    {
      "cell_type": "code",
      "metadata": {
        "id": "wKnjIcjTVzyN",
        "colab_type": "code",
        "colab": {
          "base_uri": "https://localhost:8080/",
          "height": 315
        },
        "outputId": "a0d2d44d-25c7-4125-86c3-06d76ba917e8"
      },
      "source": [
        "import seaborn as sns\n",
        "sns.heatmap(df1_pd[df1_pd.columns[:8]].corr(), cmap = 'seismic')"
      ],
      "execution_count": 107,
      "outputs": [
        {
          "output_type": "execute_result",
          "data": {
            "text/plain": [
              "<matplotlib.axes._subplots.AxesSubplot at 0x7fa8a420d1d0>"
            ]
          },
          "metadata": {
            "tags": []
          },
          "execution_count": 107
        },
        {
          "output_type": "display_data",
          "data": {
            "image/png": "[encoded data removed]",
            "text/plain": [
              "<Figure size 432x288 with 2 Axes>"
            ]
          },
          "metadata": {
            "tags": []
          }
        }
      ]
    },
    {
      "cell_type": "markdown",
      "metadata": {
        "id": "wMRNEOvXW14t",
        "colab_type": "text"
      },
      "source": [
        "Number of views has a high correlation with the number of rating. Not surprising."
      ]
    }
  ]
}