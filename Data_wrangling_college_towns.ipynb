{
  "nbformat": 4,
  "nbformat_minor": 0,
  "metadata": {
    "colab": {
      "name": "Untitled0.ipynb",
      "provenance": [],
      "include_colab_link": true
    },
    "kernelspec": {
      "name": "python3",
      "display_name": "Python 3"
    },
    "accelerator": "GPU"
  },
  "cells": [
    {
      "cell_type": "markdown",
      "metadata": {
        "id": "view-in-github",
        "colab_type": "text"
      },
      "source": [
        "<a href=\"https://colab.research.google.com/github/bbchen33/Data-Science/blob/master/Data_wrangling_college_towns.ipynb\" target=\"_parent\"><img src=\"https://colab.research.google.com/assets/colab-badge.svg\" alt=\"Open In Colab\"/></a>"
      ]
    },
    {
      "cell_type": "code",
      "metadata": {
        "id": "W5Bl8njNsTrr",
        "colab_type": "code",
        "colab": {}
      },
      "source": [
        "import numpy as np\n",
        "import seaborn as sns\n",
        "import pandas as pd\n",
        "from google.colab import files"
      ],
      "execution_count": 0,
      "outputs": []
    },
    {
      "cell_type": "code",
      "metadata": {
        "id": "1RhX23tJsaww",
        "colab_type": "code",
        "colab": {
          "resources": {
            "http://localhost:8080/nbextensions/google.colab/files.js": {
              "data": "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",
              "ok": true,
              "headers": [
                [
                  "content-type",
                  "application/javascript"
                ]
              ],
              "status": 200,
              "status_text": ""
            }
          },
          "base_uri": "https://localhost:8080/",
          "height": 111
        },
        "outputId": "f65e5b3f-9b01-4e00-9f89-ba776beb1e69"
      },
      "source": [
        "files.upload()"
      ],
      "execution_count": 2,
      "outputs": [
        {
          "output_type": "display_data",
          "data": {
            "text/html": [
              "\n",
              "     <input type=\"file\" id=\"files-96582c4d-fd85-46c9-9c49-8855c520d132\" name=\"files[]\" multiple disabled />\n",
              "     <output id=\"result-96582c4d-fd85-46c9-9c49-8855c520d132\">\n",
              "      Upload widget is only available when the cell has been executed in the\n",
              "      current browser session. Please rerun this cell to enable.\n",
              "      </output>\n",
              "      <script src=\"/nbextensions/google.colab/files.js\"></script> "
            ],
            "text/plain": [
              "<IPython.core.display.HTML object>"
            ]
          },
          "metadata": {
            "tags": []
          }
        },
        {
          "output_type": "stream",
          "text": [
            "Saving university.txt to university.txt\n"
          ],
          "name": "stdout"
        },
        {
          "output_type": "execute_result",
          "data": {
            "text/plain": [
              "{'university.txt': b'Alabama[edit]\\r\\nAuburn (Auburn University)[1]\\r\\nFlorence (University of North Alabama)\\r\\nJacksonville (Jacksonville State University)[2]\\r\\nLivingston (University of West Alabama)[2]\\r\\nMontevallo (University of Montevallo)[2]\\r\\nTroy (Troy University)[2]\\r\\nTuscaloosa (University of Alabama, Stillman College, Shelton State)[3][4]\\r\\nTuskegee (Tuskegee University)[5]\\r\\nAlaska[edit]\\r\\nFairbanks (University of Alaska Fairbanks)[2]\\r\\nArizona[edit]\\r\\nFlagstaff (Northern Arizona University)[6]\\r\\nTempe (Arizona State University)\\r\\nTucson (University of Arizona)\\r\\nArkansas[edit]\\r\\nArkadelphia (Henderson State University, Ouachita Baptist University)[2]\\r\\nConway (Central Baptist College, Hendrix College, University of Central Arkansas)[2]\\r\\nFayetteville (University of Arkansas)[7]\\r\\nJonesboro (Arkansas State University)[8]\\r\\nMagnolia (Southern Arkansas University)[2]\\r\\nMonticello (University of Arkansas at Monticello)[2]\\r\\nRussellville (Arkansas Tech University)[2]\\r\\nSearcy (Harding University)[5]\\r\\nCalifornia[edit]\\r\\nAngwin (Pacific Union College)[2]\\r\\nArcata (Humboldt State University)[5]\\r\\nBerkeley (University of California, Berkeley)[5]\\r\\nChico (California State University, Chico)[2]\\r\\nClaremont (Claremont McKenna College, Pomona College, Harvey Mudd College, Scripps College, Pitzer College, Keck Graduate Institute, Claremont Graduate University)[5]\\r\\nCotati (California State University, Sonoma)[2]\\r\\nDavis (University of California, Davis)[1]\\r\\nIrvine (University of California, Irvine)\\r\\nIsla Vista (University of California, Santa Barbara)[2]\\r\\nUniversity Park, Los Angeles (University of Southern California)\\r\\nMerced (University of California, Merced)\\r\\nOrange (Chapman University)\\r\\nPalo Alto (Stanford University)\\r\\nPomona (Cal Poly Pomona, WesternU)[9][10][11] and formerly Pomona College\\r\\nRedlands (University of Redlands)\\r\\nRiverside (University of California, Riverside, California Baptist University, La Sierra University)\\r\\nSacramento (California State University, Sacramento)\\r\\nUniversity District, San Bernardino (California State University, San Bernardino, American Sports University)\\r\\nSan Diego (University of California, San Diego, San Diego State University)\\r\\nSan Luis Obispo (California Polytechnic State University)[2]\\r\\nSanta Barbara (Fielding Graduate University, Santa Barbara City College, University of California, Santa Barbara, Westmont College)[2]\\r\\nSanta Cruz (University of California, Santa Cruz)[2]\\r\\nTurlock (California State University, Stanislaus)\\r\\nWestwood, Los Angeles (University of California, Los Angeles)[2]\\r\\nWhittier (Whittier CollegeRio Hondo College)\\r\\nColorado[edit]\\r\\nAlamosa (Adams State College)[2]\\r\\nBoulder (University of Colorado at Boulder)[12]\\r\\nDurango (Fort Lewis College)[2]\\r\\nFort Collins (Colorado State University)[13]\\r\\nGolden (Colorado School of Mines)\\r\\nGrand Junction (Colorado Mesa University)\\r\\nGreeley (University of Northern Colorado)\\r\\nGunnison (Western State College)[2]\\r\\nPueblo, Colorado (Colorado State University-Pueblo)\\r\\nConnecticut[edit]\\r\\nFairfield (Fairfield University, Sacred Heart University)\\r\\nMiddletown (Wesleyan University)\\r\\nNew Britain (Central Connecticut State University)\\r\\nNew Haven (Yale University, University of New Haven, Southern Connecticut State University, Albertus Magnus College, Quinnipiac University)[14]\\r\\nNew London (Connecticut College, US Coast Guard Academy, Mitchell College)[2]\\r\\nStorrs (University of Connecticut)[2]\\r\\nWillimantic (Eastern Connecticut State University)[2]\\r\\nDelaware[edit]\\r\\nDover (Delaware State University)[1]\\r\\nNewark (University of Delaware)[1]\\r\\nFlorida[edit]\\r\\nAve Maria (Ave Maria University)\\r\\nBoca Raton (Florida Atlantic University)\\r\\nCoral Gables (University of Miami)\\r\\nDeLand (Stetson University)[5]\\r\\nEstero (Florida Gulf Coast University)\\r\\nGainesville (University of Florida, Santa Fe College)\\r\\nOrlando (University of Central Florida)\\r\\nSarasota (New College of Florida, Ringling College of Art and Design, State College of Florida, Manatee-Sarasota, University of South Florida Sarasota-Manatee)\\r\\nSt. Augustine (Flagler College)\\r\\nSt. Leo (St. Leo University)\\r\\nTallahassee (Florida State University, Florida A&M University)\\r\\nTampa (University of South Florida)\\r\\nGeorgia[edit]\\r\\nAlbany (Albany State University)\\r\\nAthens (University of Georgia)[15]\\r\\nAtlanta (Georgia State University, Georgia Tech, Emory)[2]\\r\\nCarrollton (University of West Georgia)[2]*Dahlonega (North Georgia College & State University)[2]\\r\\nDemorest (Piedmont College)[2]\\r\\nFort Valley (Fort Valley State University)[2]\\r\\nKennesaw (Kennesaw State University)\\r\\nMilledgeville (Georgia College & State University)[2]\\r\\nMount Vernon (Brewton-Parker College)[2]\\r\\nOxford (Oxford College)\\r\\nRome (Berry College, Shorter University)\\r\\nSavannah (Armstrong Atlantic State University, Savannah State University, Savannah College of Art and Design)\\r\\nStatesboro (Georgia Southern University)[5]\\r\\nValdosta (Valdosta State University)[2]\\r\\nWaleska (Reinhardt College)[2]\\r\\nYoung Harris (Young Harris College)[2]\\r\\nHawaii[edit]\\r\\nManoa (University of Hawaii at Manoa)[2]\\r\\nIdaho[edit]\\r\\nMoscow (University of Idaho)[2]\\r\\nPocatello (Idaho State University)[2]\\r\\nRexburg (BYU-Idaho)[2]\\r\\nIllinois[edit]\\r\\nCarbondale (Southern Illinois University Carbondale)[5]\\r\\nChampaign\\x96Urbana (University of Illinois at Urbana\\x96Champaign)[5]\\r\\nCharleston (Eastern Illinois University)[2]\\r\\nDeKalb (Northern Illinois University)[2]\\r\\nEdwardsville (Southern Illinois University Edwardsville)[2]\\r\\nEvanston (Northwestern University)[2]\\r\\nLebanon (McKendree University)[2]\\r\\nMacomb (Western Illinois University)[2]\\r\\nNormal (Illinois State University)[2]\\r\\nPeoria (Bradley University)\\r\\nIndiana[edit]\\r\\nBloomington (Indiana University Bloomington)[5]\\r\\nCrawfordsville (Wabash College)\\r\\nGreencastle (DePauw University)[5]\\r\\nHanover (Hanover College)[2]\\r\\nMarion (Indiana Wesleyan University)[2]\\r\\nMuncie (Ball State University)[2]\\r\\nOakland City (Oakland City University)[2]\\r\\nRichmond (Earlham College)[2]\\r\\nSouth Bend (Notre Dame University[2])\\r\\nTerre Haute (Indiana State University, Rose-Hulman Institute of Technology)[2]\\r\\nUpland (Taylor University)[2]\\r\\nValparaiso (Valparaiso University)\\r\\nWest Lafayette (Purdue University)[2]\\r\\nIowa[edit]\\r\\nAmes (Iowa State University)[2]\\r\\nCedar Falls (University of Northern Iowa)[2]\\r\\nCedar Rapids, Iowa (Coe College )\\r\\nDecorah (Luther College)[5]\\r\\nFayette (Upper Iowa University)[2]\\r\\nGrinnell (Grinnell College)[15]\\r\\nIowa City (University of Iowa)[15]\\r\\nLamoni (Graceland University)[2]\\r\\nMount Vernon, (Cornell College)\\r\\nOrange City (Northwestern College)[2]\\r\\nSioux Center (Dordt College)[2]\\r\\nStorm Lake (Buena Vista University)[2]\\r\\nWaverly (Wartburg College)[2]\\r\\nKansas[edit]\\r\\nBaldwin City (Baker University)[5]\\r\\nEmporia (Emporia State University)[2]\\r\\nHays (Fort Hays State University)[2]\\r\\nLawrence (University of Kansas, Haskell Indian Nations University)[15]\\r\\nManhattan (Kansas State University, Manhattan Christian College)[15]\\r\\nPittsburg (Pittsburg State University)[2]\\r\\nKentucky[edit]\\r\\nBowling Green (Western Kentucky University)[2]\\r\\nColumbia (Lindsey Wilson College)[2]\\r\\nGeorgetown (Georgetown College)\\r\\nHighland Heights (Northern Kentucky University)\\r\\nLexington (University of Kentucky, Transylvania University[5]\\r\\nLouisville (University of Louisville)\\r\\nMorehead (Morehead State University)[2]\\r\\nMurray (Murray State University)[5]\\r\\nRichmond (Eastern Kentucky University)[2]\\r\\nWilliamsburg (University of the Cumberlands)[2]\\r\\nWilmore (Asbury University, Asbury Theological Seminary)[2]\\r\\nLouisiana[edit]\\r\\nBaton Rouge (Louisiana State University, Southern University)\\r\\nGrambling (Grambling State University)[5]\\r\\nHammond (Southeastern Louisiana University)[2]\\r\\nLafayette (University of Louisiana at Lafayette)\\r\\nMonroe (University of Louisiana at Monroe)[2]\\r\\nNatchitoches (Northwestern State University)[2]\\r\\nRuston (Louisiana Tech University)[2]\\r\\nThibodaux (Nicholls State University)[2]\\r\\nMaine[edit]\\r\\nAugusta (University of Maine at Augusta)[2]\\r\\nBar Harbor (College of the Atlantic)\\r\\nBrunswick (Bowdoin College)\\r\\nFarmington (University of Maine at Farmington)[2]\\r\\nFort Kent (University of Maine at Fort Kent)\\r\\nGorham (University of Southern Maine)[2]\\r\\nLewiston, Maine (Bates College)\\r\\nOrono (University of Maine)[2]\\r\\nWaterville (Thomas College, Colby College)\\r\\nMaryland[edit]\\r\\nAnnapolis (United States Naval Academy, St. John\\'s College)\\r\\nChestertown (Washington College)[2]\\r\\nCollege Park (University of Maryland, College Park)[16]\\r\\nCumberland (Allegany College of Maryland)\\r\\nEmmitsburg (Mount St. Mary\\'s University)[2]\\r\\nFrostburg (Frostburg State University)[5]\\r\\nPrincess Anne (University of Maryland Eastern Shore)[5]\\r\\nTowson (Towson University, Goucher College)[2]\\r\\nSalisbury (Salisbury University)[2]\\r\\nWestminster (McDaniel College)\\r\\nMassachusetts[edit]\\r\\nBoston (Boston University, Boston College, Boston Conservatory, New England Conservatory, Brandeis University, Northeastern University, UMass Boston, Emmanuel College, Bunker Hill Community College, Roxbury Community College, Suffolk University, Simmons College, among many others)\\r\\nBridgewater (Bridgewater State College)[2]\\r\\nCambridge (Harvard University, Massachusetts Institute of Technology)(Lesley University, Cambridge College, Longy School of Music)[15]\\r\\nChestnut Hill (Boston College)\\r\\nThe Colleges of Worcester Consortium:\\r\\nDudley (Nichols College)\\r\\nNorth Grafton (Cummings School of Veterinary Medicine at Tufts University)\\r\\nPaxton (Anna Maria College)\\r\\nWorcester (Assumption, Becker, Clark University, Holy Cross, Mass. College of Pharmacy & Health Sciences, Quinsigamond Community College, UMass Medical School, Worcester State University, Worcester Polytechnic Institute)\\r\\nThe Five College Region of Western Massachusetts:\\r\\nAmherst (Amherst College, Hampshire College, University of Massachusetts Amherst)[15]\\r\\nNorthampton (Smith College)\\r\\nSouth Hadley (Mount Holyoke College)\\r\\nFitchburg (Fitchburg State College)\\r\\nNorth Adams (Massachusetts College of Liberal Arts)\\r\\nSpringfield (American International College), (Springfield College), and (Western New England College)\\r\\nWaltham (Bentley University), (Brandeis University)\\r\\nWilliamstown (Williams College)\\r\\nFramingham (Framingham State University)\\r\\nMichigan[edit]\\r\\nAdrian (Adrian College, Siena Heights University)\\r\\nAlbion (Albion College)[17]\\r\\nAllendale (Grand Valley State University)\\r\\nAlma (Alma College)\\r\\nAnn Arbor (University of Michigan)[1]\\r\\nBerrien Springs (Andrews University)[2]\\r\\nBig Rapids (Ferris State University)[2]\\r\\nEast Lansing (Michigan State University)[2]\\r\\nFlint (Kettering University, University of Michigan-Flint)\\r\\nHillsdale (Hillsdale College)\\r\\nHoughton (Michigan Technological University)[5]\\r\\nKalamazoo (Western Michigan University, Kalamazoo College)[2]\\r\\nMarquette (Northern Michigan University)[2]\\r\\nMidland (Northwood University)\\r\\nMount Pleasant (Central Michigan University)[2]\\r\\nOlivet (Olivet College)[2]\\r\\nSaginaw (Saginaw Valley State University)\\r\\nSault Ste. Marie (Lake Superior State University)\\r\\nSpring Arbor (Spring Arbor University)[2]\\r\\nYpsilanti (Eastern Michigan University)[2]\\r\\nMinnesota[edit]\\r\\nBemidji (Bemidji State University)[2]\\r\\nCrookston (University of Minnesota Crookston)[2]\\r\\nDuluth (University of Minnesota Duluth, Lake Superior College, The College of St. Scholastica, University of Wisconsin\\x96Superior, Duluth Business University\\r\\nFaribault, South Central College\\r\\nMankato (Minnesota State University, Mankato),[2] Bethany Lutheran College\\r\\nMarshall (Southwest Minnesota State University)[2]\\r\\nMoorhead (Minnesota State University, Moorhead, Concordia College)[18]\\r\\nMorris (University of Minnesota Morris)[2]\\r\\nNorthfield (Carleton College, St. Olaf College)[5]\\r\\nNorth Mankato, South Central College\\r\\nSt. Cloud (St. Cloud State University, The College of St. Scholastica)[2]\\r\\nSt. Joseph (College of Saint Benedict)[2]\\r\\nSt. Peter (Gustavus Adolphus College)[2]\\r\\nWinona (Winona State University, St. Mary\\'s University of Minnesota)[19]\\r\\nMississippi[edit]\\r\\nCleveland (Delta State University)[2]\\r\\nHattiesburg (University of Southern Mississippi)[20]\\r\\nItta Bena (Mississippi Valley State University)[2]\\r\\nOxford (University of Mississippi)[2]\\r\\nStarkville (Mississippi State University)[2]\\r\\nMissouri[edit]\\r\\nBolivar (Southwest Baptist University)[2]\\r\\nCape Girardeau (Southeast Missouri State University)[2]\\r\\nColumbia (University of Missouri, Stephens College, Columbia College)[20]\\r\\nFayette (Central Methodist University)[2]\\r\\nFulton (Westminster College and William Woods University).\\r\\nKirksville (Truman State University, A. T. Still University)[2]\\r\\nMaryville (Northwest Missouri State University)[2]\\r\\nRolla (Missouri University of Science and Technology)[2]\\r\\nWarrensburg (University of Central Missouri)[5]\\r\\nMontana[edit]\\r\\nBozeman (Montana State University)[2]\\r\\nDillon (University of Montana Western)[2]\\r\\nMissoula (University of Montana)[5]\\r\\nNebraska[edit]\\r\\nChadron (Chadron State College)[5]\\r\\nCrete (Doane College)[2]\\r\\nKearney (University of Nebraska at Kearney)[2]\\r\\nLincoln (University of Nebraska at Lincoln)[5]\\r\\nPeru (Peru State College)[2]\\r\\nSeward (Concordia University)[2]\\r\\nWayne (Wayne State College)[2]\\r\\nNevada[edit]\\r\\nLas Vegas (University of Nevada, Las Vegas)\\r\\nReno (University of Nevada, Reno)\\r\\nNew Hampshire[edit]\\r\\nNew London, New Hampshire (Colby-Sawyer College)\\r\\nDurham (University of New Hampshire)[2]\\r\\nHanover (Dartmouth College)[5]\\r\\nHenniker (New England College)\\r\\nKeene (Keene State College)[2]\\r\\nPlymouth (Plymouth State University)[2]\\r\\nRindge (Franklin Pierce University)\\r\\nNew Jersey[edit]\\r\\nEwing (The College of New Jersey), (Rider University)\\r\\nJersey City (New Jersey City University), (Saint Peter\\'s University)\\r\\nGlassboro (Rowan University)[2]\\r\\nHoboken (Stevens Institute of Technology)\\r\\nMadison (Drew University), (Fairleigh Dickinson University), (College of Saint Elizabeth)\\r\\nNewark (Rutgers University), (New Jersey Institute of Technology), (UMDNJ)\\r\\nNew Brunswick (Rutgers University)[5]\\r\\nPrinceton (Princeton University)[5]\\r\\nUnion (Kean University)\\r\\nWest Long Branch (Monmouth University)\\r\\nNew Mexico[edit]\\r\\nHobbs (University of the Southwest)[2]\\r\\nLas Cruces (New Mexico State University)[2]\\r\\nLas Vegas (New Mexico Highlands University)[2]\\r\\nPortales (Eastern New Mexico University)[2]\\r\\nSilver City (Western New Mexico University)[2]\\r\\nNew York[edit]\\r\\nAlfred (Alfred University, Alfred State College)[2]\\r\\nAlbany (SUNY Albany, Siena College, Albany College of Pharmacy, Albany Law School, Albany Medical College, College of Saint Rose, Excelsior College, Maria College of Albany, Mildred Elley, Sage College of Albany)\\r\\nAurora (Wells College)[21]\\r\\nBinghamton (Binghamton University)[2]\\r\\nBrockport (SUNY Brockport)[5]\\r\\nBuffalo (University at Buffalo)\\r\\nCanton (St. Lawrence University, SUNY Canton)[2]\\r\\nClinton (Hamilton College)[2]\\r\\nCobleskill (SUNY Cobleskill)[2]\\r\\nDelhi (SUNY Delhi)[2]\\r\\nFredonia (SUNY Fredonia)[2]\\r\\nGeneseo (SUNY Geneseo)[2]\\r\\nGeneva (Hobart and William Smith Colleges)\\r\\nHamilton (Colgate University)[2]\\r\\nIthaca (Cornell University, Ithaca College)[1]\\r\\nMorningside Heights, Manhattan (Columbia University, Barnard College, Teachers College, Manhattan School of Music, Jewish Theological Seminary, Union Theological Seminary, Bank Street College of Education)\\r\\nNew Paltz (SUNY New Paltz)[2]\\r\\nOneonta (SUNY Oneonta, Hartwick College)[2]\\r\\nOswego (SUNY Oswego)[2]\\r\\nPlattsburgh (SUNY Plattsburgh)[2]\\r\\nPotsdam (SUNY Potsdam, Clarkson University)[2]\\r\\nPoughkeepsie (Vassar College, Marist College)[2]\\r\\nPurchase (Purchase College, Manhattanville College)[2]\\r\\nRochester (University of Rochester, Rochester Institute of Technology, Nazareth College, St. John Fisher College, Monroe Community College, Roberts Wesleyan College, SUNY Brockport, SUNY Empire State College)[2]\\r\\nSaratoga Springs (Skidmore College)[2]\\r\\nSeneca Falls (New York Chiropractic College)\\r\\nStony Brook (Stony Brook University)\\r\\nSyracuse (Syracuse University, SUNY ESF, Upstate Medical University)\\r\\nTivoli (Bard College)\\r\\nTroy (Rensselaer Polytechnic Institute, Russell Sage College, Hudson Valley Community College)\\r\\nWest Point (United States Military Academy)\\r\\nNorth Carolina[edit]\\r\\nBanner Elk (Lees-McRae College)\\r\\nBoiling Springs (Gardner-Webb University)[2]\\r\\nBoone (Appalachian State University)[2]\\r\\nBuies Creek (Campbell University)[2]\\r\\nChapel Hill (University of North Carolina at Chapel Hill)[20]\\r\\nCullowhee (Western Carolina University)[2]\\r\\nDavidson (Davidson College)[5]\\r\\nDurham (Duke University, North Carolina Central University)[5]\\r\\nElon (Elon University)[2]\\r\\nGreensboro (University of North Carolina at Greensboro, Greensboro College, Guilford College, North Carolina A & T State University, Bennett College)\\r\\nGreenville (East Carolina University)[2]\\r\\nHickory (Lenoir-Rhyne University)[2]\\r\\nMars Hill (Mars Hill College)[2]\\r\\nMount Olive (Mount Olive College)[2]\\r\\nPembroke (University of North Carolina at Pembroke)[2]\\r\\nWilmington, North Carolina (University of North Carolina at Wilmington)\\r\\nWingate (Wingate University)[2]\\r\\nWinston-Salem (Wake Forest University, University of North Carolina School of the Arts, Salem College, Winston-Salem State University)\\r\\nNorth Dakota[edit]\\r\\nFargo (North Dakota State University)[18]\\r\\nGrand Forks (University of North Dakota)[5]\\r\\nOhio[edit]\\r\\nAda (Ohio Northern University)[2]\\r\\nAlliance (University of Mount Union)\\r\\nAshland (Ashland University)[2]\\r\\nAthens (Ohio University)[2]\\r\\nBerea (Baldwin Wallace College)\\r\\nBluffton (Bluffton University)[2]\\r\\nBowling Green (Bowling Green State University)[2]\\r\\nCedarville (Cedarville University)[2]\\r\\nColumbus (Ohio State University)\\r\\nDelaware (Ohio Wesleyan University)\\r\\nFairborn (Wright State University)\\r\\nFindlay (University of Findlay)\\r\\nGambier (Kenyon College)[2]\\r\\nGranville (Denison University)[2]\\r\\nHiram (Hiram College)[2]\\r\\nKent (Kent State University)[2]\\r\\nNelsonville (Hocking College)[2]\\r\\nNew Concord (Muskingum College)[2]\\r\\nOberlin (Oberlin College)[5]\\r\\nOxford (Miami University)[5]\\r\\nRio Grande (University of Rio Grande)[2]\\r\\nWilberforce (Wilberforce University, Central State University)[2]\\r\\nOklahoma[edit]\\r\\nAda (East Central University)[2]\\r\\nAlva (Northwestern Oklahoma State University)[2]\\r\\nDurant (Southeastern Oklahoma State University)[2]\\r\\nEdmond (University of Central Oklahoma, Oklahoma Christian University)[2]\\r\\nGoodwell (Oklahoma Panhandle State University)[2]\\r\\nLangston (Langston University)[5]\\r\\nNorman (University of Oklahoma)[1]\\r\\nStillwater (Oklahoma State University)[5]\\r\\nTahlequah (Northeastern State University)[2]\\r\\nTulsa (The University of Tulsa)\\r\\nWeatherford (Southwestern Oklahoma State University)\\r\\nOregon[edit]\\r\\nAshland (Southern Oregon University)[2]\\r\\nCorvallis (Oregon State University)[20]\\r\\nEugene (Lane Community College, Northwest Christian University, University of Oregon)[20]\\r\\nForest Grove (Pacific University)\\r\\nKlamath Falls (Klamath Community College, Oregon Institute of Technology)\\r\\nLa Grande (Eastern Oregon University)[2]\\r\\nMarylhurst (Marylhurst University)\\r\\nMcMinnville (Linfield College)\\r\\nMonmouth (Western Oregon University)[2]\\r\\nNewberg (George Fox University)\\r\\nPennsylvania[edit]\\r\\nAltoona (Penn State Altoona)\\r\\nAnnville (Lebanon Valley College)[2]\\r\\nBethlehem (Lehigh University, Moravian College)\\r\\nBloomsburg (Bloomsburg University of Pennsylvania)[2]\\r\\nBradford (University of Pittsburgh at Bradford)\\r\\nCalifornia (California University of Pennsylvania)[2]\\r\\nCarlisle (Dickinson College)\\r\\nCecil B. Moore, Philadelphia, also known as \"Templetown\" (Temple University)\\r\\nClarion (Clarion University of Pennsylvania)[2]\\r\\nCollegeville (Ursinus College)\\r\\nCresson (Mount Aloysius College)[2]\\r\\nEast Stroudsburg (East Stroudsburg University of Pennsylvania)[2]\\r\\nEdinboro (Edinboro University of Pennsylvania)[2]\\r\\nErie (Gannon University, Mercyhurst College, Penn State Erie)\\r\\nGettysburg (Gettysburg College)[2]\\r\\nGreensburg (Seton Hill University, University of Pittsburgh at Greensburg)\\r\\nGrove City (Grove City College)[2]\\r\\nHuntingdon (Juniata College)[2]\\r\\nIndiana (Indiana University of Pennsylvania)[2]\\r\\nJohnstown (University of Pittsburgh at Johnstown)\\r\\nKutztown (Kutztown University of Pennsylvania)[2]\\r\\nLancaster (Franklin & Marshall)\\r\\nLewisburg (Bucknell University)[5]\\r\\nLock Haven (Lock Haven University of Pennsylvania)[2]\\r\\nLoretto (St. Francis University)[2]\\r\\nMansfield (Mansfield University of Pennsylvania)[2]\\r\\nMeadville (Allegheny College)\\r\\nMont Alto (Penn State Mont Alto)\\r\\nMillersville (Millersville University of Pennsylvania)[2]\\r\\nNew Wilmington (Westminster College)[2]\\r\\nNorth East (Mercyhurst North East)\\r\\nUniversity City, Philadelphia (Drexel University, University of Pennsylvania, University of the Sciences in Philadelphia)\\r\\nOakland, Pittsburgh (Carnegie Mellon University, University of Pittsburgh, Carlow University)\\r\\nReading (Albright College, Alvernia University, Penn State Berks)\\r\\nSelinsgrove (Susquehanna University)[2]\\r\\nShippensburg (Shippensburg University of Pennsylvania)[2]\\r\\nSlippery Rock (Slippery Rock University of Pennsylvania)[2]\\r\\nState College (Pennsylvania State University)[22]\\r\\nVillanova (Villanova University)\\r\\nWaynesburg (Waynesburg University)\\r\\nWest Chester (West Chester University of Pennsylvania)\\r\\nWilkes-Barre (King\\'s College, Wilkes University)\\r\\nWilliamsport (Lycoming College, Pennsylvania College of Technology)[2]\\r\\nRhode Island[edit]\\r\\nKingston (University of Rhode Island)[2]\\r\\nProvidence (Brown University, (University of Rhode Island), Rhode Island School of Design, Johnson and Wales University, Providence College, Community College of Rhode Island, Rhode Island College, and Roger Williams University.)\\r\\nSouth Carolina[edit]\\r\\nCentral (Southern Wesleyan University)[2]\\r\\nCharleston (College of Charleston, The Citadel, MUSC)\\r\\nClemson (Clemson University)[2]\\r\\nClinton (Presbyterian College)\\r\\nColumbia (University of South Carolina)[14]\\r\\nDue West (Erskine College)\\r\\nFlorence (Francis Marion University)\\r\\nGreenwood (Lander University)\\r\\nOrangeburg (South Carolina State University, Claflin University)[2]\\r\\nRock Hill (Winthrop University)\\r\\nSpartanburg (Wofford College, Converse College, University of South Carolina Upstate, Spartanburg Methodist College, Edward Via College of Osteopathic Medicine, Spartanburg Community College, Virginia College, Sherman College of Chiropractic)\\r\\nSouth Dakota[edit]\\r\\nBrookings (South Dakota State University)[2]\\r\\nMadison (Dakota State University)\\r\\nSpearfish (Black Hills State University)\\r\\nVermillion (University of South Dakota)[5]\\r\\nTennessee[edit]\\r\\nChattanooga (University of Tennessee at Chattanooga)\\r\\nCollegedale (Southern Adventist University)\\r\\nCookeville (Tennessee Technological University)[2]\\r\\nHarrogate (Lincoln Memorial University)[2]\\r\\nHenderson (Freed-Hardeman University)[2]\\r\\nJohnson City (East Tennessee State University)\\r\\nKnoxville (University of Tennessee)\\r\\nMartin (University of Tennessee at Martin)[2]\\r\\nMcKenzie (Bethel University)[2]\\r\\nMemphis (Christian Brothers University, LeMoyne-Owen College, Memphis College of Art, Memphis Theological Seminary, Rhodes College, Southern College of Optometry, Southwest Tennessee Community College, University of Memphis, University of Tennessee Health Science Center, Visible Music College)\\r\\nMurfreesboro (Middle Tennessee State University)[2]\\r\\nNashville (Vanderbilt University, Belmont University, Tennessee State University, Lipscomb University, Fisk University, Aquinas College, Trevecca Nazarene University)\\r\\nSewanee (Sewanee: the University of the South)[2]\\r\\nTexas[edit]\\r\\nAbilene (Abilene Christian University, Hardin-Simmons University, McMurry University)\\r\\nAlpine (Sul Ross State University)[2]\\r\\nAustin (University of Texas at Austin, St. Edwards University, Huston-Tillotson University)[2]\\r\\nBeaumont (Lamar University)\\r\\nCanyon (West Texas A&M University)[2]\\r\\nCollege Station (Texas A&M University)[5]\\r\\nCommerce (Texas A&M University\\x96Commerce)[2]\\r\\nDallas (Southern Methodist University)\\r\\nDenton (University of North Texas, Texas Woman\\'s University)[2]\\r\\nFort Worth (Texas Christian University, Texas Wesleyan University)\\r\\nGeorgetown (Southwestern University)\\r\\nHuntsville (Sam Houston State University)[2]\\r\\nHouston (University of Houston, Texas Southern University, Rice University, Houston Baptist University)\\r\\nKeene (Southwestern Adventist University)[2]\\r\\nKingsville (Texas A&M University\\x96Kingsville)[2]\\r\\nLubbock (Texas Tech University, Lubbock Christian University)\\r\\nNacogdoches (Stephen F. Austin State University)[2]\\r\\nPlainview (Wayland Baptist University)[2]\\r\\nPrairie View (Prairie View A&M University)[2]\\r\\nSan Marcos (Texas State University)[5]\\r\\nStephenville (Tarleton State University)[2]\\r\\nWaco (Baylor University)\\r\\nUtah[edit]\\r\\nCedar City (Southern Utah University)[2]\\r\\nLogan (Utah State University)[2]\\r\\nProvo (Brigham Young University)[5]\\r\\nOrem (Utah Valley University)\\r\\nSalt Lake City (University of Utah)\\r\\nEphraim (Snow College)\\r\\nVermont[edit]\\r\\nBurlington (University of Vermont, Champlain College and Saint Michael\\'s College)[2]\\r\\nCastleton (Castleton State College)[2]\\r\\nJohnson (Johnson State College)[2]\\r\\nLyndonville (Lyndon State College)[2]\\r\\nMiddlebury (Middlebury College)[2]\\r\\nNorthfield (Norwich University)[2]\\r\\nVirginia[edit]\\r\\nBlacksburg (Virginia Polytechnic Institute and State University)[5]\\r\\nBridgewater (Bridgewater College)[2]\\r\\nCharlottesville (University of Virginia)[23]\\r\\nFarmville (Longwood University, Hampden-Sydney College)[2]\\r\\nFredericksburg (University of Mary Washington)[2]\\r\\nHarrisonburg (James Madison University, Eastern Mennonite University)[2]\\r\\nLexington (Washington and Lee University, Virginia Military Institute)[2]\\r\\nLynchburg (Lynchburg College, Randolph College, Liberty University, Central Virginia Community College)\\r\\nRadford (Radford University)[2]\\r\\nWilliamsburg (The College of William & Mary)[2]\\r\\nWise (University of Virginia\\'s College at Wise)[2]\\r\\nChesapeake (Averett University, DeVry University, Troy University, Tidewater Community College, Strayer University, Everest University, Sentera College of Health Sciences, St Leo University)[2]\\r\\nWashington[edit]\\r\\nBellingham (Western Washington University)\\r\\nCheney (Eastern Washington University)[2]\\r\\nEllensburg (Central Washington University)[5]\\r\\nPullman (Washington State University)[5]\\r\\nUniversity District, Seattle (University of Washington)[5]\\r\\nWest Virginia[edit]\\r\\nAthens (Concord University)[2]\\r\\nBuckhannon (West Virginia Wesleyan College)[2]\\r\\nFairmont (Fairmont State University)[2]\\r\\nGlenville (Glenville State College)[2]\\r\\nHuntington (Marshall University)[2]\\r\\nMontgomery (West Virginia University Institute of Technology)[2]\\r\\nMorgantown (West Virginia University)[2]\\r\\nShepherdstown (Shepherd University)[2]\\r\\nWest Liberty (West Liberty University)[2]\\r\\nWisconsin[edit]\\r\\nAppleton (Lawrence University)\\r\\nEau Claire (University of Wisconsin\\x96Eau Claire)\\r\\nGreen Bay (University of Wisconsin-Green Bay)\\r\\nLa Crosse (University of Wisconsin\\x96La Crosse, Western Technical College, Viterbo University)[2]\\r\\nMadison (University of Wisconsin\\x96Madison)[2]\\r\\nMenomonie (University of Wisconsin\\x96Stout)[2]\\r\\nMilwaukee (Marquette University, University of Wisconsin\\x96Milwaukee)\\r\\nOshkosh (University of Wisconsin\\x96Oshkosh)\\r\\nPlatteville (University of Wisconsin\\x96Platteville)[2]\\r\\nRiver Falls (University of Wisconsin\\x96River Falls)[2]\\r\\nStevens Point (University of Wisconsin\\x96Stevens Point)[2]\\r\\nWaukesha (Carroll University)\\r\\nWhitewater (University of Wisconsin\\x96Whitewater)[2]\\r\\nWyoming[edit]\\r\\nLaramie (University of Wyoming)[5]'}"
            ]
          },
          "metadata": {
            "tags": []
          },
          "execution_count": 2
        }
      ]
    },
    {
      "cell_type": "code",
      "metadata": {
        "id": "gTe1w9FosmrO",
        "colab_type": "code",
        "colab": {
          "base_uri": "https://localhost:8080/",
          "height": 34
        },
        "outputId": "a9ffc6f5-c9e4-4f5b-ade4-02230e1a353f"
      },
      "source": [
        "!ls"
      ],
      "execution_count": 3,
      "outputs": [
        {
          "output_type": "stream",
          "text": [
            "sample_data  university.txt\n"
          ],
          "name": "stdout"
        }
      ]
    },
    {
      "cell_type": "code",
      "metadata": {
        "id": "jZq5HlNasn-n",
        "colab_type": "code",
        "colab": {
          "base_uri": "https://localhost:8080/",
          "height": 71
        },
        "outputId": "1f8aba6e-506f-4163-fb13-1c31f5dfa4eb"
      },
      "source": [
        "df = pd.read_table('university.txt', encoding = \"ISO-8859-1\", header = None)"
      ],
      "execution_count": 4,
      "outputs": [
        {
          "output_type": "stream",
          "text": [
            "/usr/local/lib/python3.6/dist-packages/ipykernel_launcher.py:1: FutureWarning: read_table is deprecated, use read_csv instead, passing sep='\\t'.\n",
            "  \"\"\"Entry point for launching an IPython kernel.\n"
          ],
          "name": "stderr"
        }
      ]
    },
    {
      "cell_type": "code",
      "metadata": {
        "id": "TntqTp2MtBBO",
        "colab_type": "code",
        "colab": {
          "base_uri": "https://localhost:8080/",
          "height": 204
        },
        "outputId": "25526ee5-b110-4b22-e391-f0fb9a5376ff"
      },
      "source": [
        "df.head()"
      ],
      "execution_count": 5,
      "outputs": [
        {
          "output_type": "execute_result",
          "data": {
            "text/html": [
              "<div>\n",
              "<style scoped>\n",
              "    .dataframe tbody tr th:only-of-type {\n",
              "        vertical-align: middle;\n",
              "    }\n",
              "\n",
              "    .dataframe tbody tr th {\n",
              "        vertical-align: top;\n",
              "    }\n",
              "\n",
              "    .dataframe thead th {\n",
              "        text-align: right;\n",
              "    }\n",
              "</style>\n",
              "<table border=\"1\" class=\"dataframe\">\n",
              "  <thead>\n",
              "    <tr style=\"text-align: right;\">\n",
              "      <th></th>\n",
              "      <th>0</th>\n",
              "    </tr>\n",
              "  </thead>\n",
              "  <tbody>\n",
              "    <tr>\n",
              "      <th>0</th>\n",
              "      <td>Alabama[edit]</td>\n",
              "    </tr>\n",
              "    <tr>\n",
              "      <th>1</th>\n",
              "      <td>Auburn (Auburn University)[1]</td>\n",
              "    </tr>\n",
              "    <tr>\n",
              "      <th>2</th>\n",
              "      <td>Florence (University of North Alabama)</td>\n",
              "    </tr>\n",
              "    <tr>\n",
              "      <th>3</th>\n",
              "      <td>Jacksonville (Jacksonville State University)[2]</td>\n",
              "    </tr>\n",
              "    <tr>\n",
              "      <th>4</th>\n",
              "      <td>Livingston (University of West Alabama)[2]</td>\n",
              "    </tr>\n",
              "  </tbody>\n",
              "</table>\n",
              "</div>"
            ],
            "text/plain": [
              "                                                 0\n",
              "0                                    Alabama[edit]\n",
              "1                    Auburn (Auburn University)[1]\n",
              "2           Florence (University of North Alabama)\n",
              "3  Jacksonville (Jacksonville State University)[2]\n",
              "4       Livingston (University of West Alabama)[2]"
            ]
          },
          "metadata": {
            "tags": []
          },
          "execution_count": 5
        }
      ]
    },
    {
      "cell_type": "code",
      "metadata": {
        "id": "TDypek75s3VH",
        "colab_type": "code",
        "colab": {}
      },
      "source": [
        "df.columns = ['data']\n",
        "state_name = []\n",
        "for i in range(len(df)):\n",
        "\tif '[edit]' in df.data.iloc[i]:\n",
        "\t\tstate_name.append(df.data.iloc[i][:-6])"
      ],
      "execution_count": 0,
      "outputs": []
    },
    {
      "cell_type": "code",
      "metadata": {
        "id": "DH5GMUWPs-hv",
        "colab_type": "code",
        "colab": {
          "base_uri": "https://localhost:8080/",
          "height": 54
        },
        "outputId": "bb68921c-393a-4bec-a2d4-d282758bfd88"
      },
      "source": [
        "print(state_name)"
      ],
      "execution_count": 7,
      "outputs": [
        {
          "output_type": "stream",
          "text": [
            "['Alabama', 'Alaska', 'Arizona', 'Arkansas', 'California', 'Colorado', 'Connecticut', 'Delaware', 'Florida', 'Georgia', 'Hawaii', 'Idaho', 'Illinois', 'Indiana', 'Iowa', 'Kansas', 'Kentucky', 'Louisiana', 'Maine', 'Maryland', 'Massachusetts', 'Michigan', 'Minnesota', 'Mississippi', 'Missouri', 'Montana', 'Nebraska', 'Nevada', 'New Hampshire', 'New Jersey', 'New Mexico', 'New York', 'North Carolina', 'North Dakota', 'Ohio', 'Oklahoma', 'Oregon', 'Pennsylvania', 'Rhode Island', 'South Carolina', 'South Dakota', 'Tennessee', 'Texas', 'Utah', 'Vermont', 'Virginia', 'Washington', 'West Virginia', 'Wisconsin', 'Wyoming']\n"
          ],
          "name": "stdout"
        }
      ]
    },
    {
      "cell_type": "code",
      "metadata": {
        "id": "SQ4bqRl0tDQg",
        "colab_type": "code",
        "colab": {}
      },
      "source": [
        "state_row = df.loc[df.data.str.contains('edit')].index\n",
        "df1 = df.data.str.split(\"(\", expand = True) #separate the college town and the school name\n",
        "state_city_dict = {}\n",
        "for state in state_name:\n",
        "\tstate_city_dict[state] = [] #placeholder to add the college towns"
      ],
      "execution_count": 0,
      "outputs": []
    },
    {
      "cell_type": "markdown",
      "metadata": {
        "id": "26V5Q8e1tpRp",
        "colab_type": "text"
      },
      "source": [
        "Then add the college towns to each state using the state_row dataframe that contains the index where every 'edit' occurs, also where each state occurs"
      ]
    },
    {
      "cell_type": "code",
      "metadata": {
        "id": "2xBYJPhotmeP",
        "colab_type": "code",
        "colab": {}
      },
      "source": [
        "for i in range(50):\n",
        "\tif i < 49:\n",
        "\t\tfor a in range(state_row[i]+1, state_row[i+1]):\n",
        "\t\t\tstate_city_dict[state_name[i]].append(df1[0][a])\n",
        "\telse:\n",
        "\t\tstate_city_dict['Wyoming'].append(df1[0][566])"
      ],
      "execution_count": 0,
      "outputs": []
    },
    {
      "cell_type": "code",
      "metadata": {
        "id": "ot0d9DR5t54n",
        "colab_type": "code",
        "colab": {
          "base_uri": "https://localhost:8080/",
          "height": 54
        },
        "outputId": "5237b73f-cd20-4e9e-e325-6e20822b31d9"
      },
      "source": [
        "print(state_city_dict)"
      ],
      "execution_count": 10,
      "outputs": [
        {
          "output_type": "stream",
          "text": [
            "{'Alabama': ['Auburn ', 'Florence ', 'Jacksonville ', 'Livingston ', 'Montevallo ', 'Troy ', 'Tuscaloosa ', 'Tuskegee '], 'Alaska': ['Fairbanks '], 'Arizona': ['Flagstaff ', 'Tempe ', 'Tucson '], 'Arkansas': ['Arkadelphia ', 'Conway ', 'Fayetteville ', 'Jonesboro ', 'Magnolia ', 'Monticello ', 'Russellville ', 'Searcy '], 'California': ['Angwin ', 'Arcata ', 'Berkeley ', 'Chico ', 'Claremont ', 'Cotati ', 'Davis ', 'Irvine ', 'Isla Vista ', 'University Park, Los Angeles ', 'Merced ', 'Orange ', 'Palo Alto ', 'Pomona ', 'Redlands ', 'Riverside ', 'Sacramento ', 'University District, San Bernardino ', 'San Diego ', 'San Luis Obispo ', 'Santa Barbara ', 'Santa Cruz ', 'Turlock ', 'Westwood, Los Angeles ', 'Whittier '], 'Colorado': ['Alamosa ', 'Boulder ', 'Durango ', 'Fort Collins ', 'Golden ', 'Grand Junction ', 'Greeley ', 'Gunnison ', 'Pueblo, Colorado '], 'Connecticut': ['Fairfield ', 'Middletown ', 'New Britain ', 'New Haven ', 'New London ', 'Storrs ', 'Willimantic '], 'Delaware': ['Dover ', 'Newark '], 'Florida': ['Ave Maria ', 'Boca Raton ', 'Coral Gables ', 'DeLand ', 'Estero ', 'Gainesville ', 'Orlando ', 'Sarasota ', 'St. Augustine ', 'St. Leo ', 'Tallahassee ', 'Tampa '], 'Georgia': ['Albany ', 'Athens ', 'Atlanta ', 'Carrollton ', 'Demorest ', 'Fort Valley ', 'Kennesaw ', 'Milledgeville ', 'Mount Vernon ', 'Oxford ', 'Rome ', 'Savannah ', 'Statesboro ', 'Valdosta ', 'Waleska ', 'Young Harris '], 'Hawaii': ['Manoa '], 'Idaho': ['Moscow ', 'Pocatello ', 'Rexburg '], 'Illinois': ['Carbondale ', 'Champaign\\x96Urbana ', 'Charleston ', 'DeKalb ', 'Edwardsville ', 'Evanston ', 'Lebanon ', 'Macomb ', 'Normal ', 'Peoria '], 'Indiana': ['Bloomington ', 'Crawfordsville ', 'Greencastle ', 'Hanover ', 'Marion ', 'Muncie ', 'Oakland City ', 'Richmond ', 'South Bend ', 'Terre Haute ', 'Upland ', 'Valparaiso ', 'West Lafayette '], 'Iowa': ['Ames ', 'Cedar Falls ', 'Cedar Rapids, Iowa ', 'Decorah ', 'Fayette ', 'Grinnell ', 'Iowa City ', 'Lamoni ', 'Mount Vernon, ', 'Orange City ', 'Sioux Center ', 'Storm Lake ', 'Waverly '], 'Kansas': ['Baldwin City ', 'Emporia ', 'Hays ', 'Lawrence ', 'Manhattan ', 'Pittsburg '], 'Kentucky': ['Bowling Green ', 'Columbia ', 'Georgetown ', 'Highland Heights ', 'Lexington ', 'Louisville ', 'Morehead ', 'Murray ', 'Richmond ', 'Williamsburg ', 'Wilmore '], 'Louisiana': ['Baton Rouge ', 'Grambling ', 'Hammond ', 'Lafayette ', 'Monroe ', 'Natchitoches ', 'Ruston ', 'Thibodaux '], 'Maine': ['Augusta ', 'Bar Harbor ', 'Brunswick ', 'Farmington ', 'Fort Kent ', 'Gorham ', 'Lewiston, Maine ', 'Orono ', 'Waterville '], 'Maryland': ['Annapolis ', 'Chestertown ', 'College Park ', 'Cumberland ', 'Emmitsburg ', 'Frostburg ', 'Princess Anne ', 'Towson ', 'Salisbury ', 'Westminster '], 'Massachusetts': ['Boston ', 'Bridgewater ', 'Cambridge ', 'Chestnut Hill ', 'The Colleges of Worcester Consortium:', 'Dudley ', 'North Grafton ', 'Paxton ', 'Worcester ', 'The Five College Region of Western Massachusetts:', 'Amherst ', 'Northampton ', 'South Hadley ', 'Fitchburg ', 'North Adams ', 'Springfield ', 'Waltham ', 'Williamstown ', 'Framingham '], 'Michigan': ['Adrian ', 'Albion ', 'Allendale ', 'Alma ', 'Ann Arbor ', 'Berrien Springs ', 'Big Rapids ', 'East Lansing ', 'Flint ', 'Hillsdale ', 'Houghton ', 'Kalamazoo ', 'Marquette ', 'Midland ', 'Mount Pleasant ', 'Olivet ', 'Saginaw ', 'Sault Ste. Marie ', 'Spring Arbor ', 'Ypsilanti '], 'Minnesota': ['Bemidji ', 'Crookston ', 'Duluth ', 'Faribault, South Central College', 'Mankato ', 'Marshall ', 'Moorhead ', 'Morris ', 'Northfield ', 'North Mankato, South Central College', 'St. Cloud ', 'St. Joseph ', 'St. Peter ', 'Winona '], 'Mississippi': ['Cleveland ', 'Hattiesburg ', 'Itta Bena ', 'Oxford ', 'Starkville '], 'Missouri': ['Bolivar ', 'Cape Girardeau ', 'Columbia ', 'Fayette ', 'Fulton ', 'Kirksville ', 'Maryville ', 'Rolla ', 'Warrensburg '], 'Montana': ['Bozeman ', 'Dillon ', 'Missoula '], 'Nebraska': ['Chadron ', 'Crete ', 'Kearney ', 'Lincoln ', 'Peru ', 'Seward ', 'Wayne '], 'Nevada': ['Las Vegas ', 'Reno '], 'New Hampshire': ['New London, New Hampshire ', 'Durham ', 'Hanover ', 'Henniker ', 'Keene ', 'Plymouth ', 'Rindge '], 'New Jersey': ['Ewing ', 'Jersey City ', 'Glassboro ', 'Hoboken ', 'Madison ', 'Newark ', 'New Brunswick ', 'Princeton ', 'Union ', 'West Long Branch '], 'New Mexico': ['Hobbs ', 'Las Cruces ', 'Las Vegas ', 'Portales ', 'Silver City '], 'New York': ['Alfred ', 'Albany ', 'Aurora ', 'Binghamton ', 'Brockport ', 'Buffalo ', 'Canton ', 'Clinton ', 'Cobleskill ', 'Delhi ', 'Fredonia ', 'Geneseo ', 'Geneva ', 'Hamilton ', 'Ithaca ', 'Morningside Heights, Manhattan ', 'New Paltz ', 'Oneonta ', 'Oswego ', 'Plattsburgh ', 'Potsdam ', 'Poughkeepsie ', 'Purchase ', 'Rochester ', 'Saratoga Springs ', 'Seneca Falls ', 'Stony Brook ', 'Syracuse ', 'Tivoli ', 'Troy ', 'West Point '], 'North Carolina': ['Banner Elk ', 'Boiling Springs ', 'Boone ', 'Buies Creek ', 'Chapel Hill ', 'Cullowhee ', 'Davidson ', 'Durham ', 'Elon ', 'Greensboro ', 'Greenville ', 'Hickory ', 'Mars Hill ', 'Mount Olive ', 'Pembroke ', 'Wilmington, North Carolina ', 'Wingate ', 'Winston-Salem '], 'North Dakota': ['Fargo ', 'Grand Forks '], 'Ohio': ['Ada ', 'Alliance ', 'Ashland ', 'Athens ', 'Berea ', 'Bluffton ', 'Bowling Green ', 'Cedarville ', 'Columbus ', 'Delaware ', 'Fairborn ', 'Findlay ', 'Gambier ', 'Granville ', 'Hiram ', 'Kent ', 'Nelsonville ', 'New Concord ', 'Oberlin ', 'Oxford ', 'Rio Grande ', 'Wilberforce '], 'Oklahoma': ['Ada ', 'Alva ', 'Durant ', 'Edmond ', 'Goodwell ', 'Langston ', 'Norman ', 'Stillwater ', 'Tahlequah ', 'Tulsa ', 'Weatherford '], 'Oregon': ['Ashland ', 'Corvallis ', 'Eugene ', 'Forest Grove ', 'Klamath Falls ', 'La Grande ', 'Marylhurst ', 'McMinnville ', 'Monmouth ', 'Newberg '], 'Pennsylvania': ['Altoona ', 'Annville ', 'Bethlehem ', 'Bloomsburg ', 'Bradford ', 'California ', 'Carlisle ', 'Cecil B. Moore, Philadelphia, also known as \"Templetown\" ', 'Clarion ', 'Collegeville ', 'Cresson ', 'East Stroudsburg ', 'Edinboro ', 'Erie ', 'Gettysburg ', 'Greensburg ', 'Grove City ', 'Huntingdon ', 'Indiana ', 'Johnstown ', 'Kutztown ', 'Lancaster ', 'Lewisburg ', 'Lock Haven ', 'Loretto ', 'Mansfield ', 'Meadville ', 'Mont Alto ', 'Millersville ', 'New Wilmington ', 'North East ', 'University City, Philadelphia ', 'Oakland, Pittsburgh ', 'Reading ', 'Selinsgrove ', 'Shippensburg ', 'Slippery Rock ', 'State College ', 'Villanova ', 'Waynesburg ', 'West Chester ', 'Wilkes-Barre ', 'Williamsport '], 'Rhode Island': ['Kingston ', 'Providence '], 'South Carolina': ['Central ', 'Charleston ', 'Clemson ', 'Clinton ', 'Columbia ', 'Due West ', 'Florence ', 'Greenwood ', 'Orangeburg ', 'Rock Hill ', 'Spartanburg '], 'South Dakota': ['Brookings ', 'Madison ', 'Spearfish ', 'Vermillion '], 'Tennessee': ['Chattanooga ', 'Collegedale ', 'Cookeville ', 'Harrogate ', 'Henderson ', 'Johnson City ', 'Knoxville ', 'Martin ', 'McKenzie ', 'Memphis ', 'Murfreesboro ', 'Nashville ', 'Sewanee '], 'Texas': ['Abilene ', 'Alpine ', 'Austin ', 'Beaumont ', 'Canyon ', 'College Station ', 'Commerce ', 'Dallas ', 'Denton ', 'Fort Worth ', 'Georgetown ', 'Huntsville ', 'Houston ', 'Keene ', 'Kingsville ', 'Lubbock ', 'Nacogdoches ', 'Plainview ', 'Prairie View ', 'San Marcos ', 'Stephenville ', 'Waco '], 'Utah': ['Cedar City ', 'Logan ', 'Provo ', 'Orem ', 'Salt Lake City ', 'Ephraim '], 'Vermont': ['Burlington ', 'Castleton ', 'Johnson ', 'Lyndonville ', 'Middlebury ', 'Northfield '], 'Virginia': ['Blacksburg ', 'Bridgewater ', 'Charlottesville ', 'Farmville ', 'Fredericksburg ', 'Harrisonburg ', 'Lexington ', 'Lynchburg ', 'Radford ', 'Williamsburg ', 'Wise ', 'Chesapeake '], 'Washington': ['Bellingham ', 'Cheney ', 'Ellensburg ', 'Pullman ', 'University District, Seattle '], 'West Virginia': ['Athens ', 'Buckhannon ', 'Fairmont ', 'Glenville ', 'Huntington ', 'Montgomery ', 'Morgantown ', 'Shepherdstown ', 'West Liberty '], 'Wisconsin': ['Appleton ', 'Eau Claire ', 'Green Bay ', 'La Crosse ', 'Madison ', 'Menomonie ', 'Milwaukee ', 'Oshkosh ', 'Platteville ', 'River Falls ', 'Stevens Point ', 'Waukesha ', 'Whitewater '], 'Wyoming': ['Laramie ']}\n"
          ],
          "name": "stdout"
        }
      ]
    },
    {
      "cell_type": "markdown",
      "metadata": {
        "id": "Sv2E80NnuELH",
        "colab_type": "text"
      },
      "source": [
        "To count number of college towns in each state"
      ]
    },
    {
      "cell_type": "code",
      "metadata": {
        "id": "VrHkEuRdt8V2",
        "colab_type": "code",
        "colab": {
          "base_uri": "https://localhost:8080/",
          "height": 122
        },
        "outputId": "2363fc6f-c1eb-446b-f8ac-99bd4b5276fa"
      },
      "source": [
        "print(state_row)"
      ],
      "execution_count": 11,
      "outputs": [
        {
          "output_type": "stream",
          "text": [
            "Int64Index([  0,   9,  11,  15,  24,  50,  60,  68,  71,  84, 101, 103, 107,\n",
            "            118, 132, 146, 153, 165, 174, 184, 195, 215, 236, 251, 257, 267,\n",
            "            271, 279, 282, 290, 301, 307, 339, 358, 361, 384, 396, 407, 451,\n",
            "            454, 466, 471, 485, 508, 515, 522, 535, 541, 551, 565],\n",
            "           dtype='int64')\n"
          ],
          "name": "stdout"
        }
      ]
    },
    {
      "cell_type": "code",
      "metadata": {
        "id": "xA0yzIJGuIGq",
        "colab_type": "code",
        "colab": {}
      },
      "source": [
        "num_of_town = {}\n",
        "for i in range(49):\n",
        "  num_of_town[state_name[i]] = state_row[i+1]-state_row[i]-1\n",
        "  \n",
        "num_of_town_df = pd.DataFrame(num_of_town, index = [0])"
      ],
      "execution_count": 0,
      "outputs": []
    },
    {
      "cell_type": "code",
      "metadata": {
        "id": "qcJEzMDjuc44",
        "colab_type": "code",
        "colab": {
          "base_uri": "https://localhost:8080/",
          "height": 85
        },
        "outputId": "b352e036-f8b0-4a1b-8672-ce8569e4f032"
      },
      "source": [
        "print(num_of_town_df)"
      ],
      "execution_count": 13,
      "outputs": [
        {
          "output_type": "stream",
          "text": [
            "   Alabama  Alaska  Arizona  ...  Washington  West Virginia  Wisconsin\n",
            "0        8       1        3  ...           5              9         13\n",
            "\n",
            "[1 rows x 49 columns]\n"
          ],
          "name": "stdout"
        }
      ]
    },
    {
      "cell_type": "code",
      "metadata": {
        "id": "LcsDvbtIufKh",
        "colab_type": "code",
        "colab": {
          "base_uri": "https://localhost:8080/",
          "height": 867
        },
        "outputId": "ae72f365-fe99-4d82-82ef-30cf8c821312"
      },
      "source": [
        "num_of_town_df = num_of_town_df.transpose()\n",
        "print(num_of_town_df)"
      ],
      "execution_count": 14,
      "outputs": [
        {
          "output_type": "stream",
          "text": [
            "                 0\n",
            "Alabama          8\n",
            "Alaska           1\n",
            "Arizona          3\n",
            "Arkansas         8\n",
            "California      25\n",
            "Colorado         9\n",
            "Connecticut      7\n",
            "Delaware         2\n",
            "Florida         12\n",
            "Georgia         16\n",
            "Hawaii           1\n",
            "Idaho            3\n",
            "Illinois        10\n",
            "Indiana         13\n",
            "Iowa            13\n",
            "Kansas           6\n",
            "Kentucky        11\n",
            "Louisiana        8\n",
            "Maine            9\n",
            "Maryland        10\n",
            "Massachusetts   19\n",
            "Michigan        20\n",
            "Minnesota       14\n",
            "Mississippi      5\n",
            "Missouri         9\n",
            "Montana          3\n",
            "Nebraska         7\n",
            "Nevada           2\n",
            "New Hampshire    7\n",
            "New Jersey      10\n",
            "New Mexico       5\n",
            "New York        31\n",
            "North Carolina  18\n",
            "North Dakota     2\n",
            "Ohio            22\n",
            "Oklahoma        11\n",
            "Oregon          10\n",
            "Pennsylvania    43\n",
            "Rhode Island     2\n",
            "South Carolina  11\n",
            "South Dakota     4\n",
            "Tennessee       13\n",
            "Texas           22\n",
            "Utah             6\n",
            "Vermont          6\n",
            "Virginia        12\n",
            "Washington       5\n",
            "West Virginia    9\n",
            "Wisconsin       13\n"
          ],
          "name": "stdout"
        }
      ]
    },
    {
      "cell_type": "code",
      "metadata": {
        "id": "no3zhoEhvSMl",
        "colab_type": "code",
        "colab": {
          "base_uri": "https://localhost:8080/",
          "height": 867
        },
        "outputId": "cf643471-39d1-4ce8-a4d7-509ab411800e"
      },
      "source": [
        "num_of_town_df.columns = ['num']\n",
        "print(num_of_town_df)"
      ],
      "execution_count": 27,
      "outputs": [
        {
          "output_type": "stream",
          "text": [
            "                num\n",
            "Alabama           8\n",
            "Alaska            1\n",
            "Arizona           3\n",
            "Arkansas          8\n",
            "California       25\n",
            "Colorado          9\n",
            "Connecticut       7\n",
            "Delaware          2\n",
            "Florida          12\n",
            "Georgia          16\n",
            "Hawaii            1\n",
            "Idaho             3\n",
            "Illinois         10\n",
            "Indiana          13\n",
            "Iowa             13\n",
            "Kansas            6\n",
            "Kentucky         11\n",
            "Louisiana         8\n",
            "Maine             9\n",
            "Maryland         10\n",
            "Massachusetts    19\n",
            "Michigan         20\n",
            "Minnesota        14\n",
            "Mississippi       5\n",
            "Missouri          9\n",
            "Montana           3\n",
            "Nebraska          7\n",
            "Nevada            2\n",
            "New Hampshire     7\n",
            "New Jersey       10\n",
            "New Mexico        5\n",
            "New York         31\n",
            "North Carolina   18\n",
            "North Dakota      2\n",
            "Ohio             22\n",
            "Oklahoma         11\n",
            "Oregon           10\n",
            "Pennsylvania     43\n",
            "Rhode Island      2\n",
            "South Carolina   11\n",
            "South Dakota      4\n",
            "Tennessee        13\n",
            "Texas            22\n",
            "Utah              6\n",
            "Vermont           6\n",
            "Virginia         12\n",
            "Washington        5\n",
            "West Virginia     9\n",
            "Wisconsin        13\n"
          ],
          "name": "stdout"
        }
      ]
    },
    {
      "cell_type": "code",
      "metadata": {
        "id": "uPiiWCbRvqr_",
        "colab_type": "code",
        "colab": {
          "base_uri": "https://localhost:8080/",
          "height": 429
        },
        "outputId": "ddee6d76-96a4-48eb-dafd-a5e89b3c2983"
      },
      "source": [
        "import matplotlib.pyplot as plt\n",
        "plt.figure(figsize=(30,5))\n",
        "plot = sns.barplot(num_of_town_df.index,num_of_town_df.num)\n",
        "plot.set_xticklabels(plot.get_xticklabels(),rotation = 90)\n",
        "plt.ylabel('number of town')"
      ],
      "execution_count": 28,
      "outputs": [
        {
          "output_type": "execute_result",
          "data": {
            "text/plain": [
              "Text(0, 0.5, 'number of town')"
            ]
          },
          "metadata": {
            "tags": []
          },
          "execution_count": 28
        },
        {
          "output_type": "display_data",
          "data": {
            "image/png": "[encoded data removed]",
            "text/plain": [
              "<Figure size 2160x360 with 1 Axes>"
            ]
          },
          "metadata": {
            "tags": []
          }
        }
      ]
    },
    {
      "cell_type": "code",
      "metadata": {
        "id": "Sdqd3ssGv73O",
        "colab_type": "code",
        "colab": {
          "base_uri": "https://localhost:8080/",
          "height": 34
        },
        "outputId": "c7502559-e89c-4df4-fe82-ac7504c53ff8"
      },
      "source": [
        "print(f'The total number of college towns: {num_of_town_df.sum()}')"
      ],
      "execution_count": 32,
      "outputs": [
        {
          "output_type": "stream",
          "text": [
            "The total number of college towns: 516\n"
          ],
          "name": "stdout"
        }
      ]
    },
    {
      "cell_type": "code",
      "metadata": {
        "id": "7BWKbGeeJjZr",
        "colab_type": "code",
        "colab": {
          "base_uri": "https://localhost:8080/",
          "height": 54
        },
        "outputId": "291e8985-9b70-4df9-bc01-f7209b671f56"
      },
      "source": [
        "print('The college towns in Alabama:',state_city_dict['Alabama'])"
      ],
      "execution_count": 36,
      "outputs": [
        {
          "output_type": "stream",
          "text": [
            "The college towns in Alabama: ['Auburn ', 'Florence ', 'Jacksonville ', 'Livingston ', 'Montevallo ', 'Troy ', 'Tuscaloosa ', 'Tuskegee ']\n"
          ],
          "name": "stdout"
        }
      ]
    },
    {
      "cell_type": "markdown",
      "metadata": {
        "id": "dvuXBtn7KmMp",
        "colab_type": "text"
      },
      "source": [
        "The state with highest number of college towns"
      ]
    },
    {
      "cell_type": "code",
      "metadata": {
        "id": "rU18451RKT7E",
        "colab_type": "code",
        "colab": {
          "base_uri": "https://localhost:8080/",
          "height": 80
        },
        "outputId": "6d32a688-eceb-4451-af60-ca5a08ad40d4"
      },
      "source": [
        "num_of_town_df.loc[num_of_town_df.idxmax()]"
      ],
      "execution_count": 38,
      "outputs": [
        {
          "output_type": "execute_result",
          "data": {
            "text/html": [
              "<div>\n",
              "<style scoped>\n",
              "    .dataframe tbody tr th:only-of-type {\n",
              "        vertical-align: middle;\n",
              "    }\n",
              "\n",
              "    .dataframe tbody tr th {\n",
              "        vertical-align: top;\n",
              "    }\n",
              "\n",
              "    .dataframe thead th {\n",
              "        text-align: right;\n",
              "    }\n",
              "</style>\n",
              "<table border=\"1\" class=\"dataframe\">\n",
              "  <thead>\n",
              "    <tr style=\"text-align: right;\">\n",
              "      <th></th>\n",
              "      <th>num</th>\n",
              "    </tr>\n",
              "  </thead>\n",
              "  <tbody>\n",
              "    <tr>\n",
              "      <th>Pennsylvania</th>\n",
              "      <td>43</td>\n",
              "    </tr>\n",
              "  </tbody>\n",
              "</table>\n",
              "</div>"
            ],
            "text/plain": [
              "              num\n",
              "Pennsylvania   43"
            ]
          },
          "metadata": {
            "tags": []
          },
          "execution_count": 38
        }
      ]
    },
    {
      "cell_type": "markdown",
      "metadata": {
        "id": "EqM4oOUyLfEF",
        "colab_type": "text"
      },
      "source": [
        "Find what state a college town belongs to, use a for loop below."
      ]
    },
    {
      "cell_type": "code",
      "metadata": {
        "id": "jeIyIUekKuEw",
        "colab_type": "code",
        "colab": {
          "base_uri": "https://localhost:8080/",
          "height": 51
        },
        "outputId": "16982d72-b43b-40b2-fe3c-b6bfc2aab0fe"
      },
      "source": [
        "for key in state_city_dict:\n",
        "  if 'Florence' in ','.join(state_city_dict[key]):\n",
        "    print(key)"
      ],
      "execution_count": 44,
      "outputs": [
        {
          "output_type": "stream",
          "text": [
            "Alabama\n",
            "South Carolina\n"
          ],
          "name": "stdout"
        }
      ]
    }
  ]
}