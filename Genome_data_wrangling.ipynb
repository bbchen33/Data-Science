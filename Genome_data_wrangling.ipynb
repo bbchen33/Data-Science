{
  "nbformat": 4,
  "nbformat_minor": 0,
  "metadata": {
    "colab": {
      "name": "Untitled0.ipynb",
      "provenance": [],
      "include_colab_link": true
    },
    "kernelspec": {
      "name": "python3",
      "display_name": "Python 3"
    },
    "accelerator": "GPU"
  },
  "cells": [
    {
      "cell_type": "markdown",
      "metadata": {
        "id": "view-in-github",
        "colab_type": "text"
      },
      "source": [
        "<a href=\"https://colab.research.google.com/github/bbchen33/Data-Science/blob/master/Genome_data_wrangling.ipynb\" target=\"_parent\"><img src=\"https://colab.research.google.com/assets/colab-badge.svg\" alt=\"Open In Colab\"/></a>"
      ]
    },
    {
      "cell_type": "markdown",
      "metadata": {
        "id": "0lgRBcH-3KLn",
        "colab_type": "text"
      },
      "source": [
        "Data wrangling for genome and genes from an unfavored organism - *Clostridium thermocellum*\n",
        "First, the annotated genome is downloaded from NCBI."
      ]
    },
    {
      "cell_type": "code",
      "metadata": {
        "id": "neQRtvDf37YN",
        "colab_type": "code",
        "outputId": "fd32be63-387e-45ad-d9af-de3e11263016",
        "colab": {
          "base_uri": "https://localhost:8080/",
          "height": 292
        }
      },
      "source": [
        "!wget ftp://ftp.ncbi.nlm.nih.gov/genomes/all/GCF/000/184/925/GCF_000184925.1_ASM18492v1/GCF_000184925.1_ASM18492v1_genomic.gbff.gz"
      ],
      "execution_count": 2,
      "outputs": [
        {
          "output_type": "stream",
          "text": [
            "--2019-10-19 21:45:59--  ftp://ftp.ncbi.nlm.nih.gov/genomes/all/GCF/000/184/925/GCF_000184925.1_ASM18492v1/GCF_000184925.1_ASM18492v1_genomic.gbff.gz\n",
            "           => ‘GCF_000184925.1_ASM18492v1_genomic.gbff.gz’\n",
            "Resolving ftp.ncbi.nlm.nih.gov (ftp.ncbi.nlm.nih.gov)... 130.14.250.11, 2607:f220:41e:250::13\n",
            "Connecting to ftp.ncbi.nlm.nih.gov (ftp.ncbi.nlm.nih.gov)|130.14.250.11|:21... connected.\n",
            "Logging in as anonymous ... Logged in!\n",
            "==> SYST ... done.    ==> PWD ... done.\n",
            "==> TYPE I ... done.  ==> CWD (1) /genomes/all/GCF/000/184/925/GCF_000184925.1_ASM18492v1 ... done.\n",
            "==> SIZE GCF_000184925.1_ASM18492v1_genomic.gbff.gz ... 2437250\n",
            "==> PASV ... done.    ==> RETR GCF_000184925.1_ASM18492v1_genomic.gbff.gz ... done.\n",
            "Length: 2437250 (2.3M) (unauthoritative)\n",
            "\n",
            "GCF_000184925.1_ASM 100%[===================>]   2.32M  12.7MB/s    in 0.2s    \n",
            "\n",
            "2019-10-19 21:46:00 (12.7 MB/s) - ‘GCF_000184925.1_ASM18492v1_genomic.gbff.gz’ saved [2437250]\n",
            "\n"
          ],
          "name": "stdout"
        }
      ]
    },
    {
      "cell_type": "code",
      "metadata": {
        "id": "NafoeRKr6WXD",
        "colab_type": "code",
        "outputId": "f9ab27b8-3e49-404a-addc-9332f4994e3f",
        "colab": {
          "base_uri": "https://localhost:8080/",
          "height": 34
        }
      },
      "source": [
        "!ls"
      ],
      "execution_count": 3,
      "outputs": [
        {
          "output_type": "stream",
          "text": [
            "GCF_000184925.1_ASM18492v1_genomic.gbff.gz  sample_data\n"
          ],
          "name": "stdout"
        }
      ]
    },
    {
      "cell_type": "code",
      "metadata": {
        "id": "9U6CoLRo6ZnD",
        "colab_type": "code",
        "colab": {}
      },
      "source": [
        "!gunzip GCF_000184925.1_ASM18492v1_genomic.gbff.gz"
      ],
      "execution_count": 0,
      "outputs": []
    },
    {
      "cell_type": "code",
      "metadata": {
        "id": "etL5wI1e6bYL",
        "colab_type": "code",
        "outputId": "49833a5d-2155-496f-fbcd-f05878793459",
        "colab": {
          "base_uri": "https://localhost:8080/",
          "height": 1000
        }
      },
      "source": [
        "!head -100 GCF_000184925.1_ASM18492v1_genomic.gbff"
      ],
      "execution_count": 5,
      "outputs": [
        {
          "output_type": "stream",
          "text": [
            "LOCUS       NC_017304            3561619 bp    DNA     circular CON 03-SEP-2017\n",
            "DEFINITION  Hungateiclostridium thermocellum DSM 1313, complete sequence.\n",
            "ACCESSION   NC_017304\n",
            "VERSION     NC_017304.1\n",
            "DBLINK      BioProject: PRJNA224116\n",
            "            BioSample: SAMN00713572\n",
            "            Assembly: GCF_000184925.1\n",
            "KEYWORDS    GSC:MIGS:2.1; RefSeq.\n",
            "SOURCE      Hungateiclostridium thermocellum DSM 1313\n",
            "  ORGANISM  Hungateiclostridium thermocellum DSM 1313\n",
            "            Bacteria; Firmicutes; Clostridia; Clostridiales;\n",
            "            Hungateiclostridiaceae; Hungateiclostridium.\n",
            "REFERENCE   1  (bases 1 to 3561619)\n",
            "  AUTHORS   Feinberg,L., Foden,J., Barrett,T., Davenport,K.W., Bruce,D.,\n",
            "            Detter,C., Tapia,R., Han,C., Lapidus,A., Lucas,S., Cheng,J.F.,\n",
            "            Pitluck,S., Woyke,T., Ivanova,N., Mikhailova,N., Land,M.,\n",
            "            Hauser,L., Argyros,D.A., Goodwin,L., Hogsett,D. and Caiazza,N.\n",
            "  TITLE     Complete genome sequence of the cellulolytic thermophile\n",
            "            Clostridium thermocellum DSM1313\n",
            "  JOURNAL   J. Bacteriol. 193 (11), 2906-2907 (2011)\n",
            "   PUBMED   21460082\n",
            "REFERENCE   2  (bases 1 to 3561619)\n",
            "  AUTHORS   Lucas,S., Copeland,A., Lapidus,A., Cheng,J.-F., Goodwin,L.,\n",
            "            Pitluck,S., Davenport,K., Detter,J.C., Han,C., Tapia,R., Land,M.,\n",
            "            Hauser,L., Kyrpides,N., Ivanova,N., Mikhailova,N., Hogsett,D.,\n",
            "            Foden,J., Feinberg,L. and Woyke,T.\n",
            "  CONSRTM   US DOE Joint Genome Institute\n",
            "  TITLE     Complete sequence of Clostridium thermocellum DSM 1313\n",
            "  JOURNAL   Unpublished\n",
            "REFERENCE   3  (bases 1 to 3561619)\n",
            "  AUTHORS   Lucas,S., Copeland,A., Lapidus,A., Cheng,J.-F., Goodwin,L.,\n",
            "            Pitluck,S., Davenport,K., Detter,J.C., Han,C., Tapia,R., Land,M.,\n",
            "            Hauser,L., Kyrpides,N., Ivanova,N., Mikhailova,N., Hogsett,D.,\n",
            "            Foden,J., Feinberg,L. and Woyke,T.\n",
            "  CONSRTM   US DOE Joint Genome Institute\n",
            "  TITLE     Direct Submission\n",
            "  JOURNAL   Submitted (22-DEC-2010) US DOE Joint Genome Institute, 2800\n",
            "            Mitchell Drive B310, Walnut Creek, CA 94598-1698, USA\n",
            "COMMENT     REFSEQ INFORMATION: The reference sequence was derived from\n",
            "            CP002416.\n",
            "            URL -- http://www.jgi.doe.gov\n",
            "            JGI Project ID: 4087133\n",
            "            Source DNA available from Lawrence Feinberg (lfeinberg@mascoma.com)\n",
            "            Organism available from DSMZ: DSM 1313\n",
            "            Contacts: Lawrence Feinberg (lfeinberg@mascoma.com)\n",
            "                      Tanja Woyke (microbe@cuba.jgi-psf.org)\n",
            "            Annotation done by JGI-ORNL and JGI-PGF\n",
            "            Finishing done by JGI-LANL\n",
            "            The JGI and collaborators endorse the principles for the\n",
            "            distribution and use of large scale sequencing data adopted by the\n",
            "            larger genome sequencing community and urge users of this data to\n",
            "            follow them. it is our intention to publish the work of this\n",
            "            project in a timely fashion and we welcome collaborative\n",
            "            interaction on the project and analysis.\n",
            "            (http://www.genome.gov/page.cfm?pageID=10506376).\n",
            "            Annotation was added by the NCBI Prokaryotic Genome Annotation\n",
            "            Pipeline (released 2013). Information about the Pipeline can be\n",
            "            found here: https://www.ncbi.nlm.nih.gov/genome/annotation_prok/\n",
            "            \n",
            "            ##MIGS-Data-START##\n",
            "            investigation_type  :: bacteria_archaea\n",
            "            project_name        :: Clostridium thermocellum LQ8, DSM 1313\n",
            "            collection_date     :: Missing\n",
            "            lat_lon             :: Missing\n",
            "            depth               :: Missing\n",
            "            alt_elev            :: Missing\n",
            "            country             :: Missing\n",
            "            environment         :: Missing\n",
            "            num_replicons       :: 1\n",
            "            ref_biomaterial     :: LMG 6656, DSM 1313\n",
            "            biotic_relationship :: Free living\n",
            "            trophic_level       :: Chemoorganotroph\n",
            "            rel_to_oxygen       :: Anaerobe\n",
            "            isol_growth_condt   :: Missing\n",
            "            sequencing_meth     :: WGS\n",
            "            assembly            :: Newbler v. 2.3 (pre-release)\n",
            "            finishing_strategy  :: Finished\n",
            "            GOLD Stamp ID       :: Gi05562\n",
            "            Type Strain         :: No\n",
            "            Isolation Comments  :: isolated by Viljoen et al 1926\n",
            "            Cell Shape          :: Rod-shaped\n",
            "            Motility            :: Motile\n",
            "            Sporulation         :: Sporulating\n",
            "            Temperature Range   :: Thermophile\n",
            "            Temperature Optimum :: 60C\n",
            "            Gram Staining       :: Gram+\n",
            "            Diseases            :: None\n",
            "            ##MIGS-Data-END##\n",
            "            \n",
            "            ##Genome-Assembly-Data-START##\n",
            "            Finishing Goal           :: Finished\n",
            "            Current Finishing Status :: Finished\n",
            "            Assembly Method          :: Newbler v. 2.3\n",
            "            Genome Coverage          :: 30x\n",
            "            Sequencing Technology    :: 454, Sanger\n",
            "            ##Genome-Assembly-Data-END##\n",
            "            \n",
            "            ##Genome-Annotation-Data-START##\n",
            "            Annotation Provider               :: NCBI\n",
            "            Annotation Date                   :: 09/03/2017 09:53:46\n"
          ],
          "name": "stdout"
        }
      ]
    },
    {
      "cell_type": "code",
      "metadata": {
        "id": "Q-fNyMqR7YtB",
        "colab_type": "code",
        "outputId": "94c8ee33-c899-4be5-d640-b38bbe84530d",
        "colab": {
          "base_uri": "https://localhost:8080/",
          "height": 71
        }
      },
      "source": [
        "import pandas as pd\n",
        "table = pd.read_table('GCF_000184925.1_ASM18492v1_genomic.gbff', header = None)"
      ],
      "execution_count": 6,
      "outputs": [
        {
          "output_type": "stream",
          "text": [
            "/usr/local/lib/python3.6/dist-packages/ipykernel_launcher.py:2: FutureWarning: read_table is deprecated, use read_csv instead, passing sep='\\t'.\n",
            "  \n"
          ],
          "name": "stderr"
        }
      ]
    },
    {
      "cell_type": "code",
      "metadata": {
        "id": "lCCt0ja37ewE",
        "colab_type": "code",
        "outputId": "365707c3-3484-450d-e924-f1354e1e0f50",
        "colab": {
          "base_uri": "https://localhost:8080/",
          "height": 204
        }
      },
      "source": [
        "table.head()"
      ],
      "execution_count": 7,
      "outputs": [
        {
          "output_type": "execute_result",
          "data": {
            "text/html": [
              "<div>\n",
              "<style scoped>\n",
              "    .dataframe tbody tr th:only-of-type {\n",
              "        vertical-align: middle;\n",
              "    }\n",
              "\n",
              "    .dataframe tbody tr th {\n",
              "        vertical-align: top;\n",
              "    }\n",
              "\n",
              "    .dataframe thead th {\n",
              "        text-align: right;\n",
              "    }\n",
              "</style>\n",
              "<table border=\"1\" class=\"dataframe\">\n",
              "  <thead>\n",
              "    <tr style=\"text-align: right;\">\n",
              "      <th></th>\n",
              "      <th>0</th>\n",
              "    </tr>\n",
              "  </thead>\n",
              "  <tbody>\n",
              "    <tr>\n",
              "      <th>0</th>\n",
              "      <td>LOCUS       NC_017304            3561619 bp   ...</td>\n",
              "    </tr>\n",
              "    <tr>\n",
              "      <th>1</th>\n",
              "      <td>DEFINITION  Hungateiclostridium thermocellum D...</td>\n",
              "    </tr>\n",
              "    <tr>\n",
              "      <th>2</th>\n",
              "      <td>ACCESSION   NC_017304</td>\n",
              "    </tr>\n",
              "    <tr>\n",
              "      <th>3</th>\n",
              "      <td>VERSION     NC_017304.1</td>\n",
              "    </tr>\n",
              "    <tr>\n",
              "      <th>4</th>\n",
              "      <td>DBLINK      BioProject: PRJNA224116</td>\n",
              "    </tr>\n",
              "  </tbody>\n",
              "</table>\n",
              "</div>"
            ],
            "text/plain": [
              "                                                   0\n",
              "0  LOCUS       NC_017304            3561619 bp   ...\n",
              "1  DEFINITION  Hungateiclostridium thermocellum D...\n",
              "2                              ACCESSION   NC_017304\n",
              "3                            VERSION     NC_017304.1\n",
              "4                DBLINK      BioProject: PRJNA224116"
            ]
          },
          "metadata": {
            "tags": []
          },
          "execution_count": 7
        }
      ]
    },
    {
      "cell_type": "code",
      "metadata": {
        "id": "NIzQeVtE8B4X",
        "colab_type": "code",
        "outputId": "2495161a-3c9d-4761-a445-672167ba99c5",
        "colab": {
          "base_uri": "https://localhost:8080/",
          "height": 34
        }
      },
      "source": [
        "table[table[0].str.contains('Annotation Date')].index"
      ],
      "execution_count": 8,
      "outputs": [
        {
          "output_type": "execute_result",
          "data": {
            "text/plain": [
              "Int64Index([96], dtype='int64')"
            ]
          },
          "metadata": {
            "tags": []
          },
          "execution_count": 8
        }
      ]
    },
    {
      "cell_type": "code",
      "metadata": {
        "id": "O_LXv3sL8B3J",
        "colab_type": "code",
        "outputId": "352e768c-fc27-4476-b739-94585fe8f02d",
        "colab": {
          "base_uri": "https://localhost:8080/",
          "height": 1000
        }
      },
      "source": [
        "table.head(150)"
      ],
      "execution_count": 9,
      "outputs": [
        {
          "output_type": "execute_result",
          "data": {
            "text/html": [
              "<div>\n",
              "<style scoped>\n",
              "    .dataframe tbody tr th:only-of-type {\n",
              "        vertical-align: middle;\n",
              "    }\n",
              "\n",
              "    .dataframe tbody tr th {\n",
              "        vertical-align: top;\n",
              "    }\n",
              "\n",
              "    .dataframe thead th {\n",
              "        text-align: right;\n",
              "    }\n",
              "</style>\n",
              "<table border=\"1\" class=\"dataframe\">\n",
              "  <thead>\n",
              "    <tr style=\"text-align: right;\">\n",
              "      <th></th>\n",
              "      <th>0</th>\n",
              "    </tr>\n",
              "  </thead>\n",
              "  <tbody>\n",
              "    <tr>\n",
              "      <th>0</th>\n",
              "      <td>LOCUS       NC_017304            3561619 bp   ...</td>\n",
              "    </tr>\n",
              "    <tr>\n",
              "      <th>1</th>\n",
              "      <td>DEFINITION  Hungateiclostridium thermocellum D...</td>\n",
              "    </tr>\n",
              "    <tr>\n",
              "      <th>2</th>\n",
              "      <td>ACCESSION   NC_017304</td>\n",
              "    </tr>\n",
              "    <tr>\n",
              "      <th>3</th>\n",
              "      <td>VERSION     NC_017304.1</td>\n",
              "    </tr>\n",
              "    <tr>\n",
              "      <th>4</th>\n",
              "      <td>DBLINK      BioProject: PRJNA224116</td>\n",
              "    </tr>\n",
              "    <tr>\n",
              "      <th>5</th>\n",
              "      <td>BioSample: SAMN00713572</td>\n",
              "    </tr>\n",
              "    <tr>\n",
              "      <th>6</th>\n",
              "      <td>Assembly: GCF_000184925.1</td>\n",
              "    </tr>\n",
              "    <tr>\n",
              "      <th>7</th>\n",
              "      <td>KEYWORDS    GSC:MIGS:2.1; RefSeq.</td>\n",
              "    </tr>\n",
              "    <tr>\n",
              "      <th>8</th>\n",
              "      <td>SOURCE      Hungateiclostridium thermocellum D...</td>\n",
              "    </tr>\n",
              "    <tr>\n",
              "      <th>9</th>\n",
              "      <td>ORGANISM  Hungateiclostridium thermocellum D...</td>\n",
              "    </tr>\n",
              "    <tr>\n",
              "      <th>10</th>\n",
              "      <td>Bacteria; Firmicutes; Clostridia; ...</td>\n",
              "    </tr>\n",
              "    <tr>\n",
              "      <th>11</th>\n",
              "      <td>Hungateiclostridiaceae; Hungateicl...</td>\n",
              "    </tr>\n",
              "    <tr>\n",
              "      <th>12</th>\n",
              "      <td>REFERENCE   1  (bases 1 to 3561619)</td>\n",
              "    </tr>\n",
              "    <tr>\n",
              "      <th>13</th>\n",
              "      <td>AUTHORS   Feinberg,L., Foden,J., Barrett,T.,...</td>\n",
              "    </tr>\n",
              "    <tr>\n",
              "      <th>14</th>\n",
              "      <td>Detter,C., Tapia,R., Han,C., Lapid...</td>\n",
              "    </tr>\n",
              "    <tr>\n",
              "      <th>15</th>\n",
              "      <td>Pitluck,S., Woyke,T., Ivanova,N., ...</td>\n",
              "    </tr>\n",
              "    <tr>\n",
              "      <th>16</th>\n",
              "      <td>Hauser,L., Argyros,D.A., Goodwin,L...</td>\n",
              "    </tr>\n",
              "    <tr>\n",
              "      <th>17</th>\n",
              "      <td>TITLE     Complete genome sequence of the ce...</td>\n",
              "    </tr>\n",
              "    <tr>\n",
              "      <th>18</th>\n",
              "      <td>Clostridium thermocellum DSM1313</td>\n",
              "    </tr>\n",
              "    <tr>\n",
              "      <th>19</th>\n",
              "      <td>JOURNAL   J. Bacteriol. 193 (11), 2906-2907 ...</td>\n",
              "    </tr>\n",
              "    <tr>\n",
              "      <th>20</th>\n",
              "      <td>PUBMED   21460082</td>\n",
              "    </tr>\n",
              "    <tr>\n",
              "      <th>21</th>\n",
              "      <td>REFERENCE   2  (bases 1 to 3561619)</td>\n",
              "    </tr>\n",
              "    <tr>\n",
              "      <th>22</th>\n",
              "      <td>AUTHORS   Lucas,S., Copeland,A., Lapidus,A.,...</td>\n",
              "    </tr>\n",
              "    <tr>\n",
              "      <th>23</th>\n",
              "      <td>Pitluck,S., Davenport,K., Detter,J...</td>\n",
              "    </tr>\n",
              "    <tr>\n",
              "      <th>24</th>\n",
              "      <td>Hauser,L., Kyrpides,N., Ivanova,N....</td>\n",
              "    </tr>\n",
              "    <tr>\n",
              "      <th>25</th>\n",
              "      <td>Foden,J., Feinberg,L. and Woyke,T.</td>\n",
              "    </tr>\n",
              "    <tr>\n",
              "      <th>26</th>\n",
              "      <td>CONSRTM   US DOE Joint Genome Institute</td>\n",
              "    </tr>\n",
              "    <tr>\n",
              "      <th>27</th>\n",
              "      <td>TITLE     Complete sequence of Clostridium t...</td>\n",
              "    </tr>\n",
              "    <tr>\n",
              "      <th>28</th>\n",
              "      <td>JOURNAL   Unpublished</td>\n",
              "    </tr>\n",
              "    <tr>\n",
              "      <th>29</th>\n",
              "      <td>REFERENCE   3  (bases 1 to 3561619)</td>\n",
              "    </tr>\n",
              "    <tr>\n",
              "      <th>...</th>\n",
              "      <td>...</td>\n",
              "    </tr>\n",
              "    <tr>\n",
              "      <th>120</th>\n",
              "      <td>##Genome-Annotation-Data-END##</td>\n",
              "    </tr>\n",
              "    <tr>\n",
              "      <th>121</th>\n",
              "      <td>COMPLETENESS: full length.</td>\n",
              "    </tr>\n",
              "    <tr>\n",
              "      <th>122</th>\n",
              "      <td>FEATURES             Location/Qualifiers</td>\n",
              "    </tr>\n",
              "    <tr>\n",
              "      <th>123</th>\n",
              "      <td>source          1..3561619</td>\n",
              "    </tr>\n",
              "    <tr>\n",
              "      <th>124</th>\n",
              "      <td>/organism=\"Hungateiclostr...</td>\n",
              "    </tr>\n",
              "    <tr>\n",
              "      <th>125</th>\n",
              "      <td>/mol_type=\"genomic DNA\"</td>\n",
              "    </tr>\n",
              "    <tr>\n",
              "      <th>126</th>\n",
              "      <td>/strain=\"DSM 1313\"</td>\n",
              "    </tr>\n",
              "    <tr>\n",
              "      <th>127</th>\n",
              "      <td>/culture_collection=\"DSM:...</td>\n",
              "    </tr>\n",
              "    <tr>\n",
              "      <th>128</th>\n",
              "      <td>/db_xref=\"taxon:637887\"</td>\n",
              "    </tr>\n",
              "    <tr>\n",
              "      <th>129</th>\n",
              "      <td>/collection_date=\"1926\"</td>\n",
              "    </tr>\n",
              "    <tr>\n",
              "      <th>130</th>\n",
              "      <td>/collected_by=\"Viljoen et...</td>\n",
              "    </tr>\n",
              "    <tr>\n",
              "      <th>131</th>\n",
              "      <td>gene            212..1543</td>\n",
              "    </tr>\n",
              "    <tr>\n",
              "      <th>132</th>\n",
              "      <td>/locus_tag=\"CLO1313_RS00010\"</td>\n",
              "    </tr>\n",
              "    <tr>\n",
              "      <th>133</th>\n",
              "      <td>/old_locus_tag=\"Clo1313_0...</td>\n",
              "    </tr>\n",
              "    <tr>\n",
              "      <th>134</th>\n",
              "      <td>CDS             212..1543</td>\n",
              "    </tr>\n",
              "    <tr>\n",
              "      <th>135</th>\n",
              "      <td>/locus_tag=\"CLO1313_RS00010\"</td>\n",
              "    </tr>\n",
              "    <tr>\n",
              "      <th>136</th>\n",
              "      <td>/old_locus_tag=\"Clo1313_0...</td>\n",
              "    </tr>\n",
              "    <tr>\n",
              "      <th>137</th>\n",
              "      <td>/inference=\"COORDINATES: ...</td>\n",
              "    </tr>\n",
              "    <tr>\n",
              "      <th>138</th>\n",
              "      <td>sequence:RefSeq:WP_020457...</td>\n",
              "    </tr>\n",
              "    <tr>\n",
              "      <th>139</th>\n",
              "      <td>/note=\"Derived by automat...</td>\n",
              "    </tr>\n",
              "    <tr>\n",
              "      <th>140</th>\n",
              "      <td>gene prediction method: P...</td>\n",
              "    </tr>\n",
              "    <tr>\n",
              "      <th>141</th>\n",
              "      <td>/codon_start=1</td>\n",
              "    </tr>\n",
              "    <tr>\n",
              "      <th>142</th>\n",
              "      <td>/transl_table=11</td>\n",
              "    </tr>\n",
              "    <tr>\n",
              "      <th>143</th>\n",
              "      <td>/product=\"chromosomal rep...</td>\n",
              "    </tr>\n",
              "    <tr>\n",
              "      <th>144</th>\n",
              "      <td>/protein_id=\"WP_003516465.1\"</td>\n",
              "    </tr>\n",
              "    <tr>\n",
              "      <th>145</th>\n",
              "      <td>/translation=\"MNTQLNEIWQK...</td>\n",
              "    </tr>\n",
              "    <tr>\n",
              "      <th>146</th>\n",
              "      <td>AVPAEFNKGILESRYQTLIKNAIKQ...</td>\n",
              "    </tr>\n",
              "    <tr>\n",
              "      <th>147</th>\n",
              "      <td>PLSVLNPKYTFDTFVIGNSNRFAHA...</td>\n",
              "    </tr>\n",
              "    <tr>\n",
              "      <th>148</th>\n",
              "      <td>GHYILEQNSSQRVLYVSSEKFTNEL...</td>\n",
              "    </tr>\n",
              "    <tr>\n",
              "      <th>149</th>\n",
              "      <td>ERTEEEFFHTFNALYEANKQIILSS...</td>\n",
              "    </tr>\n",
              "  </tbody>\n",
              "</table>\n",
              "<p>150 rows × 1 columns</p>\n",
              "</div>"
            ],
            "text/plain": [
              "                                                     0\n",
              "0    LOCUS       NC_017304            3561619 bp   ...\n",
              "1    DEFINITION  Hungateiclostridium thermocellum D...\n",
              "2                                ACCESSION   NC_017304\n",
              "3                              VERSION     NC_017304.1\n",
              "4                  DBLINK      BioProject: PRJNA224116\n",
              "5                              BioSample: SAMN00713572\n",
              "6                            Assembly: GCF_000184925.1\n",
              "7                    KEYWORDS    GSC:MIGS:2.1; RefSeq.\n",
              "8    SOURCE      Hungateiclostridium thermocellum D...\n",
              "9      ORGANISM  Hungateiclostridium thermocellum D...\n",
              "10               Bacteria; Firmicutes; Clostridia; ...\n",
              "11               Hungateiclostridiaceae; Hungateicl...\n",
              "12                 REFERENCE   1  (bases 1 to 3561619)\n",
              "13     AUTHORS   Feinberg,L., Foden,J., Barrett,T.,...\n",
              "14               Detter,C., Tapia,R., Han,C., Lapid...\n",
              "15               Pitluck,S., Woyke,T., Ivanova,N., ...\n",
              "16               Hauser,L., Argyros,D.A., Goodwin,L...\n",
              "17     TITLE     Complete genome sequence of the ce...\n",
              "18                    Clostridium thermocellum DSM1313\n",
              "19     JOURNAL   J. Bacteriol. 193 (11), 2906-2907 ...\n",
              "20                                   PUBMED   21460082\n",
              "21                 REFERENCE   2  (bases 1 to 3561619)\n",
              "22     AUTHORS   Lucas,S., Copeland,A., Lapidus,A.,...\n",
              "23               Pitluck,S., Davenport,K., Detter,J...\n",
              "24               Hauser,L., Kyrpides,N., Ivanova,N....\n",
              "25                  Foden,J., Feinberg,L. and Woyke,T.\n",
              "26             CONSRTM   US DOE Joint Genome Institute\n",
              "27     TITLE     Complete sequence of Clostridium t...\n",
              "28                               JOURNAL   Unpublished\n",
              "29                 REFERENCE   3  (bases 1 to 3561619)\n",
              "..                                                 ...\n",
              "120                     ##Genome-Annotation-Data-END##\n",
              "121                         COMPLETENESS: full length.\n",
              "122           FEATURES             Location/Qualifiers\n",
              "123                         source          1..3561619\n",
              "124                       /organism=\"Hungateiclostr...\n",
              "125                            /mol_type=\"genomic DNA\"\n",
              "126                                 /strain=\"DSM 1313\"\n",
              "127                       /culture_collection=\"DSM:...\n",
              "128                            /db_xref=\"taxon:637887\"\n",
              "129                            /collection_date=\"1926\"\n",
              "130                       /collected_by=\"Viljoen et...\n",
              "131                          gene            212..1543\n",
              "132                       /locus_tag=\"CLO1313_RS00010\"\n",
              "133                       /old_locus_tag=\"Clo1313_0...\n",
              "134                          CDS             212..1543\n",
              "135                       /locus_tag=\"CLO1313_RS00010\"\n",
              "136                       /old_locus_tag=\"Clo1313_0...\n",
              "137                       /inference=\"COORDINATES: ...\n",
              "138                       sequence:RefSeq:WP_020457...\n",
              "139                       /note=\"Derived by automat...\n",
              "140                       gene prediction method: P...\n",
              "141                                     /codon_start=1\n",
              "142                                   /transl_table=11\n",
              "143                       /product=\"chromosomal rep...\n",
              "144                       /protein_id=\"WP_003516465.1\"\n",
              "145                       /translation=\"MNTQLNEIWQK...\n",
              "146                       AVPAEFNKGILESRYQTLIKNAIKQ...\n",
              "147                       PLSVLNPKYTFDTFVIGNSNRFAHA...\n",
              "148                       GHYILEQNSSQRVLYVSSEKFTNEL...\n",
              "149                       ERTEEEFFHTFNALYEANKQIILSS...\n",
              "\n",
              "[150 rows x 1 columns]"
            ]
          },
          "metadata": {
            "tags": []
          },
          "execution_count": 9
        }
      ]
    },
    {
      "cell_type": "markdown",
      "metadata": {
        "id": "MpnGo4hO9Grq",
        "colab_type": "text"
      },
      "source": [
        "It looks like from row 0 down to row 130 is just the background information. Let's remove them."
      ]
    },
    {
      "cell_type": "code",
      "metadata": {
        "id": "tzwGx5CU9Mz9",
        "colab_type": "code",
        "colab": {}
      },
      "source": [
        "table = table.iloc[131:]"
      ],
      "execution_count": 0,
      "outputs": []
    },
    {
      "cell_type": "code",
      "metadata": {
        "id": "yYWCE6Du9VuQ",
        "colab_type": "code",
        "outputId": "960896b7-41cc-4551-cccf-66e3876cf602",
        "colab": {
          "base_uri": "https://localhost:8080/",
          "height": 979
        }
      },
      "source": [
        "table.head(30)"
      ],
      "execution_count": 11,
      "outputs": [
        {
          "output_type": "execute_result",
          "data": {
            "text/html": [
              "<div>\n",
              "<style scoped>\n",
              "    .dataframe tbody tr th:only-of-type {\n",
              "        vertical-align: middle;\n",
              "    }\n",
              "\n",
              "    .dataframe tbody tr th {\n",
              "        vertical-align: top;\n",
              "    }\n",
              "\n",
              "    .dataframe thead th {\n",
              "        text-align: right;\n",
              "    }\n",
              "</style>\n",
              "<table border=\"1\" class=\"dataframe\">\n",
              "  <thead>\n",
              "    <tr style=\"text-align: right;\">\n",
              "      <th></th>\n",
              "      <th>0</th>\n",
              "    </tr>\n",
              "  </thead>\n",
              "  <tbody>\n",
              "    <tr>\n",
              "      <th>131</th>\n",
              "      <td>gene            212..1543</td>\n",
              "    </tr>\n",
              "    <tr>\n",
              "      <th>132</th>\n",
              "      <td>/locus_tag=\"CLO1313_RS00010\"</td>\n",
              "    </tr>\n",
              "    <tr>\n",
              "      <th>133</th>\n",
              "      <td>/old_locus_tag=\"Clo1313_0...</td>\n",
              "    </tr>\n",
              "    <tr>\n",
              "      <th>134</th>\n",
              "      <td>CDS             212..1543</td>\n",
              "    </tr>\n",
              "    <tr>\n",
              "      <th>135</th>\n",
              "      <td>/locus_tag=\"CLO1313_RS00010\"</td>\n",
              "    </tr>\n",
              "    <tr>\n",
              "      <th>136</th>\n",
              "      <td>/old_locus_tag=\"Clo1313_0...</td>\n",
              "    </tr>\n",
              "    <tr>\n",
              "      <th>137</th>\n",
              "      <td>/inference=\"COORDINATES: ...</td>\n",
              "    </tr>\n",
              "    <tr>\n",
              "      <th>138</th>\n",
              "      <td>sequence:RefSeq:WP_020457...</td>\n",
              "    </tr>\n",
              "    <tr>\n",
              "      <th>139</th>\n",
              "      <td>/note=\"Derived by automat...</td>\n",
              "    </tr>\n",
              "    <tr>\n",
              "      <th>140</th>\n",
              "      <td>gene prediction method: P...</td>\n",
              "    </tr>\n",
              "    <tr>\n",
              "      <th>141</th>\n",
              "      <td>/codon_start=1</td>\n",
              "    </tr>\n",
              "    <tr>\n",
              "      <th>142</th>\n",
              "      <td>/transl_table=11</td>\n",
              "    </tr>\n",
              "    <tr>\n",
              "      <th>143</th>\n",
              "      <td>/product=\"chromosomal rep...</td>\n",
              "    </tr>\n",
              "    <tr>\n",
              "      <th>144</th>\n",
              "      <td>/protein_id=\"WP_003516465.1\"</td>\n",
              "    </tr>\n",
              "    <tr>\n",
              "      <th>145</th>\n",
              "      <td>/translation=\"MNTQLNEIWQK...</td>\n",
              "    </tr>\n",
              "    <tr>\n",
              "      <th>146</th>\n",
              "      <td>AVPAEFNKGILESRYQTLIKNAIKQ...</td>\n",
              "    </tr>\n",
              "    <tr>\n",
              "      <th>147</th>\n",
              "      <td>PLSVLNPKYTFDTFVIGNSNRFAHA...</td>\n",
              "    </tr>\n",
              "    <tr>\n",
              "      <th>148</th>\n",
              "      <td>GHYILEQNSSQRVLYVSSEKFTNEL...</td>\n",
              "    </tr>\n",
              "    <tr>\n",
              "      <th>149</th>\n",
              "      <td>ERTEEEFFHTFNALYEANKQIILSS...</td>\n",
              "    </tr>\n",
              "    <tr>\n",
              "      <th>150</th>\n",
              "      <td>IAILRKKAQLENLTVPNEVIVFIAD...</td>\n",
              "    </tr>\n",
              "    <tr>\n",
              "      <th>151</th>\n",
              "      <td>EALKDILSANKAKVLNCTTIQEAVA...</td>\n",
              "    </tr>\n",
              "    <tr>\n",
              "      <th>152</th>\n",
              "      <td>TEMSLPKIGEEFGGRDHTTVIHACE...</td>\n",
              "    </tr>\n",
              "    <tr>\n",
              "      <th>153</th>\n",
              "      <td>gene            1793..2893</td>\n",
              "    </tr>\n",
              "    <tr>\n",
              "      <th>154</th>\n",
              "      <td>/locus_tag=\"CLO1313_RS00015\"</td>\n",
              "    </tr>\n",
              "    <tr>\n",
              "      <th>155</th>\n",
              "      <td>/old_locus_tag=\"Clo1313_0...</td>\n",
              "    </tr>\n",
              "    <tr>\n",
              "      <th>156</th>\n",
              "      <td>CDS             1793..2893</td>\n",
              "    </tr>\n",
              "    <tr>\n",
              "      <th>157</th>\n",
              "      <td>/locus_tag=\"CLO1313_RS00015\"</td>\n",
              "    </tr>\n",
              "    <tr>\n",
              "      <th>158</th>\n",
              "      <td>/old_locus_tag=\"Clo1313_0...</td>\n",
              "    </tr>\n",
              "    <tr>\n",
              "      <th>159</th>\n",
              "      <td>/inference=\"COORDINATES: ...</td>\n",
              "    </tr>\n",
              "    <tr>\n",
              "      <th>160</th>\n",
              "      <td>sequence:RefSeq:WP_003513...</td>\n",
              "    </tr>\n",
              "  </tbody>\n",
              "</table>\n",
              "</div>"
            ],
            "text/plain": [
              "                                                     0\n",
              "131                          gene            212..1543\n",
              "132                       /locus_tag=\"CLO1313_RS00010\"\n",
              "133                       /old_locus_tag=\"Clo1313_0...\n",
              "134                          CDS             212..1543\n",
              "135                       /locus_tag=\"CLO1313_RS00010\"\n",
              "136                       /old_locus_tag=\"Clo1313_0...\n",
              "137                       /inference=\"COORDINATES: ...\n",
              "138                       sequence:RefSeq:WP_020457...\n",
              "139                       /note=\"Derived by automat...\n",
              "140                       gene prediction method: P...\n",
              "141                                     /codon_start=1\n",
              "142                                   /transl_table=11\n",
              "143                       /product=\"chromosomal rep...\n",
              "144                       /protein_id=\"WP_003516465.1\"\n",
              "145                       /translation=\"MNTQLNEIWQK...\n",
              "146                       AVPAEFNKGILESRYQTLIKNAIKQ...\n",
              "147                       PLSVLNPKYTFDTFVIGNSNRFAHA...\n",
              "148                       GHYILEQNSSQRVLYVSSEKFTNEL...\n",
              "149                       ERTEEEFFHTFNALYEANKQIILSS...\n",
              "150                       IAILRKKAQLENLTVPNEVIVFIAD...\n",
              "151                       EALKDILSANKAKVLNCTTIQEAVA...\n",
              "152                       TEMSLPKIGEEFGGRDHTTVIHACE...\n",
              "153                         gene            1793..2893\n",
              "154                       /locus_tag=\"CLO1313_RS00015\"\n",
              "155                       /old_locus_tag=\"Clo1313_0...\n",
              "156                         CDS             1793..2893\n",
              "157                       /locus_tag=\"CLO1313_RS00015\"\n",
              "158                       /old_locus_tag=\"Clo1313_0...\n",
              "159                       /inference=\"COORDINATES: ...\n",
              "160                       sequence:RefSeq:WP_003513..."
            ]
          },
          "metadata": {
            "tags": []
          },
          "execution_count": 11
        }
      ]
    },
    {
      "cell_type": "markdown",
      "metadata": {
        "id": "LzwHJeCr-eet",
        "colab_type": "text"
      },
      "source": [
        "I only want to keep the locus tags and the actual amino acid sequence so I'll delete the rest of the rows."
      ]
    },
    {
      "cell_type": "code",
      "metadata": {
        "id": "oqgv_fir9abN",
        "colab_type": "code",
        "colab": {}
      },
      "source": [
        "rows_to_remove_list = ['gene','CDS','/inference','sequence:','/note','gene prediction','/codon_start','transl_table','/product=','protein_id']"
      ],
      "execution_count": 0,
      "outputs": []
    },
    {
      "cell_type": "code",
      "metadata": {
        "id": "94YU9aUW_Yhz",
        "colab_type": "code",
        "colab": {}
      },
      "source": [
        "for item in rows_to_remove_list:\n",
        "  table = table[~table[0].str.contains(item)]"
      ],
      "execution_count": 0,
      "outputs": []
    },
    {
      "cell_type": "code",
      "metadata": {
        "id": "zL7UF6Q1_sCO",
        "colab_type": "code",
        "outputId": "97cabc89-a9f5-4af6-d52a-3ccc33c82d06",
        "colab": {
          "base_uri": "https://localhost:8080/",
          "height": 1000
        }
      },
      "source": [
        "table.head(50)"
      ],
      "execution_count": 14,
      "outputs": [
        {
          "output_type": "execute_result",
          "data": {
            "text/html": [
              "<div>\n",
              "<style scoped>\n",
              "    .dataframe tbody tr th:only-of-type {\n",
              "        vertical-align: middle;\n",
              "    }\n",
              "\n",
              "    .dataframe tbody tr th {\n",
              "        vertical-align: top;\n",
              "    }\n",
              "\n",
              "    .dataframe thead th {\n",
              "        text-align: right;\n",
              "    }\n",
              "</style>\n",
              "<table border=\"1\" class=\"dataframe\">\n",
              "  <thead>\n",
              "    <tr style=\"text-align: right;\">\n",
              "      <th></th>\n",
              "      <th>0</th>\n",
              "    </tr>\n",
              "  </thead>\n",
              "  <tbody>\n",
              "    <tr>\n",
              "      <th>132</th>\n",
              "      <td>/locus_tag=\"CLO1313_RS00010\"</td>\n",
              "    </tr>\n",
              "    <tr>\n",
              "      <th>133</th>\n",
              "      <td>/old_locus_tag=\"Clo1313_0...</td>\n",
              "    </tr>\n",
              "    <tr>\n",
              "      <th>135</th>\n",
              "      <td>/locus_tag=\"CLO1313_RS00010\"</td>\n",
              "    </tr>\n",
              "    <tr>\n",
              "      <th>136</th>\n",
              "      <td>/old_locus_tag=\"Clo1313_0...</td>\n",
              "    </tr>\n",
              "    <tr>\n",
              "      <th>145</th>\n",
              "      <td>/translation=\"MNTQLNEIWQK...</td>\n",
              "    </tr>\n",
              "    <tr>\n",
              "      <th>146</th>\n",
              "      <td>AVPAEFNKGILESRYQTLIKNAIKQ...</td>\n",
              "    </tr>\n",
              "    <tr>\n",
              "      <th>147</th>\n",
              "      <td>PLSVLNPKYTFDTFVIGNSNRFAHA...</td>\n",
              "    </tr>\n",
              "    <tr>\n",
              "      <th>148</th>\n",
              "      <td>GHYILEQNSSQRVLYVSSEKFTNEL...</td>\n",
              "    </tr>\n",
              "    <tr>\n",
              "      <th>149</th>\n",
              "      <td>ERTEEEFFHTFNALYEANKQIILSS...</td>\n",
              "    </tr>\n",
              "    <tr>\n",
              "      <th>150</th>\n",
              "      <td>IAILRKKAQLENLTVPNEVIVFIAD...</td>\n",
              "    </tr>\n",
              "    <tr>\n",
              "      <th>151</th>\n",
              "      <td>EALKDILSANKAKVLNCTTIQEAVA...</td>\n",
              "    </tr>\n",
              "    <tr>\n",
              "      <th>152</th>\n",
              "      <td>TEMSLPKIGEEFGGRDHTTVIHACE...</td>\n",
              "    </tr>\n",
              "    <tr>\n",
              "      <th>154</th>\n",
              "      <td>/locus_tag=\"CLO1313_RS00015\"</td>\n",
              "    </tr>\n",
              "    <tr>\n",
              "      <th>155</th>\n",
              "      <td>/old_locus_tag=\"Clo1313_0...</td>\n",
              "    </tr>\n",
              "    <tr>\n",
              "      <th>157</th>\n",
              "      <td>/locus_tag=\"CLO1313_RS00015\"</td>\n",
              "    </tr>\n",
              "    <tr>\n",
              "      <th>158</th>\n",
              "      <td>/old_locus_tag=\"Clo1313_0...</td>\n",
              "    </tr>\n",
              "    <tr>\n",
              "      <th>167</th>\n",
              "      <td>/translation=\"MKIVCSKEQLM...</td>\n",
              "    </tr>\n",
              "    <tr>\n",
              "      <th>168</th>\n",
              "      <td>GNDLELGIECLIDADILEKGSIVLN...</td>\n",
              "    </tr>\n",
              "    <tr>\n",
              "      <th>169</th>\n",
              "      <td>HFELRGMPSDSFPSLPSIEKENMIK...</td>\n",
              "    </tr>\n",
              "    <tr>\n",
              "      <th>170</th>\n",
              "      <td>AGNEITFVSIDGFRMALRKNFNNEG...</td>\n",
              "    </tr>\n",
              "    <tr>\n",
              "      <th>171</th>\n",
              "      <td>NQILFEIGNCKVVSRLLEGEYLNYK...</td>\n",
              "    </tr>\n",
              "    <tr>\n",
              "      <th>172</th>\n",
              "      <td>KYPVKFNIIDDKIIITSNTEIGAVR...</td>\n",
              "    </tr>\n",
              "    <tr>\n",
              "      <th>173</th>\n",
              "      <td>DIYFNSSVGPCTIRPLEGDSFAYMI...</td>\n",
              "    </tr>\n",
              "    <tr>\n",
              "      <th>175</th>\n",
              "      <td>/locus_tag=\"CLO1313_RS00020\"</td>\n",
              "    </tr>\n",
              "    <tr>\n",
              "      <th>176</th>\n",
              "      <td>/old_locus_tag=\"Clo1313_0...</td>\n",
              "    </tr>\n",
              "    <tr>\n",
              "      <th>178</th>\n",
              "      <td>/locus_tag=\"CLO1313_RS00020\"</td>\n",
              "    </tr>\n",
              "    <tr>\n",
              "      <th>179</th>\n",
              "      <td>/old_locus_tag=\"Clo1313_0...</td>\n",
              "    </tr>\n",
              "    <tr>\n",
              "      <th>188</th>\n",
              "      <td>/translation=\"MENIKINTEFI...</td>\n",
              "    </tr>\n",
              "    <tr>\n",
              "      <th>189</th>\n",
              "      <td>ELRRGRKLRTGDIVEINDKKFQIV\"</td>\n",
              "    </tr>\n",
              "    <tr>\n",
              "      <th>191</th>\n",
              "      <td>/locus_tag=\"CLO1313_RS00025\"</td>\n",
              "    </tr>\n",
              "    <tr>\n",
              "      <th>192</th>\n",
              "      <td>/old_locus_tag=\"Clo1313_0...</td>\n",
              "    </tr>\n",
              "    <tr>\n",
              "      <th>194</th>\n",
              "      <td>/locus_tag=\"CLO1313_RS00025\"</td>\n",
              "    </tr>\n",
              "    <tr>\n",
              "      <th>195</th>\n",
              "      <td>/old_locus_tag=\"Clo1313_0...</td>\n",
              "    </tr>\n",
              "    <tr>\n",
              "      <th>204</th>\n",
              "      <td>/translation=\"MYIDRILLKNF...</td>\n",
              "    </tr>\n",
              "    <tr>\n",
              "      <th>205</th>\n",
              "      <td>LCASGRSHRTSKDTELVNIDGTGFS...</td>\n",
              "    </tr>\n",
              "    <tr>\n",
              "      <th>206</th>\n",
              "      <td>KKIGNLMGNLLAVIFSPEDILIIKE...</td>\n",
              "    </tr>\n",
              "    <tr>\n",
              "      <th>207</th>\n",
              "      <td>RNMLLKEIQYKRNLLDTLEVWDYKM...</td>\n",
              "    </tr>\n",
              "    <tr>\n",
              "      <th>208</th>\n",
              "      <td>EIMEIKYSPSVDLHDLSNPSEIKNE...</td>\n",
              "    </tr>\n",
              "    <tr>\n",
              "      <th>209</th>\n",
              "      <td>LNLKMFGSQGQQRTSLLSLKLAEIE...</td>\n",
              "    </tr>\n",
              "    <tr>\n",
              "      <th>210</th>\n",
              "      <td>RNVQTFITCTDKELFENRNFGDNLY...</td>\n",
              "    </tr>\n",
              "    <tr>\n",
              "      <th>212</th>\n",
              "      <td>/locus_tag=\"CLO1313_RS00030\"</td>\n",
              "    </tr>\n",
              "    <tr>\n",
              "      <th>213</th>\n",
              "      <td>/old_locus_tag=\"Clo1313_0...</td>\n",
              "    </tr>\n",
              "    <tr>\n",
              "      <th>215</th>\n",
              "      <td>/locus_tag=\"CLO1313_RS00030\"</td>\n",
              "    </tr>\n",
              "    <tr>\n",
              "      <th>216</th>\n",
              "      <td>/old_locus_tag=\"Clo1313_0...</td>\n",
              "    </tr>\n",
              "    <tr>\n",
              "      <th>225</th>\n",
              "      <td>/translation=\"MFLHIGGDRVV...</td>\n",
              "    </tr>\n",
              "    <tr>\n",
              "      <th>226</th>\n",
              "      <td>QTVSSDIPKSFIITETDKKSIIYLS...</td>\n",
              "    </tr>\n",
              "    <tr>\n",
              "      <th>227</th>\n",
              "      <td>KG\"</td>\n",
              "    </tr>\n",
              "    <tr>\n",
              "      <th>230</th>\n",
              "      <td>/locus_tag=\"CLO1313_RS00035\"</td>\n",
              "    </tr>\n",
              "    <tr>\n",
              "      <th>231</th>\n",
              "      <td>/old_locus_tag=\"Clo1313_0...</td>\n",
              "    </tr>\n",
              "    <tr>\n",
              "      <th>234</th>\n",
              "      <td>/locus_tag=\"CLO1313_RS00035\"</td>\n",
              "    </tr>\n",
              "  </tbody>\n",
              "</table>\n",
              "</div>"
            ],
            "text/plain": [
              "                                                     0\n",
              "132                       /locus_tag=\"CLO1313_RS00010\"\n",
              "133                       /old_locus_tag=\"Clo1313_0...\n",
              "135                       /locus_tag=\"CLO1313_RS00010\"\n",
              "136                       /old_locus_tag=\"Clo1313_0...\n",
              "145                       /translation=\"MNTQLNEIWQK...\n",
              "146                       AVPAEFNKGILESRYQTLIKNAIKQ...\n",
              "147                       PLSVLNPKYTFDTFVIGNSNRFAHA...\n",
              "148                       GHYILEQNSSQRVLYVSSEKFTNEL...\n",
              "149                       ERTEEEFFHTFNALYEANKQIILSS...\n",
              "150                       IAILRKKAQLENLTVPNEVIVFIAD...\n",
              "151                       EALKDILSANKAKVLNCTTIQEAVA...\n",
              "152                       TEMSLPKIGEEFGGRDHTTVIHACE...\n",
              "154                       /locus_tag=\"CLO1313_RS00015\"\n",
              "155                       /old_locus_tag=\"Clo1313_0...\n",
              "157                       /locus_tag=\"CLO1313_RS00015\"\n",
              "158                       /old_locus_tag=\"Clo1313_0...\n",
              "167                       /translation=\"MKIVCSKEQLM...\n",
              "168                       GNDLELGIECLIDADILEKGSIVLN...\n",
              "169                       HFELRGMPSDSFPSLPSIEKENMIK...\n",
              "170                       AGNEITFVSIDGFRMALRKNFNNEG...\n",
              "171                       NQILFEIGNCKVVSRLLEGEYLNYK...\n",
              "172                       KYPVKFNIIDDKIIITSNTEIGAVR...\n",
              "173                       DIYFNSSVGPCTIRPLEGDSFAYMI...\n",
              "175                       /locus_tag=\"CLO1313_RS00020\"\n",
              "176                       /old_locus_tag=\"Clo1313_0...\n",
              "178                       /locus_tag=\"CLO1313_RS00020\"\n",
              "179                       /old_locus_tag=\"Clo1313_0...\n",
              "188                       /translation=\"MENIKINTEFI...\n",
              "189                          ELRRGRKLRTGDIVEINDKKFQIV\"\n",
              "191                       /locus_tag=\"CLO1313_RS00025\"\n",
              "192                       /old_locus_tag=\"Clo1313_0...\n",
              "194                       /locus_tag=\"CLO1313_RS00025\"\n",
              "195                       /old_locus_tag=\"Clo1313_0...\n",
              "204                       /translation=\"MYIDRILLKNF...\n",
              "205                       LCASGRSHRTSKDTELVNIDGTGFS...\n",
              "206                       KKIGNLMGNLLAVIFSPEDILIIKE...\n",
              "207                       RNMLLKEIQYKRNLLDTLEVWDYKM...\n",
              "208                       EIMEIKYSPSVDLHDLSNPSEIKNE...\n",
              "209                       LNLKMFGSQGQQRTSLLSLKLAEIE...\n",
              "210                       RNVQTFITCTDKELFENRNFGDNLY...\n",
              "212                       /locus_tag=\"CLO1313_RS00030\"\n",
              "213                       /old_locus_tag=\"Clo1313_0...\n",
              "215                       /locus_tag=\"CLO1313_RS00030\"\n",
              "216                       /old_locus_tag=\"Clo1313_0...\n",
              "225                       /translation=\"MFLHIGGDRVV...\n",
              "226                       QTVSSDIPKSFIITETDKKSIIYLS...\n",
              "227                                                KG\"\n",
              "230                       /locus_tag=\"CLO1313_RS00035\"\n",
              "231                       /old_locus_tag=\"Clo1313_0...\n",
              "234                       /locus_tag=\"CLO1313_RS00035\""
            ]
          },
          "metadata": {
            "tags": []
          },
          "execution_count": 14
        }
      ]
    },
    {
      "cell_type": "markdown",
      "metadata": {
        "id": "tQXWDMFUtAjS",
        "colab_type": "text"
      },
      "source": [
        "Remove duplicate values. It looks like each locus tag appears twice."
      ]
    },
    {
      "cell_type": "code",
      "metadata": {
        "id": "FRl1spzQtIpP",
        "colab_type": "code",
        "colab": {}
      },
      "source": [
        "table_unique = table.drop_duplicates()"
      ],
      "execution_count": 0,
      "outputs": []
    },
    {
      "cell_type": "code",
      "metadata": {
        "id": "j1LSEXsatJ8a",
        "colab_type": "code",
        "outputId": "75cf866e-24c1-42c0-b0a5-94319b6167b7",
        "colab": {
          "base_uri": "https://localhost:8080/",
          "height": 669
        }
      },
      "source": [
        "table_unique.head(20)"
      ],
      "execution_count": 16,
      "outputs": [
        {
          "output_type": "execute_result",
          "data": {
            "text/html": [
              "<div>\n",
              "<style scoped>\n",
              "    .dataframe tbody tr th:only-of-type {\n",
              "        vertical-align: middle;\n",
              "    }\n",
              "\n",
              "    .dataframe tbody tr th {\n",
              "        vertical-align: top;\n",
              "    }\n",
              "\n",
              "    .dataframe thead th {\n",
              "        text-align: right;\n",
              "    }\n",
              "</style>\n",
              "<table border=\"1\" class=\"dataframe\">\n",
              "  <thead>\n",
              "    <tr style=\"text-align: right;\">\n",
              "      <th></th>\n",
              "      <th>0</th>\n",
              "    </tr>\n",
              "  </thead>\n",
              "  <tbody>\n",
              "    <tr>\n",
              "      <th>132</th>\n",
              "      <td>/locus_tag=\"CLO1313_RS00010\"</td>\n",
              "    </tr>\n",
              "    <tr>\n",
              "      <th>133</th>\n",
              "      <td>/old_locus_tag=\"Clo1313_0...</td>\n",
              "    </tr>\n",
              "    <tr>\n",
              "      <th>145</th>\n",
              "      <td>/translation=\"MNTQLNEIWQK...</td>\n",
              "    </tr>\n",
              "    <tr>\n",
              "      <th>146</th>\n",
              "      <td>AVPAEFNKGILESRYQTLIKNAIKQ...</td>\n",
              "    </tr>\n",
              "    <tr>\n",
              "      <th>147</th>\n",
              "      <td>PLSVLNPKYTFDTFVIGNSNRFAHA...</td>\n",
              "    </tr>\n",
              "    <tr>\n",
              "      <th>148</th>\n",
              "      <td>GHYILEQNSSQRVLYVSSEKFTNEL...</td>\n",
              "    </tr>\n",
              "    <tr>\n",
              "      <th>149</th>\n",
              "      <td>ERTEEEFFHTFNALYEANKQIILSS...</td>\n",
              "    </tr>\n",
              "    <tr>\n",
              "      <th>150</th>\n",
              "      <td>IAILRKKAQLENLTVPNEVIVFIAD...</td>\n",
              "    </tr>\n",
              "    <tr>\n",
              "      <th>151</th>\n",
              "      <td>EALKDILSANKAKVLNCTTIQEAVA...</td>\n",
              "    </tr>\n",
              "    <tr>\n",
              "      <th>152</th>\n",
              "      <td>TEMSLPKIGEEFGGRDHTTVIHACE...</td>\n",
              "    </tr>\n",
              "    <tr>\n",
              "      <th>154</th>\n",
              "      <td>/locus_tag=\"CLO1313_RS00015\"</td>\n",
              "    </tr>\n",
              "    <tr>\n",
              "      <th>155</th>\n",
              "      <td>/old_locus_tag=\"Clo1313_0...</td>\n",
              "    </tr>\n",
              "    <tr>\n",
              "      <th>167</th>\n",
              "      <td>/translation=\"MKIVCSKEQLM...</td>\n",
              "    </tr>\n",
              "    <tr>\n",
              "      <th>168</th>\n",
              "      <td>GNDLELGIECLIDADILEKGSIVLN...</td>\n",
              "    </tr>\n",
              "    <tr>\n",
              "      <th>169</th>\n",
              "      <td>HFELRGMPSDSFPSLPSIEKENMIK...</td>\n",
              "    </tr>\n",
              "    <tr>\n",
              "      <th>170</th>\n",
              "      <td>AGNEITFVSIDGFRMALRKNFNNEG...</td>\n",
              "    </tr>\n",
              "    <tr>\n",
              "      <th>171</th>\n",
              "      <td>NQILFEIGNCKVVSRLLEGEYLNYK...</td>\n",
              "    </tr>\n",
              "    <tr>\n",
              "      <th>172</th>\n",
              "      <td>KYPVKFNIIDDKIIITSNTEIGAVR...</td>\n",
              "    </tr>\n",
              "    <tr>\n",
              "      <th>173</th>\n",
              "      <td>DIYFNSSVGPCTIRPLEGDSFAYMI...</td>\n",
              "    </tr>\n",
              "    <tr>\n",
              "      <th>175</th>\n",
              "      <td>/locus_tag=\"CLO1313_RS00020\"</td>\n",
              "    </tr>\n",
              "  </tbody>\n",
              "</table>\n",
              "</div>"
            ],
            "text/plain": [
              "                                                     0\n",
              "132                       /locus_tag=\"CLO1313_RS00010\"\n",
              "133                       /old_locus_tag=\"Clo1313_0...\n",
              "145                       /translation=\"MNTQLNEIWQK...\n",
              "146                       AVPAEFNKGILESRYQTLIKNAIKQ...\n",
              "147                       PLSVLNPKYTFDTFVIGNSNRFAHA...\n",
              "148                       GHYILEQNSSQRVLYVSSEKFTNEL...\n",
              "149                       ERTEEEFFHTFNALYEANKQIILSS...\n",
              "150                       IAILRKKAQLENLTVPNEVIVFIAD...\n",
              "151                       EALKDILSANKAKVLNCTTIQEAVA...\n",
              "152                       TEMSLPKIGEEFGGRDHTTVIHACE...\n",
              "154                       /locus_tag=\"CLO1313_RS00015\"\n",
              "155                       /old_locus_tag=\"Clo1313_0...\n",
              "167                       /translation=\"MKIVCSKEQLM...\n",
              "168                       GNDLELGIECLIDADILEKGSIVLN...\n",
              "169                       HFELRGMPSDSFPSLPSIEKENMIK...\n",
              "170                       AGNEITFVSIDGFRMALRKNFNNEG...\n",
              "171                       NQILFEIGNCKVVSRLLEGEYLNYK...\n",
              "172                       KYPVKFNIIDDKIIITSNTEIGAVR...\n",
              "173                       DIYFNSSVGPCTIRPLEGDSFAYMI...\n",
              "175                       /locus_tag=\"CLO1313_RS00020\""
            ]
          },
          "metadata": {
            "tags": []
          },
          "execution_count": 16
        }
      ]
    },
    {
      "cell_type": "code",
      "metadata": {
        "id": "EClVf3GVvqQT",
        "colab_type": "code",
        "colab": {}
      },
      "source": [
        "table_unique = table_unique.reset_index(drop = True)"
      ],
      "execution_count": 0,
      "outputs": []
    },
    {
      "cell_type": "code",
      "metadata": {
        "id": "DrTigm5AvvfY",
        "colab_type": "code",
        "outputId": "b25d3d71-801c-4082-c3ce-6e2a50616c81",
        "colab": {
          "base_uri": "https://localhost:8080/",
          "height": 669
        }
      },
      "source": [
        "table_unique.head(20)"
      ],
      "execution_count": 18,
      "outputs": [
        {
          "output_type": "execute_result",
          "data": {
            "text/html": [
              "<div>\n",
              "<style scoped>\n",
              "    .dataframe tbody tr th:only-of-type {\n",
              "        vertical-align: middle;\n",
              "    }\n",
              "\n",
              "    .dataframe tbody tr th {\n",
              "        vertical-align: top;\n",
              "    }\n",
              "\n",
              "    .dataframe thead th {\n",
              "        text-align: right;\n",
              "    }\n",
              "</style>\n",
              "<table border=\"1\" class=\"dataframe\">\n",
              "  <thead>\n",
              "    <tr style=\"text-align: right;\">\n",
              "      <th></th>\n",
              "      <th>0</th>\n",
              "    </tr>\n",
              "  </thead>\n",
              "  <tbody>\n",
              "    <tr>\n",
              "      <th>0</th>\n",
              "      <td>/locus_tag=\"CLO1313_RS00010\"</td>\n",
              "    </tr>\n",
              "    <tr>\n",
              "      <th>1</th>\n",
              "      <td>/old_locus_tag=\"Clo1313_0...</td>\n",
              "    </tr>\n",
              "    <tr>\n",
              "      <th>2</th>\n",
              "      <td>/translation=\"MNTQLNEIWQK...</td>\n",
              "    </tr>\n",
              "    <tr>\n",
              "      <th>3</th>\n",
              "      <td>AVPAEFNKGILESRYQTLIKNAIKQ...</td>\n",
              "    </tr>\n",
              "    <tr>\n",
              "      <th>4</th>\n",
              "      <td>PLSVLNPKYTFDTFVIGNSNRFAHA...</td>\n",
              "    </tr>\n",
              "    <tr>\n",
              "      <th>5</th>\n",
              "      <td>GHYILEQNSSQRVLYVSSEKFTNEL...</td>\n",
              "    </tr>\n",
              "    <tr>\n",
              "      <th>6</th>\n",
              "      <td>ERTEEEFFHTFNALYEANKQIILSS...</td>\n",
              "    </tr>\n",
              "    <tr>\n",
              "      <th>7</th>\n",
              "      <td>IAILRKKAQLENLTVPNEVIVFIAD...</td>\n",
              "    </tr>\n",
              "    <tr>\n",
              "      <th>8</th>\n",
              "      <td>EALKDILSANKAKVLNCTTIQEAVA...</td>\n",
              "    </tr>\n",
              "    <tr>\n",
              "      <th>9</th>\n",
              "      <td>TEMSLPKIGEEFGGRDHTTVIHACE...</td>\n",
              "    </tr>\n",
              "    <tr>\n",
              "      <th>10</th>\n",
              "      <td>/locus_tag=\"CLO1313_RS00015\"</td>\n",
              "    </tr>\n",
              "    <tr>\n",
              "      <th>11</th>\n",
              "      <td>/old_locus_tag=\"Clo1313_0...</td>\n",
              "    </tr>\n",
              "    <tr>\n",
              "      <th>12</th>\n",
              "      <td>/translation=\"MKIVCSKEQLM...</td>\n",
              "    </tr>\n",
              "    <tr>\n",
              "      <th>13</th>\n",
              "      <td>GNDLELGIECLIDADILEKGSIVLN...</td>\n",
              "    </tr>\n",
              "    <tr>\n",
              "      <th>14</th>\n",
              "      <td>HFELRGMPSDSFPSLPSIEKENMIK...</td>\n",
              "    </tr>\n",
              "    <tr>\n",
              "      <th>15</th>\n",
              "      <td>AGNEITFVSIDGFRMALRKNFNNEG...</td>\n",
              "    </tr>\n",
              "    <tr>\n",
              "      <th>16</th>\n",
              "      <td>NQILFEIGNCKVVSRLLEGEYLNYK...</td>\n",
              "    </tr>\n",
              "    <tr>\n",
              "      <th>17</th>\n",
              "      <td>KYPVKFNIIDDKIIITSNTEIGAVR...</td>\n",
              "    </tr>\n",
              "    <tr>\n",
              "      <th>18</th>\n",
              "      <td>DIYFNSSVGPCTIRPLEGDSFAYMI...</td>\n",
              "    </tr>\n",
              "    <tr>\n",
              "      <th>19</th>\n",
              "      <td>/locus_tag=\"CLO1313_RS00020\"</td>\n",
              "    </tr>\n",
              "  </tbody>\n",
              "</table>\n",
              "</div>"
            ],
            "text/plain": [
              "                                                    0\n",
              "0                        /locus_tag=\"CLO1313_RS00010\"\n",
              "1                        /old_locus_tag=\"Clo1313_0...\n",
              "2                        /translation=\"MNTQLNEIWQK...\n",
              "3                        AVPAEFNKGILESRYQTLIKNAIKQ...\n",
              "4                        PLSVLNPKYTFDTFVIGNSNRFAHA...\n",
              "5                        GHYILEQNSSQRVLYVSSEKFTNEL...\n",
              "6                        ERTEEEFFHTFNALYEANKQIILSS...\n",
              "7                        IAILRKKAQLENLTVPNEVIVFIAD...\n",
              "8                        EALKDILSANKAKVLNCTTIQEAVA...\n",
              "9                        TEMSLPKIGEEFGGRDHTTVIHACE...\n",
              "10                       /locus_tag=\"CLO1313_RS00015\"\n",
              "11                       /old_locus_tag=\"Clo1313_0...\n",
              "12                       /translation=\"MKIVCSKEQLM...\n",
              "13                       GNDLELGIECLIDADILEKGSIVLN...\n",
              "14                       HFELRGMPSDSFPSLPSIEKENMIK...\n",
              "15                       AGNEITFVSIDGFRMALRKNFNNEG...\n",
              "16                       NQILFEIGNCKVVSRLLEGEYLNYK...\n",
              "17                       KYPVKFNIIDDKIIITSNTEIGAVR...\n",
              "18                       DIYFNSSVGPCTIRPLEGDSFAYMI...\n",
              "19                       /locus_tag=\"CLO1313_RS00020\""
            ]
          },
          "metadata": {
            "tags": []
          },
          "execution_count": 18
        }
      ]
    },
    {
      "cell_type": "markdown",
      "metadata": {
        "id": "OlNDivP26Gvr",
        "colab_type": "text"
      },
      "source": [
        "The protein sequence always starts with \"/translation\" so I can use that to find the index of where protein sequence occurs. "
      ]
    },
    {
      "cell_type": "code",
      "metadata": {
        "id": "Bov8tKj1v6oP",
        "colab_type": "code",
        "colab": {}
      },
      "source": [
        "translation_index = table_unique[table_unique[0].str.contains('/translation')].index"
      ],
      "execution_count": 0,
      "outputs": []
    },
    {
      "cell_type": "code",
      "metadata": {
        "id": "jOyx7nLEwFUY",
        "colab_type": "code",
        "outputId": "345febbe-4265-418c-dfa4-d2f912bcc9f6",
        "colab": {
          "base_uri": "https://localhost:8080/",
          "height": 119
        }
      },
      "source": [
        "translation_index"
      ],
      "execution_count": 20,
      "outputs": [
        {
          "output_type": "execute_result",
          "data": {
            "text/plain": [
              "Int64Index([    2,    12,    21,    25,    34,    39,    53,    60,    68,\n",
              "               74,\n",
              "            ...\n",
              "            25485, 25502, 25511, 25519, 25534, 25545, 25551, 25560, 25564,\n",
              "            25569],\n",
              "           dtype='int64', length=2917)"
            ]
          },
          "metadata": {
            "tags": []
          },
          "execution_count": 20
        }
      ]
    },
    {
      "cell_type": "code",
      "metadata": {
        "id": "yDIo7vSQwHra",
        "colab_type": "code",
        "outputId": "286aa28d-5d23-412c-adef-e9fc7734374e",
        "colab": {
          "base_uri": "https://localhost:8080/",
          "height": 173
        }
      },
      "source": [
        "table_unique[0][12:19].values"
      ],
      "execution_count": 21,
      "outputs": [
        {
          "output_type": "execute_result",
          "data": {
            "text/plain": [
              "array(['                     /translation=\"MKIVCSKEQLMEGINVVQKAVPTKATLTILEGILLEAYDNFKMT',\n",
              "       '                     GNDLELGIECLIDADILEKGSIVLNSKMFGDIVRRLPDSEVLIEVKENNTVIIECDNS',\n",
              "       '                     HFELRGMPSDSFPSLPSIEKENMIKVSQKAIRDMIRQTLFAVSMEGTRPILTGSLIEC',\n",
              "       '                     AGNEITFVSIDGFRMALRKNFNNEGFSEFSVVVPAKTLSEIGKILQPVDEDIYIYSSQ',\n",
              "       '                     NQILFEIGNCKVVSRLLEGEYLNYKSIIPPEYETSVRLRTEDLLSSLERASLITSDEK',\n",
              "       '                     KYPVKFNIIDDKIIITSNTEIGAVREEIRVEVNGSNMEVGFNPRYFIEALRVIDDELV',\n",
              "       '                     DIYFNSSVGPCTIRPLEGDSFAYMILPVRINK\"'],\n",
              "      dtype=object)"
            ]
          },
          "metadata": {
            "tags": []
          },
          "execution_count": 21
        }
      ]
    },
    {
      "cell_type": "markdown",
      "metadata": {
        "id": "3qITVMf-6SlQ",
        "colab_type": "text"
      },
      "source": [
        "The locus_tag and old_locus_tag are at the end of the protein sequence so the index of end of protein sequence would be the index of the next protein sequence - 2."
      ]
    },
    {
      "cell_type": "code",
      "metadata": {
        "id": "ayJ39WMnwZEn",
        "colab_type": "code",
        "colab": {}
      },
      "source": [
        "new_df = pd.DataFrame(columns = ['old tag', 'new tag', 'sequence'])"
      ],
      "execution_count": 0,
      "outputs": []
    },
    {
      "cell_type": "code",
      "metadata": {
        "id": "RMp3-oe2xoFT",
        "colab_type": "code",
        "colab": {}
      },
      "source": [
        "sequences = []"
      ],
      "execution_count": 0,
      "outputs": []
    },
    {
      "cell_type": "code",
      "metadata": {
        "id": "sVAqM-_Bxgpc",
        "colab_type": "code",
        "outputId": "8b4c5a6e-f76b-4e10-98e2-d0f51fc22036",
        "colab": {
          "base_uri": "https://localhost:8080/",
          "height": 190
        }
      },
      "source": [
        "table_unique[0][2:10].values"
      ],
      "execution_count": 24,
      "outputs": [
        {
          "output_type": "execute_result",
          "data": {
            "text/plain": [
              "array(['                     /translation=\"MNTQLNEIWQKTLGLLKNELTEISFNTWIKTIDPLSLTGNTINL',\n",
              "       '                     AVPAEFNKGILESRYQTLIKNAIKQVTFKEYEIAFIVPSQENLNKLTKQTESAGNEDS',\n",
              "       '                     PLSVLNPKYTFDTFVIGNSNRFAHAAALAVAEAPGKAYNPLFIYGGVGLGKTHLMHAI',\n",
              "       '                     GHYILEQNSSQRVLYVSSEKFTNELINAIKDNRNEEFRSKYRNIDVLLIDDIQFIAGK',\n",
              "       '                     ERTEEEFFHTFNALYEANKQIILSSDKPPKEISLEDRLRSRFEWGLIADMQAPDLETR',\n",
              "       '                     IAILRKKAQLENLTVPNEVIVFIADKIASNIRELEGALNRVIAYSSLTENEITVELAS',\n",
              "       '                     EALKDILSANKAKVLNCTTIQEAVARYFDIRPEEFKSKKRTRDIAFPRQIAMYLCREL',\n",
              "       '                     TEMSLPKIGEEFGGRDHTTVIHACEKISEEIESNSETRRAVSEIKRNLLGK\"'],\n",
              "      dtype=object)"
            ]
          },
          "metadata": {
            "tags": []
          },
          "execution_count": 24
        }
      ]
    },
    {
      "cell_type": "code",
      "metadata": {
        "id": "kbt4PSckwnbC",
        "colab_type": "code",
        "colab": {}
      },
      "source": [
        "for i in range(len(translation_index)-1):\n",
        "  sequences.append(list(table_unique[0][translation_index[i]:translation_index[i+1]-2].values))"
      ],
      "execution_count": 0,
      "outputs": []
    },
    {
      "cell_type": "code",
      "metadata": {
        "id": "oR-CgDkfySSN",
        "colab_type": "code",
        "outputId": "917c8b76-12a0-4899-c899-9890175917ef",
        "colab": {
          "base_uri": "https://localhost:8080/",
          "height": 34
        }
      },
      "source": [
        "len(sequences)"
      ],
      "execution_count": 26,
      "outputs": [
        {
          "output_type": "execute_result",
          "data": {
            "text/plain": [
              "2916"
            ]
          },
          "metadata": {
            "tags": []
          },
          "execution_count": 26
        }
      ]
    },
    {
      "cell_type": "markdown",
      "metadata": {
        "id": "kpRR4g6_6mvA",
        "colab_type": "text"
      },
      "source": [
        "Missing one protein bc the for loop range is -1."
      ]
    },
    {
      "cell_type": "code",
      "metadata": {
        "id": "Df0mtm4fyjJR",
        "colab_type": "code",
        "outputId": "ec62a5fe-c5ab-4959-ad35-d613927326ef",
        "colab": {
          "base_uri": "https://localhost:8080/",
          "height": 34
        }
      },
      "source": [
        "translation_index[-1]"
      ],
      "execution_count": 27,
      "outputs": [
        {
          "output_type": "execute_result",
          "data": {
            "text/plain": [
              "25569"
            ]
          },
          "metadata": {
            "tags": []
          },
          "execution_count": 27
        }
      ]
    },
    {
      "cell_type": "code",
      "metadata": {
        "id": "T_6acnFDyjId",
        "colab_type": "code",
        "outputId": "56edf5d4-e4cc-4bac-c7ad-bb4b740cd7a7",
        "colab": {
          "base_uri": "https://localhost:8080/",
          "height": 255
        }
      },
      "source": [
        "table_unique[0][25569:25582]"
      ],
      "execution_count": 28,
      "outputs": [
        {
          "output_type": "execute_result",
          "data": {
            "text/plain": [
              "25569                         /translation=\"MLRTYQPKKRQ...\n",
              "25570              CONTIG      join(CP002416.1:1..3561619)\n",
              "25571                                         ORIGIN      \n",
              "25572            1 attttgtcaa ttattttgta tgcggaaata ttt...\n",
              "25573           61 taaaatcaac gcaaaatcat aaacaataaa cca...\n",
              "25574          121 caaggaaata attttacaaa ccaccgacaa acg...\n",
              "25575          181 ccttattctt ttaatggttt tggaggaact tat...\n",
              "25576          241 aaaaacttta ggactgctta aaaatgagct tac...\n",
              "25577          301 gaccatcgat ccattgtcct tgacaggcaa tac...\n",
              "25578          361 caacaaggga attcttgagt ccaggtatca aac...\n",
              "25579          421 tacttttaag gaatacgaga ttgcatttat cgt...\n",
              "25580          481 gacgaagcag accgagtccg ccggcaatga gga...\n",
              "25581          541 gtacacgttt gacacttttg tcataggaaa cag...\n",
              "Name: 0, dtype: object"
            ]
          },
          "metadata": {
            "tags": []
          },
          "execution_count": 28
        }
      ]
    },
    {
      "cell_type": "code",
      "metadata": {
        "id": "_MxD5aQdzMz9",
        "colab_type": "code",
        "colab": {}
      },
      "source": [
        "sequences.append(list(table_unique[0][25569]))"
      ],
      "execution_count": 0,
      "outputs": []
    },
    {
      "cell_type": "code",
      "metadata": {
        "id": "cfE11sa0zVYD",
        "colab_type": "code",
        "outputId": "d38a0c6c-32a5-476e-d745-d06ffa4e5b32",
        "colab": {
          "base_uri": "https://localhost:8080/",
          "height": 34
        }
      },
      "source": [
        "len(sequences)"
      ],
      "execution_count": 30,
      "outputs": [
        {
          "output_type": "execute_result",
          "data": {
            "text/plain": [
              "2917"
            ]
          },
          "metadata": {
            "tags": []
          },
          "execution_count": 30
        }
      ]
    },
    {
      "cell_type": "code",
      "metadata": {
        "id": "P_mKX4fQ1ckr",
        "colab_type": "code",
        "outputId": "88c24b89-4f9b-4234-c712-90494dbbcefc",
        "colab": {
          "base_uri": "https://localhost:8080/",
          "height": 306
        }
      },
      "source": [
        "sequences[:3]"
      ],
      "execution_count": 32,
      "outputs": [
        {
          "output_type": "execute_result",
          "data": {
            "text/plain": [
              "[['                     /translation=\"MNTQLNEIWQKTLGLLKNELTEISFNTWIKTIDPLSLTGNTINL',\n",
              "  '                     AVPAEFNKGILESRYQTLIKNAIKQVTFKEYEIAFIVPSQENLNKLTKQTESAGNEDS',\n",
              "  '                     PLSVLNPKYTFDTFVIGNSNRFAHAAALAVAEAPGKAYNPLFIYGGVGLGKTHLMHAI',\n",
              "  '                     GHYILEQNSSQRVLYVSSEKFTNELINAIKDNRNEEFRSKYRNIDVLLIDDIQFIAGK',\n",
              "  '                     ERTEEEFFHTFNALYEANKQIILSSDKPPKEISLEDRLRSRFEWGLIADMQAPDLETR',\n",
              "  '                     IAILRKKAQLENLTVPNEVIVFIADKIASNIRELEGALNRVIAYSSLTENEITVELAS',\n",
              "  '                     EALKDILSANKAKVLNCTTIQEAVARYFDIRPEEFKSKKRTRDIAFPRQIAMYLCREL',\n",
              "  '                     TEMSLPKIGEEFGGRDHTTVIHACEKISEEIESNSETRRAVSEIKRNLLGK\"'],\n",
              " ['                     /translation=\"MKIVCSKEQLMEGINVVQKAVPTKATLTILEGILLEAYDNFKMT',\n",
              "  '                     GNDLELGIECLIDADILEKGSIVLNSKMFGDIVRRLPDSEVLIEVKENNTVIIECDNS',\n",
              "  '                     HFELRGMPSDSFPSLPSIEKENMIKVSQKAIRDMIRQTLFAVSMEGTRPILTGSLIEC',\n",
              "  '                     AGNEITFVSIDGFRMALRKNFNNEGFSEFSVVVPAKTLSEIGKILQPVDEDIYIYSSQ',\n",
              "  '                     NQILFEIGNCKVVSRLLEGEYLNYKSIIPPEYETSVRLRTEDLLSSLERASLITSDEK',\n",
              "  '                     KYPVKFNIIDDKIIITSNTEIGAVREEIRVEVNGSNMEVGFNPRYFIEALRVIDDELV',\n",
              "  '                     DIYFNSSVGPCTIRPLEGDSFAYMILPVRINK\"'],\n",
              " ['                     /translation=\"MENIKINTEFIKLDQFLKWTKTVSMGSEAKLMIRSGLVKVNGEV',\n",
              "  '                     ELRRGRKLRTGDIVEINDKKFQIV\"']]"
            ]
          },
          "metadata": {
            "tags": []
          },
          "execution_count": 32
        }
      ]
    },
    {
      "cell_type": "markdown",
      "metadata": {
        "id": "9vT7Cqk064zZ",
        "colab_type": "text"
      },
      "source": [
        "The for loop worked. Now I just need to clean up the messy sequences."
      ]
    },
    {
      "cell_type": "code",
      "metadata": {
        "id": "xsSGI52I0sdt",
        "colab_type": "code",
        "colab": {}
      },
      "source": [
        "import re\n",
        "\n",
        "def clean_sequence(amino):\n",
        "  a = ''.join(amino)\n",
        "  b = re.sub(r\"\\s+\", \"\", a)\n",
        "  c = re.sub('/translation=','',b)\n",
        "  d = re.sub('\"', '', c)\n",
        "  return d\n"
      ],
      "execution_count": 0,
      "outputs": []
    },
    {
      "cell_type": "code",
      "metadata": {
        "id": "f0Pz1nXP3mge",
        "colab_type": "code",
        "colab": {}
      },
      "source": [
        "clean_sequence_list = []\n",
        "for s in sequences:\n",
        "  clean_sequence_list.append(clean_sequence(s))"
      ],
      "execution_count": 0,
      "outputs": []
    },
    {
      "cell_type": "code",
      "metadata": {
        "id": "0Kqun9LX5aa8",
        "colab_type": "code",
        "outputId": "847e70fb-5ef5-44d8-a6e2-2cfdc5a327a7",
        "colab": {
          "base_uri": "https://localhost:8080/",
          "height": 122
        }
      },
      "source": [
        "clean_sequence_list[:5]"
      ],
      "execution_count": 35,
      "outputs": [
        {
          "output_type": "execute_result",
          "data": {
            "text/plain": [
              "['MNTQLNEIWQKTLGLLKNELTEISFNTWIKTIDPLSLTGNTINLAVPAEFNKGILESRYQTLIKNAIKQVTFKEYEIAFIVPSQENLNKLTKQTESAGNEDSPLSVLNPKYTFDTFVIGNSNRFAHAAALAVAEAPGKAYNPLFIYGGVGLGKTHLMHAIGHYILEQNSSQRVLYVSSEKFTNELINAIKDNRNEEFRSKYRNIDVLLIDDIQFIAGKERTEEEFFHTFNALYEANKQIILSSDKPPKEISLEDRLRSRFEWGLIADMQAPDLETRIAILRKKAQLENLTVPNEVIVFIADKIASNIRELEGALNRVIAYSSLTENEITVELASEALKDILSANKAKVLNCTTIQEAVARYFDIRPEEFKSKKRTRDIAFPRQIAMYLCRELTEMSLPKIGEEFGGRDHTTVIHACEKISEEIESNSETRRAVSEIKRNLLGK',\n",
              " 'MKIVCSKEQLMEGINVVQKAVPTKATLTILEGILLEAYDNFKMTGNDLELGIECLIDADILEKGSIVLNSKMFGDIVRRLPDSEVLIEVKENNTVIIECDNSHFELRGMPSDSFPSLPSIEKENMIKVSQKAIRDMIRQTLFAVSMEGTRPILTGSLIECAGNEITFVSIDGFRMALRKNFNNEGFSEFSVVVPAKTLSEIGKILQPVDEDIYIYSSQNQILFEIGNCKVVSRLLEGEYLNYKSIIPPEYETSVRLRTEDLLSSLERASLITSDEKKYPVKFNIIDDKIIITSNTEIGAVREEIRVEVNGSNMEVGFNPRYFIEALRVIDDELVDIYFNSSVGPCTIRPLEGDSFAYMILPVRINK',\n",
              " 'MENIKINTEFIKLDQFLKWTKTVSMGSEAKLMIRSGLVKVNGEVELRRGRKLRTGDIVEINDKKFQIV',\n",
              " 'MYIDRILLKNFRNYKDETIKFSKNLNIIYGQNAQGKTNIIEAVFLCASGRSHRTSKDTELVNIDGTGFSVLLDLESSEGRKKIEIDYECGKKKVVKINEIPLKKIGNLMGNLLAVIFSPEDILIIKEGPSERRRFIDITLCQLKPSYFYDLQQYNKVLSQRNMLLKEIQYKRNLLDTLEVWDYKMAELSSRIMTTRSEFIKRLCEISKKIHLKLTDGSEIMEIKYSPSVDLHDLSNPSEIKNEFIRQLNSIRDIELKRCVTLIGPHRDDYEMELNGLNLKMFGSQGQQRTSLLSLKLAEIEIIKSETDEDPVLLLDDVMSELDFKRREFLLENIRNVQTFITCTDKELFENRNFGDNLYIRVEAGRTYY',\n",
              " 'MFLHIGGDRVVPVKNIIAILDMETTTISKDTKDFLAIAEEEGFIQTVSSDIPKSFIITETDKKSIIYLSPISSVTLQKRVGYLEDFSKEIKEIKDAKEAKESKG']"
            ]
          },
          "metadata": {
            "tags": []
          },
          "execution_count": 35
        }
      ]
    },
    {
      "cell_type": "markdown",
      "metadata": {
        "id": "LQSPkR7E5eMc",
        "colab_type": "text"
      },
      "source": [
        "Woohoo, so much better!"
      ]
    },
    {
      "cell_type": "code",
      "metadata": {
        "id": "DV7XQqSgzVXE",
        "colab_type": "code",
        "colab": {}
      },
      "source": [
        "new_df = pd.DataFrame(columns = ['new tag','old tag','sequence'])"
      ],
      "execution_count": 0,
      "outputs": []
    },
    {
      "cell_type": "code",
      "metadata": {
        "id": "BzOFaFnpzmnu",
        "colab_type": "code",
        "colab": {}
      },
      "source": [
        "new_df['sequence'] = clean_sequence_list"
      ],
      "execution_count": 0,
      "outputs": []
    },
    {
      "cell_type": "code",
      "metadata": {
        "id": "ULrILjytzqxX",
        "colab_type": "code",
        "outputId": "6b1f5137-49a1-4a28-8698-fef329d2b827",
        "colab": {
          "base_uri": "https://localhost:8080/",
          "height": 204
        }
      },
      "source": [
        "new_df.head()"
      ],
      "execution_count": 38,
      "outputs": [
        {
          "output_type": "execute_result",
          "data": {
            "text/html": [
              "<div>\n",
              "<style scoped>\n",
              "    .dataframe tbody tr th:only-of-type {\n",
              "        vertical-align: middle;\n",
              "    }\n",
              "\n",
              "    .dataframe tbody tr th {\n",
              "        vertical-align: top;\n",
              "    }\n",
              "\n",
              "    .dataframe thead th {\n",
              "        text-align: right;\n",
              "    }\n",
              "</style>\n",
              "<table border=\"1\" class=\"dataframe\">\n",
              "  <thead>\n",
              "    <tr style=\"text-align: right;\">\n",
              "      <th></th>\n",
              "      <th>new tag</th>\n",
              "      <th>old tag</th>\n",
              "      <th>sequence</th>\n",
              "    </tr>\n",
              "  </thead>\n",
              "  <tbody>\n",
              "    <tr>\n",
              "      <th>0</th>\n",
              "      <td>NaN</td>\n",
              "      <td>NaN</td>\n",
              "      <td>MNTQLNEIWQKTLGLLKNELTEISFNTWIKTIDPLSLTGNTINLAV...</td>\n",
              "    </tr>\n",
              "    <tr>\n",
              "      <th>1</th>\n",
              "      <td>NaN</td>\n",
              "      <td>NaN</td>\n",
              "      <td>MKIVCSKEQLMEGINVVQKAVPTKATLTILEGILLEAYDNFKMTGN...</td>\n",
              "    </tr>\n",
              "    <tr>\n",
              "      <th>2</th>\n",
              "      <td>NaN</td>\n",
              "      <td>NaN</td>\n",
              "      <td>MENIKINTEFIKLDQFLKWTKTVSMGSEAKLMIRSGLVKVNGEVEL...</td>\n",
              "    </tr>\n",
              "    <tr>\n",
              "      <th>3</th>\n",
              "      <td>NaN</td>\n",
              "      <td>NaN</td>\n",
              "      <td>MYIDRILLKNFRNYKDETIKFSKNLNIIYGQNAQGKTNIIEAVFLC...</td>\n",
              "    </tr>\n",
              "    <tr>\n",
              "      <th>4</th>\n",
              "      <td>NaN</td>\n",
              "      <td>NaN</td>\n",
              "      <td>MFLHIGGDRVVPVKNIIAILDMETTTISKDTKDFLAIAEEEGFIQT...</td>\n",
              "    </tr>\n",
              "  </tbody>\n",
              "</table>\n",
              "</div>"
            ],
            "text/plain": [
              "  new tag old tag                                           sequence\n",
              "0     NaN     NaN  MNTQLNEIWQKTLGLLKNELTEISFNTWIKTIDPLSLTGNTINLAV...\n",
              "1     NaN     NaN  MKIVCSKEQLMEGINVVQKAVPTKATLTILEGILLEAYDNFKMTGN...\n",
              "2     NaN     NaN  MENIKINTEFIKLDQFLKWTKTVSMGSEAKLMIRSGLVKVNGEVEL...\n",
              "3     NaN     NaN  MYIDRILLKNFRNYKDETIKFSKNLNIIYGQNAQGKTNIIEAVFLC...\n",
              "4     NaN     NaN  MFLHIGGDRVVPVKNIIAILDMETTTISKDTKDFLAIAEEEGFIQT..."
            ]
          },
          "metadata": {
            "tags": []
          },
          "execution_count": 38
        }
      ]
    },
    {
      "cell_type": "markdown",
      "metadata": {
        "id": "j1fJ-ZoF5oiT",
        "colab_type": "text"
      },
      "source": [
        "Next I will just need to add the tags/IDs."
      ]
    },
    {
      "cell_type": "code",
      "metadata": {
        "id": "3sao3Mw7_kLS",
        "colab_type": "code",
        "colab": {
          "base_uri": "https://localhost:8080/",
          "height": 34
        },
        "outputId": "f829307d-4fd4-4c9e-f2a3-d1896e81603f"
      },
      "source": [
        "type(translation_index)"
      ],
      "execution_count": 39,
      "outputs": [
        {
          "output_type": "execute_result",
          "data": {
            "text/plain": [
              "pandas.core.indexes.numeric.Int64Index"
            ]
          },
          "metadata": {
            "tags": []
          },
          "execution_count": 39
        }
      ]
    },
    {
      "cell_type": "code",
      "metadata": {
        "id": "LEjlKmZk_wDF",
        "colab_type": "code",
        "colab": {}
      },
      "source": [
        "old_tag_index = translation_index -1"
      ],
      "execution_count": 0,
      "outputs": []
    },
    {
      "cell_type": "code",
      "metadata": {
        "id": "WR4zON4i_4n7",
        "colab_type": "code",
        "colab": {
          "base_uri": "https://localhost:8080/",
          "height": 34
        },
        "outputId": "77e7e9eb-b7f1-42a7-dcfa-f7fa3827f586"
      },
      "source": [
        "old_tag_index[:5]"
      ],
      "execution_count": 41,
      "outputs": [
        {
          "output_type": "execute_result",
          "data": {
            "text/plain": [
              "Int64Index([1, 11, 20, 24, 33], dtype='int64')"
            ]
          },
          "metadata": {
            "tags": []
          },
          "execution_count": 41
        }
      ]
    },
    {
      "cell_type": "code",
      "metadata": {
        "id": "P8k0tuq8_4m_",
        "colab_type": "code",
        "colab": {}
      },
      "source": [
        "old_tag_list = []\n",
        "for i in old_tag_index:\n",
        "  old_tag_list.append(table_unique[0][i])"
      ],
      "execution_count": 0,
      "outputs": []
    },
    {
      "cell_type": "code",
      "metadata": {
        "id": "JgWm5fjEALLP",
        "colab_type": "code",
        "colab": {
          "base_uri": "https://localhost:8080/",
          "height": 68
        },
        "outputId": "94795678-d8a6-4436-9c36-c44d35560866"
      },
      "source": [
        "old_tag_list[:3]"
      ],
      "execution_count": 46,
      "outputs": [
        {
          "output_type": "execute_result",
          "data": {
            "text/plain": [
              "['                     /old_locus_tag=\"Clo1313_0001\"',\n",
              " '                     /old_locus_tag=\"Clo1313_0002\"',\n",
              " '                     /old_locus_tag=\"Clo1313_0003\"']"
            ]
          },
          "metadata": {
            "tags": []
          },
          "execution_count": 46
        }
      ]
    },
    {
      "cell_type": "code",
      "metadata": {
        "id": "z1ldDL3aAR8I",
        "colab_type": "code",
        "colab": {}
      },
      "source": [
        "def old_tag(tag_name):\n",
        "  a = re.sub(r\"\\s+\", \"\", tag_name)\n",
        "  b = re.sub('/old_locus_tag=','',a)\n",
        "  c = re.sub('\"', '', b)\n",
        "  return c"
      ],
      "execution_count": 0,
      "outputs": []
    },
    {
      "cell_type": "code",
      "metadata": {
        "id": "Woxf0mfXAmKg",
        "colab_type": "code",
        "colab": {
          "base_uri": "https://localhost:8080/",
          "height": 34
        },
        "outputId": "16361ec0-aa0f-4fd7-e724-ec1105bd26d1"
      },
      "source": [
        "old_tag(old_tag_list[0])"
      ],
      "execution_count": 48,
      "outputs": [
        {
          "output_type": "execute_result",
          "data": {
            "text/plain": [
              "'Clo1313_0001'"
            ]
          },
          "metadata": {
            "tags": []
          },
          "execution_count": 48
        }
      ]
    },
    {
      "cell_type": "code",
      "metadata": {
        "id": "gIv5z4IQAmJf",
        "colab_type": "code",
        "colab": {
          "base_uri": "https://localhost:8080/",
          "height": 34
        },
        "outputId": "c9747e2d-cb01-4260-aa01-fd9e1d81d86d"
      },
      "source": [
        "clean_old_tag = []\n",
        "for tag in old_tag_list:\n",
        "  clean_old_tag.append(old_tag(tag))\n",
        "  \n",
        "print(clean_old_tag[:5])"
      ],
      "execution_count": 49,
      "outputs": [
        {
          "output_type": "stream",
          "text": [
            "['Clo1313_0001', 'Clo1313_0002', 'Clo1313_0003', 'Clo1313_0004', 'Clo1313_0005']\n"
          ],
          "name": "stdout"
        }
      ]
    },
    {
      "cell_type": "code",
      "metadata": {
        "id": "EWzhOn8LAznv",
        "colab_type": "code",
        "colab": {
          "base_uri": "https://localhost:8080/",
          "height": 34
        },
        "outputId": "a2016ea8-d972-4a1d-bd2e-5ddcaec2119f"
      },
      "source": [
        "len(clean_old_tag)"
      ],
      "execution_count": 50,
      "outputs": [
        {
          "output_type": "execute_result",
          "data": {
            "text/plain": [
              "2917"
            ]
          },
          "metadata": {
            "tags": []
          },
          "execution_count": 50
        }
      ]
    },
    {
      "cell_type": "code",
      "metadata": {
        "id": "KxUhrFIdA2Xy",
        "colab_type": "code",
        "colab": {
          "base_uri": "https://localhost:8080/",
          "height": 119
        },
        "outputId": "c56d9a9f-ab0f-467b-d634-57b54f498006"
      },
      "source": [
        "new_df['old tag'] = clean_old_tag\n",
        "print(new_df.head())"
      ],
      "execution_count": 56,
      "outputs": [
        {
          "output_type": "stream",
          "text": [
            "  new tag       old tag                                           sequence\n",
            "0     NaN  Clo1313_0001  MNTQLNEIWQKTLGLLKNELTEISFNTWIKTIDPLSLTGNTINLAV...\n",
            "1     NaN  Clo1313_0002  MKIVCSKEQLMEGINVVQKAVPTKATLTILEGILLEAYDNFKMTGN...\n",
            "2     NaN  Clo1313_0003  MENIKINTEFIKLDQFLKWTKTVSMGSEAKLMIRSGLVKVNGEVEL...\n",
            "3     NaN  Clo1313_0004  MYIDRILLKNFRNYKDETIKFSKNLNIIYGQNAQGKTNIIEAVFLC...\n",
            "4     NaN  Clo1313_0005  MFLHIGGDRVVPVKNIIAILDMETTTISKDTKDFLAIAEEEGFIQT...\n"
          ],
          "name": "stdout"
        }
      ]
    },
    {
      "cell_type": "code",
      "metadata": {
        "id": "JYJKIV2xBSIm",
        "colab_type": "code",
        "colab": {}
      },
      "source": [
        "new_tag_index = translation_index -2"
      ],
      "execution_count": 0,
      "outputs": []
    },
    {
      "cell_type": "code",
      "metadata": {
        "id": "1btMvFyNBSHf",
        "colab_type": "code",
        "colab": {}
      },
      "source": [
        "new_tag_list = []\n",
        "for i in new_tag_index:\n",
        "  new_tag_list.append(table_unique[0][i])"
      ],
      "execution_count": 0,
      "outputs": []
    },
    {
      "cell_type": "code",
      "metadata": {
        "id": "kDJesRBoBebE",
        "colab_type": "code",
        "colab": {
          "base_uri": "https://localhost:8080/",
          "height": 68
        },
        "outputId": "665b4c9e-1c52-4530-ae2a-055e2f20583e"
      },
      "source": [
        "new_tag_list[:3]"
      ],
      "execution_count": 59,
      "outputs": [
        {
          "output_type": "execute_result",
          "data": {
            "text/plain": [
              "['                     /locus_tag=\"CLO1313_RS00010\"',\n",
              " '                     /locus_tag=\"CLO1313_RS00015\"',\n",
              " '                     /locus_tag=\"CLO1313_RS00020\"']"
            ]
          },
          "metadata": {
            "tags": []
          },
          "execution_count": 59
        }
      ]
    },
    {
      "cell_type": "code",
      "metadata": {
        "id": "e26Uh2XOBeZ1",
        "colab_type": "code",
        "colab": {}
      },
      "source": [
        "def new_tag(tag_name):\n",
        "  a = re.sub(r\"\\s+\", \"\", tag_name)\n",
        "  b = re.sub('/locus_tag=','',a)\n",
        "  c = re.sub('\"', '', b)\n",
        "  return c"
      ],
      "execution_count": 0,
      "outputs": []
    },
    {
      "cell_type": "code",
      "metadata": {
        "id": "gcQyOlyGBmKG",
        "colab_type": "code",
        "colab": {
          "base_uri": "https://localhost:8080/",
          "height": 34
        },
        "outputId": "e5180034-f41e-401d-c6cd-e8f2c5fb10d2"
      },
      "source": [
        "new_tag(new_tag_list[0])"
      ],
      "execution_count": 63,
      "outputs": [
        {
          "output_type": "execute_result",
          "data": {
            "text/plain": [
              "'CLO1313_RS00010'"
            ]
          },
          "metadata": {
            "tags": []
          },
          "execution_count": 63
        }
      ]
    },
    {
      "cell_type": "code",
      "metadata": {
        "id": "qUm0CQP1Bo6H",
        "colab_type": "code",
        "colab": {
          "base_uri": "https://localhost:8080/",
          "height": 54
        },
        "outputId": "28c71ae3-6a36-400b-91d3-83a42566a11b"
      },
      "source": [
        "clean_new_tag = []\n",
        "for tag in new_tag_list:\n",
        "  clean_new_tag.append(new_tag(tag))\n",
        "  \n",
        "print(clean_new_tag[:5])"
      ],
      "execution_count": 64,
      "outputs": [
        {
          "output_type": "stream",
          "text": [
            "['CLO1313_RS00010', 'CLO1313_RS00015', 'CLO1313_RS00020', 'CLO1313_RS00025', 'CLO1313_RS00030']\n"
          ],
          "name": "stdout"
        }
      ]
    },
    {
      "cell_type": "code",
      "metadata": {
        "id": "Fd_E-WTdB4QT",
        "colab_type": "code",
        "colab": {
          "base_uri": "https://localhost:8080/",
          "height": 153
        },
        "outputId": "44473f11-3cbb-466a-aa46-7176c9af0962"
      },
      "source": [
        "new_df['new tag'] = clean_new_tag\n",
        "print(new_df.head())"
      ],
      "execution_count": 65,
      "outputs": [
        {
          "output_type": "stream",
          "text": [
            "           new tag  ...                                           sequence\n",
            "0  CLO1313_RS00010  ...  MNTQLNEIWQKTLGLLKNELTEISFNTWIKTIDPLSLTGNTINLAV...\n",
            "1  CLO1313_RS00015  ...  MKIVCSKEQLMEGINVVQKAVPTKATLTILEGILLEAYDNFKMTGN...\n",
            "2  CLO1313_RS00020  ...  MENIKINTEFIKLDQFLKWTKTVSMGSEAKLMIRSGLVKVNGEVEL...\n",
            "3  CLO1313_RS00025  ...  MYIDRILLKNFRNYKDETIKFSKNLNIIYGQNAQGKTNIIEAVFLC...\n",
            "4  CLO1313_RS00030  ...  MFLHIGGDRVVPVKNIIAILDMETTTISKDTKDFLAIAEEEGFIQT...\n",
            "\n",
            "[5 rows x 3 columns]\n"
          ],
          "name": "stdout"
        }
      ]
    },
    {
      "cell_type": "code",
      "metadata": {
        "id": "wHYb3AIPB_dO",
        "colab_type": "code",
        "colab": {}
      },
      "source": [
        "pd.set_option('display.max_columns', None)"
      ],
      "execution_count": 0,
      "outputs": []
    },
    {
      "cell_type": "code",
      "metadata": {
        "id": "JV_Jz1fNCP5k",
        "colab_type": "code",
        "colab": {
          "base_uri": "https://localhost:8080/",
          "height": 224
        },
        "outputId": "3b58e584-1316-4b00-9243-43e1332fc0fa"
      },
      "source": [
        "new_df.head()"
      ],
      "execution_count": 68,
      "outputs": [
        {
          "output_type": "execute_result",
          "data": {
            "text/html": [
              "<div>\n",
              "<style scoped>\n",
              "    .dataframe tbody tr th:only-of-type {\n",
              "        vertical-align: middle;\n",
              "    }\n",
              "\n",
              "    .dataframe tbody tr th {\n",
              "        vertical-align: top;\n",
              "    }\n",
              "\n",
              "    .dataframe thead th {\n",
              "        text-align: right;\n",
              "    }\n",
              "</style>\n",
              "<table border=\"1\" class=\"dataframe\">\n",
              "  <thead>\n",
              "    <tr style=\"text-align: right;\">\n",
              "      <th></th>\n",
              "      <th>new tag</th>\n",
              "      <th>old tag</th>\n",
              "      <th>sequence</th>\n",
              "    </tr>\n",
              "  </thead>\n",
              "  <tbody>\n",
              "    <tr>\n",
              "      <th>0</th>\n",
              "      <td>CLO1313_RS00010</td>\n",
              "      <td>Clo1313_0001</td>\n",
              "      <td>MNTQLNEIWQKTLGLLKNELTEISFNTWIKTIDPLSLTGNTINLAV...</td>\n",
              "    </tr>\n",
              "    <tr>\n",
              "      <th>1</th>\n",
              "      <td>CLO1313_RS00015</td>\n",
              "      <td>Clo1313_0002</td>\n",
              "      <td>MKIVCSKEQLMEGINVVQKAVPTKATLTILEGILLEAYDNFKMTGN...</td>\n",
              "    </tr>\n",
              "    <tr>\n",
              "      <th>2</th>\n",
              "      <td>CLO1313_RS00020</td>\n",
              "      <td>Clo1313_0003</td>\n",
              "      <td>MENIKINTEFIKLDQFLKWTKTVSMGSEAKLMIRSGLVKVNGEVEL...</td>\n",
              "    </tr>\n",
              "    <tr>\n",
              "      <th>3</th>\n",
              "      <td>CLO1313_RS00025</td>\n",
              "      <td>Clo1313_0004</td>\n",
              "      <td>MYIDRILLKNFRNYKDETIKFSKNLNIIYGQNAQGKTNIIEAVFLC...</td>\n",
              "    </tr>\n",
              "    <tr>\n",
              "      <th>4</th>\n",
              "      <td>CLO1313_RS00030</td>\n",
              "      <td>Clo1313_0005</td>\n",
              "      <td>MFLHIGGDRVVPVKNIIAILDMETTTISKDTKDFLAIAEEEGFIQT...</td>\n",
              "    </tr>\n",
              "  </tbody>\n",
              "</table>\n",
              "</div>"
            ],
            "text/plain": [
              "           new tag       old tag  \\\n",
              "0  CLO1313_RS00010  Clo1313_0001   \n",
              "1  CLO1313_RS00015  Clo1313_0002   \n",
              "2  CLO1313_RS00020  Clo1313_0003   \n",
              "3  CLO1313_RS00025  Clo1313_0004   \n",
              "4  CLO1313_RS00030  Clo1313_0005   \n",
              "\n",
              "                                            sequence  \n",
              "0  MNTQLNEIWQKTLGLLKNELTEISFNTWIKTIDPLSLTGNTINLAV...  \n",
              "1  MKIVCSKEQLMEGINVVQKAVPTKATLTILEGILLEAYDNFKMTGN...  \n",
              "2  MENIKINTEFIKLDQFLKWTKTVSMGSEAKLMIRSGLVKVNGEVEL...  \n",
              "3  MYIDRILLKNFRNYKDETIKFSKNLNIIYGQNAQGKTNIIEAVFLC...  \n",
              "4  MFLHIGGDRVVPVKNIIAILDMETTTISKDTKDFLAIAEEEGFIQT...  "
            ]
          },
          "metadata": {
            "tags": []
          },
          "execution_count": 68
        }
      ]
    },
    {
      "cell_type": "markdown",
      "metadata": {
        "id": "Tcd3fC8gCUNX",
        "colab_type": "text"
      },
      "source": [
        "What is the new tag and the amino acid sequence of Clo1313_0396?"
      ]
    },
    {
      "cell_type": "code",
      "metadata": {
        "id": "aspjTkOPCc0Y",
        "colab_type": "code",
        "colab": {
          "base_uri": "https://localhost:8080/",
          "height": 100
        },
        "outputId": "12a2ddf6-3e9b-4eea-a73c-ca6bf4d2852d"
      },
      "source": [
        "new_df[new_df['old tag'] == 'Clo1313_0396']"
      ],
      "execution_count": 69,
      "outputs": [
        {
          "output_type": "execute_result",
          "data": {
            "text/html": [
              "<div>\n",
              "<style scoped>\n",
              "    .dataframe tbody tr th:only-of-type {\n",
              "        vertical-align: middle;\n",
              "    }\n",
              "\n",
              "    .dataframe tbody tr th {\n",
              "        vertical-align: top;\n",
              "    }\n",
              "\n",
              "    .dataframe thead th {\n",
              "        text-align: right;\n",
              "    }\n",
              "</style>\n",
              "<table border=\"1\" class=\"dataframe\">\n",
              "  <thead>\n",
              "    <tr style=\"text-align: right;\">\n",
              "      <th></th>\n",
              "      <th>new tag</th>\n",
              "      <th>old tag</th>\n",
              "      <th>sequence</th>\n",
              "    </tr>\n",
              "  </thead>\n",
              "  <tbody>\n",
              "    <tr>\n",
              "      <th>386</th>\n",
              "      <td>CLO1313_RS02005</td>\n",
              "      <td>Clo1313_0396</td>\n",
              "      <td>MTSEEIAKLCGVSRATVSRVINNSPNVKEETRQKILAVIKEKNYVP...</td>\n",
              "    </tr>\n",
              "  </tbody>\n",
              "</table>\n",
              "</div>"
            ],
            "text/plain": [
              "             new tag       old tag  \\\n",
              "386  CLO1313_RS02005  Clo1313_0396   \n",
              "\n",
              "                                              sequence  \n",
              "386  MTSEEIAKLCGVSRATVSRVINNSPNVKEETRQKILAVIKEKNYVP...  "
            ]
          },
          "metadata": {
            "tags": []
          },
          "execution_count": 69
        }
      ]
    },
    {
      "cell_type": "code",
      "metadata": {
        "id": "d7162OrYCj1M",
        "colab_type": "code",
        "colab": {
          "base_uri": "https://localhost:8080/",
          "height": 34
        },
        "outputId": "4130ccb1-f92c-46d7-ece9-620a279bdbd8"
      },
      "source": [
        "import numpy as np\n",
        "new_df['sequence'].str.len().sum()/2917"
      ],
      "execution_count": 80,
      "outputs": [
        {
          "output_type": "execute_result",
          "data": {
            "text/plain": [
              "341.7545423380185"
            ]
          },
          "metadata": {
            "tags": []
          },
          "execution_count": 80
        }
      ]
    },
    {
      "cell_type": "markdown",
      "metadata": {
        "id": "uEk6ZbVvDvEx",
        "colab_type": "text"
      },
      "source": [
        "The average protein sequence is 341.75 amino acids in this organism. "
      ]
    }
  ]
}