{
  "nbformat": 4,
  "nbformat_minor": 0,
  "metadata": {
    "colab": {
      "name": "Copy of Untitled0.ipynb",
      "provenance": [],
      "collapsed_sections": [],
      "include_colab_link": true
    },
    "kernelspec": {
      "name": "python3",
      "display_name": "Python 3"
    },
    "accelerator": "GPU"
  },
  "cells": [
    {
      "cell_type": "markdown",
      "metadata": {
        "id": "view-in-github",
        "colab_type": "text"
      },
      "source": [
        "<a href=\"https://colab.research.google.com/github/bbchen33/Data-Science/blob/master/Genome_data_wrangling.ipynb\" target=\"_parent\"><img src=\"https://colab.research.google.com/assets/colab-badge.svg\" alt=\"Open In Colab\"/></a>"
      ]
    },
    {
      "cell_type": "markdown",
      "metadata": {
        "id": "0lgRBcH-3KLn",
        "colab_type": "text"
      },
      "source": [
        "# Data wrangling for genome and genes from an unfavored organism - *Clostridium thermocellum*\n",
        "My fate as a molecular biologist has been mostly dealing with non-model organisms so data wrangling process in this notebook is useful for folks in hell as well.\n",
        "First, I downloaded the annotated genome from NCBI."
      ]
    },
    {
      "cell_type": "code",
      "metadata": {
        "id": "neQRtvDf37YN",
        "colab_type": "code",
        "outputId": "023dd84a-4dea-463d-fde8-f97ae25eebe9",
        "colab": {
          "base_uri": "https://localhost:8080/",
          "height": 283
        }
      },
      "source": [
        "!wget ftp://ftp.ncbi.nlm.nih.gov/genomes/all/GCF/000/184/925/GCF_000184925.1_ASM18492v1/GCF_000184925.1_ASM18492v1_genomic.gbff.gz"
      ],
      "execution_count": 1,
      "outputs": [
        {
          "output_type": "stream",
          "text": [
            "--2020-03-19 02:54:59--  ftp://ftp.ncbi.nlm.nih.gov/genomes/all/GCF/000/184/925/GCF_000184925.1_ASM18492v1/GCF_000184925.1_ASM18492v1_genomic.gbff.gz\n",
            "           => ‘GCF_000184925.1_ASM18492v1_genomic.gbff.gz’\n",
            "Resolving ftp.ncbi.nlm.nih.gov (ftp.ncbi.nlm.nih.gov)... 130.14.250.10, 2607:f220:41e:250::13\n",
            "Connecting to ftp.ncbi.nlm.nih.gov (ftp.ncbi.nlm.nih.gov)|130.14.250.10|:21... connected.\n",
            "Logging in as anonymous ... Logged in!\n",
            "==> SYST ... done.    ==> PWD ... done.\n",
            "==> TYPE I ... done.  ==> CWD (1) /genomes/all/GCF/000/184/925/GCF_000184925.1_ASM18492v1 ... done.\n",
            "==> SIZE GCF_000184925.1_ASM18492v1_genomic.gbff.gz ... 2437012\n",
            "==> PASV ... done.    ==> RETR GCF_000184925.1_ASM18492v1_genomic.gbff.gz ... done.\n",
            "Length: 2437012 (2.3M) (unauthoritative)\n",
            "\n",
            "GCF_000184925.1_ASM 100%[===================>]   2.32M  1.48MB/s    in 1.6s    \n",
            "\n",
            "2020-03-19 02:55:05 (1.48 MB/s) - ‘GCF_000184925.1_ASM18492v1_genomic.gbff.gz’ saved [2437012]\n",
            "\n"
          ],
          "name": "stdout"
        }
      ]
    },
    {
      "cell_type": "code",
      "metadata": {
        "id": "NafoeRKr6WXD",
        "colab_type": "code",
        "outputId": "dc4a1ff9-7fd6-4566-d9a6-ce611e07cc6b",
        "colab": {
          "base_uri": "https://localhost:8080/",
          "height": 34
        }
      },
      "source": [
        "!ls #checking that it's in the directory"
      ],
      "execution_count": 2,
      "outputs": [
        {
          "output_type": "stream",
          "text": [
            "GCF_000184925.1_ASM18492v1_genomic.gbff.gz  sample_data\n"
          ],
          "name": "stdout"
        }
      ]
    },
    {
      "cell_type": "code",
      "metadata": {
        "id": "9U6CoLRo6ZnD",
        "colab_type": "code",
        "colab": {}
      },
      "source": [
        "!gunzip GCF_000184925.1_ASM18492v1_genomic.gbff.gz # unzip the file"
      ],
      "execution_count": 0,
      "outputs": []
    },
    {
      "cell_type": "code",
      "metadata": {
        "id": "etL5wI1e6bYL",
        "colab_type": "code",
        "outputId": "7265afe7-5b5e-4043-da51-efff3eeaafba",
        "colab": {
          "base_uri": "https://localhost:8080/",
          "height": 1000
        }
      },
      "source": [
        "!head -100 GCF_000184925.1_ASM18492v1_genomic.gbff # examine the start of the data"
      ],
      "execution_count": 4,
      "outputs": [
        {
          "output_type": "stream",
          "text": [
            "LOCUS       NC_017304            3561619 bp    DNA     circular CON 05-JAN-2020\n",
            "DEFINITION  Hungateiclostridium thermocellum DSM 1313, complete sequence.\n",
            "ACCESSION   NC_017304\n",
            "VERSION     NC_017304.1\n",
            "DBLINK      BioProject: PRJNA224116\n",
            "            BioSample: SAMN00713572\n",
            "            Assembly: GCF_000184925.1\n",
            "KEYWORDS    GSC:MIGS:2.1; RefSeq.\n",
            "SOURCE      Hungateiclostridium thermocellum DSM 1313\n",
            "  ORGANISM  Hungateiclostridium thermocellum DSM 1313\n",
            "            Bacteria; Firmicutes; Clostridia; Clostridiales;\n",
            "            Hungateiclostridiaceae; Hungateiclostridium.\n",
            "REFERENCE   1  (bases 1 to 3561619)\n",
            "  AUTHORS   Feinberg,L., Foden,J., Barrett,T., Davenport,K.W., Bruce,D.,\n",
            "            Detter,C., Tapia,R., Han,C., Lapidus,A., Lucas,S., Cheng,J.F.,\n",
            "            Pitluck,S., Woyke,T., Ivanova,N., Mikhailova,N., Land,M.,\n",
            "            Hauser,L., Argyros,D.A., Goodwin,L., Hogsett,D. and Caiazza,N.\n",
            "  TITLE     Complete genome sequence of the cellulolytic thermophile\n",
            "            Clostridium thermocellum DSM1313\n",
            "  JOURNAL   J. Bacteriol. 193 (11), 2906-2907 (2011)\n",
            "   PUBMED   21460082\n",
            "REFERENCE   2  (bases 1 to 3561619)\n",
            "  AUTHORS   Lucas,S., Copeland,A., Lapidus,A., Cheng,J.-F., Goodwin,L.,\n",
            "            Pitluck,S., Davenport,K., Detter,J.C., Han,C., Tapia,R., Land,M.,\n",
            "            Hauser,L., Kyrpides,N., Ivanova,N., Mikhailova,N., Hogsett,D.,\n",
            "            Foden,J., Feinberg,L. and Woyke,T.\n",
            "  CONSRTM   US DOE Joint Genome Institute\n",
            "  TITLE     Complete sequence of Clostridium thermocellum DSM 1313\n",
            "  JOURNAL   Unpublished\n",
            "REFERENCE   3  (bases 1 to 3561619)\n",
            "  AUTHORS   Lucas,S., Copeland,A., Lapidus,A., Cheng,J.-F., Goodwin,L.,\n",
            "            Pitluck,S., Davenport,K., Detter,J.C., Han,C., Tapia,R., Land,M.,\n",
            "            Hauser,L., Kyrpides,N., Ivanova,N., Mikhailova,N., Hogsett,D.,\n",
            "            Foden,J., Feinberg,L. and Woyke,T.\n",
            "  CONSRTM   US DOE Joint Genome Institute\n",
            "  TITLE     Direct Submission\n",
            "  JOURNAL   Submitted (22-DEC-2010) US DOE Joint Genome Institute, 2800\n",
            "            Mitchell Drive B310, Walnut Creek, CA 94598-1698, USA\n",
            "COMMENT     REFSEQ INFORMATION: The reference sequence was derived from\n",
            "            CP002416.\n",
            "            URL -- http://www.jgi.doe.gov\n",
            "            JGI Project ID: 4087133\n",
            "            Source DNA available from Lawrence Feinberg (lfeinberg@mascoma.com)\n",
            "            Organism available from DSMZ: DSM 1313\n",
            "            Contacts: Lawrence Feinberg (lfeinberg@mascoma.com)\n",
            "                      Tanja Woyke (microbe@cuba.jgi-psf.org)\n",
            "            Annotation done by JGI-ORNL and JGI-PGF\n",
            "            Finishing done by JGI-LANL\n",
            "            The JGI and collaborators endorse the principles for the\n",
            "            distribution and use of large scale sequencing data adopted by the\n",
            "            larger genome sequencing community and urge users of this data to\n",
            "            follow them. it is our intention to publish the work of this\n",
            "            project in a timely fashion and we welcome collaborative\n",
            "            interaction on the project and analysis.\n",
            "            (http://www.genome.gov/page.cfm?pageID=10506376).\n",
            "            The annotation was added by the NCBI Prokaryotic Genome Annotation\n",
            "            Pipeline (PGAP). Information about PGAP can be found here:\n",
            "            https://www.ncbi.nlm.nih.gov/genome/annotation_prok/\n",
            "            \n",
            "            ##MIGS-Data-START##\n",
            "            investigation_type  :: bacteria_archaea\n",
            "            project_name        :: Clostridium thermocellum LQ8, DSM 1313\n",
            "            collection_date     :: Missing\n",
            "            lat_lon             :: Missing\n",
            "            depth               :: Missing\n",
            "            alt_elev            :: Missing\n",
            "            country             :: Missing\n",
            "            environment         :: Missing\n",
            "            num_replicons       :: 1\n",
            "            ref_biomaterial     :: LMG 6656, DSM 1313\n",
            "            biotic_relationship :: Free living\n",
            "            trophic_level       :: Chemoorganotroph\n",
            "            rel_to_oxygen       :: Anaerobe\n",
            "            isol_growth_condt   :: Missing\n",
            "            sequencing_meth     :: WGS\n",
            "            assembly            :: Newbler v. 2.3 (pre-release)\n",
            "            finishing_strategy  :: Finished\n",
            "            GOLD Stamp ID       :: Gi05562\n",
            "            Type Strain         :: No\n",
            "            Isolation Comments  :: isolated by Viljoen et al 1926\n",
            "            Cell Shape          :: Rod-shaped\n",
            "            Motility            :: Motile\n",
            "            Sporulation         :: Sporulating\n",
            "            Temperature Range   :: Thermophile\n",
            "            Temperature Optimum :: 60C\n",
            "            Gram Staining       :: Gram+\n",
            "            Diseases            :: None\n",
            "            ##MIGS-Data-END##\n",
            "            \n",
            "            ##Genome-Assembly-Data-START##\n",
            "            Finishing Goal           :: Finished\n",
            "            Current Finishing Status :: Finished\n",
            "            Assembly Method          :: Newbler v. 2.3\n",
            "            Genome Coverage          :: 30x\n",
            "            Sequencing Technology    :: 454, Sanger\n",
            "            ##Genome-Assembly-Data-END##\n",
            "            \n",
            "            ##Genome-Annotation-Data-START##\n",
            "            Annotation Provider               :: NCBI RefSeq\n",
            "            Annotation Date                   :: 01/05/2020 12:54:20\n"
          ],
          "name": "stdout"
        }
      ]
    },
    {
      "cell_type": "markdown",
      "metadata": {
        "id": "DXJ2VLnjH5xf",
        "colab_type": "text"
      },
      "source": [
        "The first many lines are just the information about the genome, when it was sequenced and etc. "
      ]
    },
    {
      "cell_type": "code",
      "metadata": {
        "id": "tHlQ2_USINsV",
        "colab_type": "code",
        "outputId": "400600f0-a42c-4353-e2ee-4a475e5b715b",
        "colab": {
          "base_uri": "https://localhost:8080/",
          "height": 194
        }
      },
      "source": [
        "!tail -10 GCF_000184925.1_ASM18492v1_genomic.gbff #examine the end of the data"
      ],
      "execution_count": 5,
      "outputs": [
        {
          "output_type": "stream",
          "text": [
            "  3561121 aacacaacaa acacccccaa tccttttttc tgaatcgcta tataaaattt aacctgcgac\n",
            "  3561181 ttttccgcta aaataaattt tatttaaata aactttgcct tcaatttaac attcaaaaca\n",
            "  3561241 tgaactataa cgaaaaatac cctattataa attgtaactc actgaaaata ccttatcaat\n",
            "  3561301 tatatattaa actaattatc aatgtcaaga aactattttt gtggataatt atcaaattaa\n",
            "  3561361 ttttattttt ttgtggatat cttttcgttt ttttgttgaa tattgcccca aagtctgata\n",
            "  3561421 atatattaaa tacctgttga taactcgtta ataactcaca atttatcaac agaaattgtt\n",
            "  3561481 aataactttg ttgacaactt gaacaaaaaa cttttttcgc cttcgtcatt ttactaaaca\n",
            "  3561541 atacttttta ccactatatt atatgttgtt tttaacaact tatacaaaat tatttcaatt\n",
            "  3561601 aaatgcttaa gatgccttt\n",
            "//\n"
          ],
          "name": "stdout"
        }
      ]
    },
    {
      "cell_type": "markdown",
      "metadata": {
        "id": "4zhDrKpAIaMx",
        "colab_type": "text"
      },
      "source": [
        "The last part of the data contained the actual genome sequence. Things in between are the part that I am interested (gene ID and amino acid sequences)"
      ]
    },
    {
      "cell_type": "code",
      "metadata": {
        "id": "0GFP1pOzJFkG",
        "colab_type": "code",
        "outputId": "cc42c025-1577-4c0e-bcba-c22b057ac4f7",
        "colab": {
          "base_uri": "https://localhost:8080/",
          "height": 461
        }
      },
      "source": [
        "!sed -n -e '310, 334p' GCF_000184925.1_ASM18492v1_genomic.gbff # showing data in the middle that contain CDS and gene names. "
      ],
      "execution_count": 6,
      "outputs": [
        {
          "output_type": "stream",
          "text": [
            "                     /old_locus_tag=\"Clo1313_0009\"\n",
            "     CDS             9889..10398\n",
            "                     /locus_tag=\"CLO1313_RS00050\"\n",
            "                     /old_locus_tag=\"Clo1313_0009\"\n",
            "                     /inference=\"COORDINATES: similar to AA\n",
            "                     sequence:RefSeq:WP_003513304.1\"\n",
            "                     /note=\"Derived by automated computational analysis using\n",
            "                     gene prediction method: Protein Homology.\"\n",
            "                     /codon_start=1\n",
            "                     /transl_table=11\n",
            "                     /product=\"DUF4446 family protein\"\n",
            "                     /protein_id=\"WP_003513304.1\"\n",
            "                     /translation=\"MSSDVIIDVIELYGPFVLIANAIVTLILIIALFVTNRKLKELKR\n",
            "                     KYKKFMNGSDNKNIEELLLDNIKLSNDISLKNKEIENRVMSLERDLQRCIQKVGVVRY\n",
            "                     NAFDDVGSDLSFSIALLDDNDNGVVISGIYSRESSTTYAKKIVNGTSKNPLSAEELQA\n",
            "                     ISESKKINY\"\n",
            "     gene            10419..11159\n",
            "                     /locus_tag=\"CLO1313_RS00055\"\n",
            "                     /old_locus_tag=\"Clo1313_0010\"\n",
            "     CDS             10419..11159\n",
            "                     /locus_tag=\"CLO1313_RS00055\"\n",
            "                     /old_locus_tag=\"Clo1313_0010\"\n",
            "                     /inference=\"COORDINATES: similar to AA\n",
            "                     sequence:RefSeq:WP_003513303.1\"\n",
            "                     /note=\"Derived by automated computational analysis using\n"
          ],
          "name": "stdout"
        }
      ]
    },
    {
      "cell_type": "markdown",
      "metadata": {
        "id": "x1xkJPOn4Qnu",
        "colab_type": "text"
      },
      "source": [
        "In this organism, gene names are annotated as \"locus_tag\" or \"old_locus_tag\". "
      ]
    },
    {
      "cell_type": "code",
      "metadata": {
        "id": "Q-fNyMqR7YtB",
        "colab_type": "code",
        "colab": {}
      },
      "source": [
        "import pandas as pd\n",
        "table = pd.read_table('GCF_000184925.1_ASM18492v1_genomic.gbff', header = None) # turning the messy texts into a table"
      ],
      "execution_count": 0,
      "outputs": []
    },
    {
      "cell_type": "code",
      "metadata": {
        "id": "lCCt0ja37ewE",
        "colab_type": "code",
        "outputId": "1737a02d-4045-46e8-be2d-5d44092ee2ad",
        "colab": {
          "base_uri": "https://localhost:8080/",
          "height": 197
        }
      },
      "source": [
        "table.head()"
      ],
      "execution_count": 8,
      "outputs": [
        {
          "output_type": "execute_result",
          "data": {
            "text/html": [
              "<div>\n",
              "<style scoped>\n",
              "    .dataframe tbody tr th:only-of-type {\n",
              "        vertical-align: middle;\n",
              "    }\n",
              "\n",
              "    .dataframe tbody tr th {\n",
              "        vertical-align: top;\n",
              "    }\n",
              "\n",
              "    .dataframe thead th {\n",
              "        text-align: right;\n",
              "    }\n",
              "</style>\n",
              "<table border=\"1\" class=\"dataframe\">\n",
              "  <thead>\n",
              "    <tr style=\"text-align: right;\">\n",
              "      <th></th>\n",
              "      <th>0</th>\n",
              "    </tr>\n",
              "  </thead>\n",
              "  <tbody>\n",
              "    <tr>\n",
              "      <th>0</th>\n",
              "      <td>LOCUS       NC_017304            3561619 bp   ...</td>\n",
              "    </tr>\n",
              "    <tr>\n",
              "      <th>1</th>\n",
              "      <td>DEFINITION  Hungateiclostridium thermocellum D...</td>\n",
              "    </tr>\n",
              "    <tr>\n",
              "      <th>2</th>\n",
              "      <td>ACCESSION   NC_017304</td>\n",
              "    </tr>\n",
              "    <tr>\n",
              "      <th>3</th>\n",
              "      <td>VERSION     NC_017304.1</td>\n",
              "    </tr>\n",
              "    <tr>\n",
              "      <th>4</th>\n",
              "      <td>DBLINK      BioProject: PRJNA224116</td>\n",
              "    </tr>\n",
              "  </tbody>\n",
              "</table>\n",
              "</div>"
            ],
            "text/plain": [
              "                                                   0\n",
              "0  LOCUS       NC_017304            3561619 bp   ...\n",
              "1  DEFINITION  Hungateiclostridium thermocellum D...\n",
              "2                              ACCESSION   NC_017304\n",
              "3                            VERSION     NC_017304.1\n",
              "4                DBLINK      BioProject: PRJNA224116"
            ]
          },
          "metadata": {
            "tags": []
          },
          "execution_count": 8
        }
      ]
    },
    {
      "cell_type": "markdown",
      "metadata": {
        "id": "MpnGo4hO9Grq",
        "colab_type": "text"
      },
      "source": [
        "It looks like from row 0 down to row 130 is just the background information. Let's remove them."
      ]
    },
    {
      "cell_type": "code",
      "metadata": {
        "id": "bfS9I1TEKnnu",
        "colab_type": "code",
        "outputId": "c4dfa87f-9f66-471a-e1ed-26a2aaa87435",
        "colab": {
          "base_uri": "https://localhost:8080/",
          "height": 437
        }
      },
      "source": [
        "table.iloc[125:138]"
      ],
      "execution_count": 9,
      "outputs": [
        {
          "output_type": "execute_result",
          "data": {
            "text/html": [
              "<div>\n",
              "<style scoped>\n",
              "    .dataframe tbody tr th:only-of-type {\n",
              "        vertical-align: middle;\n",
              "    }\n",
              "\n",
              "    .dataframe tbody tr th {\n",
              "        vertical-align: top;\n",
              "    }\n",
              "\n",
              "    .dataframe thead th {\n",
              "        text-align: right;\n",
              "    }\n",
              "</style>\n",
              "<table border=\"1\" class=\"dataframe\">\n",
              "  <thead>\n",
              "    <tr style=\"text-align: right;\">\n",
              "      <th></th>\n",
              "      <th>0</th>\n",
              "    </tr>\n",
              "  </thead>\n",
              "  <tbody>\n",
              "    <tr>\n",
              "      <th>125</th>\n",
              "      <td>/organism=\"Hungateiclostr...</td>\n",
              "    </tr>\n",
              "    <tr>\n",
              "      <th>126</th>\n",
              "      <td>/mol_type=\"genomic DNA\"</td>\n",
              "    </tr>\n",
              "    <tr>\n",
              "      <th>127</th>\n",
              "      <td>/strain=\"DSM 1313\"</td>\n",
              "    </tr>\n",
              "    <tr>\n",
              "      <th>128</th>\n",
              "      <td>/culture_collection=\"DSM:...</td>\n",
              "    </tr>\n",
              "    <tr>\n",
              "      <th>129</th>\n",
              "      <td>/db_xref=\"taxon:637887\"</td>\n",
              "    </tr>\n",
              "    <tr>\n",
              "      <th>130</th>\n",
              "      <td>/collection_date=\"1926\"</td>\n",
              "    </tr>\n",
              "    <tr>\n",
              "      <th>131</th>\n",
              "      <td>/collected_by=\"Viljoen et...</td>\n",
              "    </tr>\n",
              "    <tr>\n",
              "      <th>132</th>\n",
              "      <td>gene            212..1543</td>\n",
              "    </tr>\n",
              "    <tr>\n",
              "      <th>133</th>\n",
              "      <td>/gene=\"dnaA\"</td>\n",
              "    </tr>\n",
              "    <tr>\n",
              "      <th>134</th>\n",
              "      <td>/locus_tag=\"CLO1313_RS00010\"</td>\n",
              "    </tr>\n",
              "    <tr>\n",
              "      <th>135</th>\n",
              "      <td>/old_locus_tag=\"Clo1313_0...</td>\n",
              "    </tr>\n",
              "    <tr>\n",
              "      <th>136</th>\n",
              "      <td>CDS             212..1543</td>\n",
              "    </tr>\n",
              "    <tr>\n",
              "      <th>137</th>\n",
              "      <td>/gene=\"dnaA\"</td>\n",
              "    </tr>\n",
              "  </tbody>\n",
              "</table>\n",
              "</div>"
            ],
            "text/plain": [
              "                                                     0\n",
              "125                       /organism=\"Hungateiclostr...\n",
              "126                            /mol_type=\"genomic DNA\"\n",
              "127                                 /strain=\"DSM 1313\"\n",
              "128                       /culture_collection=\"DSM:...\n",
              "129                            /db_xref=\"taxon:637887\"\n",
              "130                            /collection_date=\"1926\"\n",
              "131                       /collected_by=\"Viljoen et...\n",
              "132                          gene            212..1543\n",
              "133                                       /gene=\"dnaA\"\n",
              "134                       /locus_tag=\"CLO1313_RS00010\"\n",
              "135                       /old_locus_tag=\"Clo1313_0...\n",
              "136                          CDS             212..1543\n",
              "137                                       /gene=\"dnaA\""
            ]
          },
          "metadata": {
            "tags": []
          },
          "execution_count": 9
        }
      ]
    },
    {
      "cell_type": "code",
      "metadata": {
        "id": "tzwGx5CU9Mz9",
        "colab_type": "code",
        "colab": {}
      },
      "source": [
        "table = table.iloc[133:]"
      ],
      "execution_count": 0,
      "outputs": []
    },
    {
      "cell_type": "code",
      "metadata": {
        "id": "yYWCE6Du9VuQ",
        "colab_type": "code",
        "outputId": "85a76875-2510-400e-8d94-73c940cbf420",
        "colab": {
          "base_uri": "https://localhost:8080/",
          "height": 947
        }
      },
      "source": [
        "table.head(30) # making sure the background stuff is gone"
      ],
      "execution_count": 11,
      "outputs": [
        {
          "output_type": "execute_result",
          "data": {
            "text/html": [
              "<div>\n",
              "<style scoped>\n",
              "    .dataframe tbody tr th:only-of-type {\n",
              "        vertical-align: middle;\n",
              "    }\n",
              "\n",
              "    .dataframe tbody tr th {\n",
              "        vertical-align: top;\n",
              "    }\n",
              "\n",
              "    .dataframe thead th {\n",
              "        text-align: right;\n",
              "    }\n",
              "</style>\n",
              "<table border=\"1\" class=\"dataframe\">\n",
              "  <thead>\n",
              "    <tr style=\"text-align: right;\">\n",
              "      <th></th>\n",
              "      <th>0</th>\n",
              "    </tr>\n",
              "  </thead>\n",
              "  <tbody>\n",
              "    <tr>\n",
              "      <th>133</th>\n",
              "      <td>/gene=\"dnaA\"</td>\n",
              "    </tr>\n",
              "    <tr>\n",
              "      <th>134</th>\n",
              "      <td>/locus_tag=\"CLO1313_RS00010\"</td>\n",
              "    </tr>\n",
              "    <tr>\n",
              "      <th>135</th>\n",
              "      <td>/old_locus_tag=\"Clo1313_0...</td>\n",
              "    </tr>\n",
              "    <tr>\n",
              "      <th>136</th>\n",
              "      <td>CDS             212..1543</td>\n",
              "    </tr>\n",
              "    <tr>\n",
              "      <th>137</th>\n",
              "      <td>/gene=\"dnaA\"</td>\n",
              "    </tr>\n",
              "    <tr>\n",
              "      <th>138</th>\n",
              "      <td>/locus_tag=\"CLO1313_RS00010\"</td>\n",
              "    </tr>\n",
              "    <tr>\n",
              "      <th>139</th>\n",
              "      <td>/old_locus_tag=\"Clo1313_0...</td>\n",
              "    </tr>\n",
              "    <tr>\n",
              "      <th>140</th>\n",
              "      <td>/inference=\"COORDINATES: ...</td>\n",
              "    </tr>\n",
              "    <tr>\n",
              "      <th>141</th>\n",
              "      <td>sequence:RefSeq:WP_020457...</td>\n",
              "    </tr>\n",
              "    <tr>\n",
              "      <th>142</th>\n",
              "      <td>/note=\"Derived by automat...</td>\n",
              "    </tr>\n",
              "    <tr>\n",
              "      <th>143</th>\n",
              "      <td>gene prediction method: P...</td>\n",
              "    </tr>\n",
              "    <tr>\n",
              "      <th>144</th>\n",
              "      <td>/codon_start=1</td>\n",
              "    </tr>\n",
              "    <tr>\n",
              "      <th>145</th>\n",
              "      <td>/transl_table=11</td>\n",
              "    </tr>\n",
              "    <tr>\n",
              "      <th>146</th>\n",
              "      <td>/product=\"chromosomal rep...</td>\n",
              "    </tr>\n",
              "    <tr>\n",
              "      <th>147</th>\n",
              "      <td>/protein_id=\"WP_003516465.1\"</td>\n",
              "    </tr>\n",
              "    <tr>\n",
              "      <th>148</th>\n",
              "      <td>/translation=\"MNTQLNEIWQK...</td>\n",
              "    </tr>\n",
              "    <tr>\n",
              "      <th>149</th>\n",
              "      <td>AVPAEFNKGILESRYQTLIKNAIKQ...</td>\n",
              "    </tr>\n",
              "    <tr>\n",
              "      <th>150</th>\n",
              "      <td>PLSVLNPKYTFDTFVIGNSNRFAHA...</td>\n",
              "    </tr>\n",
              "    <tr>\n",
              "      <th>151</th>\n",
              "      <td>GHYILEQNSSQRVLYVSSEKFTNEL...</td>\n",
              "    </tr>\n",
              "    <tr>\n",
              "      <th>152</th>\n",
              "      <td>ERTEEEFFHTFNALYEANKQIILSS...</td>\n",
              "    </tr>\n",
              "    <tr>\n",
              "      <th>153</th>\n",
              "      <td>IAILRKKAQLENLTVPNEVIVFIAD...</td>\n",
              "    </tr>\n",
              "    <tr>\n",
              "      <th>154</th>\n",
              "      <td>EALKDILSANKAKVLNCTTIQEAVA...</td>\n",
              "    </tr>\n",
              "    <tr>\n",
              "      <th>155</th>\n",
              "      <td>TEMSLPKIGEEFGGRDHTTVIHACE...</td>\n",
              "    </tr>\n",
              "    <tr>\n",
              "      <th>156</th>\n",
              "      <td>gene            1793..2893</td>\n",
              "    </tr>\n",
              "    <tr>\n",
              "      <th>157</th>\n",
              "      <td>/locus_tag=\"CLO1313_RS00015\"</td>\n",
              "    </tr>\n",
              "    <tr>\n",
              "      <th>158</th>\n",
              "      <td>/old_locus_tag=\"Clo1313_0...</td>\n",
              "    </tr>\n",
              "    <tr>\n",
              "      <th>159</th>\n",
              "      <td>CDS             1793..2893</td>\n",
              "    </tr>\n",
              "    <tr>\n",
              "      <th>160</th>\n",
              "      <td>/locus_tag=\"CLO1313_RS00015\"</td>\n",
              "    </tr>\n",
              "    <tr>\n",
              "      <th>161</th>\n",
              "      <td>/old_locus_tag=\"Clo1313_0...</td>\n",
              "    </tr>\n",
              "    <tr>\n",
              "      <th>162</th>\n",
              "      <td>/EC_number=\"2.7.7.7\"</td>\n",
              "    </tr>\n",
              "  </tbody>\n",
              "</table>\n",
              "</div>"
            ],
            "text/plain": [
              "                                                     0\n",
              "133                                       /gene=\"dnaA\"\n",
              "134                       /locus_tag=\"CLO1313_RS00010\"\n",
              "135                       /old_locus_tag=\"Clo1313_0...\n",
              "136                          CDS             212..1543\n",
              "137                                       /gene=\"dnaA\"\n",
              "138                       /locus_tag=\"CLO1313_RS00010\"\n",
              "139                       /old_locus_tag=\"Clo1313_0...\n",
              "140                       /inference=\"COORDINATES: ...\n",
              "141                       sequence:RefSeq:WP_020457...\n",
              "142                       /note=\"Derived by automat...\n",
              "143                       gene prediction method: P...\n",
              "144                                     /codon_start=1\n",
              "145                                   /transl_table=11\n",
              "146                       /product=\"chromosomal rep...\n",
              "147                       /protein_id=\"WP_003516465.1\"\n",
              "148                       /translation=\"MNTQLNEIWQK...\n",
              "149                       AVPAEFNKGILESRYQTLIKNAIKQ...\n",
              "150                       PLSVLNPKYTFDTFVIGNSNRFAHA...\n",
              "151                       GHYILEQNSSQRVLYVSSEKFTNEL...\n",
              "152                       ERTEEEFFHTFNALYEANKQIILSS...\n",
              "153                       IAILRKKAQLENLTVPNEVIVFIAD...\n",
              "154                       EALKDILSANKAKVLNCTTIQEAVA...\n",
              "155                       TEMSLPKIGEEFGGRDHTTVIHACE...\n",
              "156                         gene            1793..2893\n",
              "157                       /locus_tag=\"CLO1313_RS00015\"\n",
              "158                       /old_locus_tag=\"Clo1313_0...\n",
              "159                         CDS             1793..2893\n",
              "160                       /locus_tag=\"CLO1313_RS00015\"\n",
              "161                       /old_locus_tag=\"Clo1313_0...\n",
              "162                               /EC_number=\"2.7.7.7\""
            ]
          },
          "metadata": {
            "tags": []
          },
          "execution_count": 11
        }
      ]
    },
    {
      "cell_type": "markdown",
      "metadata": {
        "id": "LzwHJeCr-eet",
        "colab_type": "text"
      },
      "source": [
        "I only want to keep the locus tags and the actual amino acid sequence so I'll delete the rest of the rows."
      ]
    },
    {
      "cell_type": "code",
      "metadata": {
        "id": "oqgv_fir9abN",
        "colab_type": "code",
        "colab": {}
      },
      "source": [
        "rows_to_remove_list = ['gene','CDS','/inference','sequence:','/note','gene prediction','/codon_start','transl_table','/product=','protein_id', '/EC_number=']"
      ],
      "execution_count": 0,
      "outputs": []
    },
    {
      "cell_type": "code",
      "metadata": {
        "id": "94YU9aUW_Yhz",
        "colab_type": "code",
        "colab": {}
      },
      "source": [
        "for item in rows_to_remove_list:\n",
        "  table = table[~table[0].str.contains(item)]"
      ],
      "execution_count": 0,
      "outputs": []
    },
    {
      "cell_type": "code",
      "metadata": {
        "id": "zL7UF6Q1_sCO",
        "colab_type": "code",
        "outputId": "b7857cea-e037-48c4-cbbf-54e17965803e",
        "colab": {
          "base_uri": "https://localhost:8080/",
          "height": 1000
        }
      },
      "source": [
        "table.head(50)"
      ],
      "execution_count": 14,
      "outputs": [
        {
          "output_type": "execute_result",
          "data": {
            "text/html": [
              "<div>\n",
              "<style scoped>\n",
              "    .dataframe tbody tr th:only-of-type {\n",
              "        vertical-align: middle;\n",
              "    }\n",
              "\n",
              "    .dataframe tbody tr th {\n",
              "        vertical-align: top;\n",
              "    }\n",
              "\n",
              "    .dataframe thead th {\n",
              "        text-align: right;\n",
              "    }\n",
              "</style>\n",
              "<table border=\"1\" class=\"dataframe\">\n",
              "  <thead>\n",
              "    <tr style=\"text-align: right;\">\n",
              "      <th></th>\n",
              "      <th>0</th>\n",
              "    </tr>\n",
              "  </thead>\n",
              "  <tbody>\n",
              "    <tr>\n",
              "      <th>134</th>\n",
              "      <td>/locus_tag=\"CLO1313_RS00010\"</td>\n",
              "    </tr>\n",
              "    <tr>\n",
              "      <th>135</th>\n",
              "      <td>/old_locus_tag=\"Clo1313_0...</td>\n",
              "    </tr>\n",
              "    <tr>\n",
              "      <th>138</th>\n",
              "      <td>/locus_tag=\"CLO1313_RS00010\"</td>\n",
              "    </tr>\n",
              "    <tr>\n",
              "      <th>139</th>\n",
              "      <td>/old_locus_tag=\"Clo1313_0...</td>\n",
              "    </tr>\n",
              "    <tr>\n",
              "      <th>148</th>\n",
              "      <td>/translation=\"MNTQLNEIWQK...</td>\n",
              "    </tr>\n",
              "    <tr>\n",
              "      <th>149</th>\n",
              "      <td>AVPAEFNKGILESRYQTLIKNAIKQ...</td>\n",
              "    </tr>\n",
              "    <tr>\n",
              "      <th>150</th>\n",
              "      <td>PLSVLNPKYTFDTFVIGNSNRFAHA...</td>\n",
              "    </tr>\n",
              "    <tr>\n",
              "      <th>151</th>\n",
              "      <td>GHYILEQNSSQRVLYVSSEKFTNEL...</td>\n",
              "    </tr>\n",
              "    <tr>\n",
              "      <th>152</th>\n",
              "      <td>ERTEEEFFHTFNALYEANKQIILSS...</td>\n",
              "    </tr>\n",
              "    <tr>\n",
              "      <th>153</th>\n",
              "      <td>IAILRKKAQLENLTVPNEVIVFIAD...</td>\n",
              "    </tr>\n",
              "    <tr>\n",
              "      <th>154</th>\n",
              "      <td>EALKDILSANKAKVLNCTTIQEAVA...</td>\n",
              "    </tr>\n",
              "    <tr>\n",
              "      <th>155</th>\n",
              "      <td>TEMSLPKIGEEFGGRDHTTVIHACE...</td>\n",
              "    </tr>\n",
              "    <tr>\n",
              "      <th>157</th>\n",
              "      <td>/locus_tag=\"CLO1313_RS00015\"</td>\n",
              "    </tr>\n",
              "    <tr>\n",
              "      <th>158</th>\n",
              "      <td>/old_locus_tag=\"Clo1313_0...</td>\n",
              "    </tr>\n",
              "    <tr>\n",
              "      <th>160</th>\n",
              "      <td>/locus_tag=\"CLO1313_RS00015\"</td>\n",
              "    </tr>\n",
              "    <tr>\n",
              "      <th>161</th>\n",
              "      <td>/old_locus_tag=\"Clo1313_0...</td>\n",
              "    </tr>\n",
              "    <tr>\n",
              "      <th>171</th>\n",
              "      <td>/translation=\"MKIVCSKEQLM...</td>\n",
              "    </tr>\n",
              "    <tr>\n",
              "      <th>172</th>\n",
              "      <td>GNDLELGIECLIDADILEKGSIVLN...</td>\n",
              "    </tr>\n",
              "    <tr>\n",
              "      <th>173</th>\n",
              "      <td>HFELRGMPSDSFPSLPSIEKENMIK...</td>\n",
              "    </tr>\n",
              "    <tr>\n",
              "      <th>174</th>\n",
              "      <td>AGNEITFVSIDGFRMALRKNFNNEG...</td>\n",
              "    </tr>\n",
              "    <tr>\n",
              "      <th>175</th>\n",
              "      <td>NQILFEIGNCKVVSRLLEGEYLNYK...</td>\n",
              "    </tr>\n",
              "    <tr>\n",
              "      <th>176</th>\n",
              "      <td>KYPVKFNIIDDKIIITSNTEIGAVR...</td>\n",
              "    </tr>\n",
              "    <tr>\n",
              "      <th>177</th>\n",
              "      <td>DIYFNSSVGPCTIRPLEGDSFAYMI...</td>\n",
              "    </tr>\n",
              "    <tr>\n",
              "      <th>180</th>\n",
              "      <td>/locus_tag=\"CLO1313_RS00020\"</td>\n",
              "    </tr>\n",
              "    <tr>\n",
              "      <th>181</th>\n",
              "      <td>/old_locus_tag=\"Clo1313_0...</td>\n",
              "    </tr>\n",
              "    <tr>\n",
              "      <th>184</th>\n",
              "      <td>/locus_tag=\"CLO1313_RS00020\"</td>\n",
              "    </tr>\n",
              "    <tr>\n",
              "      <th>185</th>\n",
              "      <td>/old_locus_tag=\"Clo1313_0...</td>\n",
              "    </tr>\n",
              "    <tr>\n",
              "      <th>194</th>\n",
              "      <td>/translation=\"MENIKINTEFI...</td>\n",
              "    </tr>\n",
              "    <tr>\n",
              "      <th>195</th>\n",
              "      <td>ELRRGRKLRTGDIVEINDKKFQIV\"</td>\n",
              "    </tr>\n",
              "    <tr>\n",
              "      <th>198</th>\n",
              "      <td>/locus_tag=\"CLO1313_RS00025\"</td>\n",
              "    </tr>\n",
              "    <tr>\n",
              "      <th>199</th>\n",
              "      <td>/old_locus_tag=\"Clo1313_0...</td>\n",
              "    </tr>\n",
              "    <tr>\n",
              "      <th>202</th>\n",
              "      <td>/locus_tag=\"CLO1313_RS00025\"</td>\n",
              "    </tr>\n",
              "    <tr>\n",
              "      <th>203</th>\n",
              "      <td>/old_locus_tag=\"Clo1313_0...</td>\n",
              "    </tr>\n",
              "    <tr>\n",
              "      <th>212</th>\n",
              "      <td>/translation=\"MYIDRILLKNF...</td>\n",
              "    </tr>\n",
              "    <tr>\n",
              "      <th>213</th>\n",
              "      <td>LCASGRSHRTSKDTELVNIDGTGFS...</td>\n",
              "    </tr>\n",
              "    <tr>\n",
              "      <th>214</th>\n",
              "      <td>KKIGNLMGNLLAVIFSPEDILIIKE...</td>\n",
              "    </tr>\n",
              "    <tr>\n",
              "      <th>215</th>\n",
              "      <td>RNMLLKEIQYKRNLLDTLEVWDYKM...</td>\n",
              "    </tr>\n",
              "    <tr>\n",
              "      <th>216</th>\n",
              "      <td>EIMEIKYSPSVDLHDLSNPSEIKNE...</td>\n",
              "    </tr>\n",
              "    <tr>\n",
              "      <th>217</th>\n",
              "      <td>LNLKMFGSQGQQRTSLLSLKLAEIE...</td>\n",
              "    </tr>\n",
              "    <tr>\n",
              "      <th>218</th>\n",
              "      <td>RNVQTFITCTDKELFENRNFGDNLY...</td>\n",
              "    </tr>\n",
              "    <tr>\n",
              "      <th>220</th>\n",
              "      <td>/locus_tag=\"CLO1313_RS00030\"</td>\n",
              "    </tr>\n",
              "    <tr>\n",
              "      <th>221</th>\n",
              "      <td>/old_locus_tag=\"Clo1313_0...</td>\n",
              "    </tr>\n",
              "    <tr>\n",
              "      <th>223</th>\n",
              "      <td>/locus_tag=\"CLO1313_RS00030\"</td>\n",
              "    </tr>\n",
              "    <tr>\n",
              "      <th>224</th>\n",
              "      <td>/old_locus_tag=\"Clo1313_0...</td>\n",
              "    </tr>\n",
              "    <tr>\n",
              "      <th>233</th>\n",
              "      <td>/translation=\"MFLHIGGDRVV...</td>\n",
              "    </tr>\n",
              "    <tr>\n",
              "      <th>234</th>\n",
              "      <td>QTVSSDIPKSFIITETDKKSIIYLS...</td>\n",
              "    </tr>\n",
              "    <tr>\n",
              "      <th>235</th>\n",
              "      <td>KG\"</td>\n",
              "    </tr>\n",
              "    <tr>\n",
              "      <th>238</th>\n",
              "      <td>/locus_tag=\"CLO1313_RS00035\"</td>\n",
              "    </tr>\n",
              "    <tr>\n",
              "      <th>239</th>\n",
              "      <td>/old_locus_tag=\"Clo1313_0...</td>\n",
              "    </tr>\n",
              "    <tr>\n",
              "      <th>242</th>\n",
              "      <td>/locus_tag=\"CLO1313_RS00035\"</td>\n",
              "    </tr>\n",
              "  </tbody>\n",
              "</table>\n",
              "</div>"
            ],
            "text/plain": [
              "                                                     0\n",
              "134                       /locus_tag=\"CLO1313_RS00010\"\n",
              "135                       /old_locus_tag=\"Clo1313_0...\n",
              "138                       /locus_tag=\"CLO1313_RS00010\"\n",
              "139                       /old_locus_tag=\"Clo1313_0...\n",
              "148                       /translation=\"MNTQLNEIWQK...\n",
              "149                       AVPAEFNKGILESRYQTLIKNAIKQ...\n",
              "150                       PLSVLNPKYTFDTFVIGNSNRFAHA...\n",
              "151                       GHYILEQNSSQRVLYVSSEKFTNEL...\n",
              "152                       ERTEEEFFHTFNALYEANKQIILSS...\n",
              "153                       IAILRKKAQLENLTVPNEVIVFIAD...\n",
              "154                       EALKDILSANKAKVLNCTTIQEAVA...\n",
              "155                       TEMSLPKIGEEFGGRDHTTVIHACE...\n",
              "157                       /locus_tag=\"CLO1313_RS00015\"\n",
              "158                       /old_locus_tag=\"Clo1313_0...\n",
              "160                       /locus_tag=\"CLO1313_RS00015\"\n",
              "161                       /old_locus_tag=\"Clo1313_0...\n",
              "171                       /translation=\"MKIVCSKEQLM...\n",
              "172                       GNDLELGIECLIDADILEKGSIVLN...\n",
              "173                       HFELRGMPSDSFPSLPSIEKENMIK...\n",
              "174                       AGNEITFVSIDGFRMALRKNFNNEG...\n",
              "175                       NQILFEIGNCKVVSRLLEGEYLNYK...\n",
              "176                       KYPVKFNIIDDKIIITSNTEIGAVR...\n",
              "177                       DIYFNSSVGPCTIRPLEGDSFAYMI...\n",
              "180                       /locus_tag=\"CLO1313_RS00020\"\n",
              "181                       /old_locus_tag=\"Clo1313_0...\n",
              "184                       /locus_tag=\"CLO1313_RS00020\"\n",
              "185                       /old_locus_tag=\"Clo1313_0...\n",
              "194                       /translation=\"MENIKINTEFI...\n",
              "195                          ELRRGRKLRTGDIVEINDKKFQIV\"\n",
              "198                       /locus_tag=\"CLO1313_RS00025\"\n",
              "199                       /old_locus_tag=\"Clo1313_0...\n",
              "202                       /locus_tag=\"CLO1313_RS00025\"\n",
              "203                       /old_locus_tag=\"Clo1313_0...\n",
              "212                       /translation=\"MYIDRILLKNF...\n",
              "213                       LCASGRSHRTSKDTELVNIDGTGFS...\n",
              "214                       KKIGNLMGNLLAVIFSPEDILIIKE...\n",
              "215                       RNMLLKEIQYKRNLLDTLEVWDYKM...\n",
              "216                       EIMEIKYSPSVDLHDLSNPSEIKNE...\n",
              "217                       LNLKMFGSQGQQRTSLLSLKLAEIE...\n",
              "218                       RNVQTFITCTDKELFENRNFGDNLY...\n",
              "220                       /locus_tag=\"CLO1313_RS00030\"\n",
              "221                       /old_locus_tag=\"Clo1313_0...\n",
              "223                       /locus_tag=\"CLO1313_RS00030\"\n",
              "224                       /old_locus_tag=\"Clo1313_0...\n",
              "233                       /translation=\"MFLHIGGDRVV...\n",
              "234                       QTVSSDIPKSFIITETDKKSIIYLS...\n",
              "235                                                KG\"\n",
              "238                       /locus_tag=\"CLO1313_RS00035\"\n",
              "239                       /old_locus_tag=\"Clo1313_0...\n",
              "242                       /locus_tag=\"CLO1313_RS00035\""
            ]
          },
          "metadata": {
            "tags": []
          },
          "execution_count": 14
        }
      ]
    },
    {
      "cell_type": "markdown",
      "metadata": {
        "id": "tQXWDMFUtAjS",
        "colab_type": "text"
      },
      "source": [
        "Remove duplicate values. It looks like each locus tag appears twice."
      ]
    },
    {
      "cell_type": "code",
      "metadata": {
        "id": "FRl1spzQtIpP",
        "colab_type": "code",
        "colab": {}
      },
      "source": [
        "table_unique = table.drop_duplicates()"
      ],
      "execution_count": 0,
      "outputs": []
    },
    {
      "cell_type": "code",
      "metadata": {
        "id": "j1LSEXsatJ8a",
        "colab_type": "code",
        "outputId": "4f046ad1-5bb6-4e49-ac5a-f58d356ac53d",
        "colab": {
          "base_uri": "https://localhost:8080/",
          "height": 647
        }
      },
      "source": [
        "table_unique.head(20)"
      ],
      "execution_count": 16,
      "outputs": [
        {
          "output_type": "execute_result",
          "data": {
            "text/html": [
              "<div>\n",
              "<style scoped>\n",
              "    .dataframe tbody tr th:only-of-type {\n",
              "        vertical-align: middle;\n",
              "    }\n",
              "\n",
              "    .dataframe tbody tr th {\n",
              "        vertical-align: top;\n",
              "    }\n",
              "\n",
              "    .dataframe thead th {\n",
              "        text-align: right;\n",
              "    }\n",
              "</style>\n",
              "<table border=\"1\" class=\"dataframe\">\n",
              "  <thead>\n",
              "    <tr style=\"text-align: right;\">\n",
              "      <th></th>\n",
              "      <th>0</th>\n",
              "    </tr>\n",
              "  </thead>\n",
              "  <tbody>\n",
              "    <tr>\n",
              "      <th>134</th>\n",
              "      <td>/locus_tag=\"CLO1313_RS00010\"</td>\n",
              "    </tr>\n",
              "    <tr>\n",
              "      <th>135</th>\n",
              "      <td>/old_locus_tag=\"Clo1313_0...</td>\n",
              "    </tr>\n",
              "    <tr>\n",
              "      <th>148</th>\n",
              "      <td>/translation=\"MNTQLNEIWQK...</td>\n",
              "    </tr>\n",
              "    <tr>\n",
              "      <th>149</th>\n",
              "      <td>AVPAEFNKGILESRYQTLIKNAIKQ...</td>\n",
              "    </tr>\n",
              "    <tr>\n",
              "      <th>150</th>\n",
              "      <td>PLSVLNPKYTFDTFVIGNSNRFAHA...</td>\n",
              "    </tr>\n",
              "    <tr>\n",
              "      <th>151</th>\n",
              "      <td>GHYILEQNSSQRVLYVSSEKFTNEL...</td>\n",
              "    </tr>\n",
              "    <tr>\n",
              "      <th>152</th>\n",
              "      <td>ERTEEEFFHTFNALYEANKQIILSS...</td>\n",
              "    </tr>\n",
              "    <tr>\n",
              "      <th>153</th>\n",
              "      <td>IAILRKKAQLENLTVPNEVIVFIAD...</td>\n",
              "    </tr>\n",
              "    <tr>\n",
              "      <th>154</th>\n",
              "      <td>EALKDILSANKAKVLNCTTIQEAVA...</td>\n",
              "    </tr>\n",
              "    <tr>\n",
              "      <th>155</th>\n",
              "      <td>TEMSLPKIGEEFGGRDHTTVIHACE...</td>\n",
              "    </tr>\n",
              "    <tr>\n",
              "      <th>157</th>\n",
              "      <td>/locus_tag=\"CLO1313_RS00015\"</td>\n",
              "    </tr>\n",
              "    <tr>\n",
              "      <th>158</th>\n",
              "      <td>/old_locus_tag=\"Clo1313_0...</td>\n",
              "    </tr>\n",
              "    <tr>\n",
              "      <th>171</th>\n",
              "      <td>/translation=\"MKIVCSKEQLM...</td>\n",
              "    </tr>\n",
              "    <tr>\n",
              "      <th>172</th>\n",
              "      <td>GNDLELGIECLIDADILEKGSIVLN...</td>\n",
              "    </tr>\n",
              "    <tr>\n",
              "      <th>173</th>\n",
              "      <td>HFELRGMPSDSFPSLPSIEKENMIK...</td>\n",
              "    </tr>\n",
              "    <tr>\n",
              "      <th>174</th>\n",
              "      <td>AGNEITFVSIDGFRMALRKNFNNEG...</td>\n",
              "    </tr>\n",
              "    <tr>\n",
              "      <th>175</th>\n",
              "      <td>NQILFEIGNCKVVSRLLEGEYLNYK...</td>\n",
              "    </tr>\n",
              "    <tr>\n",
              "      <th>176</th>\n",
              "      <td>KYPVKFNIIDDKIIITSNTEIGAVR...</td>\n",
              "    </tr>\n",
              "    <tr>\n",
              "      <th>177</th>\n",
              "      <td>DIYFNSSVGPCTIRPLEGDSFAYMI...</td>\n",
              "    </tr>\n",
              "    <tr>\n",
              "      <th>180</th>\n",
              "      <td>/locus_tag=\"CLO1313_RS00020\"</td>\n",
              "    </tr>\n",
              "  </tbody>\n",
              "</table>\n",
              "</div>"
            ],
            "text/plain": [
              "                                                     0\n",
              "134                       /locus_tag=\"CLO1313_RS00010\"\n",
              "135                       /old_locus_tag=\"Clo1313_0...\n",
              "148                       /translation=\"MNTQLNEIWQK...\n",
              "149                       AVPAEFNKGILESRYQTLIKNAIKQ...\n",
              "150                       PLSVLNPKYTFDTFVIGNSNRFAHA...\n",
              "151                       GHYILEQNSSQRVLYVSSEKFTNEL...\n",
              "152                       ERTEEEFFHTFNALYEANKQIILSS...\n",
              "153                       IAILRKKAQLENLTVPNEVIVFIAD...\n",
              "154                       EALKDILSANKAKVLNCTTIQEAVA...\n",
              "155                       TEMSLPKIGEEFGGRDHTTVIHACE...\n",
              "157                       /locus_tag=\"CLO1313_RS00015\"\n",
              "158                       /old_locus_tag=\"Clo1313_0...\n",
              "171                       /translation=\"MKIVCSKEQLM...\n",
              "172                       GNDLELGIECLIDADILEKGSIVLN...\n",
              "173                       HFELRGMPSDSFPSLPSIEKENMIK...\n",
              "174                       AGNEITFVSIDGFRMALRKNFNNEG...\n",
              "175                       NQILFEIGNCKVVSRLLEGEYLNYK...\n",
              "176                       KYPVKFNIIDDKIIITSNTEIGAVR...\n",
              "177                       DIYFNSSVGPCTIRPLEGDSFAYMI...\n",
              "180                       /locus_tag=\"CLO1313_RS00020\""
            ]
          },
          "metadata": {
            "tags": []
          },
          "execution_count": 16
        }
      ]
    },
    {
      "cell_type": "code",
      "metadata": {
        "id": "EClVf3GVvqQT",
        "colab_type": "code",
        "colab": {}
      },
      "source": [
        "table_unique = table_unique.reset_index(drop = True)"
      ],
      "execution_count": 0,
      "outputs": []
    },
    {
      "cell_type": "code",
      "metadata": {
        "id": "DrTigm5AvvfY",
        "colab_type": "code",
        "outputId": "7022e7b3-bd0d-4695-cb21-1eb76b907712",
        "colab": {
          "base_uri": "https://localhost:8080/",
          "height": 647
        }
      },
      "source": [
        "table_unique.head(20)"
      ],
      "execution_count": 18,
      "outputs": [
        {
          "output_type": "execute_result",
          "data": {
            "text/html": [
              "<div>\n",
              "<style scoped>\n",
              "    .dataframe tbody tr th:only-of-type {\n",
              "        vertical-align: middle;\n",
              "    }\n",
              "\n",
              "    .dataframe tbody tr th {\n",
              "        vertical-align: top;\n",
              "    }\n",
              "\n",
              "    .dataframe thead th {\n",
              "        text-align: right;\n",
              "    }\n",
              "</style>\n",
              "<table border=\"1\" class=\"dataframe\">\n",
              "  <thead>\n",
              "    <tr style=\"text-align: right;\">\n",
              "      <th></th>\n",
              "      <th>0</th>\n",
              "    </tr>\n",
              "  </thead>\n",
              "  <tbody>\n",
              "    <tr>\n",
              "      <th>0</th>\n",
              "      <td>/locus_tag=\"CLO1313_RS00010\"</td>\n",
              "    </tr>\n",
              "    <tr>\n",
              "      <th>1</th>\n",
              "      <td>/old_locus_tag=\"Clo1313_0...</td>\n",
              "    </tr>\n",
              "    <tr>\n",
              "      <th>2</th>\n",
              "      <td>/translation=\"MNTQLNEIWQK...</td>\n",
              "    </tr>\n",
              "    <tr>\n",
              "      <th>3</th>\n",
              "      <td>AVPAEFNKGILESRYQTLIKNAIKQ...</td>\n",
              "    </tr>\n",
              "    <tr>\n",
              "      <th>4</th>\n",
              "      <td>PLSVLNPKYTFDTFVIGNSNRFAHA...</td>\n",
              "    </tr>\n",
              "    <tr>\n",
              "      <th>5</th>\n",
              "      <td>GHYILEQNSSQRVLYVSSEKFTNEL...</td>\n",
              "    </tr>\n",
              "    <tr>\n",
              "      <th>6</th>\n",
              "      <td>ERTEEEFFHTFNALYEANKQIILSS...</td>\n",
              "    </tr>\n",
              "    <tr>\n",
              "      <th>7</th>\n",
              "      <td>IAILRKKAQLENLTVPNEVIVFIAD...</td>\n",
              "    </tr>\n",
              "    <tr>\n",
              "      <th>8</th>\n",
              "      <td>EALKDILSANKAKVLNCTTIQEAVA...</td>\n",
              "    </tr>\n",
              "    <tr>\n",
              "      <th>9</th>\n",
              "      <td>TEMSLPKIGEEFGGRDHTTVIHACE...</td>\n",
              "    </tr>\n",
              "    <tr>\n",
              "      <th>10</th>\n",
              "      <td>/locus_tag=\"CLO1313_RS00015\"</td>\n",
              "    </tr>\n",
              "    <tr>\n",
              "      <th>11</th>\n",
              "      <td>/old_locus_tag=\"Clo1313_0...</td>\n",
              "    </tr>\n",
              "    <tr>\n",
              "      <th>12</th>\n",
              "      <td>/translation=\"MKIVCSKEQLM...</td>\n",
              "    </tr>\n",
              "    <tr>\n",
              "      <th>13</th>\n",
              "      <td>GNDLELGIECLIDADILEKGSIVLN...</td>\n",
              "    </tr>\n",
              "    <tr>\n",
              "      <th>14</th>\n",
              "      <td>HFELRGMPSDSFPSLPSIEKENMIK...</td>\n",
              "    </tr>\n",
              "    <tr>\n",
              "      <th>15</th>\n",
              "      <td>AGNEITFVSIDGFRMALRKNFNNEG...</td>\n",
              "    </tr>\n",
              "    <tr>\n",
              "      <th>16</th>\n",
              "      <td>NQILFEIGNCKVVSRLLEGEYLNYK...</td>\n",
              "    </tr>\n",
              "    <tr>\n",
              "      <th>17</th>\n",
              "      <td>KYPVKFNIIDDKIIITSNTEIGAVR...</td>\n",
              "    </tr>\n",
              "    <tr>\n",
              "      <th>18</th>\n",
              "      <td>DIYFNSSVGPCTIRPLEGDSFAYMI...</td>\n",
              "    </tr>\n",
              "    <tr>\n",
              "      <th>19</th>\n",
              "      <td>/locus_tag=\"CLO1313_RS00020\"</td>\n",
              "    </tr>\n",
              "  </tbody>\n",
              "</table>\n",
              "</div>"
            ],
            "text/plain": [
              "                                                    0\n",
              "0                        /locus_tag=\"CLO1313_RS00010\"\n",
              "1                        /old_locus_tag=\"Clo1313_0...\n",
              "2                        /translation=\"MNTQLNEIWQK...\n",
              "3                        AVPAEFNKGILESRYQTLIKNAIKQ...\n",
              "4                        PLSVLNPKYTFDTFVIGNSNRFAHA...\n",
              "5                        GHYILEQNSSQRVLYVSSEKFTNEL...\n",
              "6                        ERTEEEFFHTFNALYEANKQIILSS...\n",
              "7                        IAILRKKAQLENLTVPNEVIVFIAD...\n",
              "8                        EALKDILSANKAKVLNCTTIQEAVA...\n",
              "9                        TEMSLPKIGEEFGGRDHTTVIHACE...\n",
              "10                       /locus_tag=\"CLO1313_RS00015\"\n",
              "11                       /old_locus_tag=\"Clo1313_0...\n",
              "12                       /translation=\"MKIVCSKEQLM...\n",
              "13                       GNDLELGIECLIDADILEKGSIVLN...\n",
              "14                       HFELRGMPSDSFPSLPSIEKENMIK...\n",
              "15                       AGNEITFVSIDGFRMALRKNFNNEG...\n",
              "16                       NQILFEIGNCKVVSRLLEGEYLNYK...\n",
              "17                       KYPVKFNIIDDKIIITSNTEIGAVR...\n",
              "18                       DIYFNSSVGPCTIRPLEGDSFAYMI...\n",
              "19                       /locus_tag=\"CLO1313_RS00020\""
            ]
          },
          "metadata": {
            "tags": []
          },
          "execution_count": 18
        }
      ]
    },
    {
      "cell_type": "markdown",
      "metadata": {
        "id": "OlNDivP26Gvr",
        "colab_type": "text"
      },
      "source": [
        "The protein sequence always starts with \"/translation\" so I can use that to find the index of where protein sequence occurs. "
      ]
    },
    {
      "cell_type": "code",
      "metadata": {
        "id": "Bov8tKj1v6oP",
        "colab_type": "code",
        "colab": {}
      },
      "source": [
        "translation_index = table_unique[table_unique[0].str.contains('/translation')].index"
      ],
      "execution_count": 0,
      "outputs": []
    },
    {
      "cell_type": "code",
      "metadata": {
        "id": "jOyx7nLEwFUY",
        "colab_type": "code",
        "outputId": "efb7a2bd-a831-4534-d92f-04ad32b78997",
        "colab": {
          "base_uri": "https://localhost:8080/",
          "height": 123
        }
      },
      "source": [
        "translation_index"
      ],
      "execution_count": 20,
      "outputs": [
        {
          "output_type": "execute_result",
          "data": {
            "text/plain": [
              "Int64Index([    2,    12,    21,    25,    34,    39,    53,    60,    68,\n",
              "               74,\n",
              "            ...\n",
              "            25200, 25217, 25226, 25234, 25249, 25260, 25266, 25275, 25279,\n",
              "            25284],\n",
              "           dtype='int64', length=2896)"
            ]
          },
          "metadata": {
            "tags": []
          },
          "execution_count": 20
        }
      ]
    },
    {
      "cell_type": "code",
      "metadata": {
        "id": "yDIo7vSQwHra",
        "colab_type": "code",
        "outputId": "a8c9e29e-ad5b-48d7-c889-dc7ab0bf3fac",
        "colab": {
          "base_uri": "https://localhost:8080/",
          "height": 158
        }
      },
      "source": [
        "table_unique[0][12:19].values # looking at the data near the translation index to see the structure of the data"
      ],
      "execution_count": 21,
      "outputs": [
        {
          "output_type": "execute_result",
          "data": {
            "text/plain": [
              "array(['                     /translation=\"MKIVCSKEQLMEGINVVQKAVPTKATLTILEGILLEAYDNFKMT',\n",
              "       '                     GNDLELGIECLIDADILEKGSIVLNSKMFGDIVRRLPDSEVLIEVKENNTVIIECDNS',\n",
              "       '                     HFELRGMPSDSFPSLPSIEKENMIKVSQKAIRDMIRQTLFAVSMEGTRPILTGSLIEC',\n",
              "       '                     AGNEITFVSIDGFRMALRKNFNNEGFSEFSVVVPAKTLSEIGKILQPVDEDIYIYSSQ',\n",
              "       '                     NQILFEIGNCKVVSRLLEGEYLNYKSIIPPEYETSVRLRTEDLLSSLERASLITSDEK',\n",
              "       '                     KYPVKFNIIDDKIIITSNTEIGAVREEIRVEVNGSNMEVGFNPRYFIEALRVIDDELV',\n",
              "       '                     DIYFNSSVGPCTIRPLEGDSFAYMILPVRINK\"'],\n",
              "      dtype=object)"
            ]
          },
          "metadata": {
            "tags": []
          },
          "execution_count": 21
        }
      ]
    },
    {
      "cell_type": "markdown",
      "metadata": {
        "id": "3qITVMf-6SlQ",
        "colab_type": "text"
      },
      "source": [
        "The locus_tag and old_locus_tag are at the end of the protein sequence so the index of end of protein sequence would be the index of the next protein sequence - 2."
      ]
    },
    {
      "cell_type": "code",
      "metadata": {
        "id": "ayJ39WMnwZEn",
        "colab_type": "code",
        "colab": {}
      },
      "source": [
        "new_df = pd.DataFrame(columns = ['old tag', 'new tag', 'sequence']) # preparing a new dataframe to store \"old_locus_tag\", \"locus_tag\" and amino acid sequences."
      ],
      "execution_count": 0,
      "outputs": []
    },
    {
      "cell_type": "code",
      "metadata": {
        "id": "RMp3-oe2xoFT",
        "colab_type": "code",
        "colab": {}
      },
      "source": [
        "sequences = []"
      ],
      "execution_count": 0,
      "outputs": []
    },
    {
      "cell_type": "code",
      "metadata": {
        "id": "sVAqM-_Bxgpc",
        "colab_type": "code",
        "outputId": "98ec38f9-a6bb-4079-e33a-465d6209da98",
        "colab": {
          "base_uri": "https://localhost:8080/",
          "height": 176
        }
      },
      "source": [
        "table_unique[0][2:10].values"
      ],
      "execution_count": 24,
      "outputs": [
        {
          "output_type": "execute_result",
          "data": {
            "text/plain": [
              "array(['                     /translation=\"MNTQLNEIWQKTLGLLKNELTEISFNTWIKTIDPLSLTGNTINL',\n",
              "       '                     AVPAEFNKGILESRYQTLIKNAIKQVTFKEYEIAFIVPSQENLNKLTKQTESAGNEDS',\n",
              "       '                     PLSVLNPKYTFDTFVIGNSNRFAHAAALAVAEAPGKAYNPLFIYGGVGLGKTHLMHAI',\n",
              "       '                     GHYILEQNSSQRVLYVSSEKFTNELINAIKDNRNEEFRSKYRNIDVLLIDDIQFIAGK',\n",
              "       '                     ERTEEEFFHTFNALYEANKQIILSSDKPPKEISLEDRLRSRFEWGLIADMQAPDLETR',\n",
              "       '                     IAILRKKAQLENLTVPNEVIVFIADKIASNIRELEGALNRVIAYSSLTENEITVELAS',\n",
              "       '                     EALKDILSANKAKVLNCTTIQEAVARYFDIRPEEFKSKKRTRDIAFPRQIAMYLCREL',\n",
              "       '                     TEMSLPKIGEEFGGRDHTTVIHACEKISEEIESNSETRRAVSEIKRNLLGK\"'],\n",
              "      dtype=object)"
            ]
          },
          "metadata": {
            "tags": []
          },
          "execution_count": 24
        }
      ]
    },
    {
      "cell_type": "markdown",
      "metadata": {
        "id": "JTgH5mUsLxGl",
        "colab_type": "text"
      },
      "source": [
        "Adding the amino acid sequences to the list 'sequences'. "
      ]
    },
    {
      "cell_type": "code",
      "metadata": {
        "id": "kbt4PSckwnbC",
        "colab_type": "code",
        "colab": {}
      },
      "source": [
        "for i in range(len(translation_index)-1):\n",
        "  sequences.append(list(table_unique[0][translation_index[i]:translation_index[i+1]-2].values))"
      ],
      "execution_count": 0,
      "outputs": []
    },
    {
      "cell_type": "code",
      "metadata": {
        "id": "oR-CgDkfySSN",
        "colab_type": "code",
        "outputId": "cc0bb6a0-46c1-474b-ae52-ff62a7d4a729",
        "colab": {
          "base_uri": "https://localhost:8080/",
          "height": 34
        }
      },
      "source": [
        "len(sequences)"
      ],
      "execution_count": 26,
      "outputs": [
        {
          "output_type": "execute_result",
          "data": {
            "text/plain": [
              "2895"
            ]
          },
          "metadata": {
            "tags": []
          },
          "execution_count": 26
        }
      ]
    },
    {
      "cell_type": "markdown",
      "metadata": {
        "id": "kpRR4g6_6mvA",
        "colab_type": "text"
      },
      "source": [
        "Missing one protein bc the for loop range is -1."
      ]
    },
    {
      "cell_type": "code",
      "metadata": {
        "id": "Df0mtm4fyjJR",
        "colab_type": "code",
        "outputId": "3bb51406-8028-43da-b2d0-3088b8c8f6c3",
        "colab": {
          "base_uri": "https://localhost:8080/",
          "height": 34
        }
      },
      "source": [
        "translation_index[-1]"
      ],
      "execution_count": 27,
      "outputs": [
        {
          "output_type": "execute_result",
          "data": {
            "text/plain": [
              "25284"
            ]
          },
          "metadata": {
            "tags": []
          },
          "execution_count": 27
        }
      ]
    },
    {
      "cell_type": "code",
      "metadata": {
        "id": "T_6acnFDyjId",
        "colab_type": "code",
        "outputId": "aaad5049-7f44-4abb-d629-d3348ffbccf7",
        "colab": {
          "base_uri": "https://localhost:8080/",
          "height": 230
        }
      },
      "source": [
        "table_unique[0][25284:25590] "
      ],
      "execution_count": 29,
      "outputs": [
        {
          "output_type": "execute_result",
          "data": {
            "text/plain": [
              "25284                         /translation=\"MLRTYQPKKRQ...\n",
              "25285              CONTIG      join(CP002416.1:1..3561619)\n",
              "25286                                         ORIGIN      \n",
              "25287            1 attttgtcaa ttattttgta tgcggaaata ttt...\n",
              "25288           61 taaaatcaac gcaaaatcat aaacaataaa cca...\n",
              "                               ...                        \n",
              "25585        17881 attttaatcg gccagtttgt attgttttta aac...\n",
              "25586        17941 gcggcatctc ttcccagagg gatgtatgat acc...\n",
              "25587        18001 gtctcaaggt cggcaaaaag caccgcactg tac...\n",
              "25588        18061 ccgccgactc cgtccactat tttaccgttg aca...\n",
              "25589        18121 gccaccgttc ttggaccgac tacatcattg aat...\n",
              "Name: 0, Length: 306, dtype: object"
            ]
          },
          "metadata": {
            "tags": []
          },
          "execution_count": 29
        }
      ]
    },
    {
      "cell_type": "code",
      "metadata": {
        "id": "_MxD5aQdzMz9",
        "colab_type": "code",
        "colab": {}
      },
      "source": [
        "sequences.append(table_unique[0][25284]) # adding the last sequence"
      ],
      "execution_count": 0,
      "outputs": []
    },
    {
      "cell_type": "code",
      "metadata": {
        "id": "cfE11sa0zVYD",
        "colab_type": "code",
        "outputId": "53b7d5a8-b0dd-45ef-8391-22d792a5fce6",
        "colab": {
          "base_uri": "https://localhost:8080/",
          "height": 34
        }
      },
      "source": [
        "len(sequences)"
      ],
      "execution_count": 39,
      "outputs": [
        {
          "output_type": "execute_result",
          "data": {
            "text/plain": [
              "2896"
            ]
          },
          "metadata": {
            "tags": []
          },
          "execution_count": 39
        }
      ]
    },
    {
      "cell_type": "code",
      "metadata": {
        "id": "P_mKX4fQ1ckr",
        "colab_type": "code",
        "outputId": "ca5790f1-1d23-4572-f5f6-e7abf2921bc0",
        "colab": {
          "base_uri": "https://localhost:8080/",
          "height": 318
        }
      },
      "source": [
        "sequences[:3]"
      ],
      "execution_count": 40,
      "outputs": [
        {
          "output_type": "execute_result",
          "data": {
            "text/plain": [
              "[['                     /translation=\"MNTQLNEIWQKTLGLLKNELTEISFNTWIKTIDPLSLTGNTINL',\n",
              "  '                     AVPAEFNKGILESRYQTLIKNAIKQVTFKEYEIAFIVPSQENLNKLTKQTESAGNEDS',\n",
              "  '                     PLSVLNPKYTFDTFVIGNSNRFAHAAALAVAEAPGKAYNPLFIYGGVGLGKTHLMHAI',\n",
              "  '                     GHYILEQNSSQRVLYVSSEKFTNELINAIKDNRNEEFRSKYRNIDVLLIDDIQFIAGK',\n",
              "  '                     ERTEEEFFHTFNALYEANKQIILSSDKPPKEISLEDRLRSRFEWGLIADMQAPDLETR',\n",
              "  '                     IAILRKKAQLENLTVPNEVIVFIADKIASNIRELEGALNRVIAYSSLTENEITVELAS',\n",
              "  '                     EALKDILSANKAKVLNCTTIQEAVARYFDIRPEEFKSKKRTRDIAFPRQIAMYLCREL',\n",
              "  '                     TEMSLPKIGEEFGGRDHTTVIHACEKISEEIESNSETRRAVSEIKRNLLGK\"'],\n",
              " ['                     /translation=\"MKIVCSKEQLMEGINVVQKAVPTKATLTILEGILLEAYDNFKMT',\n",
              "  '                     GNDLELGIECLIDADILEKGSIVLNSKMFGDIVRRLPDSEVLIEVKENNTVIIECDNS',\n",
              "  '                     HFELRGMPSDSFPSLPSIEKENMIKVSQKAIRDMIRQTLFAVSMEGTRPILTGSLIEC',\n",
              "  '                     AGNEITFVSIDGFRMALRKNFNNEGFSEFSVVVPAKTLSEIGKILQPVDEDIYIYSSQ',\n",
              "  '                     NQILFEIGNCKVVSRLLEGEYLNYKSIIPPEYETSVRLRTEDLLSSLERASLITSDEK',\n",
              "  '                     KYPVKFNIIDDKIIITSNTEIGAVREEIRVEVNGSNMEVGFNPRYFIEALRVIDDELV',\n",
              "  '                     DIYFNSSVGPCTIRPLEGDSFAYMILPVRINK\"'],\n",
              " ['                     /translation=\"MENIKINTEFIKLDQFLKWTKTVSMGSEAKLMIRSGLVKVNGEV',\n",
              "  '                     ELRRGRKLRTGDIVEINDKKFQIV\"']]"
            ]
          },
          "metadata": {
            "tags": []
          },
          "execution_count": 40
        }
      ]
    },
    {
      "cell_type": "markdown",
      "metadata": {
        "id": "9vT7Cqk064zZ",
        "colab_type": "text"
      },
      "source": [
        "The for loop worked. Now I just need to clean up the messy sequences."
      ]
    },
    {
      "cell_type": "code",
      "metadata": {
        "id": "xsSGI52I0sdt",
        "colab_type": "code",
        "colab": {}
      },
      "source": [
        "import re\n",
        "\n",
        "def clean_sequence(amino):\n",
        "  a = ''.join(amino)\n",
        "  b = re.sub(r\"\\s+\", \"\", a)\n",
        "  c = re.sub('/translation=','',b)\n",
        "  d = re.sub('/locus_tag.*', '', c)\n",
        "  e = re.sub('\"', '', d)\n",
        "  return e\n"
      ],
      "execution_count": 0,
      "outputs": []
    },
    {
      "cell_type": "code",
      "metadata": {
        "id": "f0Pz1nXP3mge",
        "colab_type": "code",
        "colab": {}
      },
      "source": [
        "clean_sequence_list = []\n",
        "for s in sequences:\n",
        "  clean_sequence_list.append(clean_sequence(s))"
      ],
      "execution_count": 0,
      "outputs": []
    },
    {
      "cell_type": "code",
      "metadata": {
        "id": "0Kqun9LX5aa8",
        "colab_type": "code",
        "outputId": "154d1dcc-a89a-42f3-88b9-c96c80d53ec4",
        "colab": {
          "base_uri": "https://localhost:8080/",
          "height": 125
        }
      },
      "source": [
        "clean_sequence_list[:5]"
      ],
      "execution_count": 45,
      "outputs": [
        {
          "output_type": "execute_result",
          "data": {
            "text/plain": [
              "['MNTQLNEIWQKTLGLLKNELTEISFNTWIKTIDPLSLTGNTINLAVPAEFNKGILESRYQTLIKNAIKQVTFKEYEIAFIVPSQENLNKLTKQTESAGNEDSPLSVLNPKYTFDTFVIGNSNRFAHAAALAVAEAPGKAYNPLFIYGGVGLGKTHLMHAIGHYILEQNSSQRVLYVSSEKFTNELINAIKDNRNEEFRSKYRNIDVLLIDDIQFIAGKERTEEEFFHTFNALYEANKQIILSSDKPPKEISLEDRLRSRFEWGLIADMQAPDLETRIAILRKKAQLENLTVPNEVIVFIADKIASNIRELEGALNRVIAYSSLTENEITVELASEALKDILSANKAKVLNCTTIQEAVARYFDIRPEEFKSKKRTRDIAFPRQIAMYLCRELTEMSLPKIGEEFGGRDHTTVIHACEKISEEIESNSETRRAVSEIKRNLLGK',\n",
              " 'MKIVCSKEQLMEGINVVQKAVPTKATLTILEGILLEAYDNFKMTGNDLELGIECLIDADILEKGSIVLNSKMFGDIVRRLPDSEVLIEVKENNTVIIECDNSHFELRGMPSDSFPSLPSIEKENMIKVSQKAIRDMIRQTLFAVSMEGTRPILTGSLIECAGNEITFVSIDGFRMALRKNFNNEGFSEFSVVVPAKTLSEIGKILQPVDEDIYIYSSQNQILFEIGNCKVVSRLLEGEYLNYKSIIPPEYETSVRLRTEDLLSSLERASLITSDEKKYPVKFNIIDDKIIITSNTEIGAVREEIRVEVNGSNMEVGFNPRYFIEALRVIDDELVDIYFNSSVGPCTIRPLEGDSFAYMILPVRINK',\n",
              " 'MENIKINTEFIKLDQFLKWTKTVSMGSEAKLMIRSGLVKVNGEVELRRGRKLRTGDIVEINDKKFQIV',\n",
              " 'MYIDRILLKNFRNYKDETIKFSKNLNIIYGQNAQGKTNIIEAVFLCASGRSHRTSKDTELVNIDGTGFSVLLDLESSEGRKKIEIDYECGKKKVVKINEIPLKKIGNLMGNLLAVIFSPEDILIIKEGPSERRRFIDITLCQLKPSYFYDLQQYNKVLSQRNMLLKEIQYKRNLLDTLEVWDYKMAELSSRIMTTRSEFIKRLCEISKKIHLKLTDGSEIMEIKYSPSVDLHDLSNPSEIKNEFIRQLNSIRDIELKRCVTLIGPHRDDYEMELNGLNLKMFGSQGQQRTSLLSLKLAEIEIIKSETDEDPVLLLDDVMSELDFKRREFLLENIRNVQTFITCTDKELFENRNFGDNLYIRVEAGRTYY',\n",
              " 'MFLHIGGDRVVPVKNIIAILDMETTTISKDTKDFLAIAEEEGFIQTVSSDIPKSFIITETDKKSIIYLSPISSVTLQKRVGYLEDFSKEIKEIKDAKEAKESKG']"
            ]
          },
          "metadata": {
            "tags": []
          },
          "execution_count": 45
        }
      ]
    },
    {
      "cell_type": "markdown",
      "metadata": {
        "id": "LQSPkR7E5eMc",
        "colab_type": "text"
      },
      "source": [
        "Woohoo, so much better!"
      ]
    },
    {
      "cell_type": "code",
      "metadata": {
        "id": "BzOFaFnpzmnu",
        "colab_type": "code",
        "colab": {}
      },
      "source": [
        "new_df['sequence'] = clean_sequence_list"
      ],
      "execution_count": 0,
      "outputs": []
    },
    {
      "cell_type": "code",
      "metadata": {
        "id": "ULrILjytzqxX",
        "colab_type": "code",
        "outputId": "d4ab2e7a-e085-4fef-d18b-2571bfd4f420",
        "colab": {
          "base_uri": "https://localhost:8080/",
          "height": 197
        }
      },
      "source": [
        "new_df.head()"
      ],
      "execution_count": 47,
      "outputs": [
        {
          "output_type": "execute_result",
          "data": {
            "text/html": [
              "<div>\n",
              "<style scoped>\n",
              "    .dataframe tbody tr th:only-of-type {\n",
              "        vertical-align: middle;\n",
              "    }\n",
              "\n",
              "    .dataframe tbody tr th {\n",
              "        vertical-align: top;\n",
              "    }\n",
              "\n",
              "    .dataframe thead th {\n",
              "        text-align: right;\n",
              "    }\n",
              "</style>\n",
              "<table border=\"1\" class=\"dataframe\">\n",
              "  <thead>\n",
              "    <tr style=\"text-align: right;\">\n",
              "      <th></th>\n",
              "      <th>old tag</th>\n",
              "      <th>new tag</th>\n",
              "      <th>sequence</th>\n",
              "    </tr>\n",
              "  </thead>\n",
              "  <tbody>\n",
              "    <tr>\n",
              "      <th>0</th>\n",
              "      <td>NaN</td>\n",
              "      <td>NaN</td>\n",
              "      <td>MNTQLNEIWQKTLGLLKNELTEISFNTWIKTIDPLSLTGNTINLAV...</td>\n",
              "    </tr>\n",
              "    <tr>\n",
              "      <th>1</th>\n",
              "      <td>NaN</td>\n",
              "      <td>NaN</td>\n",
              "      <td>MKIVCSKEQLMEGINVVQKAVPTKATLTILEGILLEAYDNFKMTGN...</td>\n",
              "    </tr>\n",
              "    <tr>\n",
              "      <th>2</th>\n",
              "      <td>NaN</td>\n",
              "      <td>NaN</td>\n",
              "      <td>MENIKINTEFIKLDQFLKWTKTVSMGSEAKLMIRSGLVKVNGEVEL...</td>\n",
              "    </tr>\n",
              "    <tr>\n",
              "      <th>3</th>\n",
              "      <td>NaN</td>\n",
              "      <td>NaN</td>\n",
              "      <td>MYIDRILLKNFRNYKDETIKFSKNLNIIYGQNAQGKTNIIEAVFLC...</td>\n",
              "    </tr>\n",
              "    <tr>\n",
              "      <th>4</th>\n",
              "      <td>NaN</td>\n",
              "      <td>NaN</td>\n",
              "      <td>MFLHIGGDRVVPVKNIIAILDMETTTISKDTKDFLAIAEEEGFIQT...</td>\n",
              "    </tr>\n",
              "  </tbody>\n",
              "</table>\n",
              "</div>"
            ],
            "text/plain": [
              "  old tag new tag                                           sequence\n",
              "0     NaN     NaN  MNTQLNEIWQKTLGLLKNELTEISFNTWIKTIDPLSLTGNTINLAV...\n",
              "1     NaN     NaN  MKIVCSKEQLMEGINVVQKAVPTKATLTILEGILLEAYDNFKMTGN...\n",
              "2     NaN     NaN  MENIKINTEFIKLDQFLKWTKTVSMGSEAKLMIRSGLVKVNGEVEL...\n",
              "3     NaN     NaN  MYIDRILLKNFRNYKDETIKFSKNLNIIYGQNAQGKTNIIEAVFLC...\n",
              "4     NaN     NaN  MFLHIGGDRVVPVKNIIAILDMETTTISKDTKDFLAIAEEEGFIQT..."
            ]
          },
          "metadata": {
            "tags": []
          },
          "execution_count": 47
        }
      ]
    },
    {
      "cell_type": "code",
      "metadata": {
        "id": "RLJ9X7TdvDqf",
        "colab_type": "code",
        "colab": {
          "base_uri": "https://localhost:8080/",
          "height": 197
        },
        "outputId": "7ebbcda3-406f-43c3-8a88-e9e677b6c0a2"
      },
      "source": [
        "table_unique.head()"
      ],
      "execution_count": 48,
      "outputs": [
        {
          "output_type": "execute_result",
          "data": {
            "text/html": [
              "<div>\n",
              "<style scoped>\n",
              "    .dataframe tbody tr th:only-of-type {\n",
              "        vertical-align: middle;\n",
              "    }\n",
              "\n",
              "    .dataframe tbody tr th {\n",
              "        vertical-align: top;\n",
              "    }\n",
              "\n",
              "    .dataframe thead th {\n",
              "        text-align: right;\n",
              "    }\n",
              "</style>\n",
              "<table border=\"1\" class=\"dataframe\">\n",
              "  <thead>\n",
              "    <tr style=\"text-align: right;\">\n",
              "      <th></th>\n",
              "      <th>0</th>\n",
              "    </tr>\n",
              "  </thead>\n",
              "  <tbody>\n",
              "    <tr>\n",
              "      <th>0</th>\n",
              "      <td>/locus_tag=\"CLO1313_RS00010\"</td>\n",
              "    </tr>\n",
              "    <tr>\n",
              "      <th>1</th>\n",
              "      <td>/old_locus_tag=\"Clo1313_0...</td>\n",
              "    </tr>\n",
              "    <tr>\n",
              "      <th>2</th>\n",
              "      <td>/translation=\"MNTQLNEIWQK...</td>\n",
              "    </tr>\n",
              "    <tr>\n",
              "      <th>3</th>\n",
              "      <td>AVPAEFNKGILESRYQTLIKNAIKQ...</td>\n",
              "    </tr>\n",
              "    <tr>\n",
              "      <th>4</th>\n",
              "      <td>PLSVLNPKYTFDTFVIGNSNRFAHA...</td>\n",
              "    </tr>\n",
              "  </tbody>\n",
              "</table>\n",
              "</div>"
            ],
            "text/plain": [
              "                                                   0\n",
              "0                       /locus_tag=\"CLO1313_RS00010\"\n",
              "1                       /old_locus_tag=\"Clo1313_0...\n",
              "2                       /translation=\"MNTQLNEIWQK...\n",
              "3                       AVPAEFNKGILESRYQTLIKNAIKQ...\n",
              "4                       PLSVLNPKYTFDTFVIGNSNRFAHA..."
            ]
          },
          "metadata": {
            "tags": []
          },
          "execution_count": 48
        }
      ]
    },
    {
      "cell_type": "code",
      "metadata": {
        "id": "A-akNA77va6G",
        "colab_type": "code",
        "colab": {
          "base_uri": "https://localhost:8080/",
          "height": 34
        },
        "outputId": "4fd23b7a-b26a-4ac9-c8ad-ee78d96eec04"
      },
      "source": [
        "new_df.shape"
      ],
      "execution_count": 52,
      "outputs": [
        {
          "output_type": "execute_result",
          "data": {
            "text/plain": [
              "(2896, 3)"
            ]
          },
          "metadata": {
            "tags": []
          },
          "execution_count": 52
        }
      ]
    },
    {
      "cell_type": "markdown",
      "metadata": {
        "id": "-MKklS3-zTk0",
        "colab_type": "text"
      },
      "source": [
        "Finding all the indices in the \"table_unique\" where \"locus_tag\" occurs."
      ]
    },
    {
      "cell_type": "code",
      "metadata": {
        "id": "twdtocstvA3H",
        "colab_type": "code",
        "colab": {}
      },
      "source": [
        "old_tag_index = table_unique[table_unique[0].str.contains('/old_locus_tag')].index"
      ],
      "execution_count": 0,
      "outputs": []
    },
    {
      "cell_type": "code",
      "metadata": {
        "id": "8gIB6eWix1do",
        "colab_type": "code",
        "colab": {
          "base_uri": "https://localhost:8080/",
          "height": 123
        },
        "outputId": "c75c09d1-52e0-4b48-c2a3-22f111275779"
      },
      "source": [
        "old_tag_index"
      ],
      "execution_count": 96,
      "outputs": [
        {
          "output_type": "execute_result",
          "data": {
            "text/plain": [
              "Int64Index([    1,    11,    20,    24,    33,    38,    52,    59,    67,\n",
              "               73,\n",
              "            ...\n",
              "            25199, 25216, 25224, 25232, 25247, 25259, 25265, 25273, 25278,\n",
              "            25283],\n",
              "           dtype='int64', length=2931)"
            ]
          },
          "metadata": {
            "tags": []
          },
          "execution_count": 96
        }
      ]
    },
    {
      "cell_type": "code",
      "metadata": {
        "id": "Nfcv_Cc0vvm-",
        "colab_type": "code",
        "colab": {
          "base_uri": "https://localhost:8080/",
          "height": 123
        },
        "outputId": "c86421f5-caac-4a87-89b0-c442cdf347a4"
      },
      "source": [
        "translation_index"
      ],
      "execution_count": 54,
      "outputs": [
        {
          "output_type": "execute_result",
          "data": {
            "text/plain": [
              "Int64Index([    2,    12,    21,    25,    34,    39,    53,    60,    68,\n",
              "               74,\n",
              "            ...\n",
              "            25200, 25217, 25226, 25234, 25249, 25260, 25266, 25275, 25279,\n",
              "            25284],\n",
              "           dtype='int64', length=2896)"
            ]
          },
          "metadata": {
            "tags": []
          },
          "execution_count": 54
        }
      ]
    },
    {
      "cell_type": "markdown",
      "metadata": {
        "id": "yIIadFsXzbE9",
        "colab_type": "text"
      },
      "source": [
        "Concatenating the \"translation_index\" and \"old_tag_index\" and bc I know the \"old_tag_index\" right before where \"translation_index\" occurs is the name for that sequence. In other words, index 0 has the locus tag for the amino acid starting at index 2. Index 10 has the locus tag for index 12 and so on. "
      ]
    },
    {
      "cell_type": "code",
      "metadata": {
        "id": "aYK0zIrsxXof",
        "colab_type": "code",
        "colab": {}
      },
      "source": [
        "import numpy as np\n",
        "join_array = np.sort(np.concatenate([old_tag_index, translation_index]))"
      ],
      "execution_count": 0,
      "outputs": []
    },
    {
      "cell_type": "markdown",
      "metadata": {
        "id": "BpDki5RC0GFf",
        "colab_type": "text"
      },
      "source": [
        "Using np.where to find the value in the concatenated array and -1 for the locus tag index. "
      ]
    },
    {
      "cell_type": "code",
      "metadata": {
        "id": "OYNGRJ4ky1mF",
        "colab_type": "code",
        "colab": {}
      },
      "source": [
        "true_old_locus_index = []\n",
        "for i in translation_index:\n",
        "  index = join_array[np.where(join_array == i)[0][0] -1]\n",
        "  true_old_locus_index.append(index)"
      ],
      "execution_count": 0,
      "outputs": []
    },
    {
      "cell_type": "code",
      "metadata": {
        "id": "hY7NKQupwmVV",
        "colab_type": "code",
        "colab": {
          "base_uri": "https://localhost:8080/",
          "height": 34
        },
        "outputId": "0912308c-007b-412a-8480-e0c2d5dd1a42"
      },
      "source": [
        "len(true_old_locus_index) == len(translation_index)"
      ],
      "execution_count": 99,
      "outputs": [
        {
          "output_type": "execute_result",
          "data": {
            "text/plain": [
              "True"
            ]
          },
          "metadata": {
            "tags": []
          },
          "execution_count": 99
        }
      ]
    },
    {
      "cell_type": "markdown",
      "metadata": {
        "id": "TOkLqsLD0YIA",
        "colab_type": "text"
      },
      "source": [
        "They are equal length. It's a good sign."
      ]
    },
    {
      "cell_type": "code",
      "metadata": {
        "id": "2XEAg6wmws0-",
        "colab_type": "code",
        "colab": {}
      },
      "source": [
        "old_tag_list = []\n",
        "for locus_tag in table_unique[0][true_old_locus_index]:\n",
        "  old_tag_list.append(locus_tag)"
      ],
      "execution_count": 0,
      "outputs": []
    },
    {
      "cell_type": "code",
      "metadata": {
        "id": "n3vV6jfQ00pu",
        "colab_type": "code",
        "colab": {
          "base_uri": "https://localhost:8080/",
          "height": 70
        },
        "outputId": "847722ce-3514-41f6-95ec-76be3b48d4fd"
      },
      "source": [
        "old_tag_list[:3] # checking how the data look"
      ],
      "execution_count": 101,
      "outputs": [
        {
          "output_type": "execute_result",
          "data": {
            "text/plain": [
              "['                     /old_locus_tag=\"Clo1313_0001\"',\n",
              " '                     /old_locus_tag=\"Clo1313_0002\"',\n",
              " '                     /old_locus_tag=\"Clo1313_0003\"']"
            ]
          },
          "metadata": {
            "tags": []
          },
          "execution_count": 101
        }
      ]
    },
    {
      "cell_type": "markdown",
      "metadata": {
        "id": "7SmH_nz61dhV",
        "colab_type": "text"
      },
      "source": [
        "Cleaning the tag name."
      ]
    },
    {
      "cell_type": "code",
      "metadata": {
        "id": "z1ldDL3aAR8I",
        "colab_type": "code",
        "colab": {}
      },
      "source": [
        "def old_tag(tag_name):\n",
        "  a = re.sub(r\"\\s+\", \"\", tag_name)\n",
        "  b = re.sub('/old_locus_tag=','',a)\n",
        "  c = re.sub('\"', '', b)\n",
        "  return c"
      ],
      "execution_count": 0,
      "outputs": []
    },
    {
      "cell_type": "code",
      "metadata": {
        "id": "Woxf0mfXAmKg",
        "colab_type": "code",
        "outputId": "adb29233-206d-4817-9885-86321f89031c",
        "colab": {
          "base_uri": "https://localhost:8080/",
          "height": 34
        }
      },
      "source": [
        "old_tag(old_tag_list[0]) #checking if the function works"
      ],
      "execution_count": 105,
      "outputs": [
        {
          "output_type": "execute_result",
          "data": {
            "text/plain": [
              "'Clo1313_0001'"
            ]
          },
          "metadata": {
            "tags": []
          },
          "execution_count": 105
        }
      ]
    },
    {
      "cell_type": "code",
      "metadata": {
        "id": "gIv5z4IQAmJf",
        "colab_type": "code",
        "outputId": "83e05fc9-4504-48f8-bc28-6e45c7278fbf",
        "colab": {
          "base_uri": "https://localhost:8080/",
          "height": 34
        }
      },
      "source": [
        "clean_old_tag = []\n",
        "for tag in old_tag_list:\n",
        "  clean_old_tag.append(old_tag(tag))\n",
        "  \n",
        "print(clean_old_tag[:5])"
      ],
      "execution_count": 106,
      "outputs": [
        {
          "output_type": "stream",
          "text": [
            "['Clo1313_0001', 'Clo1313_0002', 'Clo1313_0003', 'Clo1313_0004', 'Clo1313_0005']\n"
          ],
          "name": "stdout"
        }
      ]
    },
    {
      "cell_type": "code",
      "metadata": {
        "id": "EWzhOn8LAznv",
        "colab_type": "code",
        "outputId": "2f02d21c-fe12-426a-8625-9e43f89b8ad5",
        "colab": {
          "base_uri": "https://localhost:8080/",
          "height": 34
        }
      },
      "source": [
        "len(clean_old_tag)"
      ],
      "execution_count": 107,
      "outputs": [
        {
          "output_type": "execute_result",
          "data": {
            "text/plain": [
              "2896"
            ]
          },
          "metadata": {
            "tags": []
          },
          "execution_count": 107
        }
      ]
    },
    {
      "cell_type": "code",
      "metadata": {
        "id": "KxUhrFIdA2Xy",
        "colab_type": "code",
        "outputId": "ac68a1db-ca48-488f-c4e7-c4b02839e0ca",
        "colab": {
          "base_uri": "https://localhost:8080/",
          "height": 123
        }
      },
      "source": [
        "new_df['old tag'] = clean_old_tag\n",
        "print(new_df.head()) # looking good"
      ],
      "execution_count": 108,
      "outputs": [
        {
          "output_type": "stream",
          "text": [
            "        old tag new tag                                           sequence\n",
            "0  Clo1313_0001     NaN  MNTQLNEIWQKTLGLLKNELTEISFNTWIKTIDPLSLTGNTINLAV...\n",
            "1  Clo1313_0002     NaN  MKIVCSKEQLMEGINVVQKAVPTKATLTILEGILLEAYDNFKMTGN...\n",
            "2  Clo1313_0003     NaN  MENIKINTEFIKLDQFLKWTKTVSMGSEAKLMIRSGLVKVNGEVEL...\n",
            "3  Clo1313_0004     NaN  MYIDRILLKNFRNYKDETIKFSKNLNIIYGQNAQGKTNIIEAVFLC...\n",
            "4  Clo1313_0005     NaN  MFLHIGGDRVVPVKNIIAILDMETTTISKDTKDFLAIAEEEGFIQT...\n"
          ],
          "name": "stdout"
        }
      ]
    },
    {
      "cell_type": "markdown",
      "metadata": {
        "id": "tR7cb93S1vMI",
        "colab_type": "text"
      },
      "source": [
        "Moving on. Working on the new tag now."
      ]
    },
    {
      "cell_type": "code",
      "metadata": {
        "id": "JYJKIV2xBSIm",
        "colab_type": "code",
        "colab": {}
      },
      "source": [
        "new_tag_index =  table_unique[table_unique[0].str.contains('/locus_tag')].index"
      ],
      "execution_count": 0,
      "outputs": []
    },
    {
      "cell_type": "code",
      "metadata": {
        "id": "pyJHvwhN1yyn",
        "colab_type": "code",
        "colab": {}
      },
      "source": [
        "join_array2 = np.sort(np.concatenate([new_tag_index, translation_index]))"
      ],
      "execution_count": 0,
      "outputs": []
    },
    {
      "cell_type": "code",
      "metadata": {
        "id": "drbKjhNt1z86",
        "colab_type": "code",
        "colab": {
          "base_uri": "https://localhost:8080/",
          "height": 34
        },
        "outputId": "c38dddc5-3118-4a77-b535-ac620903b1c5"
      },
      "source": [
        "join_array2"
      ],
      "execution_count": 113,
      "outputs": [
        {
          "output_type": "execute_result",
          "data": {
            "text/plain": [
              "array([    0,     2,    10, ..., 25279, 25282, 25284])"
            ]
          },
          "metadata": {
            "tags": []
          },
          "execution_count": 113
        }
      ]
    },
    {
      "cell_type": "code",
      "metadata": {
        "id": "1btMvFyNBSHf",
        "colab_type": "code",
        "colab": {}
      },
      "source": [
        "true_new_locus_index = []\n",
        "for i in translation_index:\n",
        "  index = join_array2[np.where(join_array2 == i)[0][0] -1]\n",
        "  true_new_locus_index.append(index)"
      ],
      "execution_count": 0,
      "outputs": []
    },
    {
      "cell_type": "code",
      "metadata": {
        "id": "cMBunm1z2O85",
        "colab_type": "code",
        "colab": {
          "base_uri": "https://localhost:8080/",
          "height": 34
        },
        "outputId": "3abb611d-cf01-4c7b-a303-cc05bf09e98c"
      },
      "source": [
        "len(true_new_locus_index) == len(translation_index)"
      ],
      "execution_count": 115,
      "outputs": [
        {
          "output_type": "execute_result",
          "data": {
            "text/plain": [
              "True"
            ]
          },
          "metadata": {
            "tags": []
          },
          "execution_count": 115
        }
      ]
    },
    {
      "cell_type": "code",
      "metadata": {
        "id": "QK69N8iD2PA-",
        "colab_type": "code",
        "colab": {}
      },
      "source": [
        "new_tag_list = []\n",
        "for locus_tag in table_unique[0][true_new_locus_index]:\n",
        "  new_tag_list.append(locus_tag)"
      ],
      "execution_count": 0,
      "outputs": []
    },
    {
      "cell_type": "code",
      "metadata": {
        "id": "kDJesRBoBebE",
        "colab_type": "code",
        "outputId": "12741f13-bffb-4ac1-a9aa-766d3d9acc5f",
        "colab": {
          "base_uri": "https://localhost:8080/",
          "height": 70
        }
      },
      "source": [
        "new_tag_list[:3]"
      ],
      "execution_count": 117,
      "outputs": [
        {
          "output_type": "execute_result",
          "data": {
            "text/plain": [
              "['                     /locus_tag=\"CLO1313_RS00010\"',\n",
              " '                     /locus_tag=\"CLO1313_RS00015\"',\n",
              " '                     /locus_tag=\"CLO1313_RS00020\"']"
            ]
          },
          "metadata": {
            "tags": []
          },
          "execution_count": 117
        }
      ]
    },
    {
      "cell_type": "code",
      "metadata": {
        "id": "e26Uh2XOBeZ1",
        "colab_type": "code",
        "colab": {}
      },
      "source": [
        "def new_tag(tag_name):\n",
        "  a = re.sub(r\"\\s+\", \"\", tag_name)\n",
        "  b = re.sub('/locus_tag=','',a)\n",
        "  c = re.sub('\"', '', b)\n",
        "  return c"
      ],
      "execution_count": 0,
      "outputs": []
    },
    {
      "cell_type": "code",
      "metadata": {
        "id": "gcQyOlyGBmKG",
        "colab_type": "code",
        "outputId": "352e8fc8-e8c4-486a-d225-a44986133483",
        "colab": {
          "base_uri": "https://localhost:8080/",
          "height": 34
        }
      },
      "source": [
        "new_tag(new_tag_list[0])"
      ],
      "execution_count": 119,
      "outputs": [
        {
          "output_type": "execute_result",
          "data": {
            "text/plain": [
              "'CLO1313_RS00010'"
            ]
          },
          "metadata": {
            "tags": []
          },
          "execution_count": 119
        }
      ]
    },
    {
      "cell_type": "code",
      "metadata": {
        "id": "qUm0CQP1Bo6H",
        "colab_type": "code",
        "outputId": "8bb43e55-6ccb-4853-9c2a-c59177f577b2",
        "colab": {
          "base_uri": "https://localhost:8080/",
          "height": 34
        }
      },
      "source": [
        "clean_new_tag = []\n",
        "for tag in new_tag_list:\n",
        "  clean_new_tag.append(new_tag(tag))\n",
        "  \n",
        "print(clean_new_tag[:5])"
      ],
      "execution_count": 120,
      "outputs": [
        {
          "output_type": "stream",
          "text": [
            "['CLO1313_RS00010', 'CLO1313_RS00015', 'CLO1313_RS00020', 'CLO1313_RS00025', 'CLO1313_RS00030']\n"
          ],
          "name": "stdout"
        }
      ]
    },
    {
      "cell_type": "code",
      "metadata": {
        "id": "Fd_E-WTdB4QT",
        "colab_type": "code",
        "outputId": "8f0d41a2-38d6-4836-a886-8f5d1dc9cf2e",
        "colab": {
          "base_uri": "https://localhost:8080/",
          "height": 158
        }
      },
      "source": [
        "new_df['new tag'] = clean_new_tag\n",
        "print(new_df.head())"
      ],
      "execution_count": 121,
      "outputs": [
        {
          "output_type": "stream",
          "text": [
            "        old tag  ...                                           sequence\n",
            "0  Clo1313_0001  ...  MNTQLNEIWQKTLGLLKNELTEISFNTWIKTIDPLSLTGNTINLAV...\n",
            "1  Clo1313_0002  ...  MKIVCSKEQLMEGINVVQKAVPTKATLTILEGILLEAYDNFKMTGN...\n",
            "2  Clo1313_0003  ...  MENIKINTEFIKLDQFLKWTKTVSMGSEAKLMIRSGLVKVNGEVEL...\n",
            "3  Clo1313_0004  ...  MYIDRILLKNFRNYKDETIKFSKNLNIIYGQNAQGKTNIIEAVFLC...\n",
            "4  Clo1313_0005  ...  MFLHIGGDRVVPVKNIIAILDMETTTISKDTKDFLAIAEEEGFIQT...\n",
            "\n",
            "[5 rows x 3 columns]\n"
          ],
          "name": "stdout"
        }
      ]
    },
    {
      "cell_type": "code",
      "metadata": {
        "id": "wHYb3AIPB_dO",
        "colab_type": "code",
        "colab": {}
      },
      "source": [
        "pd.set_option('display.max_columns', None) # to expand the columns"
      ],
      "execution_count": 0,
      "outputs": []
    },
    {
      "cell_type": "code",
      "metadata": {
        "id": "JV_Jz1fNCP5k",
        "colab_type": "code",
        "outputId": "00093ca4-708f-4e2a-d6a1-cbb09430fa18",
        "colab": {
          "base_uri": "https://localhost:8080/",
          "height": 197
        }
      },
      "source": [
        "new_df.head()"
      ],
      "execution_count": 123,
      "outputs": [
        {
          "output_type": "execute_result",
          "data": {
            "text/html": [
              "<div>\n",
              "<style scoped>\n",
              "    .dataframe tbody tr th:only-of-type {\n",
              "        vertical-align: middle;\n",
              "    }\n",
              "\n",
              "    .dataframe tbody tr th {\n",
              "        vertical-align: top;\n",
              "    }\n",
              "\n",
              "    .dataframe thead th {\n",
              "        text-align: right;\n",
              "    }\n",
              "</style>\n",
              "<table border=\"1\" class=\"dataframe\">\n",
              "  <thead>\n",
              "    <tr style=\"text-align: right;\">\n",
              "      <th></th>\n",
              "      <th>old tag</th>\n",
              "      <th>new tag</th>\n",
              "      <th>sequence</th>\n",
              "    </tr>\n",
              "  </thead>\n",
              "  <tbody>\n",
              "    <tr>\n",
              "      <th>0</th>\n",
              "      <td>Clo1313_0001</td>\n",
              "      <td>CLO1313_RS00010</td>\n",
              "      <td>MNTQLNEIWQKTLGLLKNELTEISFNTWIKTIDPLSLTGNTINLAV...</td>\n",
              "    </tr>\n",
              "    <tr>\n",
              "      <th>1</th>\n",
              "      <td>Clo1313_0002</td>\n",
              "      <td>CLO1313_RS00015</td>\n",
              "      <td>MKIVCSKEQLMEGINVVQKAVPTKATLTILEGILLEAYDNFKMTGN...</td>\n",
              "    </tr>\n",
              "    <tr>\n",
              "      <th>2</th>\n",
              "      <td>Clo1313_0003</td>\n",
              "      <td>CLO1313_RS00020</td>\n",
              "      <td>MENIKINTEFIKLDQFLKWTKTVSMGSEAKLMIRSGLVKVNGEVEL...</td>\n",
              "    </tr>\n",
              "    <tr>\n",
              "      <th>3</th>\n",
              "      <td>Clo1313_0004</td>\n",
              "      <td>CLO1313_RS00025</td>\n",
              "      <td>MYIDRILLKNFRNYKDETIKFSKNLNIIYGQNAQGKTNIIEAVFLC...</td>\n",
              "    </tr>\n",
              "    <tr>\n",
              "      <th>4</th>\n",
              "      <td>Clo1313_0005</td>\n",
              "      <td>CLO1313_RS00030</td>\n",
              "      <td>MFLHIGGDRVVPVKNIIAILDMETTTISKDTKDFLAIAEEEGFIQT...</td>\n",
              "    </tr>\n",
              "  </tbody>\n",
              "</table>\n",
              "</div>"
            ],
            "text/plain": [
              "        old tag          new tag  \\\n",
              "0  Clo1313_0001  CLO1313_RS00010   \n",
              "1  Clo1313_0002  CLO1313_RS00015   \n",
              "2  Clo1313_0003  CLO1313_RS00020   \n",
              "3  Clo1313_0004  CLO1313_RS00025   \n",
              "4  Clo1313_0005  CLO1313_RS00030   \n",
              "\n",
              "                                            sequence  \n",
              "0  MNTQLNEIWQKTLGLLKNELTEISFNTWIKTIDPLSLTGNTINLAV...  \n",
              "1  MKIVCSKEQLMEGINVVQKAVPTKATLTILEGILLEAYDNFKMTGN...  \n",
              "2  MENIKINTEFIKLDQFLKWTKTVSMGSEAKLMIRSGLVKVNGEVEL...  \n",
              "3  MYIDRILLKNFRNYKDETIKFSKNLNIIYGQNAQGKTNIIEAVFLC...  \n",
              "4  MFLHIGGDRVVPVKNIIAILDMETTTISKDTKDFLAIAEEEGFIQT...  "
            ]
          },
          "metadata": {
            "tags": []
          },
          "execution_count": 123
        }
      ]
    },
    {
      "cell_type": "markdown",
      "metadata": {
        "id": "Tcd3fC8gCUNX",
        "colab_type": "text"
      },
      "source": [
        "With the nice and clean table available, one can ask a question such as what the new tag and the amino acid sequence of Clo1313_0396 are?"
      ]
    },
    {
      "cell_type": "code",
      "metadata": {
        "id": "aspjTkOPCc0Y",
        "colab_type": "code",
        "outputId": "8dfe649a-d915-4394-ac80-4ebdae6adc98",
        "colab": {
          "base_uri": "https://localhost:8080/",
          "height": 77
        }
      },
      "source": [
        "new_df[new_df['old tag'] == 'Clo1313_0396']"
      ],
      "execution_count": 125,
      "outputs": [
        {
          "output_type": "execute_result",
          "data": {
            "text/html": [
              "<div>\n",
              "<style scoped>\n",
              "    .dataframe tbody tr th:only-of-type {\n",
              "        vertical-align: middle;\n",
              "    }\n",
              "\n",
              "    .dataframe tbody tr th {\n",
              "        vertical-align: top;\n",
              "    }\n",
              "\n",
              "    .dataframe thead th {\n",
              "        text-align: right;\n",
              "    }\n",
              "</style>\n",
              "<table border=\"1\" class=\"dataframe\">\n",
              "  <thead>\n",
              "    <tr style=\"text-align: right;\">\n",
              "      <th></th>\n",
              "      <th>old tag</th>\n",
              "      <th>new tag</th>\n",
              "      <th>sequence</th>\n",
              "    </tr>\n",
              "  </thead>\n",
              "  <tbody>\n",
              "    <tr>\n",
              "      <th>384</th>\n",
              "      <td>Clo1313_0396</td>\n",
              "      <td>CLO1313_RS02005</td>\n",
              "      <td>MTSEEIAKLCGVSRATVSRVINNSPNVKEETRQKILAVIKEKNYVP...</td>\n",
              "    </tr>\n",
              "  </tbody>\n",
              "</table>\n",
              "</div>"
            ],
            "text/plain": [
              "          old tag          new tag  \\\n",
              "384  Clo1313_0396  CLO1313_RS02005   \n",
              "\n",
              "                                              sequence  \n",
              "384  MTSEEIAKLCGVSRATVSRVINNSPNVKEETRQKILAVIKEKNYVP...  "
            ]
          },
          "metadata": {
            "tags": []
          },
          "execution_count": 125
        }
      ]
    },
    {
      "cell_type": "markdown",
      "metadata": {
        "id": "0Kg1JXlB6fO4",
        "colab_type": "text"
      },
      "source": [
        "From previous experience, I found that the sequence could contain numbers and alphabets that weren't supposed to be amino acids so I will remove them with the function below."
      ]
    },
    {
      "cell_type": "code",
      "metadata": {
        "id": "19SnE3Cg3TMe",
        "colab_type": "code",
        "colab": {}
      },
      "source": [
        "def clean_sequence(seq):\n",
        "  new_seq = ''\n",
        "  amino_acids = ['A', 'C', 'D', 'E', 'F', 'G', \n",
        "                'H', 'I', 'K', 'L', 'M', 'N', \n",
        "                'P', 'Q', 'R', 'S', 'T', 'V',\n",
        "                'V', 'W', 'Y']\n",
        "  for s in seq:\n",
        "    if s in amino_acids:\n",
        "      new_seq += s\n",
        "  return new_seq"
      ],
      "execution_count": 0,
      "outputs": []
    },
    {
      "cell_type": "code",
      "metadata": {
        "id": "zosVv-4d44Ja",
        "colab_type": "code",
        "colab": {}
      },
      "source": [
        "new_df['sequence'] = new_df['sequence'].apply(lambda x:clean_sequence(x))"
      ],
      "execution_count": 0,
      "outputs": []
    },
    {
      "cell_type": "code",
      "metadata": {
        "id": "d7162OrYCj1M",
        "colab_type": "code",
        "outputId": "adee3e90-dfbc-4e9b-a69d-4edf34cba564",
        "colab": {
          "base_uri": "https://localhost:8080/",
          "height": 34
        }
      },
      "source": [
        "round(new_df['sequence'].str.len().sum()/2896, 2)"
      ],
      "execution_count": 151,
      "outputs": [
        {
          "output_type": "execute_result",
          "data": {
            "text/plain": [
              "333.64"
            ]
          },
          "metadata": {
            "tags": []
          },
          "execution_count": 151
        }
      ]
    },
    {
      "cell_type": "markdown",
      "metadata": {
        "id": "uEk6ZbVvDvEx",
        "colab_type": "text"
      },
      "source": [
        "The average protein sequence is 333.64 amino acids in this organism. "
      ]
    },
    {
      "cell_type": "markdown",
      "metadata": {
        "id": "0VRq27ri5rqz",
        "colab_type": "text"
      },
      "source": [
        "One can also ask: \"What is the most abundant amino acid in this organism?\""
      ]
    },
    {
      "cell_type": "code",
      "metadata": {
        "id": "NCd4FM0DND4i",
        "colab_type": "code",
        "colab": {}
      },
      "source": [
        "complete_aa = ''\n",
        "for i in range(len(new_df)):\n",
        "  complete_aa += new_df.sequence[i]"
      ],
      "execution_count": 0,
      "outputs": []
    },
    {
      "cell_type": "code",
      "metadata": {
        "id": "lYxmni2fOup4",
        "colab_type": "code",
        "outputId": "cc358565-94e5-4446-9d3d-c0b2be5cb8b8",
        "colab": {
          "base_uri": "https://localhost:8080/",
          "height": 34
        }
      },
      "source": [
        "len(complete_aa)/2896"
      ],
      "execution_count": 153,
      "outputs": [
        {
          "output_type": "execute_result",
          "data": {
            "text/plain": [
              "333.6401933701657"
            ]
          },
          "metadata": {
            "tags": []
          },
          "execution_count": 153
        }
      ]
    },
    {
      "cell_type": "code",
      "metadata": {
        "id": "lV1NcuLUNlVC",
        "colab_type": "code",
        "outputId": "5cb1c4df-7c37-48e6-ec2a-8cfd55fa7fbc",
        "colab": {
          "base_uri": "https://localhost:8080/",
          "height": 372
        }
      },
      "source": [
        "from collections import Counter\n",
        "x = Counter(complete_aa)\n",
        "sorted(x.items(), key = lambda i: i[1], reverse = True)"
      ],
      "execution_count": 158,
      "outputs": [
        {
          "output_type": "execute_result",
          "data": {
            "text/plain": [
              "[('L', 83715),\n",
              " ('I', 82157),\n",
              " ('K', 77141),\n",
              " ('E', 73002),\n",
              " ('V', 70068),\n",
              " ('G', 65504),\n",
              " ('A', 62302),\n",
              " ('S', 58702),\n",
              " ('D', 55258),\n",
              " ('N', 51802),\n",
              " ('T', 48782),\n",
              " ('F', 41405),\n",
              " ('R', 40978),\n",
              " ('Y', 40321),\n",
              " ('P', 33248),\n",
              " ('M', 24368),\n",
              " ('Q', 24324),\n",
              " ('H', 13524),\n",
              " ('C', 11324),\n",
              " ('W', 8297)]"
            ]
          },
          "metadata": {
            "tags": []
          },
          "execution_count": 158
        }
      ]
    },
    {
      "cell_type": "markdown",
      "metadata": {
        "id": "dtZO1iuE6spy",
        "colab_type": "text"
      },
      "source": [
        "Leucine is the most common amino acid in this organism. "
      ]
    }
  ]
}