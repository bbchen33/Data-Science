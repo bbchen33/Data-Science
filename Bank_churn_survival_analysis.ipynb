{
  "nbformat": 4,
  "nbformat_minor": 0,
  "metadata": {
    "colab": {
      "name": "Bank_churn.ipynb",
      "provenance": [],
      "authorship_tag": "ABX9TyOdKzA+jvOb4LrTEsY1gUyX",
      "include_colab_link": true
    },
    "kernelspec": {
      "name": "python3",
      "display_name": "Python 3"
    }
  },
  "cells": [
    {
      "cell_type": "markdown",
      "metadata": {
        "id": "view-in-github",
        "colab_type": "text"
      },
      "source": [
        "<a href=\"https://colab.research.google.com/github/bbchen33/Data-Science/blob/master/Bank_churn_survival_analysis.ipynb\" target=\"_parent\"><img src=\"https://colab.research.google.com/assets/colab-badge.svg\" alt=\"Open In Colab\"/></a>"
      ]
    },
    {
      "cell_type": "markdown",
      "metadata": {
        "id": "NXrlz8AKlSCL",
        "colab_type": "text"
      },
      "source": [
        "# Bank customer churn analysis. \n",
        "# Who churns?\n",
        "\n"
      ]
    },
    {
      "cell_type": "markdown",
      "metadata": {
        "id": "NRxXbJHg5YsW",
        "colab_type": "text"
      },
      "source": [
        "Data source https://www.kaggle.com/shrutimechlearn/churn-modelling"
      ]
    },
    {
      "cell_type": "code",
      "metadata": {
        "id": "rhqyNLRI4aeO",
        "colab_type": "code",
        "outputId": "b272a44f-4592-4b60-df32-28ec9a55b9c0",
        "colab": {
          "base_uri": "https://localhost:8080/",
          "height": 52
        }
      },
      "source": [
        "!unzip 'bank-churn-modelling.zip'"
      ],
      "execution_count": 2,
      "outputs": [
        {
          "output_type": "stream",
          "text": [
            "Archive:  bank-churn-modelling.zip\n",
            "  inflating: Churn_Modelling.csv     \n"
          ],
          "name": "stdout"
        }
      ]
    },
    {
      "cell_type": "code",
      "metadata": {
        "id": "iMYIvW8e4X6N",
        "colab_type": "code",
        "colab": {}
      },
      "source": [
        "import pandas as pd\n",
        "df = pd.read_csv('Churn_Modelling.csv')"
      ],
      "execution_count": 0,
      "outputs": []
    },
    {
      "cell_type": "code",
      "metadata": {
        "id": "pt5WVPVr4X-h",
        "colab_type": "code",
        "outputId": "32979c94-1f5e-48c5-f9d9-d2a80d017d6d",
        "colab": {
          "base_uri": "https://localhost:8080/",
          "height": 397
        }
      },
      "source": [
        "df.describe(include = 'all')"
      ],
      "execution_count": 4,
      "outputs": [
        {
          "output_type": "execute_result",
          "data": {
            "text/html": [
              "<div>\n",
              "<style scoped>\n",
              "    .dataframe tbody tr th:only-of-type {\n",
              "        vertical-align: middle;\n",
              "    }\n",
              "\n",
              "    .dataframe tbody tr th {\n",
              "        vertical-align: top;\n",
              "    }\n",
              "\n",
              "    .dataframe thead th {\n",
              "        text-align: right;\n",
              "    }\n",
              "</style>\n",
              "<table border=\"1\" class=\"dataframe\">\n",
              "  <thead>\n",
              "    <tr style=\"text-align: right;\">\n",
              "      <th></th>\n",
              "      <th>RowNumber</th>\n",
              "      <th>CustomerId</th>\n",
              "      <th>Surname</th>\n",
              "      <th>CreditScore</th>\n",
              "      <th>Geography</th>\n",
              "      <th>Gender</th>\n",
              "      <th>Age</th>\n",
              "      <th>Tenure</th>\n",
              "      <th>Balance</th>\n",
              "      <th>NumOfProducts</th>\n",
              "      <th>HasCrCard</th>\n",
              "      <th>IsActiveMember</th>\n",
              "      <th>EstimatedSalary</th>\n",
              "      <th>Exited</th>\n",
              "    </tr>\n",
              "  </thead>\n",
              "  <tbody>\n",
              "    <tr>\n",
              "      <th>count</th>\n",
              "      <td>10000.00000</td>\n",
              "      <td>1.000000e+04</td>\n",
              "      <td>10000</td>\n",
              "      <td>10000.000000</td>\n",
              "      <td>10000</td>\n",
              "      <td>10000</td>\n",
              "      <td>10000.000000</td>\n",
              "      <td>10000.000000</td>\n",
              "      <td>10000.000000</td>\n",
              "      <td>10000.000000</td>\n",
              "      <td>10000.00000</td>\n",
              "      <td>10000.000000</td>\n",
              "      <td>10000.000000</td>\n",
              "      <td>10000.000000</td>\n",
              "    </tr>\n",
              "    <tr>\n",
              "      <th>unique</th>\n",
              "      <td>NaN</td>\n",
              "      <td>NaN</td>\n",
              "      <td>2932</td>\n",
              "      <td>NaN</td>\n",
              "      <td>3</td>\n",
              "      <td>2</td>\n",
              "      <td>NaN</td>\n",
              "      <td>NaN</td>\n",
              "      <td>NaN</td>\n",
              "      <td>NaN</td>\n",
              "      <td>NaN</td>\n",
              "      <td>NaN</td>\n",
              "      <td>NaN</td>\n",
              "      <td>NaN</td>\n",
              "    </tr>\n",
              "    <tr>\n",
              "      <th>top</th>\n",
              "      <td>NaN</td>\n",
              "      <td>NaN</td>\n",
              "      <td>Smith</td>\n",
              "      <td>NaN</td>\n",
              "      <td>France</td>\n",
              "      <td>Male</td>\n",
              "      <td>NaN</td>\n",
              "      <td>NaN</td>\n",
              "      <td>NaN</td>\n",
              "      <td>NaN</td>\n",
              "      <td>NaN</td>\n",
              "      <td>NaN</td>\n",
              "      <td>NaN</td>\n",
              "      <td>NaN</td>\n",
              "    </tr>\n",
              "    <tr>\n",
              "      <th>freq</th>\n",
              "      <td>NaN</td>\n",
              "      <td>NaN</td>\n",
              "      <td>32</td>\n",
              "      <td>NaN</td>\n",
              "      <td>5014</td>\n",
              "      <td>5457</td>\n",
              "      <td>NaN</td>\n",
              "      <td>NaN</td>\n",
              "      <td>NaN</td>\n",
              "      <td>NaN</td>\n",
              "      <td>NaN</td>\n",
              "      <td>NaN</td>\n",
              "      <td>NaN</td>\n",
              "      <td>NaN</td>\n",
              "    </tr>\n",
              "    <tr>\n",
              "      <th>mean</th>\n",
              "      <td>5000.50000</td>\n",
              "      <td>1.569094e+07</td>\n",
              "      <td>NaN</td>\n",
              "      <td>650.528800</td>\n",
              "      <td>NaN</td>\n",
              "      <td>NaN</td>\n",
              "      <td>38.921800</td>\n",
              "      <td>5.012800</td>\n",
              "      <td>76485.889288</td>\n",
              "      <td>1.530200</td>\n",
              "      <td>0.70550</td>\n",
              "      <td>0.515100</td>\n",
              "      <td>100090.239881</td>\n",
              "      <td>0.203700</td>\n",
              "    </tr>\n",
              "    <tr>\n",
              "      <th>std</th>\n",
              "      <td>2886.89568</td>\n",
              "      <td>7.193619e+04</td>\n",
              "      <td>NaN</td>\n",
              "      <td>96.653299</td>\n",
              "      <td>NaN</td>\n",
              "      <td>NaN</td>\n",
              "      <td>10.487806</td>\n",
              "      <td>2.892174</td>\n",
              "      <td>62397.405202</td>\n",
              "      <td>0.581654</td>\n",
              "      <td>0.45584</td>\n",
              "      <td>0.499797</td>\n",
              "      <td>57510.492818</td>\n",
              "      <td>0.402769</td>\n",
              "    </tr>\n",
              "    <tr>\n",
              "      <th>min</th>\n",
              "      <td>1.00000</td>\n",
              "      <td>1.556570e+07</td>\n",
              "      <td>NaN</td>\n",
              "      <td>350.000000</td>\n",
              "      <td>NaN</td>\n",
              "      <td>NaN</td>\n",
              "      <td>18.000000</td>\n",
              "      <td>0.000000</td>\n",
              "      <td>0.000000</td>\n",
              "      <td>1.000000</td>\n",
              "      <td>0.00000</td>\n",
              "      <td>0.000000</td>\n",
              "      <td>11.580000</td>\n",
              "      <td>0.000000</td>\n",
              "    </tr>\n",
              "    <tr>\n",
              "      <th>25%</th>\n",
              "      <td>2500.75000</td>\n",
              "      <td>1.562853e+07</td>\n",
              "      <td>NaN</td>\n",
              "      <td>584.000000</td>\n",
              "      <td>NaN</td>\n",
              "      <td>NaN</td>\n",
              "      <td>32.000000</td>\n",
              "      <td>3.000000</td>\n",
              "      <td>0.000000</td>\n",
              "      <td>1.000000</td>\n",
              "      <td>0.00000</td>\n",
              "      <td>0.000000</td>\n",
              "      <td>51002.110000</td>\n",
              "      <td>0.000000</td>\n",
              "    </tr>\n",
              "    <tr>\n",
              "      <th>50%</th>\n",
              "      <td>5000.50000</td>\n",
              "      <td>1.569074e+07</td>\n",
              "      <td>NaN</td>\n",
              "      <td>652.000000</td>\n",
              "      <td>NaN</td>\n",
              "      <td>NaN</td>\n",
              "      <td>37.000000</td>\n",
              "      <td>5.000000</td>\n",
              "      <td>97198.540000</td>\n",
              "      <td>1.000000</td>\n",
              "      <td>1.00000</td>\n",
              "      <td>1.000000</td>\n",
              "      <td>100193.915000</td>\n",
              "      <td>0.000000</td>\n",
              "    </tr>\n",
              "    <tr>\n",
              "      <th>75%</th>\n",
              "      <td>7500.25000</td>\n",
              "      <td>1.575323e+07</td>\n",
              "      <td>NaN</td>\n",
              "      <td>718.000000</td>\n",
              "      <td>NaN</td>\n",
              "      <td>NaN</td>\n",
              "      <td>44.000000</td>\n",
              "      <td>7.000000</td>\n",
              "      <td>127644.240000</td>\n",
              "      <td>2.000000</td>\n",
              "      <td>1.00000</td>\n",
              "      <td>1.000000</td>\n",
              "      <td>149388.247500</td>\n",
              "      <td>0.000000</td>\n",
              "    </tr>\n",
              "    <tr>\n",
              "      <th>max</th>\n",
              "      <td>10000.00000</td>\n",
              "      <td>1.581569e+07</td>\n",
              "      <td>NaN</td>\n",
              "      <td>850.000000</td>\n",
              "      <td>NaN</td>\n",
              "      <td>NaN</td>\n",
              "      <td>92.000000</td>\n",
              "      <td>10.000000</td>\n",
              "      <td>250898.090000</td>\n",
              "      <td>4.000000</td>\n",
              "      <td>1.00000</td>\n",
              "      <td>1.000000</td>\n",
              "      <td>199992.480000</td>\n",
              "      <td>1.000000</td>\n",
              "    </tr>\n",
              "  </tbody>\n",
              "</table>\n",
              "</div>"
            ],
            "text/plain": [
              "          RowNumber    CustomerId  ... EstimatedSalary        Exited\n",
              "count   10000.00000  1.000000e+04  ...    10000.000000  10000.000000\n",
              "unique          NaN           NaN  ...             NaN           NaN\n",
              "top             NaN           NaN  ...             NaN           NaN\n",
              "freq            NaN           NaN  ...             NaN           NaN\n",
              "mean     5000.50000  1.569094e+07  ...   100090.239881      0.203700\n",
              "std      2886.89568  7.193619e+04  ...    57510.492818      0.402769\n",
              "min         1.00000  1.556570e+07  ...       11.580000      0.000000\n",
              "25%      2500.75000  1.562853e+07  ...    51002.110000      0.000000\n",
              "50%      5000.50000  1.569074e+07  ...   100193.915000      0.000000\n",
              "75%      7500.25000  1.575323e+07  ...   149388.247500      0.000000\n",
              "max     10000.00000  1.581569e+07  ...   199992.480000      1.000000\n",
              "\n",
              "[11 rows x 14 columns]"
            ]
          },
          "metadata": {
            "tags": []
          },
          "execution_count": 4
        }
      ]
    },
    {
      "cell_type": "markdown",
      "metadata": {
        "id": "8gNi81N3srhC",
        "colab_type": "text"
      },
      "source": [
        "I noticed that there is a column called \"IsActiveNumber\" and it is not consistent with the values in the \"Exited\" column. It's good to know that the company might have different definitions for being \"inactive\" and having \"churned\". "
      ]
    },
    {
      "cell_type": "code",
      "metadata": {
        "id": "zjaqoNPzskrF",
        "colab_type": "code",
        "outputId": "0522cb89-efef-4f24-ae50-66bf24039cfc",
        "colab": {
          "base_uri": "https://localhost:8080/",
          "height": 197
        }
      },
      "source": [
        "df[['IsActiveMember', 'Exited']][:5]"
      ],
      "execution_count": 5,
      "outputs": [
        {
          "output_type": "execute_result",
          "data": {
            "text/html": [
              "<div>\n",
              "<style scoped>\n",
              "    .dataframe tbody tr th:only-of-type {\n",
              "        vertical-align: middle;\n",
              "    }\n",
              "\n",
              "    .dataframe tbody tr th {\n",
              "        vertical-align: top;\n",
              "    }\n",
              "\n",
              "    .dataframe thead th {\n",
              "        text-align: right;\n",
              "    }\n",
              "</style>\n",
              "<table border=\"1\" class=\"dataframe\">\n",
              "  <thead>\n",
              "    <tr style=\"text-align: right;\">\n",
              "      <th></th>\n",
              "      <th>IsActiveMember</th>\n",
              "      <th>Exited</th>\n",
              "    </tr>\n",
              "  </thead>\n",
              "  <tbody>\n",
              "    <tr>\n",
              "      <th>0</th>\n",
              "      <td>1</td>\n",
              "      <td>1</td>\n",
              "    </tr>\n",
              "    <tr>\n",
              "      <th>1</th>\n",
              "      <td>1</td>\n",
              "      <td>0</td>\n",
              "    </tr>\n",
              "    <tr>\n",
              "      <th>2</th>\n",
              "      <td>0</td>\n",
              "      <td>1</td>\n",
              "    </tr>\n",
              "    <tr>\n",
              "      <th>3</th>\n",
              "      <td>0</td>\n",
              "      <td>0</td>\n",
              "    </tr>\n",
              "    <tr>\n",
              "      <th>4</th>\n",
              "      <td>1</td>\n",
              "      <td>0</td>\n",
              "    </tr>\n",
              "  </tbody>\n",
              "</table>\n",
              "</div>"
            ],
            "text/plain": [
              "   IsActiveMember  Exited\n",
              "0               1       1\n",
              "1               1       0\n",
              "2               0       1\n",
              "3               0       0\n",
              "4               1       0"
            ]
          },
          "metadata": {
            "tags": []
          },
          "execution_count": 5
        }
      ]
    },
    {
      "cell_type": "code",
      "metadata": {
        "id": "0vFMoAe14YDL",
        "colab_type": "code",
        "outputId": "b3fafd60-0dc9-4658-9bfb-322b983c0a09",
        "colab": {
          "base_uri": "https://localhost:8080/",
          "height": 70
        }
      },
      "source": [
        "df.Exited.value_counts() # about 4 times more people who haven't churned than who have."
      ],
      "execution_count": 6,
      "outputs": [
        {
          "output_type": "execute_result",
          "data": {
            "text/plain": [
              "0    7963\n",
              "1    2037\n",
              "Name: Exited, dtype: int64"
            ]
          },
          "metadata": {
            "tags": []
          },
          "execution_count": 6
        }
      ]
    },
    {
      "cell_type": "code",
      "metadata": {
        "id": "anZZXLL1l4UU",
        "colab_type": "code",
        "outputId": "afe02a80-140b-4be5-e3ab-b1a72119d077",
        "colab": {
          "base_uri": "https://localhost:8080/",
          "height": 34
        }
      },
      "source": [
        "!pip install --quiet lifelines #using the lifelines package to perform survival analysis"
      ],
      "execution_count": 7,
      "outputs": [
        {
          "output_type": "stream",
          "text": [
            "\u001b[?25l\r\u001b[K     |▉                               | 10kB 19.8MB/s eta 0:00:01\r\u001b[K     |█▋                              | 20kB 1.8MB/s eta 0:00:01\r\u001b[K     |██▍                             | 30kB 2.6MB/s eta 0:00:01\r\u001b[K     |███▏                            | 40kB 1.7MB/s eta 0:00:01\r\u001b[K     |████                            | 51kB 2.1MB/s eta 0:00:01\r\u001b[K     |████▊                           | 61kB 2.5MB/s eta 0:00:01\r\u001b[K     |█████▌                          | 71kB 2.9MB/s eta 0:00:01\r\u001b[K     |██████▎                         | 81kB 3.3MB/s eta 0:00:01\r\u001b[K     |███████                         | 92kB 3.7MB/s eta 0:00:01\r\u001b[K     |███████▉                        | 102kB 2.8MB/s eta 0:00:01\r\u001b[K     |████████▋                       | 112kB 2.8MB/s eta 0:00:01\r\u001b[K     |█████████▌                      | 122kB 2.8MB/s eta 0:00:01\r\u001b[K     |██████████▎                     | 133kB 2.8MB/s eta 0:00:01\r\u001b[K     |███████████                     | 143kB 2.8MB/s eta 0:00:01\r\u001b[K     |███████████▉                    | 153kB 2.8MB/s eta 0:00:01\r\u001b[K     |████████████▋                   | 163kB 2.8MB/s eta 0:00:01\r\u001b[K     |█████████████▍                  | 174kB 2.8MB/s eta 0:00:01\r\u001b[K     |██████████████▏                 | 184kB 2.8MB/s eta 0:00:01\r\u001b[K     |███████████████                 | 194kB 2.8MB/s eta 0:00:01\r\u001b[K     |███████████████▊                | 204kB 2.8MB/s eta 0:00:01\r\u001b[K     |████████████████▌               | 215kB 2.8MB/s eta 0:00:01\r\u001b[K     |█████████████████▎              | 225kB 2.8MB/s eta 0:00:01\r\u001b[K     |██████████████████              | 235kB 2.8MB/s eta 0:00:01\r\u001b[K     |███████████████████             | 245kB 2.8MB/s eta 0:00:01\r\u001b[K     |███████████████████▊            | 256kB 2.8MB/s eta 0:00:01\r\u001b[K     |████████████████████▌           | 266kB 2.8MB/s eta 0:00:01\r\u001b[K     |█████████████████████▎          | 276kB 2.8MB/s eta 0:00:01\r\u001b[K     |██████████████████████          | 286kB 2.8MB/s eta 0:00:01\r\u001b[K     |██████████████████████▉         | 296kB 2.8MB/s eta 0:00:01\r\u001b[K     |███████████████████████▋        | 307kB 2.8MB/s eta 0:00:01\r\u001b[K     |████████████████████████▍       | 317kB 2.8MB/s eta 0:00:01\r\u001b[K     |█████████████████████████▏      | 327kB 2.8MB/s eta 0:00:01\r\u001b[K     |██████████████████████████      | 337kB 2.8MB/s eta 0:00:01\r\u001b[K     |██████████████████████████▊     | 348kB 2.8MB/s eta 0:00:01\r\u001b[K     |███████████████████████████▋    | 358kB 2.8MB/s eta 0:00:01\r\u001b[K     |████████████████████████████▍   | 368kB 2.8MB/s eta 0:00:01\r\u001b[K     |█████████████████████████████▏  | 378kB 2.8MB/s eta 0:00:01\r\u001b[K     |██████████████████████████████  | 389kB 2.8MB/s eta 0:00:01\r\u001b[K     |██████████████████████████████▊ | 399kB 2.8MB/s eta 0:00:01\r\u001b[K     |███████████████████████████████▌| 409kB 2.8MB/s eta 0:00:01\r\u001b[K     |████████████████████████████████| 419kB 2.8MB/s \n",
            "\u001b[?25h"
          ],
          "name": "stdout"
        }
      ]
    },
    {
      "cell_type": "markdown",
      "metadata": {
        "id": "fmmKTlDIoQ9h",
        "colab_type": "text"
      },
      "source": [
        "A very quick example on showing how the Kaplan Meier curve can be used to show how the customers churn based on specific feature they have. In this case, having a credit card is used as the feature and it seems like credit card is not a key factor for churn rate. "
      ]
    },
    {
      "cell_type": "code",
      "metadata": {
        "id": "TLcrwb5Hl96J",
        "colab_type": "code",
        "outputId": "b7903845-835b-4e10-c800-e9ddef68f126",
        "colab": {
          "base_uri": "https://localhost:8080/",
          "height": 278
        }
      },
      "source": [
        "from lifelines import KaplanMeierFitter\n",
        "import matplotlib.pyplot as plt\n",
        "\n",
        "kmf = KaplanMeierFitter()\n",
        "groups = df['HasCrCard']\n",
        "credit_card = (groups == 1)\n",
        "no_credit_card = (groups == 0)\n",
        "\n",
        "ax = plt.subplot()\n",
        "kmf.fit(df.Tenure[credit_card], df.Exited[credit_card], label = 'Has credit card')\n",
        "ax = kmf.plot(ax = ax)\n",
        "kmf.fit(df.Tenure[no_credit_card], df.Exited[no_credit_card], label = 'No credit card')\n",
        "ax = kmf.plot(ax = ax)"
      ],
      "execution_count": 8,
      "outputs": [
        {
          "output_type": "display_data",
          "data": {
            "image/png": "[encoded data removed]",
            "text/plain": [
              "<Figure size 432x288 with 1 Axes>"
            ]
          },
          "metadata": {
            "tags": []
          }
        }
      ]
    },
    {
      "cell_type": "markdown",
      "metadata": {
        "id": "9l1o__4N0s1p",
        "colab_type": "text"
      },
      "source": [
        "# Now that we see that credit card is not a key factor, we can try Cox Proportional Hazards model to understand the importance of each feature."
      ]
    },
    {
      "cell_type": "markdown",
      "metadata": {
        "id": "0v0l3GQD0QKA",
        "colab_type": "text"
      },
      "source": [
        "To demonstrate the importance of turning continuous feature like \"Age\" to categories when I want to determine its role in churn, I am comparing using a continuous version vs categorical version of \"Age\"."
      ]
    },
    {
      "cell_type": "code",
      "metadata": {
        "id": "sJJaHava1ZEK",
        "colab_type": "code",
        "colab": {}
      },
      "source": [
        "df_features = df[['Tenure', 'Exited', 'Age', 'HasCrCard']]"
      ],
      "execution_count": 0,
      "outputs": []
    },
    {
      "cell_type": "code",
      "metadata": {
        "id": "aLHWMQp-0OzK",
        "colab_type": "code",
        "outputId": "718704a0-319a-414a-c50d-9abc4538970f",
        "colab": {
          "base_uri": "https://localhost:8080/",
          "height": 377
        }
      },
      "source": [
        "from lifelines import CoxPHFitter\n",
        "cph = CoxPHFitter()\n",
        "cph.fit(df_features, 'Tenure', event_col = 'Exited')\n",
        "cph.print_summary()"
      ],
      "execution_count": 10,
      "outputs": [
        {
          "output_type": "display_data",
          "data": {
            "text/html": [
              "<div>\n",
              "<style scoped>\n",
              "    .dataframe tbody tr th:only-of-type {\n",
              "        vertical-align: middle;\n",
              "    }\n",
              "\n",
              "    .dataframe tbody tr th {\n",
              "        vertical-align: top;\n",
              "    }\n",
              "\n",
              "    .dataframe thead th {\n",
              "        text-align: right;\n",
              "    }\n",
              "</style>\n",
              "<table border=\"1\" class=\"dataframe\">\n",
              "  <tbody>\n",
              "    <tr>\n",
              "      <th>model</th>\n",
              "      <td>lifelines.CoxPHFitter</td>\n",
              "    </tr>\n",
              "    <tr>\n",
              "      <th>duration col</th>\n",
              "      <td>'Tenure'</td>\n",
              "    </tr>\n",
              "    <tr>\n",
              "      <th>event col</th>\n",
              "      <td>'Exited'</td>\n",
              "    </tr>\n",
              "    <tr>\n",
              "      <th>baseline estimation</th>\n",
              "      <td>breslow</td>\n",
              "    </tr>\n",
              "    <tr>\n",
              "      <th>number of observations</th>\n",
              "      <td>10000</td>\n",
              "    </tr>\n",
              "    <tr>\n",
              "      <th>number of events observed</th>\n",
              "      <td>2037</td>\n",
              "    </tr>\n",
              "    <tr>\n",
              "      <th>partial log-likelihood</th>\n",
              "      <td>-16771.33</td>\n",
              "    </tr>\n",
              "    <tr>\n",
              "      <th>time fit was run</th>\n",
              "      <td>2020-03-12 17:49:56 UTC</td>\n",
              "    </tr>\n",
              "  </tbody>\n",
              "</table>\n",
              "</div><table border=\"1\" class=\"dataframe\">\n",
              "  <thead>\n",
              "    <tr style=\"text-align: right;\">\n",
              "      <th></th>\n",
              "      <th>coef</th>\n",
              "      <th>exp(coef)</th>\n",
              "      <th>se(coef)</th>\n",
              "      <th>coef lower 95%</th>\n",
              "      <th>coef upper 95%</th>\n",
              "      <th>exp(coef) lower 95%</th>\n",
              "      <th>exp(coef) upper 95%</th>\n",
              "      <th>z</th>\n",
              "      <th>p</th>\n",
              "      <th>-log2(p)</th>\n",
              "    </tr>\n",
              "  </thead>\n",
              "  <tbody>\n",
              "    <tr>\n",
              "      <th>Age</th>\n",
              "      <td>0.04</td>\n",
              "      <td>1.04</td>\n",
              "      <td>0.00</td>\n",
              "      <td>0.04</td>\n",
              "      <td>0.05</td>\n",
              "      <td>1.04</td>\n",
              "      <td>1.05</td>\n",
              "      <td>25.93</td>\n",
              "      <td>&lt;0.005</td>\n",
              "      <td>490.00</td>\n",
              "    </tr>\n",
              "    <tr>\n",
              "      <th>HasCrCard</th>\n",
              "      <td>-0.06</td>\n",
              "      <td>0.94</td>\n",
              "      <td>0.05</td>\n",
              "      <td>-0.15</td>\n",
              "      <td>0.04</td>\n",
              "      <td>0.86</td>\n",
              "      <td>1.04</td>\n",
              "      <td>-1.22</td>\n",
              "      <td>0.22</td>\n",
              "      <td>2.18</td>\n",
              "    </tr>\n",
              "  </tbody>\n",
              "</table><div>\n",
              "<style scoped>\n",
              "    .dataframe tbody tr th:only-of-type {\n",
              "        vertical-align: middle;\n",
              "    }\n",
              "\n",
              "    .dataframe tbody tr th {\n",
              "        vertical-align: top;\n",
              "    }\n",
              "\n",
              "    .dataframe thead th {\n",
              "        text-align: right;\n",
              "    }\n",
              "</style>\n",
              "<table border=\"1\" class=\"dataframe\">\n",
              "  <tbody>\n",
              "    <tr>\n",
              "      <th>Log-likelihood ratio test</th>\n",
              "      <td>577.57 on 2 df, -log2(p)=416.63</td>\n",
              "    </tr>\n",
              "  </tbody>\n",
              "</table>\n",
              "</div>"
            ],
            "text/plain": [
              "<IPython.core.display.HTML object>"
            ]
          },
          "metadata": {
            "tags": []
          }
        }
      ]
    },
    {
      "cell_type": "markdown",
      "metadata": {
        "id": "tOqlwN7_1sJY",
        "colab_type": "text"
      },
      "source": [
        "Both the \"Age\" and \"HasCrCard\" have coefficient close to 0, meaning they don't have a significant role in churn rate. This is using continuous version of the \"Age\" feature."
      ]
    },
    {
      "cell_type": "code",
      "metadata": {
        "id": "XN3PYeqN1nIq",
        "colab_type": "code",
        "outputId": "99ecbf04-90f8-4014-b7b5-72ec0d2c0066",
        "colab": {
          "base_uri": "https://localhost:8080/",
          "height": 296
        }
      },
      "source": [
        "cph.plot()"
      ],
      "execution_count": 11,
      "outputs": [
        {
          "output_type": "execute_result",
          "data": {
            "text/plain": [
              "<matplotlib.axes._subplots.AxesSubplot at 0x7f0e3321a0b8>"
            ]
          },
          "metadata": {
            "tags": []
          },
          "execution_count": 11
        },
        {
          "output_type": "display_data",
          "data": {
            "image/png": "[encoded data removed]",
            "text/plain": [
              "<Figure size 432x288 with 1 Axes>"
            ]
          },
          "metadata": {
            "tags": []
          }
        }
      ]
    },
    {
      "cell_type": "markdown",
      "metadata": {
        "id": "sfbxS72s15Y-",
        "colab_type": "text"
      },
      "source": [
        "Now I'm using categorical feature of \"Age\" by first breaking the numbers into bins and then converting the bins to categories. "
      ]
    },
    {
      "cell_type": "code",
      "metadata": {
        "id": "MeS_F6tt15q5",
        "colab_type": "code",
        "colab": {}
      },
      "source": [
        "df['Age_bins'] = pd.cut(df['Age'], bins = 5)"
      ],
      "execution_count": 0,
      "outputs": []
    },
    {
      "cell_type": "code",
      "metadata": {
        "id": "WKEFjrL715zu",
        "colab_type": "code",
        "colab": {}
      },
      "source": [
        "from sklearn.preprocessing import LabelEncoder\n",
        "le = LabelEncoder()\n",
        "df['transformed_age'] = le.fit_transform(df['Age_bins'])"
      ],
      "execution_count": 0,
      "outputs": []
    },
    {
      "cell_type": "code",
      "metadata": {
        "id": "4uFwIeJBpFbZ",
        "colab_type": "code",
        "colab": {}
      },
      "source": [
        "df_features = df[['Tenure', 'Exited', 'transformed_age', 'HasCrCard']]"
      ],
      "execution_count": 0,
      "outputs": []
    },
    {
      "cell_type": "code",
      "metadata": {
        "id": "W5ZRSEOJ2m9s",
        "colab_type": "code",
        "outputId": "a3269a93-a639-4053-e52a-e5eb7d849c8e",
        "colab": {
          "base_uri": "https://localhost:8080/",
          "height": 377
        }
      },
      "source": [
        "cph = CoxPHFitter()\n",
        "cph.fit(df_features, 'Tenure', event_col = 'Exited')\n",
        "cph.print_summary()"
      ],
      "execution_count": 15,
      "outputs": [
        {
          "output_type": "display_data",
          "data": {
            "text/html": [
              "<div>\n",
              "<style scoped>\n",
              "    .dataframe tbody tr th:only-of-type {\n",
              "        vertical-align: middle;\n",
              "    }\n",
              "\n",
              "    .dataframe tbody tr th {\n",
              "        vertical-align: top;\n",
              "    }\n",
              "\n",
              "    .dataframe thead th {\n",
              "        text-align: right;\n",
              "    }\n",
              "</style>\n",
              "<table border=\"1\" class=\"dataframe\">\n",
              "  <tbody>\n",
              "    <tr>\n",
              "      <th>model</th>\n",
              "      <td>lifelines.CoxPHFitter</td>\n",
              "    </tr>\n",
              "    <tr>\n",
              "      <th>duration col</th>\n",
              "      <td>'Tenure'</td>\n",
              "    </tr>\n",
              "    <tr>\n",
              "      <th>event col</th>\n",
              "      <td>'Exited'</td>\n",
              "    </tr>\n",
              "    <tr>\n",
              "      <th>baseline estimation</th>\n",
              "      <td>breslow</td>\n",
              "    </tr>\n",
              "    <tr>\n",
              "      <th>number of observations</th>\n",
              "      <td>10000</td>\n",
              "    </tr>\n",
              "    <tr>\n",
              "      <th>number of events observed</th>\n",
              "      <td>2037</td>\n",
              "    </tr>\n",
              "    <tr>\n",
              "      <th>partial log-likelihood</th>\n",
              "      <td>-16801.54</td>\n",
              "    </tr>\n",
              "    <tr>\n",
              "      <th>time fit was run</th>\n",
              "      <td>2020-03-12 17:50:04 UTC</td>\n",
              "    </tr>\n",
              "  </tbody>\n",
              "</table>\n",
              "</div><table border=\"1\" class=\"dataframe\">\n",
              "  <thead>\n",
              "    <tr style=\"text-align: right;\">\n",
              "      <th></th>\n",
              "      <th>coef</th>\n",
              "      <th>exp(coef)</th>\n",
              "      <th>se(coef)</th>\n",
              "      <th>coef lower 95%</th>\n",
              "      <th>coef upper 95%</th>\n",
              "      <th>exp(coef) lower 95%</th>\n",
              "      <th>exp(coef) upper 95%</th>\n",
              "      <th>z</th>\n",
              "      <th>p</th>\n",
              "      <th>-log2(p)</th>\n",
              "    </tr>\n",
              "  </thead>\n",
              "  <tbody>\n",
              "    <tr>\n",
              "      <th>transformed_age</th>\n",
              "      <td>0.59</td>\n",
              "      <td>1.81</td>\n",
              "      <td>0.02</td>\n",
              "      <td>0.55</td>\n",
              "      <td>0.64</td>\n",
              "      <td>1.72</td>\n",
              "      <td>1.90</td>\n",
              "      <td>24.07</td>\n",
              "      <td>&lt;0.005</td>\n",
              "      <td>422.89</td>\n",
              "    </tr>\n",
              "    <tr>\n",
              "      <th>HasCrCard</th>\n",
              "      <td>-0.06</td>\n",
              "      <td>0.94</td>\n",
              "      <td>0.05</td>\n",
              "      <td>-0.15</td>\n",
              "      <td>0.04</td>\n",
              "      <td>0.86</td>\n",
              "      <td>1.04</td>\n",
              "      <td>-1.20</td>\n",
              "      <td>0.23</td>\n",
              "      <td>2.13</td>\n",
              "    </tr>\n",
              "  </tbody>\n",
              "</table><div>\n",
              "<style scoped>\n",
              "    .dataframe tbody tr th:only-of-type {\n",
              "        vertical-align: middle;\n",
              "    }\n",
              "\n",
              "    .dataframe tbody tr th {\n",
              "        vertical-align: top;\n",
              "    }\n",
              "\n",
              "    .dataframe thead th {\n",
              "        text-align: right;\n",
              "    }\n",
              "</style>\n",
              "<table border=\"1\" class=\"dataframe\">\n",
              "  <tbody>\n",
              "    <tr>\n",
              "      <th>Log-likelihood ratio test</th>\n",
              "      <td>517.15 on 2 df, -log2(p)=373.04</td>\n",
              "    </tr>\n",
              "  </tbody>\n",
              "</table>\n",
              "</div>"
            ],
            "text/plain": [
              "<IPython.core.display.HTML object>"
            ]
          },
          "metadata": {
            "tags": []
          }
        }
      ]
    },
    {
      "cell_type": "markdown",
      "metadata": {
        "id": "SwlcSyrE2rQp",
        "colab_type": "text"
      },
      "source": [
        "Now the coefficient for \"transformed_age\" is 0.6. It is a huge difference. Age has a role in the churn rate."
      ]
    },
    {
      "cell_type": "code",
      "metadata": {
        "id": "RDinMlvq2nZf",
        "colab_type": "code",
        "outputId": "9eef7220-9f26-419e-c44a-0b5a6b7d6881",
        "colab": {
          "base_uri": "https://localhost:8080/",
          "height": 296
        }
      },
      "source": [
        "cph.plot() "
      ],
      "execution_count": 16,
      "outputs": [
        {
          "output_type": "execute_result",
          "data": {
            "text/plain": [
              "<matplotlib.axes._subplots.AxesSubplot at 0x7f0e2448d860>"
            ]
          },
          "metadata": {
            "tags": []
          },
          "execution_count": 16
        },
        {
          "output_type": "display_data",
          "data": {
            "image/png": "[encoded data removed]",
            "text/plain": [
              "<Figure size 432x288 with 1 Axes>"
            ]
          },
          "metadata": {
            "tags": []
          }
        }
      ]
    },
    {
      "cell_type": "markdown",
      "metadata": {
        "id": "aYwZdfhI2c-Y",
        "colab_type": "text"
      },
      "source": [
        "Now I know I can do the same thing for all the continuous features. "
      ]
    },
    {
      "cell_type": "code",
      "metadata": {
        "id": "7AweoU-P3Blo",
        "colab_type": "code",
        "outputId": "f8df3140-05ea-4e3b-984a-3771ec61a1d6",
        "colab": {
          "base_uri": "https://localhost:8080/",
          "height": 105
        }
      },
      "source": [
        "df.columns"
      ],
      "execution_count": 17,
      "outputs": [
        {
          "output_type": "execute_result",
          "data": {
            "text/plain": [
              "Index(['RowNumber', 'CustomerId', 'Surname', 'CreditScore', 'Geography',\n",
              "       'Gender', 'Age', 'Tenure', 'Balance', 'NumOfProducts', 'HasCrCard',\n",
              "       'IsActiveMember', 'EstimatedSalary', 'Exited', 'Age_bins',\n",
              "       'transformed_age'],\n",
              "      dtype='object')"
            ]
          },
          "metadata": {
            "tags": []
          },
          "execution_count": 17
        }
      ]
    },
    {
      "cell_type": "code",
      "metadata": {
        "id": "I8lx0EZb3FGE",
        "colab_type": "code",
        "colab": {}
      },
      "source": [
        "for column in ['CreditScore','Balance', 'EstimatedSalary']:\n",
        "  df[f'{column}_bins'] = pd.cut(df[column], bins = 10)"
      ],
      "execution_count": 0,
      "outputs": []
    },
    {
      "cell_type": "code",
      "metadata": {
        "id": "avn1jhqM3tJQ",
        "colab_type": "code",
        "outputId": "cdfad855-9180-40d5-f569-51d1470162ed",
        "colab": {
          "base_uri": "https://localhost:8080/",
          "height": 207
        }
      },
      "source": [
        "df.head(3)"
      ],
      "execution_count": 19,
      "outputs": [
        {
          "output_type": "execute_result",
          "data": {
            "text/html": [
              "<div>\n",
              "<style scoped>\n",
              "    .dataframe tbody tr th:only-of-type {\n",
              "        vertical-align: middle;\n",
              "    }\n",
              "\n",
              "    .dataframe tbody tr th {\n",
              "        vertical-align: top;\n",
              "    }\n",
              "\n",
              "    .dataframe thead th {\n",
              "        text-align: right;\n",
              "    }\n",
              "</style>\n",
              "<table border=\"1\" class=\"dataframe\">\n",
              "  <thead>\n",
              "    <tr style=\"text-align: right;\">\n",
              "      <th></th>\n",
              "      <th>RowNumber</th>\n",
              "      <th>CustomerId</th>\n",
              "      <th>Surname</th>\n",
              "      <th>CreditScore</th>\n",
              "      <th>Geography</th>\n",
              "      <th>Gender</th>\n",
              "      <th>Age</th>\n",
              "      <th>Tenure</th>\n",
              "      <th>Balance</th>\n",
              "      <th>NumOfProducts</th>\n",
              "      <th>HasCrCard</th>\n",
              "      <th>IsActiveMember</th>\n",
              "      <th>EstimatedSalary</th>\n",
              "      <th>Exited</th>\n",
              "      <th>Age_bins</th>\n",
              "      <th>transformed_age</th>\n",
              "      <th>CreditScore_bins</th>\n",
              "      <th>Balance_bins</th>\n",
              "      <th>EstimatedSalary_bins</th>\n",
              "    </tr>\n",
              "  </thead>\n",
              "  <tbody>\n",
              "    <tr>\n",
              "      <th>0</th>\n",
              "      <td>1</td>\n",
              "      <td>15634602</td>\n",
              "      <td>Hargrave</td>\n",
              "      <td>619</td>\n",
              "      <td>France</td>\n",
              "      <td>Female</td>\n",
              "      <td>42</td>\n",
              "      <td>2</td>\n",
              "      <td>0.00</td>\n",
              "      <td>1</td>\n",
              "      <td>1</td>\n",
              "      <td>1</td>\n",
              "      <td>101348.88</td>\n",
              "      <td>1</td>\n",
              "      <td>(32.8, 47.6]</td>\n",
              "      <td>1</td>\n",
              "      <td>(600.0, 650.0]</td>\n",
              "      <td>(-250.898, 25089.809]</td>\n",
              "      <td>(100002.03, 120000.12]</td>\n",
              "    </tr>\n",
              "    <tr>\n",
              "      <th>1</th>\n",
              "      <td>2</td>\n",
              "      <td>15647311</td>\n",
              "      <td>Hill</td>\n",
              "      <td>608</td>\n",
              "      <td>Spain</td>\n",
              "      <td>Female</td>\n",
              "      <td>41</td>\n",
              "      <td>1</td>\n",
              "      <td>83807.86</td>\n",
              "      <td>1</td>\n",
              "      <td>0</td>\n",
              "      <td>1</td>\n",
              "      <td>112542.58</td>\n",
              "      <td>0</td>\n",
              "      <td>(32.8, 47.6]</td>\n",
              "      <td>1</td>\n",
              "      <td>(600.0, 650.0]</td>\n",
              "      <td>(75269.427, 100359.236]</td>\n",
              "      <td>(100002.03, 120000.12]</td>\n",
              "    </tr>\n",
              "    <tr>\n",
              "      <th>2</th>\n",
              "      <td>3</td>\n",
              "      <td>15619304</td>\n",
              "      <td>Onio</td>\n",
              "      <td>502</td>\n",
              "      <td>France</td>\n",
              "      <td>Female</td>\n",
              "      <td>42</td>\n",
              "      <td>8</td>\n",
              "      <td>159660.80</td>\n",
              "      <td>3</td>\n",
              "      <td>1</td>\n",
              "      <td>0</td>\n",
              "      <td>113931.57</td>\n",
              "      <td>1</td>\n",
              "      <td>(32.8, 47.6]</td>\n",
              "      <td>1</td>\n",
              "      <td>(500.0, 550.0]</td>\n",
              "      <td>(150538.854, 175628.663]</td>\n",
              "      <td>(100002.03, 120000.12]</td>\n",
              "    </tr>\n",
              "  </tbody>\n",
              "</table>\n",
              "</div>"
            ],
            "text/plain": [
              "   RowNumber  CustomerId  ...              Balance_bins    EstimatedSalary_bins\n",
              "0          1    15634602  ...     (-250.898, 25089.809]  (100002.03, 120000.12]\n",
              "1          2    15647311  ...   (75269.427, 100359.236]  (100002.03, 120000.12]\n",
              "2          3    15619304  ...  (150538.854, 175628.663]  (100002.03, 120000.12]\n",
              "\n",
              "[3 rows x 19 columns]"
            ]
          },
          "metadata": {
            "tags": []
          },
          "execution_count": 19
        }
      ]
    },
    {
      "cell_type": "code",
      "metadata": {
        "id": "376rWkidtS2P",
        "colab_type": "code",
        "outputId": "20f408df-3b80-4c5a-db76-bd414f9ae0f9",
        "colab": {
          "base_uri": "https://localhost:8080/",
          "height": 123
        }
      },
      "source": [
        "df_features_transformed = df_features[['Tenure', 'Exited']]\n",
        "for column in ['CreditScore_bins', 'Geography', 'Gender', 'Age_bins', 'Balance_bins', 'EstimatedSalary_bins', 'CreditScore_bins']:\n",
        "  le.fit(df[column])\n",
        "  df_features_transformed[f'transformed_{column}'] = le.transform(df[column])"
      ],
      "execution_count": 20,
      "outputs": [
        {
          "output_type": "stream",
          "text": [
            "/usr/local/lib/python3.6/dist-packages/ipykernel_launcher.py:4: SettingWithCopyWarning: \n",
            "A value is trying to be set on a copy of a slice from a DataFrame.\n",
            "Try using .loc[row_indexer,col_indexer] = value instead\n",
            "\n",
            "See the caveats in the documentation: http://pandas.pydata.org/pandas-docs/stable/user_guide/indexing.html#returning-a-view-versus-a-copy\n",
            "  after removing the cwd from sys.path.\n"
          ],
          "name": "stderr"
        }
      ]
    },
    {
      "cell_type": "code",
      "metadata": {
        "id": "JDiSTJX8u8Ma",
        "colab_type": "code",
        "outputId": "f9dbd826-d890-4ca1-eb6e-462fbd6d0ec0",
        "colab": {
          "base_uri": "https://localhost:8080/",
          "height": 197
        }
      },
      "source": [
        "df_features_transformed.head(5)"
      ],
      "execution_count": 21,
      "outputs": [
        {
          "output_type": "execute_result",
          "data": {
            "text/html": [
              "<div>\n",
              "<style scoped>\n",
              "    .dataframe tbody tr th:only-of-type {\n",
              "        vertical-align: middle;\n",
              "    }\n",
              "\n",
              "    .dataframe tbody tr th {\n",
              "        vertical-align: top;\n",
              "    }\n",
              "\n",
              "    .dataframe thead th {\n",
              "        text-align: right;\n",
              "    }\n",
              "</style>\n",
              "<table border=\"1\" class=\"dataframe\">\n",
              "  <thead>\n",
              "    <tr style=\"text-align: right;\">\n",
              "      <th></th>\n",
              "      <th>Tenure</th>\n",
              "      <th>Exited</th>\n",
              "      <th>transformed_CreditScore_bins</th>\n",
              "      <th>transformed_Geography</th>\n",
              "      <th>transformed_Gender</th>\n",
              "      <th>transformed_Age_bins</th>\n",
              "      <th>transformed_Balance_bins</th>\n",
              "      <th>transformed_EstimatedSalary_bins</th>\n",
              "    </tr>\n",
              "  </thead>\n",
              "  <tbody>\n",
              "    <tr>\n",
              "      <th>0</th>\n",
              "      <td>2</td>\n",
              "      <td>1</td>\n",
              "      <td>5</td>\n",
              "      <td>0</td>\n",
              "      <td>0</td>\n",
              "      <td>1</td>\n",
              "      <td>0</td>\n",
              "      <td>5</td>\n",
              "    </tr>\n",
              "    <tr>\n",
              "      <th>1</th>\n",
              "      <td>1</td>\n",
              "      <td>0</td>\n",
              "      <td>5</td>\n",
              "      <td>2</td>\n",
              "      <td>0</td>\n",
              "      <td>1</td>\n",
              "      <td>3</td>\n",
              "      <td>5</td>\n",
              "    </tr>\n",
              "    <tr>\n",
              "      <th>2</th>\n",
              "      <td>8</td>\n",
              "      <td>1</td>\n",
              "      <td>3</td>\n",
              "      <td>0</td>\n",
              "      <td>0</td>\n",
              "      <td>1</td>\n",
              "      <td>6</td>\n",
              "      <td>5</td>\n",
              "    </tr>\n",
              "    <tr>\n",
              "      <th>3</th>\n",
              "      <td>1</td>\n",
              "      <td>0</td>\n",
              "      <td>6</td>\n",
              "      <td>0</td>\n",
              "      <td>0</td>\n",
              "      <td>1</td>\n",
              "      <td>0</td>\n",
              "      <td>4</td>\n",
              "    </tr>\n",
              "    <tr>\n",
              "      <th>4</th>\n",
              "      <td>2</td>\n",
              "      <td>0</td>\n",
              "      <td>9</td>\n",
              "      <td>2</td>\n",
              "      <td>0</td>\n",
              "      <td>1</td>\n",
              "      <td>5</td>\n",
              "      <td>3</td>\n",
              "    </tr>\n",
              "  </tbody>\n",
              "</table>\n",
              "</div>"
            ],
            "text/plain": [
              "   Tenure  Exited  ...  transformed_Balance_bins  transformed_EstimatedSalary_bins\n",
              "0       2       1  ...                         0                                 5\n",
              "1       1       0  ...                         3                                 5\n",
              "2       8       1  ...                         6                                 5\n",
              "3       1       0  ...                         0                                 4\n",
              "4       2       0  ...                         5                                 3\n",
              "\n",
              "[5 rows x 8 columns]"
            ]
          },
          "metadata": {
            "tags": []
          },
          "execution_count": 21
        }
      ]
    },
    {
      "cell_type": "code",
      "metadata": {
        "id": "maC3MNV5p_b5",
        "colab_type": "code",
        "outputId": "a102e768-8df8-4605-f990-10ef490eff99",
        "colab": {
          "base_uri": "https://localhost:8080/",
          "height": 34
        }
      },
      "source": [
        "from lifelines import CoxPHFitter\n",
        "cph = CoxPHFitter()\n",
        "cph.fit(df_features_transformed, 'Tenure', event_col = 'Exited')"
      ],
      "execution_count": 22,
      "outputs": [
        {
          "output_type": "execute_result",
          "data": {
            "text/plain": [
              "<lifelines.CoxPHFitter: fitted with 10000 total observations, 7963 right-censored observations>"
            ]
          },
          "metadata": {
            "tags": []
          },
          "execution_count": 22
        }
      ]
    },
    {
      "cell_type": "code",
      "metadata": {
        "id": "F22kWMFOqcof",
        "colab_type": "code",
        "outputId": "a83bd89a-620a-4e60-bd7a-ee12aa61c4e8",
        "colab": {
          "base_uri": "https://localhost:8080/",
          "height": 497
        }
      },
      "source": [
        "cph.print_summary()"
      ],
      "execution_count": 23,
      "outputs": [
        {
          "output_type": "display_data",
          "data": {
            "text/html": [
              "<div>\n",
              "<style scoped>\n",
              "    .dataframe tbody tr th:only-of-type {\n",
              "        vertical-align: middle;\n",
              "    }\n",
              "\n",
              "    .dataframe tbody tr th {\n",
              "        vertical-align: top;\n",
              "    }\n",
              "\n",
              "    .dataframe thead th {\n",
              "        text-align: right;\n",
              "    }\n",
              "</style>\n",
              "<table border=\"1\" class=\"dataframe\">\n",
              "  <tbody>\n",
              "    <tr>\n",
              "      <th>model</th>\n",
              "      <td>lifelines.CoxPHFitter</td>\n",
              "    </tr>\n",
              "    <tr>\n",
              "      <th>duration col</th>\n",
              "      <td>'Tenure'</td>\n",
              "    </tr>\n",
              "    <tr>\n",
              "      <th>event col</th>\n",
              "      <td>'Exited'</td>\n",
              "    </tr>\n",
              "    <tr>\n",
              "      <th>baseline estimation</th>\n",
              "      <td>breslow</td>\n",
              "    </tr>\n",
              "    <tr>\n",
              "      <th>number of observations</th>\n",
              "      <td>10000</td>\n",
              "    </tr>\n",
              "    <tr>\n",
              "      <th>number of events observed</th>\n",
              "      <td>2037</td>\n",
              "    </tr>\n",
              "    <tr>\n",
              "      <th>partial log-likelihood</th>\n",
              "      <td>-16688.45</td>\n",
              "    </tr>\n",
              "    <tr>\n",
              "      <th>time fit was run</th>\n",
              "      <td>2020-03-12 17:50:15 UTC</td>\n",
              "    </tr>\n",
              "  </tbody>\n",
              "</table>\n",
              "</div><table border=\"1\" class=\"dataframe\">\n",
              "  <thead>\n",
              "    <tr style=\"text-align: right;\">\n",
              "      <th></th>\n",
              "      <th>coef</th>\n",
              "      <th>exp(coef)</th>\n",
              "      <th>se(coef)</th>\n",
              "      <th>coef lower 95%</th>\n",
              "      <th>coef upper 95%</th>\n",
              "      <th>exp(coef) lower 95%</th>\n",
              "      <th>exp(coef) upper 95%</th>\n",
              "      <th>z</th>\n",
              "      <th>p</th>\n",
              "      <th>-log2(p)</th>\n",
              "    </tr>\n",
              "  </thead>\n",
              "  <tbody>\n",
              "    <tr>\n",
              "      <th>transformed_CreditScore_bins</th>\n",
              "      <td>-0.04</td>\n",
              "      <td>0.96</td>\n",
              "      <td>0.01</td>\n",
              "      <td>-0.06</td>\n",
              "      <td>-0.01</td>\n",
              "      <td>0.94</td>\n",
              "      <td>0.99</td>\n",
              "      <td>-3.20</td>\n",
              "      <td>&lt;0.005</td>\n",
              "      <td>9.50</td>\n",
              "    </tr>\n",
              "    <tr>\n",
              "      <th>transformed_Geography</th>\n",
              "      <td>0.06</td>\n",
              "      <td>1.07</td>\n",
              "      <td>0.03</td>\n",
              "      <td>0.01</td>\n",
              "      <td>0.12</td>\n",
              "      <td>1.01</td>\n",
              "      <td>1.12</td>\n",
              "      <td>2.31</td>\n",
              "      <td>0.02</td>\n",
              "      <td>5.60</td>\n",
              "    </tr>\n",
              "    <tr>\n",
              "      <th>transformed_Gender</th>\n",
              "      <td>-0.44</td>\n",
              "      <td>0.65</td>\n",
              "      <td>0.04</td>\n",
              "      <td>-0.52</td>\n",
              "      <td>-0.35</td>\n",
              "      <td>0.59</td>\n",
              "      <td>0.71</td>\n",
              "      <td>-9.78</td>\n",
              "      <td>&lt;0.005</td>\n",
              "      <td>72.64</td>\n",
              "    </tr>\n",
              "    <tr>\n",
              "      <th>transformed_Age_bins</th>\n",
              "      <td>0.59</td>\n",
              "      <td>1.80</td>\n",
              "      <td>0.03</td>\n",
              "      <td>0.54</td>\n",
              "      <td>0.64</td>\n",
              "      <td>1.72</td>\n",
              "      <td>1.89</td>\n",
              "      <td>23.55</td>\n",
              "      <td>&lt;0.005</td>\n",
              "      <td>405.00</td>\n",
              "    </tr>\n",
              "    <tr>\n",
              "      <th>transformed_Balance_bins</th>\n",
              "      <td>0.11</td>\n",
              "      <td>1.11</td>\n",
              "      <td>0.01</td>\n",
              "      <td>0.09</td>\n",
              "      <td>0.13</td>\n",
              "      <td>1.09</td>\n",
              "      <td>1.14</td>\n",
              "      <td>10.65</td>\n",
              "      <td>&lt;0.005</td>\n",
              "      <td>85.58</td>\n",
              "    </tr>\n",
              "    <tr>\n",
              "      <th>transformed_EstimatedSalary_bins</th>\n",
              "      <td>0.00</td>\n",
              "      <td>1.00</td>\n",
              "      <td>0.01</td>\n",
              "      <td>-0.01</td>\n",
              "      <td>0.02</td>\n",
              "      <td>0.99</td>\n",
              "      <td>1.02</td>\n",
              "      <td>0.60</td>\n",
              "      <td>0.55</td>\n",
              "      <td>0.86</td>\n",
              "    </tr>\n",
              "  </tbody>\n",
              "</table><div>\n",
              "<style scoped>\n",
              "    .dataframe tbody tr th:only-of-type {\n",
              "        vertical-align: middle;\n",
              "    }\n",
              "\n",
              "    .dataframe tbody tr th {\n",
              "        vertical-align: top;\n",
              "    }\n",
              "\n",
              "    .dataframe thead th {\n",
              "        text-align: right;\n",
              "    }\n",
              "</style>\n",
              "<table border=\"1\" class=\"dataframe\">\n",
              "  <tbody>\n",
              "    <tr>\n",
              "      <th>Log-likelihood ratio test</th>\n",
              "      <td>743.34 on 6 df, -log2(p)=520.12</td>\n",
              "    </tr>\n",
              "  </tbody>\n",
              "</table>\n",
              "</div>"
            ],
            "text/plain": [
              "<IPython.core.display.HTML object>"
            ]
          },
          "metadata": {
            "tags": []
          }
        }
      ]
    },
    {
      "cell_type": "code",
      "metadata": {
        "id": "CE2HU6CRrV7p",
        "colab_type": "code",
        "outputId": "93271945-4c4b-4455-9e46-3248c3201ea4",
        "colab": {
          "base_uri": "https://localhost:8080/",
          "height": 296
        }
      },
      "source": [
        "cph.plot()"
      ],
      "execution_count": 24,
      "outputs": [
        {
          "output_type": "execute_result",
          "data": {
            "text/plain": [
              "<matplotlib.axes._subplots.AxesSubplot at 0x7f0e28025780>"
            ]
          },
          "metadata": {
            "tags": []
          },
          "execution_count": 24
        },
        {
          "output_type": "display_data",
          "data": {
            "image/png": "[encoded data removed]",
            "text/plain": [
              "<Figure size 432x288 with 1 Axes>"
            ]
          },
          "metadata": {
            "tags": []
          }
        }
      ]
    },
    {
      "cell_type": "markdown",
      "metadata": {
        "id": "I97SGOtA4m9Q",
        "colab_type": "text"
      },
      "source": [
        "Now it's easy to see that \"Age\" and \"Gender\" are important factors for churn."
      ]
    },
    {
      "cell_type": "code",
      "metadata": {
        "id": "otB8pfuP5D5o",
        "colab_type": "code",
        "colab": {
          "base_uri": "https://localhost:8080/",
          "height": 34
        },
        "outputId": "4ec9b606-8cde-4d28-97bb-7446d0523931"
      },
      "source": [
        "str(sorted(df.Age_bins.value_counts().index)[0]) # will use this to label the survival curve"
      ],
      "execution_count": 35,
      "outputs": [
        {
          "output_type": "execute_result",
          "data": {
            "text/plain": [
              "'(17.926, 32.8]'"
            ]
          },
          "metadata": {
            "tags": []
          },
          "execution_count": 35
        }
      ]
    },
    {
      "cell_type": "code",
      "metadata": {
        "id": "_TKEHSqo3nCF",
        "colab_type": "code",
        "colab": {
          "base_uri": "https://localhost:8080/",
          "height": 647
        },
        "outputId": "75a9610f-9c38-4322-ffe4-cd118a10ed6f"
      },
      "source": [
        "kmf = KaplanMeierFitter()\n",
        "plt.figure(figsize = (10,10))\n",
        "ax = plt.subplot()\n",
        "groups = df['Age_bins']\n",
        "plt.ylabel('survival rate')\n",
        "plt.title('Churn rate by age group')\n",
        "plt.rcParams.update({'font.size':20})\n",
        "for i in range(5):\n",
        "  age_bin = (groups == sorted(df.Age_bins.value_counts().index)[i])\n",
        "  kmf.fit(df.Tenure[age_bin], df.Exited[age_bin], label = str(sorted(df.Age_bins.value_counts().index)[i]))\n",
        "  ax = kmf.plot(ax = ax, ci_show = False)\n"
      ],
      "execution_count": 37,
      "outputs": [
        {
          "output_type": "display_data",
          "data": {
            "image/png": "[encoded data removed]",
            "text/plain": [
              "<Figure size 720x720 with 1 Axes>"
            ]
          },
          "metadata": {
            "tags": []
          }
        }
      ]
    },
    {
      "cell_type": "markdown",
      "metadata": {
        "id": "GWQLJSYa7vyZ",
        "colab_type": "text"
      },
      "source": [
        "People between age 47.6 and 62.4 have the highest churn rate. This is a relatively large age difference within the group. If needed, this group can be broken into smaller group to tease out what age range within this group churns fast. "
      ]
    },
    {
      "cell_type": "code",
      "metadata": {
        "id": "9peGgPNv3nGz",
        "colab_type": "code",
        "colab": {
          "base_uri": "https://localhost:8080/",
          "height": 340
        },
        "outputId": "e5d6d26d-3ced-4bb2-fc4c-bae26dd9f548"
      },
      "source": [
        "kmf = KaplanMeierFitter()\n",
        "groups = df['Gender']\n",
        "male = (groups == 'Male')\n",
        "female = (groups == 'Female')\n",
        "\n",
        "ax = plt.subplot()\n",
        "kmf.fit(df.Tenure[male], df.Exited[male], label = 'Male')\n",
        "ax = kmf.plot(ax = ax)\n",
        "kmf.fit(df.Tenure[female], df.Exited[female], label = 'Female')\n",
        "ax = kmf.plot(ax = ax)\n",
        "plt.ylabel('survival rate')\n",
        "plt.title('Churn rate by gender')"
      ],
      "execution_count": 62,
      "outputs": [
        {
          "output_type": "execute_result",
          "data": {
            "text/plain": [
              "Text(0.5, 1.0, 'Churn rate by gender')"
            ]
          },
          "metadata": {
            "tags": []
          },
          "execution_count": 62
        },
        {
          "output_type": "display_data",
          "data": {
            "image/png": "[encoded data removed]",
            "text/plain": [
              "<Figure size 432x288 with 1 Axes>"
            ]
          },
          "metadata": {
            "tags": []
          }
        }
      ]
    },
    {
      "cell_type": "code",
      "metadata": {
        "id": "iPAEXtkO8dBb",
        "colab_type": "code",
        "colab": {
          "base_uri": "https://localhost:8080/",
          "height": 34
        },
        "outputId": "df149990-c598-45a4-fe61-84c0fd6c559f"
      },
      "source": [
        "le = LabelEncoder()\n",
        "le.fit_transform(df.Gender)\n",
        "le.inverse_transform([0, 1]) # just checking which is assigned as 0. Female is 0 and male is 1."
      ],
      "execution_count": 44,
      "outputs": [
        {
          "output_type": "execute_result",
          "data": {
            "text/plain": [
              "array(['Female', 'Male'], dtype=object)"
            ]
          },
          "metadata": {
            "tags": []
          },
          "execution_count": 44
        }
      ]
    },
    {
      "cell_type": "markdown",
      "metadata": {
        "id": "TFCxZY4n8pUQ",
        "colab_type": "text"
      },
      "source": [
        "https://lifelines.readthedocs.io/en/latest/Survival%20Regression.html\n",
        "Lifelines doc explains how to interpret the coefficient. Gender coef is -0.44 and exp(coef) is 0.65. exp(coef) is the hazard of group 1 at time t/ hazard of group 0 at time t. That means hazard for male is 0.65 times for female. Also, female is more likely to churn."
      ]
    },
    {
      "cell_type": "markdown",
      "metadata": {
        "id": "t8nauzz7bxrN",
        "colab_type": "text"
      },
      "source": [
        "Finally, cph can be used to predict when a customer churns. "
      ]
    },
    {
      "cell_type": "code",
      "metadata": {
        "id": "GH1CSlxwZ9Yz",
        "colab_type": "code",
        "colab": {
          "base_uri": "https://localhost:8080/",
          "height": 340
        },
        "outputId": "a3f5ea45-d944-4ad3-9dff-61d1a2092c40"
      },
      "source": [
        "cph.predict_survival_function(df_features_transformed[:4]).plot()\n",
        "plt.xlabel('Timeline')\n",
        "plt.ylabel('Survival rate')\n",
        "plt.title('Predicting survival rate of individuals')"
      ],
      "execution_count": 64,
      "outputs": [
        {
          "output_type": "execute_result",
          "data": {
            "text/plain": [
              "Text(0.5, 1.0, 'Predicting survival rate of individuals')"
            ]
          },
          "metadata": {
            "tags": []
          },
          "execution_count": 64
        },
        {
          "output_type": "display_data",
          "data": {
            "image/png": "[encoded data removed]",
            "text/plain": [
              "<Figure size 432x288 with 1 Axes>"
            ]
          },
          "metadata": {
            "tags": []
          }
        }
      ]
    },
    {
      "cell_type": "markdown",
      "metadata": {
        "id": "N8D5l0H6il12",
        "colab_type": "text"
      },
      "source": [
        "# Summary:\n",
        "# 1. Females churns faster than males.\n",
        "# 2. Middle age group churns faster than low or high age groups. People in this group have more power? More likely to be decision makers? More likely to change their bank if they want to?"
      ]
    }
  ]
}